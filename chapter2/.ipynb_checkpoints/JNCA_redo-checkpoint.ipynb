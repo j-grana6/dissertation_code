{
 "cells": [
  {
   "cell_type": "code",
   "execution_count": 1,
   "metadata": {
    "collapsed": false
   },
   "outputs": [
    {
     "name": "stderr",
     "output_type": "stream",
     "text": [
      "/usr/lib/python2.7/dist-packages/pkg_resources/__init__.py:1224: UserWarning: /home/justin/.python-eggs is writable by group/others and vulnerable to attack when used with get_resource_filename. Consider a more secure location (set with .set_extraction_path or the PYTHON_EGG_CACHE environment variable).\n",
      "  warnings.warn(msg, UserWarning)\n"
     ]
    }
   ],
   "source": [
    "%matplotlib inline\n",
    "import numpy as np\n",
    "import igraph as ig\n",
    "from sft_net import *\n",
    "from sft import *\n",
    "#import networkx as nx\n",
    "from roc import *\n",
    "from matplotlib import pyplot as plt\n",
    "#from adsy.display import extended_styles\n",
    "import random\n",
    "\n",
    "#extended_styles()"
   ]
  },
  {
   "cell_type": "code",
   "execution_count": 2,
   "metadata": {
    "collapsed": false
   },
   "outputs": [],
   "source": [
    "# G = ig.Graph()\n",
    "# vertices = ['attacker'] + ['Machine']*12\n",
    "# G.add_vertices(vertices)\n",
    "# G.to_directed()\n",
    "# G.add_edges([(0,1), (0,2), (0,3), (2,4), (2,5), (2,6), (5,7), (5,8), (5,9), (8,10), (8,11), (8,12)])\n",
    "# #G.vs['name'] = ['Attacker'] + ['User']*12\n",
    "# lout = G.layout_reingold_tilford(root=0)\n",
    "# G.vs[\"label\"] = ['A', 'B', 'C', 'D', 'E', 'F', 'G', 'H', 'I', 'J', 'K','L', 'M']\n",
    "# #G.vs[\"label\"] = [\"A\"] + [\"U\"]*12\n",
    "# coords = np.asarray(lout.coords)\n",
    "# #coords[-1,0] = 0\n",
    "# G.vs['x'] = list(coords[:,0])\n",
    "# G.vs['y'] = list(coords[:,1])\n",
    "# ig.plot(G, './technoextension1new.pdf', autocurve=True, bbox= (400,400),margin=50,\n",
    "#         vertex_color = ['Red']+['rgb(0, 200, 200)']*12 , vertex_size=[30]+[17.5]*12,\n",
    "#         vertex_label = G.vs[\"label\"],\n",
    "#         edge_arrow_size=.5, \n",
    "#         edge_arrow_width=2)\n",
    "\n"
   ]
  },
  {
   "cell_type": "code",
   "execution_count": 3,
   "metadata": {
    "collapsed": false
   },
   "outputs": [
    {
     "data": {
      "text/plain": [
       "[1354, 17190, 15752, 11744, 12093, 13825, 279, 1654]"
      ]
     },
     "execution_count": 3,
     "metadata": {},
     "output_type": "execute_result"
    }
   ],
   "source": [
    "seeds = list(np.random.randint(0, 20000, 8))\n",
    "seeds"
   ]
  },
  {
   "cell_type": "code",
   "execution_count": 4,
   "metadata": {
    "collapsed": false
   },
   "outputs": [
    {
     "data": {
      "text/plain": [
       "<matplotlib.legend.Legend at 0x7f2a14e13910>"
      ]
     },
     "execution_count": 4,
     "metadata": {},
     "output_type": "execute_result"
    },
    {
     "data": {
      "image/png": "[encoded data removed]",
      "text/plain": [
       "<matplotlib.figure.Figure at 0x7f2a166dc710>"
      ]
     },
     "metadata": {},
     "output_type": "display_data"
    }
   ],
   "source": [
    "# The true modelcen\n",
    "norm = 1.\n",
    "A = SFT('A', ['normal' , 'infected'], ['B', 'C'] ,\n",
    "    {'B': np.array([[norm, 0.], [norm,.1]]),\n",
    "     'C': np.array([[norm, 0.], [norm,.1]])},\n",
    "    ['clean', 'malicious'], 'external')\n",
    "\n",
    "B = SFT('B', ['normal' , 'infected'], ['D'] ,\n",
    "    {'D': np.array([[norm, 0.], [norm,.25]])},\n",
    "    ['clean', 'malicious'], 'external')\n",
    "\n",
    "C = SFT('C', ['normal' , 'infected'], ['A', 'F'] ,\n",
    "    {'A': np.array([[norm, 0.], [norm,.25]]),\n",
    "     'F': np.array([[norm, 0.], [norm,.25]])},\n",
    "    ['clean', 'malicious'], 'external')\n",
    "\n",
    "D = SFT('D', ['normal' , 'infected'], ['F'] ,\n",
    "    {'F': np.array([[norm, 0.], [norm, .25]])},\n",
    "    ['clean', 'malicious'], 'external')\n",
    "\n",
    "E = SFT('E', ['normal' , 'infected'], ['A', 'B', 'C','D', 'F'] ,\n",
    "    {'A': np.array([[norm, 0.], [norm,.25]]),\n",
    "     'B': np.array([[norm, 0.], [norm,.25]]),\n",
    "     'C': np.array([[norm, 0.], [norm,.25]]),\n",
    "     'D': np.array([[norm, 0.], [norm,.25]]),\n",
    "     'F': np.array([[norm, 0.], [norm,.25]])},\n",
    "    ['clean', 'malicious'], 'external')\n",
    "     \n",
    "F = SFT('F', ['normal' , 'infected'], ['E', 'C'] ,\n",
    "    {'E': np.array([[norm, 0.], [norm,.25]]),\n",
    "     'C': np.array([[norm, 0.], [norm,.25]])},\n",
    "    ['clean', 'malicious'], 'external')\n",
    "\n",
    "\n",
    "\n",
    "truenodes = [A,B,C,D,E,F]\n",
    "s0 = dict(zip(['A', 'B', 'C', 'D', 'E', 'F'], \n",
    "              ['normal']*6))\n",
    "s0['A']= 'infected'\n",
    "truenet =SFTNet(truenodes)\n",
    "percore = 8\n",
    "s_input = s0\n",
    "def f1(x):\n",
    "    return get_roc_coords(x, percore, percore, truenet, s0=s_input ,  \\\n",
    "                                  T=25, method='direct', directsamps=100, printsteps=False)\n",
    "from multiprocessing import Pool\n",
    "p = Pool(8)\n",
    "results1 = p.map(f1, seeds)\n",
    "pos_5, neg_5 = handle_parallel_res(results1)\n",
    "our_roc_pts = np.asarray(plot_our_roc(pos_5, neg_5, .01))\n",
    "anom_roc_pts = np.asarray(plot_anomaly_roc(pos_5, neg_5, .01))\n",
    "fig, ax = plt.subplots()\n",
    "ax.plot(our_roc_pts[:,0], our_roc_pts[:,1], label ='Likelihood Ratio Detector')\n",
    "ax.plot(anom_roc_pts[:,0], anom_roc_pts[:,1], label = 'Baseline Anomaly Detector')\n",
    "ax.set_xlim(0,.6)\n",
    "ax.set_ylabel('True Positive rate', fontsize=15)\n",
    "ax.set_xlabel('False Positive rate', fontsize=15)\n",
    "plt.legend(loc=0)"
   ]
  },
  {
   "cell_type": "code",
   "execution_count": null,
   "metadata": {
    "collapsed": false
   },
   "outputs": [],
   "source": [
    "# The true modelcen\n",
    "norm = 1.\n",
    "A = SFT('A', ['normal' , 'infected'], ['B', 'C'] ,\n",
    "    {'B': np.array([[norm, 0.], [norm,.1]]),\n",
    "     'C': np.array([[norm, 0.], [norm,.1]])},\n",
    "    ['clean', 'malicious'], 'external')\n",
    "\n",
    "B = SFT('B', ['normal' , 'infected'], ['D'] ,\n",
    "    {'D': np.array([[norm, 0.], [norm,.25]])},\n",
    "    ['clean', 'malicious'], 'external')\n",
    "\n",
    "C = SFT('C', ['normal' , 'infected'], ['A', 'F'] ,\n",
    "    {'A': np.array([[norm, 0.], [norm,.25]]),\n",
    "     'F': np.array([[norm, 0.], [norm,.25]])},\n",
    "    ['clean', 'malicious'], 'external')\n",
    "\n",
    "D = SFT('D', ['normal' , 'infected'], ['F'] ,\n",
    "    {'F': np.array([[norm, 0.], [norm, .25]])},\n",
    "    ['clean', 'malicious'], 'external')\n",
    "\n",
    "E = SFT('E', ['normal' , 'infected'], ['A', 'B', 'C','D', 'F'] ,\n",
    "    {'A': np.array([[norm, 0.], [norm,.25]]),\n",
    "     'B': np.array([[norm, 0.], [norm,.25]]),\n",
    "     'C': np.array([[norm, 0.], [norm,.25]]),\n",
    "     'D': np.array([[norm, 0.], [norm,.25]]),\n",
    "     'F': np.array([[norm, 0.], [norm,.25]])},\n",
    "    ['clean', 'malicious'], 'external')\n",
    "     \n",
    "F = SFT('F', ['normal' , 'infected'], ['E', 'C'] ,\n",
    "    {'E': np.array([[norm, 0.], [norm,.25]]),\n",
    "     'C': np.array([[norm, 0.], [norm,.25]])},\n",
    "    ['clean', 'malicious'], 'external')\n",
    "\n",
    "\n",
    "\n",
    "truenodes = [A,B,C,D,E,F]\n",
    "s0 = dict(zip(['A', 'B', 'C', 'D', 'E', 'F'], \n",
    "              ['normal']*6))\n",
    "s0['A']= 'infected'\n",
    "truenet =SFTNet(truenodes)\n",
    "percore = 8\n",
    "s_input = s0\n",
    "def f2(x):\n",
    "    return get_roc_coords(x, percore, percore, truenet, s0=s_input ,  \\\n",
    "                                  T=25, method='direct', directsamps=100, printsteps=False)\n",
    "from multiprocessing import Pool\n",
    "p = Pool(8)\n",
    "pos_5, neg_5 = handle_parallel_res(results1)\n",
    "our_roc_pts = np.asarray(plot_our_roc(pos_5, neg_5, .01))\n",
    "anom_roc_pts = np.asarray(plot_anomaly_roc(pos_5, neg_5, .01))\n",
    "fig, ax = plt.subplots()\n",
    "ax.plot(our_roc_pts[:,0], our_roc_pts[:,1], label ='Likelihood Ratio Detector')\n",
    "ax.plot(anom_roc_pts[:,0], anom_roc_pts[:,1], label = 'Baseline Anomaly Detector')\n",
    "ax.set_xlim(0,.6)\n",
    "ax.set_ylabel('True Positive rate', fontsize=15)\n",
    "ax.set_xlabel('False Positive rate', fontsize=15)\n",
    "plt.legend(loc=0)"
   ]
  },
  {
   "cell_type": "code",
   "execution_count": 31,
   "metadata": {
    "collapsed": false
   },
   "outputs": [
    {
     "data": {
      "text/plain": [
       "<matplotlib.collections.PathCollection at 0x7feee73e0ed0>"
      ]
     },
     "execution_count": 31,
     "metadata": {},
     "output_type": "execute_result"
    },
    {
     "data": {
      "image/png": "[encoded data removed]",
      "text/plain": [
       "<matplotlib.figure.Figure at 0x7feee74ce810>"
      ]
     },
     "metadata": {},
     "output_type": "display_data"
    }
   ],
   "source": [
    "plt.scatter(neg_5[:,0]-neg_5[:,1], neg_5[:,1])"
   ]
  },
  {
   "cell_type": "code",
   "execution_count": 29,
   "metadata": {
    "collapsed": false
   },
   "outputs": [
    {
     "data": {
      "text/plain": [
       "(array([ 4.,  2.,  5.,  3.,  6.,  4.,  5.,  5.,  4.,  2.]),\n",
       " array([-3.53979814, -3.43758439, -3.33537064, -3.23315689, -3.13094315,\n",
       "        -3.0287294 , -2.92651565, -2.8243019 , -2.72208815, -2.6198744 ,\n",
       "        -2.51766065]),\n",
       " <a list of 10 Patch objects>)"
      ]
     },
     "execution_count": 29,
     "metadata": {},
     "output_type": "execute_result"
    },
    {
     "data": {
      "image/png": "[encoded data removed]",
      "text/plain": [
       "<matplotlib.figure.Figure at 0x7feee7ee5990>"
      ]
     },
     "metadata": {},
     "output_type": "display_data"
    }
   ],
   "source": [
    "plt.hist(pos_5[:,0]-pos_5[:,1])\n",
    "plt.hist(neg_5[:,0]-neg_5[:,1])"
   ]
  },
  {
   "cell_type": "code",
   "execution_count": 30,
   "metadata": {
    "collapsed": false
   },
   "outputs": [
    {
     "data": {
      "text/plain": [
       "(array([ 1.,  0.,  2.,  0.,  4.,  6.,  6.,  8.,  9.,  4.]),\n",
       " array([-52.75316609, -51.45533047, -50.15749485, -48.85965923,\n",
       "        -47.56182361, -46.263988  , -44.96615238, -43.66831676,\n",
       "        -42.37048114, -41.07264552, -39.7748099 ]),\n",
       " <a list of 10 Patch objects>)"
      ]
     },
     "execution_count": 30,
     "metadata": {},
     "output_type": "execute_result"
    },
    {
     "data": {
      "image/png": "[encoded data removed]",
      "text/plain": [
       "<matplotlib.figure.Figure at 0x7feee6caf410>"
      ]
     },
     "metadata": {},
     "output_type": "display_data"
    }
   ],
   "source": [
    "plt.hist(pos_5[:,1])\n",
    "plt.hist(neg_5[:,1])"
   ]
  },
  {
   "cell_type": "code",
   "execution_count": 22,
   "metadata": {
    "collapsed": false
   },
   "outputs": [
    {
     "data": {
      "text/plain": [
       "(array([ 1.,  0.,  3.,  4.,  4.,  8.,  7.,  9.,  2.,  2.]),\n",
       " array([-3.73720218, -3.60506389, -3.47292559, -3.3407873 , -3.208649  ,\n",
       "        -3.0765107 , -2.94437241, -2.81223411, -2.68009581, -2.54795752,\n",
       "        -2.41581922]),\n",
       " <a list of 10 Patch objects>)"
      ]
     },
     "execution_count": 22,
     "metadata": {},
     "output_type": "execute_result"
    },
    {
     "data": {
      "image/png": "[encoded data removed]",
      "text/plain": [
       "<matplotlib.figure.Figure at 0x7feee06c6f50>"
      ]
     },
     "metadata": {},
     "output_type": "display_data"
    }
   ],
   "source": [
    "plt.hist(pos_5[:,0]-pos_5[:,1])\n",
    "plt.hist(neg_5[:,0]-neg_5[:,1])"
   ]
  },
  {
   "cell_type": "code",
   "execution_count": 33,
   "metadata": {
    "collapsed": false
   },
   "outputs": [],
   "source": [
    "\n",
    "percore = 1\n",
    "s_input = s0\n",
    "def f1(x):\n",
    "    return get_roc_coords(x, percore, percore, truenet, s0=s_input ,  \\\n",
    "                                  T=50, method='direct', directsamps=10000, printsteps=False)\n",
    "from multiprocessing import Pool\n",
    "p = Pool(8)"
   ]
  },
  {
   "cell_type": "code",
   "execution_count": 34,
   "metadata": {
    "collapsed": false
   },
   "outputs": [
    {
     "name": "stdout",
     "output_type": "stream",
     "text": [
      "1 loops, best of 1: 33.4 s per loop\n"
     ]
    }
   ],
   "source": [
    "%timeit -r1 -n1 results1 = p.map(f1, list(np.random.randint(0, 20000, 8)))"
   ]
  },
  {
   "cell_type": "code",
   "execution_count": 20,
   "metadata": {
    "collapsed": false
   },
   "outputs": [
    {
     "data": {
      "text/plain": [
       "<matplotlib.legend.Legend at 0x7f08a2fecc50>"
      ]
     },
     "execution_count": 20,
     "metadata": {},
     "output_type": "execute_result"
    },
    {
     "data": {
      "image/png": "[encoded data removed]",
      "text/plain": [
       "<matplotlib.figure.Figure at 0x7f08a31fb6d0>"
      ]
     },
     "metadata": {},
     "output_type": "display_data"
    }
   ],
   "source": [
    "# The true modelcen\n",
    "\n",
    "A = SFT('A', ['normal' , 'infected'], ['B', 'C'] ,\n",
    "    {'B': np.array([[1., 0], [1,.1]]),\n",
    "     'C': np.array([[1., 0], [1,.1]])},\n",
    "    ['clean', 'malicious'], 'external')\n",
    "\n",
    "B = SFT('B', ['normal' , 'infected'], ['D'] ,\n",
    "    {'D': np.array([[1., 0], [1,.25]])},\n",
    "    ['clean', 'malicious'], 'external')\n",
    "\n",
    "C = SFT('C', ['normal' , 'infected'], ['A', 'F'] ,\n",
    "    {'A': np.array([[1., 0], [1,.25]]),\n",
    "     'F': np.array([[1., 0], [1,.25]])},\n",
    "    ['clean', 'malicious'], 'external')\n",
    "\n",
    "D = SFT('D', ['normal' , 'infected'], ['F'] ,\n",
    "    {'F': np.array([[1., 0], [1, .25]])},\n",
    "    ['clean', 'malicious'], 'external')\n",
    "\n",
    "E = SFT('E', ['normal' , 'infected'], ['A', 'B', 'C','D', 'F'] ,\n",
    "    {'A': np.array([[1., 0], [1,.25]]),\n",
    "     'B': np.array([[1., 0], [1,.25]]),\n",
    "     'C': np.array([[1., 0], [1,.25]]),\n",
    "     'D': np.array([[1., 0], [1,.25]]),\n",
    "     'F': np.array([[1., 0], [1,.25]])},\n",
    "    ['clean', 'malicious'], 'external')\n",
    "     \n",
    "F = SFT('F', ['normal' , 'infected'], ['E', 'C'] ,\n",
    "    {'E': np.array([[1., 0], [1,.25]]),\n",
    "     'C': np.array([[1., 0], [1,.25]])},\n",
    "    ['clean', 'malicious'], 'external')\n",
    "\n",
    "\n",
    "\n",
    "truenodes = [A,B,C,D,E,F]\n",
    "s0 = dict(zip(['A', 'B', 'C', 'D', 'E', 'F'], \n",
    "              ['normal']*6))\n",
    "s0['A']= 'infected'\n",
    "truenet =SFTNet(truenodes)\n",
    "percore = 100\n",
    "s_input = s0\n",
    "def f1(x):\n",
    "    return get_roc_coords(x, percore, percore, truenet, s0=s_input ,  \\\n",
    "                                  T=25, method='direct', directsamps=100, printsteps=False)\n",
    "from multiprocessing import Pool\n",
    "p = Pool(8)\n",
    "results1 = p.map(f1, list(np.random.randint(0, 20000, 8)))\n",
    "pos_5, neg_5 = handle_parallel_res(results1)\n",
    "our_roc_pts = np.asarray(plot_our_roc(pos_5, neg_5, .01))\n",
    "anom_roc_pts = np.asarray(plot_anomaly_roc(pos_5, neg_5, .01))\n",
    "fig, ax = plt.subplots()\n",
    "ax.plot(our_roc_pts[:,0], our_roc_pts[:,1], label ='Likelihood Ratio Detector')\n",
    "ax.plot(anom_roc_pts[:,0], anom_roc_pts[:,1], label = 'Baseline Anomaly Detector')\n",
    "ax.set_xlim(0,.6)\n",
    "ax.set_ylabel('True Positive rate', fontsize=15)\n",
    "ax.set_xlabel('False Positive rate', fontsize=15)\n",
    "plt.legend(loc=0)"
   ]
  },
  {
   "cell_type": "code",
   "execution_count": 9,
   "metadata": {
    "collapsed": true
   },
   "outputs": [],
   "source": [
    "from uniform_approx import uniform_samp\n",
    "from lhood_comps import MCMC_MH\n",
    "from tools import gen_data, prob_model_no_attacker \n",
    "import numpy as np\n",
    "from mcmc_over_dags import MCMC_sequence\n",
    "from direct_sample import Direct_Sample"
   ]
  },
  {
   "cell_type": "code",
   "execution_count": 57,
   "metadata": {
    "collapsed": false
   },
   "outputs": [
    {
     "data": {
      "text/plain": [
       "<matplotlib.legend.Legend at 0x7fa7ac8cc550>"
      ]
     },
     "execution_count": 57,
     "metadata": {},
     "output_type": "execute_result"
    },
    {
     "data": {
      "image/png": "[encoded data removed]",
      "text/plain": [
       "<matplotlib.figure.Figure at 0x7fa7ac87fe10>"
      ]
     },
     "metadata": {},
     "output_type": "display_data"
    }
   ],
   "source": [
    "A = SFT('A', ['normal' , 'infected'], ['B'] ,\n",
    "    {'B': np.array([[1., 0], [1,.1]])},\n",
    "    ['clean', 'malicious'], 'external')\n",
    "\n",
    "B = SFT('B', ['normal' , 'infected'], ['C'] ,\n",
    "    {'C': np.array([[1., 0], [1,.25]])},\n",
    "    ['clean', 'malicious'], 'external')\n",
    "\n",
    "C = SFT('C', ['normal' , 'infected'], [] ,\n",
    "    {},\n",
    "    ['clean', 'malicious'], 'external')\n",
    "\n",
    "truenodes = [A,B,C]\n",
    "s0 = dict(zip(['A', 'B','C'], \n",
    "              ['normal']*3))\n",
    "s0['A']= 'infected'\n",
    "truenet =SFTNet(truenodes)\n",
    "percore = 50\n",
    "s_input = s0\n",
    "def f1(x):\n",
    "    return get_roc_coords(x, percore, percore, truenet, s0=s_input ,  \\\n",
    "                                  T=25, method='direct', directsamps=100, printsteps=False)\n",
    "from multiprocessing import Pool\n",
    "p = Pool(8)\n",
    "results1 = p.map(f1, list(np.random.randint(0, 20000, 8)))\n",
    "pos_5, neg_5 = handle_parallel_res(results1)\n",
    "our_roc_pts = np.asarray(plot_our_roc(pos_5, neg_5, .01))\n",
    "anom_roc_pts = np.asarray(plot_anomaly_roc(pos_5, neg_5, .01))\n",
    "fig, ax = plt.subplots()\n",
    "ax.plot(our_roc_pts[:,0], our_roc_pts[:,1], label ='Likelihood Ratio Detector')\n",
    "ax.plot(anom_roc_pts[:,0], anom_roc_pts[:,1], label = 'Baseline Anomaly Detector')\n",
    "ax.set_xlim(0,.6)\n",
    "ax.set_ylabel('True Positive rate', fontsize=15)\n",
    "ax.set_xlabel('False Positive rate', fontsize=15)\n",
    "plt.legend(loc=0)"
   ]
  },
  {
   "cell_type": "code",
   "execution_count": null,
   "metadata": {
    "collapsed": false
   },
   "outputs": [],
   "source": []
  },
  {
   "cell_type": "code",
   "execution_count": 6,
   "metadata": {
    "collapsed": true
   },
   "outputs": [],
   "source": [
    "fig.savefig(\"/home/justin/Dropbox/ROC/JNCA_Response1/roc2.png\")"
   ]
  },
  {
   "cell_type": "code",
   "execution_count": 3,
   "metadata": {
    "collapsed": false
   },
   "outputs": [],
   "source": [
    "percentage = .2\n",
    "C1 = SFT('C1', ['normal' , 'infected'], ['L1',  'R1'] ,\n",
    "    {'L1': np.array([[1, 0], [1,percentage]]),\n",
    "     'R1': np.array([[1, 0], [1,percentage]])},\n",
    "    ['clean', 'malicious'], 'external')\n",
    "\n",
    "L1 = SFT('L1', ['normal' , 'infected'], [] ,\n",
    "    {},\n",
    "    ['clean', 'malicious'], 'external')\n",
    "\n",
    "R1 = SFT('R1', ['normal' , 'infected'], [] ,\n",
    "    {},\n",
    "    ['clean', 'malicious'], 'external')\n",
    "truenodes = [C1, R1, L1]\n",
    "s0 = dict(zip(['C1', 'R1', 'L1'], \n",
    "              ['normal']*3))\n",
    "s0['C1']= 'infected'\n",
    "truenet =SFTNet(truenodes)\n",
    "percore = 2000\n",
    "s_input = s0\n",
    "def f1(x):\n",
    "    return get_roc_coords(x, percore, percore, truenet, s0=s_input ,  \\\n",
    "                                  T=10, method='direct', directsamps=3000, printsteps=False)\n",
    "from multiprocessing import Pool\n",
    "p = Pool(8)\n",
    "results1 = p.map(f1, list(np.random.randint(0, 20000, 8)))\n",
    "pos_5, neg_5 = handle_parallel_res(results1)\n",
    "np.savetxt(\"./poslen1.csv\", pos_5, delimiter=',')\n",
    "np.savetxt(\"./neglen1.csv\", neg_5, delimiter=',')\n",
    "# our_roc_pts = np.asarray(plot_our_roc(pos_5, neg_5, .01))\n",
    "# anom_roc_pts = np.asarray(plot_anomaly_roc(pos_5, neg_5, .01))\n",
    "# plt.plot(our_roc_pts[:,0], our_roc_pts[:,1], label ='Likelihood Ratio Detector')\n",
    "# plt.plot(anom_roc_pts[:,0], anom_roc_pts[:,1], label = 'Baseline Anomaly Detector')\n",
    "# plt.xlim(0,1)\n",
    "# plt.ylabel('True Positive rate', fontsize=15)\n",
    "# plt.xlabel('False Positive rate', fontsize=15)\n",
    "# plt.legend(loc=0)"
   ]
  },
  {
   "cell_type": "code",
   "execution_count": null,
   "metadata": {
    "collapsed": true
   },
   "outputs": [],
   "source": []
  },
  {
   "cell_type": "code",
   "execution_count": null,
   "metadata": {
    "collapsed": true
   },
   "outputs": [],
   "source": []
  },
  {
   "cell_type": "code",
   "execution_count": null,
   "metadata": {
    "collapsed": true
   },
   "outputs": [],
   "source": []
  },
  {
   "cell_type": "code",
   "execution_count": 16,
   "metadata": {
    "collapsed": false
   },
   "outputs": [
    {
     "data": {
      "image/svg+xml": [
       "<?xml version=\"1.0\" encoding=\"UTF-8\"?>\n",
       "<svg xmlns=\"http://www.w3.org/2000/svg\" xmlns:xlink=\"http://www.w3.org/1999/xlink\" width=\"400pt\" height=\"400pt\" viewBox=\"0 0 400 400\" version=\"1.1\">\n",
       "<defs>\n",
       "<g>\n",
       "<symbol overflow=\"visible\" id=\"glyph0-0\">\n",
       "<path style=\"stroke:none;\" d=\"M 0.703125 2.46875 L 0.703125 -9.875 L 7.703125 -9.875 L 7.703125 2.46875 Z M 1.484375 1.703125 L 6.921875 1.703125 L 6.921875 -9.078125 L 1.484375 -9.078125 Z M 1.484375 1.703125 \"/>\n",
       "</symbol>\n",
       "<symbol overflow=\"visible\" id=\"glyph0-1\">\n",
       "<path style=\"stroke:none;\" d=\"M 4.78125 -8.84375 L 2.90625 -3.765625 L 6.671875 -3.765625 Z M 4 -10.203125 L 5.578125 -10.203125 L 9.46875 0 L 8.03125 0 L 7.09375 -2.625 L 2.5 -2.625 L 1.5625 0 L 0.109375 0 Z M 4 -10.203125 \"/>\n",
       "</symbol>\n",
       "<symbol overflow=\"visible\" id=\"glyph0-2\">\n",
       "<path style=\"stroke:none;\" d=\"M 2.75 -4.875 L 2.75 -1.140625 L 4.96875 -1.140625 C 5.707031 -1.140625 6.253906 -1.289062 6.609375 -1.59375 C 6.972656 -1.90625 7.15625 -2.378906 7.15625 -3.015625 C 7.15625 -3.648438 6.972656 -4.117188 6.609375 -4.421875 C 6.253906 -4.722656 5.707031 -4.875 4.96875 -4.875 Z M 2.75 -9.078125 L 2.75 -6 L 4.796875 -6 C 5.472656 -6 5.972656 -6.125 6.296875 -6.375 C 6.628906 -6.625 6.796875 -7.007812 6.796875 -7.53125 C 6.796875 -8.050781 6.628906 -8.4375 6.296875 -8.6875 C 5.972656 -8.945312 5.472656 -9.078125 4.796875 -9.078125 Z M 1.375 -10.203125 L 4.90625 -10.203125 C 5.957031 -10.203125 6.765625 -9.984375 7.328125 -9.546875 C 7.898438 -9.109375 8.1875 -8.488281 8.1875 -7.6875 C 8.1875 -7.0625 8.039062 -6.5625 7.75 -6.1875 C 7.457031 -5.820312 7.03125 -5.59375 6.46875 -5.5 C 7.144531 -5.351562 7.671875 -5.046875 8.046875 -4.578125 C 8.421875 -4.117188 8.609375 -3.546875 8.609375 -2.859375 C 8.609375 -1.941406 8.296875 -1.234375 7.671875 -0.734375 C 7.054688 -0.242188 6.175781 0 5.03125 0 L 1.375 0 Z M 1.375 -10.203125 \"/>\n",
       "</symbol>\n",
       "<symbol overflow=\"visible\" id=\"glyph0-3\">\n",
       "<path style=\"stroke:none;\" d=\"M 9.015625 -9.421875 L 9.015625 -7.96875 C 8.546875 -8.394531 8.046875 -8.710938 7.515625 -8.921875 C 6.992188 -9.140625 6.441406 -9.25 5.859375 -9.25 C 4.691406 -9.25 3.796875 -8.890625 3.171875 -8.171875 C 2.554688 -7.460938 2.25 -6.4375 2.25 -5.09375 C 2.25 -3.75 2.554688 -2.71875 3.171875 -2 C 3.796875 -1.289062 4.691406 -0.9375 5.859375 -0.9375 C 6.441406 -0.9375 6.992188 -1.039062 7.515625 -1.25 C 8.046875 -1.46875 8.546875 -1.796875 9.015625 -2.234375 L 9.015625 -0.78125 C 8.535156 -0.457031 8.023438 -0.210938 7.484375 -0.046875 C 6.941406 0.117188 6.367188 0.203125 5.765625 0.203125 C 4.222656 0.203125 3.003906 -0.269531 2.109375 -1.21875 C 1.222656 -2.164062 0.78125 -3.457031 0.78125 -5.09375 C 0.78125 -6.726562 1.222656 -8.019531 2.109375 -8.96875 C 3.003906 -9.914062 4.222656 -10.390625 5.765625 -10.390625 C 6.378906 -10.390625 6.957031 -10.304688 7.5 -10.140625 C 8.039062 -9.984375 8.546875 -9.742188 9.015625 -9.421875 Z M 9.015625 -9.421875 \"/>\n",
       "</symbol>\n",
       "<symbol overflow=\"visible\" id=\"glyph0-4\">\n",
       "<path style=\"stroke:none;\" d=\"M 2.75 -9.078125 L 2.75 -1.140625 L 4.421875 -1.140625 C 5.828125 -1.140625 6.859375 -1.457031 7.515625 -2.09375 C 8.171875 -2.726562 8.5 -3.734375 8.5 -5.109375 C 8.5 -6.484375 8.171875 -7.488281 7.515625 -8.125 C 6.859375 -8.757812 5.828125 -9.078125 4.421875 -9.078125 Z M 1.375 -10.203125 L 4.21875 -10.203125 C 6.1875 -10.203125 7.632812 -9.789062 8.5625 -8.96875 C 9.488281 -8.144531 9.953125 -6.859375 9.953125 -5.109375 C 9.953125 -3.347656 9.488281 -2.054688 8.5625 -1.234375 C 7.632812 -0.410156 6.1875 0 4.21875 0 L 1.375 0 Z M 1.375 -10.203125 \"/>\n",
       "</symbol>\n",
       "<symbol overflow=\"visible\" id=\"glyph0-5\">\n",
       "<path style=\"stroke:none;\" d=\"M 1.375 -10.203125 L 7.828125 -10.203125 L 7.828125 -9.046875 L 2.75 -9.046875 L 2.75 -6.015625 L 7.609375 -6.015625 L 7.609375 -4.859375 L 2.75 -4.859375 L 2.75 -1.15625 L 7.953125 -1.15625 L 7.953125 0 L 1.375 0 Z M 1.375 -10.203125 \"/>\n",
       "</symbol>\n",
       "<symbol overflow=\"visible\" id=\"glyph0-6\">\n",
       "<path style=\"stroke:none;\" d=\"M 1.375 -10.203125 L 7.234375 -10.203125 L 7.234375 -9.046875 L 2.75 -9.046875 L 2.75 -6.03125 L 6.796875 -6.03125 L 6.796875 -4.875 L 2.75 -4.875 L 2.75 0 L 1.375 0 Z M 1.375 -10.203125 \"/>\n",
       "</symbol>\n",
       "<symbol overflow=\"visible\" id=\"glyph0-7\">\n",
       "<path style=\"stroke:none;\" d=\"M 8.328125 -1.453125 L 8.328125 -4.203125 L 6.078125 -4.203125 L 6.078125 -5.328125 L 9.703125 -5.328125 L 9.703125 -0.953125 C 9.171875 -0.578125 8.582031 -0.289062 7.9375 -0.09375 C 7.289062 0.101562 6.601562 0.203125 5.875 0.203125 C 4.28125 0.203125 3.03125 -0.257812 2.125 -1.1875 C 1.226562 -2.125 0.78125 -3.425781 0.78125 -5.09375 C 0.78125 -6.757812 1.226562 -8.054688 2.125 -8.984375 C 3.03125 -9.921875 4.28125 -10.390625 5.875 -10.390625 C 6.539062 -10.390625 7.171875 -10.304688 7.765625 -10.140625 C 8.367188 -9.984375 8.925781 -9.742188 9.4375 -9.421875 L 9.4375 -7.953125 C 8.925781 -8.378906 8.382812 -8.703125 7.8125 -8.921875 C 7.238281 -9.140625 6.632812 -9.25 6 -9.25 C 4.75 -9.25 3.8125 -8.898438 3.1875 -8.203125 C 2.5625 -7.515625 2.25 -6.476562 2.25 -5.09375 C 2.25 -3.71875 2.5625 -2.679688 3.1875 -1.984375 C 3.8125 -1.285156 4.75 -0.9375 6 -0.9375 C 6.488281 -0.9375 6.921875 -0.976562 7.296875 -1.0625 C 7.679688 -1.144531 8.023438 -1.273438 8.328125 -1.453125 Z M 8.328125 -1.453125 \"/>\n",
       "</symbol>\n",
       "<symbol overflow=\"visible\" id=\"glyph0-8\">\n",
       "<path style=\"stroke:none;\" d=\"M 1.375 -10.203125 L 2.75 -10.203125 L 2.75 -6.015625 L 7.765625 -6.015625 L 7.765625 -10.203125 L 9.15625 -10.203125 L 9.15625 0 L 7.765625 0 L 7.765625 -4.859375 L 2.75 -4.859375 L 2.75 0 L 1.375 0 Z M 1.375 -10.203125 \"/>\n",
       "</symbol>\n",
       "<symbol overflow=\"visible\" id=\"glyph0-9\">\n",
       "<path style=\"stroke:none;\" d=\"M 1.375 -10.203125 L 2.75 -10.203125 L 2.75 0 L 1.375 0 Z M 1.375 -10.203125 \"/>\n",
       "</symbol>\n",
       "<symbol overflow=\"visible\" id=\"glyph0-10\">\n",
       "<path style=\"stroke:none;\" d=\"M 1.375 -10.203125 L 2.75 -10.203125 L 2.75 -0.71875 C 2.75 0.519531 2.515625 1.414062 2.046875 1.96875 C 1.585938 2.519531 0.835938 2.796875 -0.203125 2.796875 L -0.71875 2.796875 L -0.71875 1.640625 L -0.296875 1.640625 C 0.316406 1.640625 0.75 1.46875 1 1.125 C 1.25 0.78125 1.375 0.164062 1.375 -0.71875 Z M 1.375 -10.203125 \"/>\n",
       "</symbol>\n",
       "<symbol overflow=\"visible\" id=\"glyph0-11\">\n",
       "<path style=\"stroke:none;\" d=\"M 1.375 -10.203125 L 2.75 -10.203125 L 2.75 -5.890625 L 7.328125 -10.203125 L 9.109375 -10.203125 L 4.046875 -5.453125 L 9.46875 0 L 7.65625 0 L 2.75 -4.921875 L 2.75 0 L 1.375 0 Z M 1.375 -10.203125 \"/>\n",
       "</symbol>\n",
       "<symbol overflow=\"visible\" id=\"glyph0-12\">\n",
       "<path style=\"stroke:none;\" d=\"M 1.375 -10.203125 L 2.75 -10.203125 L 2.75 -1.15625 L 7.71875 -1.15625 L 7.71875 0 L 1.375 0 Z M 1.375 -10.203125 \"/>\n",
       "</symbol>\n",
       "<symbol overflow=\"visible\" id=\"glyph0-13\">\n",
       "<path style=\"stroke:none;\" d=\"M 1.375 -10.203125 L 3.4375 -10.203125 L 6.03125 -3.265625 L 8.65625 -10.203125 L 10.71875 -10.203125 L 10.71875 0 L 9.359375 0 L 9.359375 -8.96875 L 6.734375 -1.96875 L 5.34375 -1.96875 L 2.71875 -8.96875 L 2.71875 0 L 1.375 0 Z M 1.375 -10.203125 \"/>\n",
       "</symbol>\n",
       "<symbol overflow=\"visible\" id=\"glyph0-14\">\n",
       "<path style=\"stroke:none;\" d=\"M 5.515625 -9.265625 C 4.515625 -9.265625 3.71875 -8.890625 3.125 -8.140625 C 2.539062 -7.398438 2.25 -6.382812 2.25 -5.09375 C 2.25 -3.8125 2.539062 -2.796875 3.125 -2.046875 C 3.71875 -1.296875 4.515625 -0.921875 5.515625 -0.921875 C 6.515625 -0.921875 7.304688 -1.296875 7.890625 -2.046875 C 8.484375 -2.796875 8.78125 -3.8125 8.78125 -5.09375 C 8.78125 -6.382812 8.484375 -7.398438 7.890625 -8.140625 C 7.304688 -8.890625 6.515625 -9.265625 5.515625 -9.265625 Z M 5.515625 -10.390625 C 6.941406 -10.390625 8.082031 -9.910156 8.9375 -8.953125 C 9.800781 -7.992188 10.234375 -6.707031 10.234375 -5.09375 C 10.234375 -3.488281 9.800781 -2.203125 8.9375 -1.234375 C 8.082031 -0.273438 6.941406 0.203125 5.515625 0.203125 C 4.078125 0.203125 2.925781 -0.273438 2.0625 -1.234375 C 1.207031 -2.191406 0.78125 -3.476562 0.78125 -5.09375 C 0.78125 -6.707031 1.207031 -7.992188 2.0625 -8.953125 C 2.925781 -9.910156 4.078125 -10.390625 5.515625 -10.390625 Z M 5.515625 -10.390625 \"/>\n",
       "</symbol>\n",
       "<symbol overflow=\"visible\" id=\"glyph0-15\">\n",
       "<path style=\"stroke:none;\" d=\"M 1.734375 -1.15625 L 4 -1.15625 L 4 -8.953125 L 1.53125 -8.453125 L 1.53125 -9.71875 L 3.984375 -10.203125 L 5.359375 -10.203125 L 5.359375 -1.15625 L 7.609375 -1.15625 L 7.609375 0 L 1.734375 0 Z M 1.734375 -1.15625 \"/>\n",
       "</symbol>\n",
       "<symbol overflow=\"visible\" id=\"glyph0-16\">\n",
       "<path style=\"stroke:none;\" d=\"M 2.6875 -1.15625 L 7.5 -1.15625 L 7.5 0 L 1.03125 0 L 1.03125 -1.15625 C 1.550781 -1.695312 2.265625 -2.425781 3.171875 -3.34375 C 4.078125 -4.257812 4.644531 -4.847656 4.875 -5.109375 C 5.3125 -5.609375 5.617188 -6.03125 5.796875 -6.375 C 5.972656 -6.71875 6.0625 -7.054688 6.0625 -7.390625 C 6.0625 -7.929688 5.867188 -8.375 5.484375 -8.71875 C 5.109375 -9.0625 4.613281 -9.234375 4 -9.234375 C 3.570312 -9.234375 3.117188 -9.15625 2.640625 -9 C 2.160156 -8.851562 1.644531 -8.625 1.09375 -8.3125 L 1.09375 -9.71875 C 1.644531 -9.9375 2.160156 -10.101562 2.640625 -10.21875 C 3.128906 -10.332031 3.578125 -10.390625 3.984375 -10.390625 C 5.035156 -10.390625 5.875 -10.125 6.5 -9.59375 C 7.132812 -9.070312 7.453125 -8.367188 7.453125 -7.484375 C 7.453125 -7.054688 7.375 -6.65625 7.21875 -6.28125 C 7.0625 -5.90625 6.773438 -5.460938 6.359375 -4.953125 C 6.242188 -4.828125 5.878906 -4.445312 5.265625 -3.8125 C 4.660156 -3.175781 3.800781 -2.289062 2.6875 -1.15625 Z M 2.6875 -1.15625 \"/>\n",
       "</symbol>\n",
       "<symbol overflow=\"visible\" id=\"glyph0-17\">\n",
       "<path style=\"stroke:none;\" d=\"M 5.6875 -5.5 C 6.34375 -5.363281 6.851562 -5.070312 7.21875 -4.625 C 7.59375 -4.175781 7.78125 -3.625 7.78125 -2.96875 C 7.78125 -1.957031 7.429688 -1.175781 6.734375 -0.625 C 6.046875 -0.0703125 5.066406 0.203125 3.796875 0.203125 C 3.367188 0.203125 2.925781 0.15625 2.46875 0.0625 C 2.019531 -0.0195312 1.550781 -0.144531 1.0625 -0.3125 L 1.0625 -1.640625 C 1.445312 -1.421875 1.867188 -1.253906 2.328125 -1.140625 C 2.785156 -1.023438 3.257812 -0.96875 3.75 -0.96875 C 4.613281 -0.96875 5.269531 -1.132812 5.71875 -1.46875 C 6.175781 -1.8125 6.40625 -2.3125 6.40625 -2.96875 C 6.40625 -3.570312 6.191406 -4.039062 5.765625 -4.375 C 5.347656 -4.71875 4.765625 -4.890625 4.015625 -4.890625 L 2.828125 -4.890625 L 2.828125 -6.015625 L 4.078125 -6.015625 C 4.753906 -6.015625 5.269531 -6.148438 5.625 -6.421875 C 5.988281 -6.703125 6.171875 -7.097656 6.171875 -7.609375 C 6.171875 -8.128906 5.984375 -8.53125 5.609375 -8.8125 C 5.242188 -9.09375 4.710938 -9.234375 4.015625 -9.234375 C 3.640625 -9.234375 3.234375 -9.191406 2.796875 -9.109375 C 2.367188 -9.023438 1.894531 -8.894531 1.375 -8.71875 L 1.375 -9.953125 C 1.894531 -10.097656 2.382812 -10.207031 2.84375 -10.28125 C 3.300781 -10.351562 3.734375 -10.390625 4.140625 -10.390625 C 5.191406 -10.390625 6.019531 -10.148438 6.625 -9.671875 C 7.238281 -9.203125 7.546875 -8.5625 7.546875 -7.75 C 7.546875 -7.175781 7.382812 -6.695312 7.0625 -6.3125 C 6.738281 -5.925781 6.28125 -5.65625 5.6875 -5.5 Z M 5.6875 -5.5 \"/>\n",
       "</symbol>\n",
       "<symbol overflow=\"visible\" id=\"glyph0-18\">\n",
       "<path style=\"stroke:none;\" d=\"M 5.296875 -9 L 1.8125 -3.5625 L 5.296875 -3.5625 Z M 4.921875 -10.203125 L 6.671875 -10.203125 L 6.671875 -3.5625 L 8.125 -3.5625 L 8.125 -2.40625 L 6.671875 -2.40625 L 6.671875 0 L 5.296875 0 L 5.296875 -2.40625 L 0.6875 -2.40625 L 0.6875 -3.734375 Z M 4.921875 -10.203125 \"/>\n",
       "</symbol>\n",
       "<symbol overflow=\"visible\" id=\"glyph0-19\">\n",
       "<path style=\"stroke:none;\" d=\"M 1.515625 -10.203125 L 6.9375 -10.203125 L 6.9375 -9.046875 L 2.78125 -9.046875 L 2.78125 -6.546875 C 2.976562 -6.609375 3.175781 -6.65625 3.375 -6.6875 C 3.570312 -6.726562 3.773438 -6.75 3.984375 -6.75 C 5.117188 -6.75 6.019531 -6.4375 6.6875 -5.8125 C 7.351562 -5.1875 7.6875 -4.34375 7.6875 -3.28125 C 7.6875 -2.175781 7.34375 -1.316406 6.65625 -0.703125 C 5.976562 -0.0976562 5.015625 0.203125 3.765625 0.203125 C 3.335938 0.203125 2.898438 0.164062 2.453125 0.09375 C 2.015625 0.0195312 1.554688 -0.0859375 1.078125 -0.234375 L 1.078125 -1.625 C 1.492188 -1.40625 1.921875 -1.238281 2.359375 -1.125 C 2.796875 -1.019531 3.253906 -0.96875 3.734375 -0.96875 C 4.523438 -0.96875 5.148438 -1.171875 5.609375 -1.578125 C 6.066406 -1.992188 6.296875 -2.5625 6.296875 -3.28125 C 6.296875 -3.988281 6.066406 -4.546875 5.609375 -4.953125 C 5.148438 -5.367188 4.523438 -5.578125 3.734375 -5.578125 C 3.367188 -5.578125 3 -5.535156 2.625 -5.453125 C 2.257812 -5.378906 1.890625 -5.253906 1.515625 -5.078125 Z M 1.515625 -10.203125 \"/>\n",
       "</symbol>\n",
       "<symbol overflow=\"visible\" id=\"glyph0-20\">\n",
       "<path style=\"stroke:none;\" d=\"M 4.625 -5.65625 C 4 -5.65625 3.503906 -5.441406 3.140625 -5.015625 C 2.785156 -4.585938 2.609375 -4.007812 2.609375 -3.28125 C 2.609375 -2.539062 2.785156 -1.957031 3.140625 -1.53125 C 3.503906 -1.101562 4 -0.890625 4.625 -0.890625 C 5.238281 -0.890625 5.726562 -1.101562 6.09375 -1.53125 C 6.457031 -1.957031 6.640625 -2.539062 6.640625 -3.28125 C 6.640625 -4.007812 6.457031 -4.585938 6.09375 -5.015625 C 5.726562 -5.441406 5.238281 -5.65625 4.625 -5.65625 Z M 7.359375 -9.984375 L 7.359375 -8.71875 C 7.015625 -8.882812 6.664062 -9.007812 6.3125 -9.09375 C 5.957031 -9.1875 5.609375 -9.234375 5.265625 -9.234375 C 4.347656 -9.234375 3.648438 -8.925781 3.171875 -8.3125 C 2.691406 -7.695312 2.421875 -6.765625 2.359375 -5.515625 C 2.617188 -5.910156 2.953125 -6.210938 3.359375 -6.421875 C 3.765625 -6.640625 4.210938 -6.75 4.703125 -6.75 C 5.722656 -6.75 6.53125 -6.4375 7.125 -5.8125 C 7.726562 -5.1875 8.03125 -4.34375 8.03125 -3.28125 C 8.03125 -2.226562 7.71875 -1.382812 7.09375 -0.75 C 6.476562 -0.113281 5.65625 0.203125 4.625 0.203125 C 3.4375 0.203125 2.53125 -0.25 1.90625 -1.15625 C 1.289062 -2.0625 0.984375 -3.375 0.984375 -5.09375 C 0.984375 -6.707031 1.363281 -7.992188 2.125 -8.953125 C 2.894531 -9.910156 3.921875 -10.390625 5.203125 -10.390625 C 5.554688 -10.390625 5.90625 -10.351562 6.25 -10.28125 C 6.601562 -10.21875 6.972656 -10.117188 7.359375 -9.984375 Z M 7.359375 -9.984375 \"/>\n",
       "</symbol>\n",
       "<symbol overflow=\"visible\" id=\"glyph0-21\">\n",
       "<path style=\"stroke:none;\" d=\"M 1.15625 -10.203125 L 7.71875 -10.203125 L 7.71875 -9.625 L 4 0 L 2.5625 0 L 6.046875 -9.046875 L 1.15625 -9.046875 Z M 1.15625 -10.203125 \"/>\n",
       "</symbol>\n",
       "<symbol overflow=\"visible\" id=\"glyph0-22\">\n",
       "<path style=\"stroke:none;\" d=\"M 4.453125 -4.84375 C 3.796875 -4.84375 3.28125 -4.664062 2.90625 -4.3125 C 2.53125 -3.96875 2.34375 -3.488281 2.34375 -2.875 C 2.34375 -2.257812 2.53125 -1.773438 2.90625 -1.421875 C 3.28125 -1.066406 3.796875 -0.890625 4.453125 -0.890625 C 5.109375 -0.890625 5.625 -1.066406 6 -1.421875 C 6.375 -1.773438 6.5625 -2.257812 6.5625 -2.875 C 6.5625 -3.488281 6.375 -3.96875 6 -4.3125 C 5.625 -4.664062 5.109375 -4.84375 4.453125 -4.84375 Z M 3.0625 -5.4375 C 2.476562 -5.582031 2.019531 -5.859375 1.6875 -6.265625 C 1.351562 -6.671875 1.1875 -7.164062 1.1875 -7.75 C 1.1875 -8.5625 1.476562 -9.203125 2.0625 -9.671875 C 2.644531 -10.148438 3.441406 -10.390625 4.453125 -10.390625 C 5.460938 -10.390625 6.257812 -10.148438 6.84375 -9.671875 C 7.425781 -9.203125 7.71875 -8.5625 7.71875 -7.75 C 7.71875 -7.164062 7.550781 -6.671875 7.21875 -6.265625 C 6.882812 -5.859375 6.425781 -5.582031 5.84375 -5.4375 C 6.507812 -5.28125 7.023438 -4.972656 7.390625 -4.515625 C 7.765625 -4.066406 7.953125 -3.519531 7.953125 -2.875 C 7.953125 -1.882812 7.648438 -1.125 7.046875 -0.59375 C 6.441406 -0.0625 5.578125 0.203125 4.453125 0.203125 C 3.328125 0.203125 2.460938 -0.0625 1.859375 -0.59375 C 1.253906 -1.125 0.953125 -1.882812 0.953125 -2.875 C 0.953125 -3.519531 1.140625 -4.066406 1.515625 -4.515625 C 1.890625 -4.972656 2.40625 -5.28125 3.0625 -5.4375 Z M 2.5625 -7.609375 C 2.5625 -7.085938 2.726562 -6.675781 3.0625 -6.375 C 3.394531 -6.082031 3.859375 -5.9375 4.453125 -5.9375 C 5.046875 -5.9375 5.507812 -6.082031 5.84375 -6.375 C 6.175781 -6.675781 6.34375 -7.085938 6.34375 -7.609375 C 6.34375 -8.140625 6.175781 -8.550781 5.84375 -8.84375 C 5.507812 -9.144531 5.046875 -9.296875 4.453125 -9.296875 C 3.859375 -9.296875 3.394531 -9.144531 3.0625 -8.84375 C 2.726562 -8.550781 2.5625 -8.140625 2.5625 -7.609375 Z M 2.5625 -7.609375 \"/>\n",
       "</symbol>\n",
       "</g>\n",
       "</defs>\n",
       "<g id=\"surface194\">\n",
       "<rect x=\"0\" y=\"0\" width=\"400\" height=\"400\" style=\"fill:rgb(100%,100%,100%);fill-opacity:1;stroke:none;\"/>\n",
       "<path style=\"fill:none;stroke-width:1;stroke-linecap:butt;stroke-linejoin:miter;stroke:rgb(26.666667%,26.666667%,26.666667%);stroke-opacity:1;stroke-miterlimit:10;\" d=\"M 200 50 L 50 110 \"/>\n",
       "<path style=\" stroke:none;fill-rule:nonzero;fill:rgb(26.666667%,26.666667%,26.666667%);fill-opacity:1;\" d=\"M 58.125 106.75 L 62.121094 100.402344 L 65.394531 108.589844 L 58.125 106.75 \"/>\n",
       "<path style=\"fill:none;stroke-width:1;stroke-linecap:butt;stroke-linejoin:miter;stroke:rgb(26.666667%,26.666667%,26.666667%);stroke-opacity:1;stroke-miterlimit:10;\" d=\"M 50 110 L 50 170 \"/>\n",
       "<path style=\" stroke:none;fill-rule:nonzero;fill:rgb(26.666667%,26.666667%,26.666667%);fill-opacity:1;\" d=\"M 50 161.25 L 45.589844 155.183594 L 54.410156 155.183594 L 50 161.25 \"/>\n",
       "<path style=\"fill:none;stroke-width:1;stroke-linecap:butt;stroke-linejoin:miter;stroke:rgb(26.666667%,26.666667%,26.666667%);stroke-opacity:1;stroke-miterlimit:10;\" d=\"M 200 50 L 200 110 \"/>\n",
       "<path style=\" stroke:none;fill-rule:nonzero;fill:rgb(26.666667%,26.666667%,26.666667%);fill-opacity:1;\" d=\"M 200 101.25 L 195.589844 95.183594 L 204.410156 95.183594 L 200 101.25 \"/>\n",
       "<path style=\"fill:none;stroke-width:1;stroke-linecap:butt;stroke-linejoin:miter;stroke:rgb(26.666667%,26.666667%,26.666667%);stroke-opacity:1;stroke-miterlimit:10;\" d=\"M 350 110 L 350 170 \"/>\n",
       "<path style=\" stroke:none;fill-rule:nonzero;fill:rgb(26.666667%,26.666667%,26.666667%);fill-opacity:1;\" d=\"M 350 161.25 L 345.589844 155.183594 L 354.410156 155.183594 L 350 161.25 \"/>\n",
       "<path style=\"fill:none;stroke-width:1;stroke-linecap:butt;stroke-linejoin:miter;stroke:rgb(26.666667%,26.666667%,26.666667%);stroke-opacity:1;stroke-miterlimit:10;\" d=\"M 200 50 L 350 110 \"/>\n",
       "<path style=\" stroke:none;fill-rule:nonzero;fill:rgb(26.666667%,26.666667%,26.666667%);fill-opacity:1;\" d=\"M 341.875 106.75 L 334.605469 108.589844 L 337.878906 100.402344 L 341.875 106.75 \"/>\n",
       "<path style=\"fill:none;stroke-width:1;stroke-linecap:butt;stroke-linejoin:miter;stroke:rgb(26.666667%,26.666667%,26.666667%);stroke-opacity:1;stroke-miterlimit:10;\" d=\"M 200 110 L 87.5 170 \"/>\n",
       "<path style=\" stroke:none;fill-rule:nonzero;fill:rgb(26.666667%,26.666667%,26.666667%);fill-opacity:1;\" d=\"M 95.21875 165.882812 L 98.5 159.136719 L 102.648438 166.917969 L 95.21875 165.882812 \"/>\n",
       "<path style=\"fill:none;stroke-width:1;stroke-linecap:butt;stroke-linejoin:miter;stroke:rgb(26.666667%,26.666667%,26.666667%);stroke-opacity:1;stroke-miterlimit:10;\" d=\"M 87.5 170 L 87.5 230 \"/>\n",
       "<path style=\" stroke:none;fill-rule:nonzero;fill:rgb(26.666667%,26.666667%,26.666667%);fill-opacity:1;\" d=\"M 87.5 221.25 L 83.089844 215.183594 L 91.910156 215.183594 L 87.5 221.25 \"/>\n",
       "<path style=\"fill:none;stroke-width:1;stroke-linecap:butt;stroke-linejoin:miter;stroke:rgb(26.666667%,26.666667%,26.666667%);stroke-opacity:1;stroke-miterlimit:10;\" d=\"M 200 110 L 200 170 \"/>\n",
       "<path style=\" stroke:none;fill-rule:nonzero;fill:rgb(26.666667%,26.666667%,26.666667%);fill-opacity:1;\" d=\"M 200 161.25 L 195.589844 155.183594 L 204.410156 155.183594 L 200 161.25 \"/>\n",
       "<path style=\"fill:none;stroke-width:1;stroke-linecap:butt;stroke-linejoin:miter;stroke:rgb(26.666667%,26.666667%,26.666667%);stroke-opacity:1;stroke-miterlimit:10;\" d=\"M 200 110 L 312.5 170 \"/>\n",
       "<path style=\" stroke:none;fill-rule:nonzero;fill:rgb(26.666667%,26.666667%,26.666667%);fill-opacity:1;\" d=\"M 304.78125 165.882812 L 297.351562 166.917969 L 301.5 159.136719 L 304.78125 165.882812 \"/>\n",
       "<path style=\"fill:none;stroke-width:1;stroke-linecap:butt;stroke-linejoin:miter;stroke:rgb(26.666667%,26.666667%,26.666667%);stroke-opacity:1;stroke-miterlimit:10;\" d=\"M 312.5 170 L 312.5 230 \"/>\n",
       "<path style=\" stroke:none;fill-rule:nonzero;fill:rgb(26.666667%,26.666667%,26.666667%);fill-opacity:1;\" d=\"M 312.5 221.25 L 308.089844 215.183594 L 316.910156 215.183594 L 312.5 221.25 \"/>\n",
       "<path style=\"fill:none;stroke-width:1;stroke-linecap:butt;stroke-linejoin:miter;stroke:rgb(26.666667%,26.666667%,26.666667%);stroke-opacity:1;stroke-miterlimit:10;\" d=\"M 200 170 L 125 230 \"/>\n",
       "<path style=\" stroke:none;fill-rule:nonzero;fill:rgb(26.666667%,26.666667%,26.666667%);fill-opacity:1;\" d=\"M 131.832031 224.535156 L 133.816406 217.300781 L 139.324219 224.1875 L 131.832031 224.535156 \"/>\n",
       "<path style=\"fill:none;stroke-width:1;stroke-linecap:butt;stroke-linejoin:miter;stroke:rgb(26.666667%,26.666667%,26.666667%);stroke-opacity:1;stroke-miterlimit:10;\" d=\"M 125 230 L 125 290 \"/>\n",
       "<path style=\" stroke:none;fill-rule:nonzero;fill:rgb(26.666667%,26.666667%,26.666667%);fill-opacity:1;\" d=\"M 125 281.25 L 120.589844 275.183594 L 129.410156 275.183594 L 125 281.25 \"/>\n",
       "<path style=\"fill:none;stroke-width:1;stroke-linecap:butt;stroke-linejoin:miter;stroke:rgb(26.666667%,26.666667%,26.666667%);stroke-opacity:1;stroke-miterlimit:10;\" d=\"M 200 170 L 200 230 \"/>\n",
       "<path style=\" stroke:none;fill-rule:nonzero;fill:rgb(26.666667%,26.666667%,26.666667%);fill-opacity:1;\" d=\"M 200 221.25 L 195.589844 215.183594 L 204.410156 215.183594 L 200 221.25 \"/>\n",
       "<path style=\"fill:none;stroke-width:1;stroke-linecap:butt;stroke-linejoin:miter;stroke:rgb(26.666667%,26.666667%,26.666667%);stroke-opacity:1;stroke-miterlimit:10;\" d=\"M 200 170 L 275 230 \"/>\n",
       "<path style=\" stroke:none;fill-rule:nonzero;fill:rgb(26.666667%,26.666667%,26.666667%);fill-opacity:1;\" d=\"M 268.167969 224.535156 L 260.675781 224.1875 L 266.183594 217.300781 L 268.167969 224.535156 \"/>\n",
       "<path style=\"fill:none;stroke-width:1;stroke-linecap:butt;stroke-linejoin:miter;stroke:rgb(26.666667%,26.666667%,26.666667%);stroke-opacity:1;stroke-miterlimit:10;\" d=\"M 275 230 L 275 290 \"/>\n",
       "<path style=\" stroke:none;fill-rule:nonzero;fill:rgb(26.666667%,26.666667%,26.666667%);fill-opacity:1;\" d=\"M 275 281.25 L 270.589844 275.183594 L 279.410156 275.183594 L 275 281.25 \"/>\n",
       "<path style=\"fill:none;stroke-width:1;stroke-linecap:butt;stroke-linejoin:miter;stroke:rgb(26.666667%,26.666667%,26.666667%);stroke-opacity:1;stroke-miterlimit:10;\" d=\"M 200 230 L 162.5 290 \"/>\n",
       "<path style=\" stroke:none;fill-rule:nonzero;fill:rgb(26.666667%,26.666667%,26.666667%);fill-opacity:1;\" d=\"M 167.136719 282.578125 L 166.613281 275.097656 L 174.089844 279.769531 L 167.136719 282.578125 \"/>\n",
       "<path style=\"fill:none;stroke-width:1;stroke-linecap:butt;stroke-linejoin:miter;stroke:rgb(26.666667%,26.666667%,26.666667%);stroke-opacity:1;stroke-miterlimit:10;\" d=\"M 162.5 290 L 162.5 350 \"/>\n",
       "<path style=\" stroke:none;fill-rule:nonzero;fill:rgb(26.666667%,26.666667%,26.666667%);fill-opacity:1;\" d=\"M 162.5 341.25 L 158.089844 335.183594 L 166.910156 335.183594 L 162.5 341.25 \"/>\n",
       "<path style=\"fill:none;stroke-width:1;stroke-linecap:butt;stroke-linejoin:miter;stroke:rgb(26.666667%,26.666667%,26.666667%);stroke-opacity:1;stroke-miterlimit:10;\" d=\"M 200 230 L 200 290 \"/>\n",
       "<path style=\" stroke:none;fill-rule:nonzero;fill:rgb(26.666667%,26.666667%,26.666667%);fill-opacity:1;\" d=\"M 200 281.25 L 195.589844 275.183594 L 204.410156 275.183594 L 200 281.25 \"/>\n",
       "<path style=\"fill:none;stroke-width:1;stroke-linecap:butt;stroke-linejoin:miter;stroke:rgb(26.666667%,26.666667%,26.666667%);stroke-opacity:1;stroke-miterlimit:10;\" d=\"M 200 230 L 237.5 290 \"/>\n",
       "<path style=\" stroke:none;fill-rule:nonzero;fill:rgb(26.666667%,26.666667%,26.666667%);fill-opacity:1;\" d=\"M 232.863281 282.578125 L 225.910156 279.769531 L 233.386719 275.097656 L 232.863281 282.578125 \"/>\n",
       "<path style=\"fill:none;stroke-width:1;stroke-linecap:butt;stroke-linejoin:miter;stroke:rgb(26.666667%,26.666667%,26.666667%);stroke-opacity:1;stroke-miterlimit:10;\" d=\"M 237.5 290 L 237.5 350 \"/>\n",
       "<path style=\" stroke:none;fill-rule:nonzero;fill:rgb(26.666667%,26.666667%,26.666667%);fill-opacity:1;\" d=\"M 237.5 341.25 L 233.089844 335.183594 L 241.910156 335.183594 L 237.5 341.25 \"/>\n",
       "<path style=\"fill-rule:nonzero;fill:rgb(100%,0%,0%);fill-opacity:1;stroke-width:1;stroke-linecap:butt;stroke-linejoin:miter;stroke:rgb(0%,0%,0%);stroke-opacity:1;stroke-miterlimit:10;\" d=\"M 215 50 C 215 58.285156 208.285156 65 200 65 C 191.714844 65 185 58.285156 185 50 C 185 41.714844 191.714844 35 200 35 C 208.285156 35 215 41.714844 215 50 \"/>\n",
       "<path style=\"fill-rule:nonzero;fill:rgb(0%,78.431373%,78.431373%);fill-opacity:1;stroke-width:1;stroke-linecap:butt;stroke-linejoin:miter;stroke:rgb(0%,0%,0%);stroke-opacity:1;stroke-miterlimit:10;\" d=\"M 58.75 110 C 58.75 114.832031 54.832031 118.75 50 118.75 C 45.167969 118.75 41.25 114.832031 41.25 110 C 41.25 105.167969 45.167969 101.25 50 101.25 C 54.832031 101.25 58.75 105.167969 58.75 110 \"/>\n",
       "<path style=\"fill-rule:nonzero;fill:rgb(0%,78.431373%,78.431373%);fill-opacity:1;stroke-width:1;stroke-linecap:butt;stroke-linejoin:miter;stroke:rgb(0%,0%,0%);stroke-opacity:1;stroke-miterlimit:10;\" d=\"M 208.75 110 C 208.75 114.832031 204.832031 118.75 200 118.75 C 195.167969 118.75 191.25 114.832031 191.25 110 C 191.25 105.167969 195.167969 101.25 200 101.25 C 204.832031 101.25 208.75 105.167969 208.75 110 \"/>\n",
       "<path style=\"fill-rule:nonzero;fill:rgb(0%,78.431373%,78.431373%);fill-opacity:1;stroke-width:1;stroke-linecap:butt;stroke-linejoin:miter;stroke:rgb(0%,0%,0%);stroke-opacity:1;stroke-miterlimit:10;\" d=\"M 358.75 110 C 358.75 114.832031 354.832031 118.75 350 118.75 C 345.167969 118.75 341.25 114.832031 341.25 110 C 341.25 105.167969 345.167969 101.25 350 101.25 C 354.832031 101.25 358.75 105.167969 358.75 110 \"/>\n",
       "<path style=\"fill-rule:nonzero;fill:rgb(0%,78.431373%,78.431373%);fill-opacity:1;stroke-width:1;stroke-linecap:butt;stroke-linejoin:miter;stroke:rgb(0%,0%,0%);stroke-opacity:1;stroke-miterlimit:10;\" d=\"M 96.25 170 C 96.25 174.832031 92.332031 178.75 87.5 178.75 C 82.667969 178.75 78.75 174.832031 78.75 170 C 78.75 165.167969 82.667969 161.25 87.5 161.25 C 92.332031 161.25 96.25 165.167969 96.25 170 \"/>\n",
       "<path style=\"fill-rule:nonzero;fill:rgb(0%,78.431373%,78.431373%);fill-opacity:1;stroke-width:1;stroke-linecap:butt;stroke-linejoin:miter;stroke:rgb(0%,0%,0%);stroke-opacity:1;stroke-miterlimit:10;\" d=\"M 208.75 170 C 208.75 174.832031 204.832031 178.75 200 178.75 C 195.167969 178.75 191.25 174.832031 191.25 170 C 191.25 165.167969 195.167969 161.25 200 161.25 C 204.832031 161.25 208.75 165.167969 208.75 170 \"/>\n",
       "<path style=\"fill-rule:nonzero;fill:rgb(0%,78.431373%,78.431373%);fill-opacity:1;stroke-width:1;stroke-linecap:butt;stroke-linejoin:miter;stroke:rgb(0%,0%,0%);stroke-opacity:1;stroke-miterlimit:10;\" d=\"M 321.25 170 C 321.25 174.832031 317.332031 178.75 312.5 178.75 C 307.667969 178.75 303.75 174.832031 303.75 170 C 303.75 165.167969 307.667969 161.25 312.5 161.25 C 317.332031 161.25 321.25 165.167969 321.25 170 \"/>\n",
       "<path style=\"fill-rule:nonzero;fill:rgb(0%,78.431373%,78.431373%);fill-opacity:1;stroke-width:1;stroke-linecap:butt;stroke-linejoin:miter;stroke:rgb(0%,0%,0%);stroke-opacity:1;stroke-miterlimit:10;\" d=\"M 133.75 230 C 133.75 234.832031 129.832031 238.75 125 238.75 C 120.167969 238.75 116.25 234.832031 116.25 230 C 116.25 225.167969 120.167969 221.25 125 221.25 C 129.832031 221.25 133.75 225.167969 133.75 230 \"/>\n",
       "<path style=\"fill-rule:nonzero;fill:rgb(0%,78.431373%,78.431373%);fill-opacity:1;stroke-width:1;stroke-linecap:butt;stroke-linejoin:miter;stroke:rgb(0%,0%,0%);stroke-opacity:1;stroke-miterlimit:10;\" d=\"M 208.75 230 C 208.75 234.832031 204.832031 238.75 200 238.75 C 195.167969 238.75 191.25 234.832031 191.25 230 C 191.25 225.167969 195.167969 221.25 200 221.25 C 204.832031 221.25 208.75 225.167969 208.75 230 \"/>\n",
       "<path style=\"fill-rule:nonzero;fill:rgb(0%,78.431373%,78.431373%);fill-opacity:1;stroke-width:1;stroke-linecap:butt;stroke-linejoin:miter;stroke:rgb(0%,0%,0%);stroke-opacity:1;stroke-miterlimit:10;\" d=\"M 283.75 230 C 283.75 234.832031 279.832031 238.75 275 238.75 C 270.167969 238.75 266.25 234.832031 266.25 230 C 266.25 225.167969 270.167969 221.25 275 221.25 C 279.832031 221.25 283.75 225.167969 283.75 230 \"/>\n",
       "<path style=\"fill-rule:nonzero;fill:rgb(0%,78.431373%,78.431373%);fill-opacity:1;stroke-width:1;stroke-linecap:butt;stroke-linejoin:miter;stroke:rgb(0%,0%,0%);stroke-opacity:1;stroke-miterlimit:10;\" d=\"M 171.25 290 C 171.25 294.832031 167.332031 298.75 162.5 298.75 C 157.667969 298.75 153.75 294.832031 153.75 290 C 153.75 285.167969 157.667969 281.25 162.5 281.25 C 167.332031 281.25 171.25 285.167969 171.25 290 \"/>\n",
       "<path style=\"fill-rule:nonzero;fill:rgb(0%,78.431373%,78.431373%);fill-opacity:1;stroke-width:1;stroke-linecap:butt;stroke-linejoin:miter;stroke:rgb(0%,0%,0%);stroke-opacity:1;stroke-miterlimit:10;\" d=\"M 208.75 290 C 208.75 294.832031 204.832031 298.75 200 298.75 C 195.167969 298.75 191.25 294.832031 191.25 290 C 191.25 285.167969 195.167969 281.25 200 281.25 C 204.832031 281.25 208.75 285.167969 208.75 290 \"/>\n",
       "<path style=\"fill-rule:nonzero;fill:rgb(0%,78.431373%,78.431373%);fill-opacity:1;stroke-width:1;stroke-linecap:butt;stroke-linejoin:miter;stroke:rgb(0%,0%,0%);stroke-opacity:1;stroke-miterlimit:10;\" d=\"M 246.25 290 C 246.25 294.832031 242.332031 298.75 237.5 298.75 C 232.667969 298.75 228.75 294.832031 228.75 290 C 228.75 285.167969 232.667969 281.25 237.5 281.25 C 242.332031 281.25 246.25 285.167969 246.25 290 \"/>\n",
       "<path style=\"fill-rule:nonzero;fill:rgb(0%,100%,0%);fill-opacity:1;stroke-width:1;stroke-linecap:butt;stroke-linejoin:miter;stroke:rgb(0%,0%,0%);stroke-opacity:1;stroke-miterlimit:10;\" d=\"M 58.75 170 C 58.75 174.832031 54.832031 178.75 50 178.75 C 45.167969 178.75 41.25 174.832031 41.25 170 C 41.25 165.167969 45.167969 161.25 50 161.25 C 54.832031 161.25 58.75 165.167969 58.75 170 \"/>\n",
       "<path style=\"fill-rule:nonzero;fill:rgb(0%,100%,0%);fill-opacity:1;stroke-width:1;stroke-linecap:butt;stroke-linejoin:miter;stroke:rgb(0%,0%,0%);stroke-opacity:1;stroke-miterlimit:10;\" d=\"M 358.75 170 C 358.75 174.832031 354.832031 178.75 350 178.75 C 345.167969 178.75 341.25 174.832031 341.25 170 C 341.25 165.167969 345.167969 161.25 350 161.25 C 354.832031 161.25 358.75 165.167969 358.75 170 \"/>\n",
       "<path style=\"fill-rule:nonzero;fill:rgb(0%,100%,0%);fill-opacity:1;stroke-width:1;stroke-linecap:butt;stroke-linejoin:miter;stroke:rgb(0%,0%,0%);stroke-opacity:1;stroke-miterlimit:10;\" d=\"M 96.25 230 C 96.25 234.832031 92.332031 238.75 87.5 238.75 C 82.667969 238.75 78.75 234.832031 78.75 230 C 78.75 225.167969 82.667969 221.25 87.5 221.25 C 92.332031 221.25 96.25 225.167969 96.25 230 \"/>\n",
       "<path style=\"fill-rule:nonzero;fill:rgb(0%,100%,0%);fill-opacity:1;stroke-width:1;stroke-linecap:butt;stroke-linejoin:miter;stroke:rgb(0%,0%,0%);stroke-opacity:1;stroke-miterlimit:10;\" d=\"M 321.25 230 C 321.25 234.832031 317.332031 238.75 312.5 238.75 C 307.667969 238.75 303.75 234.832031 303.75 230 C 303.75 225.167969 307.667969 221.25 312.5 221.25 C 317.332031 221.25 321.25 225.167969 321.25 230 \"/>\n",
       "<path style=\"fill-rule:nonzero;fill:rgb(0%,100%,0%);fill-opacity:1;stroke-width:1;stroke-linecap:butt;stroke-linejoin:miter;stroke:rgb(0%,0%,0%);stroke-opacity:1;stroke-miterlimit:10;\" d=\"M 133.75 290 C 133.75 294.832031 129.832031 298.75 125 298.75 C 120.167969 298.75 116.25 294.832031 116.25 290 C 116.25 285.167969 120.167969 281.25 125 281.25 C 129.832031 281.25 133.75 285.167969 133.75 290 \"/>\n",
       "<path style=\"fill-rule:nonzero;fill:rgb(0%,100%,0%);fill-opacity:1;stroke-width:1;stroke-linecap:butt;stroke-linejoin:miter;stroke:rgb(0%,0%,0%);stroke-opacity:1;stroke-miterlimit:10;\" d=\"M 283.75 290 C 283.75 294.832031 279.832031 298.75 275 298.75 C 270.167969 298.75 266.25 294.832031 266.25 290 C 266.25 285.167969 270.167969 281.25 275 281.25 C 279.832031 281.25 283.75 285.167969 283.75 290 \"/>\n",
       "<path style=\"fill-rule:nonzero;fill:rgb(0%,100%,0%);fill-opacity:1;stroke-width:1;stroke-linecap:butt;stroke-linejoin:miter;stroke:rgb(0%,0%,0%);stroke-opacity:1;stroke-miterlimit:10;\" d=\"M 171.25 350 C 171.25 354.832031 167.332031 358.75 162.5 358.75 C 157.667969 358.75 153.75 354.832031 153.75 350 C 153.75 345.167969 157.667969 341.25 162.5 341.25 C 167.332031 341.25 171.25 345.167969 171.25 350 \"/>\n",
       "<path style=\"fill-rule:nonzero;fill:rgb(0%,100%,0%);fill-opacity:1;stroke-width:1;stroke-linecap:butt;stroke-linejoin:miter;stroke:rgb(0%,0%,0%);stroke-opacity:1;stroke-miterlimit:10;\" d=\"M 246.25 350 C 246.25 354.832031 242.332031 358.75 237.5 358.75 C 232.667969 358.75 228.75 354.832031 228.75 350 C 228.75 345.167969 232.667969 341.25 237.5 341.25 C 242.332031 341.25 246.25 345.167969 246.25 350 \"/>\n",
       "<g style=\"fill:rgb(0%,0%,0%);fill-opacity:1;\">\n",
       "  <use xlink:href=\"#glyph0-1\" x=\"195.210938\" y=\"56.753906\"/>\n",
       "</g>\n",
       "<g style=\"fill:rgb(0%,0%,0%);fill-opacity:1;\">\n",
       "  <use xlink:href=\"#glyph0-2\" x=\"45.007812\" y=\"116.753906\"/>\n",
       "</g>\n",
       "<g style=\"fill:rgb(0%,0%,0%);fill-opacity:1;\">\n",
       "  <use xlink:href=\"#glyph0-3\" x=\"195.101562\" y=\"116.847656\"/>\n",
       "</g>\n",
       "<g style=\"fill:rgb(0%,0%,0%);fill-opacity:1;\">\n",
       "  <use xlink:href=\"#glyph0-4\" x=\"344.335938\" y=\"116.753906\"/>\n",
       "</g>\n",
       "<g style=\"fill:rgb(0%,0%,0%);fill-opacity:1;\">\n",
       "  <use xlink:href=\"#glyph0-5\" x=\"82.835938\" y=\"176.753906\"/>\n",
       "</g>\n",
       "<g style=\"fill:rgb(0%,0%,0%);fill-opacity:1;\">\n",
       "  <use xlink:href=\"#glyph0-6\" x=\"195.695312\" y=\"176.753906\"/>\n",
       "</g>\n",
       "<g style=\"fill:rgb(0%,0%,0%);fill-opacity:1;\">\n",
       "  <use xlink:href=\"#glyph0-7\" x=\"307.257812\" y=\"176.847656\"/>\n",
       "</g>\n",
       "<g style=\"fill:rgb(0%,0%,0%);fill-opacity:1;\">\n",
       "  <use xlink:href=\"#glyph0-8\" x=\"119.734375\" y=\"236.753906\"/>\n",
       "</g>\n",
       "<g style=\"fill:rgb(0%,0%,0%);fill-opacity:1;\">\n",
       "  <use xlink:href=\"#glyph0-9\" x=\"197.9375\" y=\"236.753906\"/>\n",
       "</g>\n",
       "<g style=\"fill:rgb(0%,0%,0%);fill-opacity:1;\">\n",
       "  <use xlink:href=\"#glyph0-10\" x=\"273.984375\" y=\"236.753906\"/>\n",
       "</g>\n",
       "<g style=\"fill:rgb(0%,0%,0%);fill-opacity:1;\">\n",
       "  <use xlink:href=\"#glyph0-11\" x=\"157.078125\" y=\"296.753906\"/>\n",
       "</g>\n",
       "<g style=\"fill:rgb(0%,0%,0%);fill-opacity:1;\">\n",
       "  <use xlink:href=\"#glyph0-12\" x=\"195.453125\" y=\"296.753906\"/>\n",
       "</g>\n",
       "<g style=\"fill:rgb(0%,0%,0%);fill-opacity:1;\">\n",
       "  <use xlink:href=\"#glyph0-13\" x=\"231.453125\" y=\"296.753906\"/>\n",
       "</g>\n",
       "<g style=\"fill:rgb(0%,0%,0%);fill-opacity:1;\">\n",
       "  <use xlink:href=\"#glyph0-14\" x=\"40.296875\" y=\"176.847656\"/>\n",
       "  <use xlink:href=\"#glyph0-15\" x=\"51.316406\" y=\"176.847656\"/>\n",
       "</g>\n",
       "<g style=\"fill:rgb(0%,0%,0%);fill-opacity:1;\">\n",
       "  <use xlink:href=\"#glyph0-14\" x=\"340.351562\" y=\"176.847656\"/>\n",
       "  <use xlink:href=\"#glyph0-16\" x=\"351.371094\" y=\"176.847656\"/>\n",
       "</g>\n",
       "<g style=\"fill:rgb(0%,0%,0%);fill-opacity:1;\">\n",
       "  <use xlink:href=\"#glyph0-14\" x=\"77.710938\" y=\"236.847656\"/>\n",
       "  <use xlink:href=\"#glyph0-17\" x=\"88.730469\" y=\"236.847656\"/>\n",
       "</g>\n",
       "<g style=\"fill:rgb(0%,0%,0%);fill-opacity:1;\">\n",
       "  <use xlink:href=\"#glyph0-14\" x=\"302.539062\" y=\"236.847656\"/>\n",
       "  <use xlink:href=\"#glyph0-18\" x=\"313.558594\" y=\"236.847656\"/>\n",
       "</g>\n",
       "<g style=\"fill:rgb(0%,0%,0%);fill-opacity:1;\">\n",
       "  <use xlink:href=\"#glyph0-14\" x=\"115.257812\" y=\"296.847656\"/>\n",
       "  <use xlink:href=\"#glyph0-19\" x=\"126.277344\" y=\"296.847656\"/>\n",
       "</g>\n",
       "<g style=\"fill:rgb(0%,0%,0%);fill-opacity:1;\">\n",
       "  <use xlink:href=\"#glyph0-14\" x=\"265.085938\" y=\"296.847656\"/>\n",
       "  <use xlink:href=\"#glyph0-20\" x=\"276.105469\" y=\"296.847656\"/>\n",
       "</g>\n",
       "<g style=\"fill:rgb(0%,0%,0%);fill-opacity:1;\">\n",
       "  <use xlink:href=\"#glyph0-14\" x=\"152.742188\" y=\"356.847656\"/>\n",
       "  <use xlink:href=\"#glyph0-21\" x=\"163.761719\" y=\"356.847656\"/>\n",
       "</g>\n",
       "<g style=\"fill:rgb(0%,0%,0%);fill-opacity:1;\">\n",
       "  <use xlink:href=\"#glyph0-14\" x=\"227.625\" y=\"356.847656\"/>\n",
       "  <use xlink:href=\"#glyph0-22\" x=\"238.644531\" y=\"356.847656\"/>\n",
       "</g>\n",
       "</g>\n",
       "</svg>\n"
      ],
      "text/plain": [
       "<igraph.drawing.Plot at 0x7fa8150e1210>"
      ]
     },
     "execution_count": 16,
     "metadata": {},
     "output_type": "execute_result"
    }
   ],
   "source": [
    "G = ig.Graph()\n",
    "vertices = ['attacker'] + ['Machine']*20\n",
    "G.add_vertices(vertices)\n",
    "G.to_directed()\n",
    "G.add_edges([(0,1), (1,13),\n",
    "             (0,2), (3,14),\n",
    "             (0,3), (2,4),\n",
    "             (4,15), (2,5), (2,6),\n",
    "             (6,16), (5,7), \n",
    "             (7,17), (5,8), (5,9),\n",
    "             (9,18), (8,10),(10,19),\n",
    "             (8,11), (8,12), (12,20)])\n",
    "#G.vs['name'] = ['Attacker'] + ['User']*12\n",
    "lout = G.layout_reingold_tilford(root=0)\n",
    "G.vs[\"label\"] = ['A', 'B', 'C', 'D', 'E', 'F', 'G', 'H', 'I', 'J', 'K','L', 'M', \n",
    "                'O1', 'O2', 'O3', 'O4', 'O5', 'O6', 'O7', 'O8']\n",
    "coords = np.asarray(lout.coords)\n",
    "#coords[-1,0] = 0\n",
    "G.vs['x'] = list(coords[:,0])\n",
    "G.vs['y'] = list(coords[:,1])\n",
    "ig.plot(G, './technoextension1newext.pdf', autocurve=True, bbox= (400,400),margin=50,\n",
    "        vertex_color = ['Red']+['rgb(0, 200, 200)']*12 +['rgb(0,255,0)']*8 , vertex_size=[30]+[17.5]*20,\n",
    "        #vertex_label = G.vs[\"label\"],\n",
    "        edge_arrow_size=.5, \n",
    "        edge_arrow_width=2)\n"
   ]
  },
  {
   "cell_type": "code",
   "execution_count": 29,
   "metadata": {
    "collapsed": false
   },
   "outputs": [
    {
     "data": {
      "text/plain": [
       "(1, 0.14811940332751516)"
      ]
     },
     "execution_count": 29,
     "metadata": {},
     "output_type": "execute_result"
    }
   ],
   "source": [
    "np.random.seed(343434)\n",
    "def f(x, y=1):\n",
    "    return x, random.random()\n",
    "f(1)"
   ]
  },
  {
   "cell_type": "code",
   "execution_count": 30,
   "metadata": {
    "collapsed": false
   },
   "outputs": [
    {
     "data": {
      "text/plain": [
       "(2, 0.6467004103532256)"
      ]
     },
     "execution_count": 30,
     "metadata": {},
     "output_type": "execute_result"
    }
   ],
   "source": [
    "np.random.seed(343434)\n",
    "def f(x, y=2):\n",
    "    return x, np.random.random()\n",
    "f(2)"
   ]
  },
  {
   "cell_type": "code",
   "execution_count": 33,
   "metadata": {
    "collapsed": false
   },
   "outputs": [],
   "source": [
    "random.seed?"
   ]
  },
  {
   "cell_type": "code",
   "execution_count": null,
   "metadata": {
    "collapsed": true
   },
   "outputs": [],
   "source": []
  }
 ],
 "metadata": {
  "kernelspec": {
   "display_name": "Python 2",
   "language": "python",
   "name": "python2"
  },
  "language_info": {
   "codemirror_mode": {
    "name": "ipython",
    "version": 2
   },
   "file_extension": ".py",
   "mimetype": "text/x-python",
   "name": "python",
   "nbconvert_exporter": "python",
   "pygments_lexer": "ipython2",
   "version": "2.7.9"
  }
 },
 "nbformat": 4,
 "nbformat_minor": 0
}
