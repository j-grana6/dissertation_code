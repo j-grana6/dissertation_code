{
 "cells": [
  {
   "cell_type": "code",
   "execution_count": 1,
   "metadata": {
    "collapsed": false
   },
   "outputs": [
    {
     "ename": "ImportError",
     "evalue": "No module named networkx",
     "output_type": "error",
     "traceback": [
      "\u001b[1;31m---------------------------------------------------------------------------\u001b[0m",
      "\u001b[1;31mImportError\u001b[0m                               Traceback (most recent call last)",
      "\u001b[1;32m<ipython-input-1-3a5ac1f92fba>\u001b[0m in \u001b[0;36m<module>\u001b[1;34m()\u001b[0m\n\u001b[0;32m      3\u001b[0m \u001b[1;32mfrom\u001b[0m \u001b[0msft\u001b[0m \u001b[1;32mimport\u001b[0m \u001b[0mSFT\u001b[0m\u001b[1;33m\u001b[0m\u001b[0m\n\u001b[0;32m      4\u001b[0m \u001b[1;32mfrom\u001b[0m \u001b[0msft_net\u001b[0m \u001b[1;32mimport\u001b[0m \u001b[0mSFTNet\u001b[0m\u001b[1;33m\u001b[0m\u001b[0m\n\u001b[1;32m----> 5\u001b[1;33m \u001b[1;32mimport\u001b[0m \u001b[0mnetworkx\u001b[0m \u001b[1;32mas\u001b[0m \u001b[0mnx\u001b[0m\u001b[1;33m\u001b[0m\u001b[0m\n\u001b[0m\u001b[0;32m      6\u001b[0m \u001b[1;32mfrom\u001b[0m \u001b[0mIPython\u001b[0m\u001b[1;33m.\u001b[0m\u001b[0mdisplay\u001b[0m \u001b[1;32mimport\u001b[0m \u001b[0mHTML\u001b[0m\u001b[1;33m\u001b[0m\u001b[0m\n\u001b[0;32m      7\u001b[0m \u001b[1;32mfrom\u001b[0m \u001b[0mtools\u001b[0m \u001b[1;32mimport\u001b[0m \u001b[0mgen_trans_frame\u001b[0m\u001b[1;33m\u001b[0m\u001b[0m\n",
      "\u001b[1;31mImportError\u001b[0m: No module named networkx"
     ]
    }
   ],
   "source": [
    "import numpy as np\n",
    "#from direct_sample import Direct_Sample\n",
    "from sft import SFT\n",
    "from sft_net import SFTNet\n",
    "import networkx as nx\n",
    "from IPython.display import HTML\n",
    "from tools import gen_trans_frame\n",
    "from roc import get_roc_coords, handle_parallel_res, plot_anomaly_roc, plot_our_roc\n",
    "from adsy.display import extended_styles"
   ]
  },
  {
   "cell_type": "code",
   "execution_count": 169,
   "metadata": {
    "collapsed": false
   },
   "outputs": [
    {
     "data": {
      "text/html": [
       "\n",
       "        <script type=\"text/javascript\">\n",
       "        var toggleInput;\n",
       "        (function() {\n",
       "            var inputInterval;\n",
       "            var intervalCount = 0;\n",
       "            var init = false;\n",
       "            var inputUp = false;\n",
       "            toggleInput = function() {\n",
       "                if(inputUp) {\n",
       "                    $('div.input').slideDown();\n",
       "                    $('div.code_cell').attr('style', '');\n",
       "                }\n",
       "                else {\n",
       "                    $('div.input').slideUp();\n",
       "                    $('div.code_cell').attr('style', 'padding: 0px; margin: 0px');\n",
       "                }\n",
       "                inputUp = !inputUp;\n",
       "                init = true;\n",
       "            }\n",
       "            function initExtendedStyles() {\n",
       "                if(intervalCount > 15) {\n",
       "                    clearInterval(inputInterval);\n",
       "                }\n",
       "                intervalCount += 1;\n",
       "                try {\n",
       "                    toggleInput();\n",
       "                    clearInterval(inputInterval);\n",
       "                } catch(e) {}\n",
       "            }\n",
       "            if (typeof jQuery == 'undefined') {\n",
       "                // if jQuery Library is not loaded\n",
       "                var script = document.createElement( 'script' );\n",
       "                script.type = 'text/javascript';\n",
       "                script.src = 'https://ajax.googleapis.com/ajax/libs/jquery/1.8.3/jquery.min.js';\n",
       "                document.body.appendChild(script);\n",
       "            }\n",
       "\n",
       "            setTimeout(initExtendedStyles, 200);\n",
       "            // jQuery is doing this interval trick\n",
       "            // I guess its the way to do it then.\n",
       "            inputInterval = setInterval(initExtendedStyles, 1000);\n",
       "        }());\n",
       "        </script>\n",
       "       <a href=\"javascript:toggleInput()\">Toggle Input</a>\n",
       "        "
      ],
      "text/plain": [
       "<IPython.core.display.HTML at 0x447dba90>"
      ]
     },
     "execution_count": 169,
     "metadata": {},
     "output_type": "execute_result"
    }
   ],
   "source": [
    "extended_styles()"
   ]
  },
  {
   "cell_type": "markdown",
   "metadata": {},
   "source": [
    "All of the info here should be relatively self contained.  The general flow is that I create a network, draw the network for visualization, present a table of rates and then plot ROC curves, someimes for various values of T.  Sometimes, I show the same ROC curves but zoom in on part of the plot.  The red nodes in the graphs are the attackers."
   ]
  },
  {
   "cell_type": "markdown",
   "metadata": {},
   "source": [
    "# A small star network"
   ]
  },
  {
   "cell_type": "code",
   "execution_count": 8,
   "metadata": {
    "collapsed": false
   },
   "outputs": [],
   "source": [
    "A = SFT('A', ['normal' , 'infected'], ['B', 'F'], \n",
    "    {'B': np.array([[.5, 0], [.5,.001]]), 'F' : np.array([[.5, 0], [.5, .001]])},\n",
    "    ['clean', 'malicious'], 'external')\n",
    "# Node A sends messages to B and F\n",
    "\n",
    "B = SFT('B', ['normal' , 'infected'], [ 'E'], \n",
    "    {'E' : np.array([[.5, 0], [.5, .01]])},\n",
    "    ['clean', 'malicious'], 'internal')\n",
    "# B sends messages to A, D and F\n",
    "C = SFT('C', ['normal' , 'infected'], ['E'],\n",
    "    {'E': np.array([[.5, 0], [.5,.01]])},\n",
    "    ['clean', 'malicious'], 'internal')\n",
    "# C sends messages to A, B and F\n",
    "\n",
    "\n",
    "D = SFT('D', ['normal' , 'infected'], ['E'], \n",
    "    {'E': np.array([[.5, 0], [.5,.01]])},\n",
    "    ['clean', 'malicious'], 'internal')\n",
    "# D sends nodes to A, C and F\n",
    "\n",
    "E = SFT('E', ['normal' , 'infected'], ['A', 'B', 'C', 'D', 'F'], \n",
    "    {'A': np.array([[.5, 0], [.5,.001]]), 'B': np.array([[.5,0], [.5, .001]]), \n",
    "     'C': np.array([[.5,0], [.5, .001]]), 'D' : np.array([[.5, 0], [.5, .001]]), 'F' : np.array([[.5, 0], [.5, .001]])},\n",
    "    ['clean', 'malicious'], 'internal')\n",
    "# E (slowly) sends nodes to A, B, C and F\n",
    "\n",
    "F = SFT('F', ['normal' , 'infected'], ['A', 'E'], \n",
    "    {'A': np.array([[.5, 0], [.5,.01]]), 'E' : np.array([[.5, 0], [.5, .01]])},\n",
    "    ['clean', 'malicious'], 'external')\n",
    "# F sends nodes to A and E\n",
    "\n",
    "nodes_1 = [A, B,C,D,E,F]\n",
    "net_1 = SFTNet(nodes_1)\n",
    "s0_1 = {'A': 'infected', 'B': 'normal', 'C': 'normal', 'D': 'normal', 'E': 'normal', 'F': 'normal'}"
   ]
  },
  {
   "cell_type": "code",
   "execution_count": 3,
   "metadata": {
    "collapsed": false
   },
   "outputs": [],
   "source": [
    "def draw_graph_with_rates(net, s0_in):\n",
    "    G=nx.DiGraph()\n",
    "    G.add_nodes_from(s0_in.keys())\n",
    "    edges = []\n",
    "    for node in net.node_names:\n",
    "        for onode in net.node_dict[node].sends_to:\n",
    "            edges.append((node, onode))\n",
    "    G.add_edges_from(edges)\n",
    "    theta = np.arange(0, 720, len(s0_in.keys()))\n",
    "    pos = {}\n",
    "    for i in range(len(s0_in.keys())):\n",
    "        pos[s0_in.keys()[i]] = (np.cos(i), np.sin(i))\n",
    "    pos['E'] = (0,0)\n",
    "    try :\n",
    "        pos['E1'] = (2,0)\n",
    "    except KeyError:\n",
    "        pass\n",
    "    val_map = {}\n",
    "    for (key, val) in s0_in.iteritems():\n",
    "        if val=='infected':\n",
    "            val_map[key] ='r'\n",
    "        else: \n",
    "            val_map[key] = 'g'\n",
    "    values = [val_map.get(node, 0.25) for node in G.nodes()]\n",
    "    nx.draw(G, pos=pos, node_color = values)"
   ]
  },
  {
   "cell_type": "code",
   "execution_count": 4,
   "metadata": {
    "collapsed": false
   },
   "outputs": [
    {
     "data": {
      "image/png": "[encoded data removed]",
      "text/plain": [
       "<matplotlib.figure.Figure at 0x4bd25d0>"
      ]
     },
     "metadata": {},
     "output_type": "display_data"
    }
   ],
   "source": [
    "\n",
    "draw_graph_with_rates(net_1, s0_1)\n"
   ]
  },
  {
   "cell_type": "code",
   "execution_count": 5,
   "metadata": {
    "collapsed": false
   },
   "outputs": [
    {
     "data": {
      "text/html": [
       "<table border=\"1\" class=\"dataframe\">\n",
       "  <thead>\n",
       "    <tr style=\"text-align: right;\">\n",
       "      <th></th>\n",
       "      <th></th>\n",
       "      <th>normal-clean rate</th>\n",
       "      <th>infected-clean rate</th>\n",
       "      <th>infected-malicious rate</th>\n",
       "    </tr>\n",
       "    <tr>\n",
       "      <th>sender</th>\n",
       "      <th>receiver</th>\n",
       "      <th></th>\n",
       "      <th></th>\n",
       "      <th></th>\n",
       "    </tr>\n",
       "  </thead>\n",
       "  <tbody>\n",
       "    <tr>\n",
       "      <th rowspan=\"2\" valign=\"top\">A</th>\n",
       "      <th>B</th>\n",
       "      <td> 0.5</td>\n",
       "      <td> 0.5</td>\n",
       "      <td> 0.001</td>\n",
       "    </tr>\n",
       "    <tr>\n",
       "      <th>F</th>\n",
       "      <td> 0.5</td>\n",
       "      <td> 0.5</td>\n",
       "      <td> 0.001</td>\n",
       "    </tr>\n",
       "    <tr>\n",
       "      <th>B</th>\n",
       "      <th>E</th>\n",
       "      <td> 0.5</td>\n",
       "      <td> 0.5</td>\n",
       "      <td> 0.010</td>\n",
       "    </tr>\n",
       "    <tr>\n",
       "      <th>C</th>\n",
       "      <th>E</th>\n",
       "      <td> 0.5</td>\n",
       "      <td> 0.5</td>\n",
       "      <td> 0.010</td>\n",
       "    </tr>\n",
       "    <tr>\n",
       "      <th>D</th>\n",
       "      <th>E</th>\n",
       "      <td> 0.5</td>\n",
       "      <td> 0.5</td>\n",
       "      <td> 0.010</td>\n",
       "    </tr>\n",
       "    <tr>\n",
       "      <th rowspan=\"5\" valign=\"top\">E</th>\n",
       "      <th>A</th>\n",
       "      <td> 0.5</td>\n",
       "      <td> 0.5</td>\n",
       "      <td> 0.001</td>\n",
       "    </tr>\n",
       "    <tr>\n",
       "      <th>B</th>\n",
       "      <td> 0.5</td>\n",
       "      <td> 0.5</td>\n",
       "      <td> 0.001</td>\n",
       "    </tr>\n",
       "    <tr>\n",
       "      <th>C</th>\n",
       "      <td> 0.5</td>\n",
       "      <td> 0.5</td>\n",
       "      <td> 0.001</td>\n",
       "    </tr>\n",
       "    <tr>\n",
       "      <th>D</th>\n",
       "      <td> 0.5</td>\n",
       "      <td> 0.5</td>\n",
       "      <td> 0.001</td>\n",
       "    </tr>\n",
       "    <tr>\n",
       "      <th>F</th>\n",
       "      <td> 0.5</td>\n",
       "      <td> 0.5</td>\n",
       "      <td> 0.001</td>\n",
       "    </tr>\n",
       "    <tr>\n",
       "      <th rowspan=\"2\" valign=\"top\">F</th>\n",
       "      <th>A</th>\n",
       "      <td> 0.5</td>\n",
       "      <td> 0.5</td>\n",
       "      <td> 0.010</td>\n",
       "    </tr>\n",
       "    <tr>\n",
       "      <th>E</th>\n",
       "      <td> 0.5</td>\n",
       "      <td> 0.5</td>\n",
       "      <td> 0.010</td>\n",
       "    </tr>\n",
       "  </tbody>\n",
       "</table>"
      ],
      "text/plain": [
       "<IPython.core.display.HTML at 0x7fa63888fa10>"
      ]
     },
     "execution_count": 5,
     "metadata": {},
     "output_type": "execute_result"
    }
   ],
   "source": [
    "rates = gen_trans_frame(net_1)\n",
    "ix = rates['normal-clean rate'] >0\n",
    "HTML(rates[ix].to_html())"
   ]
  },
  {
   "cell_type": "code",
   "execution_count": 1,
   "metadata": {
    "collapsed": false
   },
   "outputs": [
    {
     "data": {
      "image/png": "[encoded data removed]",
      "text/plain": [
       "<IPython.core.display.Image at 0x3973b50>"
      ]
     },
     "execution_count": 1,
     "metadata": {},
     "output_type": "execute_result"
    }
   ],
   "source": [
    "from IPython.display import Image\n",
    "Image('last_week_beginning.png')"
   ]
  },
  {
   "cell_type": "markdown",
   "metadata": {},
   "source": [
    "Last week, we saw that very close to 0, the anomaly detector might do better than our likelihood ratio detector.  However, I suggested that it was just due to statistical fluctuation.   Compare last week's ROC (above) with a new version of the ROC but instead of only 400 datasets of each, there is 8000 datasets of each case"
   ]
  },
  {
   "cell_type": "code",
   "execution_count": 14,
   "metadata": {
    "collapsed": false
   },
   "outputs": [],
   "source": [
    "\n",
    "percore = 1000\n",
    "def f1(x):\n",
    "    return get_roc_coords(x, percore, percore, net_1, s0=s0_1 , \\\n",
    "                                  T=15000, method='direct', directsamps = 2000, printsteps=False)\n",
    "from multiprocessing import Pool\n",
    "p = Pool(8)\n",
    "res = p.map(f1, list(np.random.randint(0, 10000, 8)))"
   ]
  },
  {
   "cell_type": "code",
   "execution_count": 2,
   "metadata": {
    "collapsed": false
   },
   "outputs": [
    {
     "ename": "NameError",
     "evalue": "name 'res' is not defined",
     "output_type": "error",
     "traceback": [
      "\u001b[1;31m---------------------------------------------------------------------------\u001b[0m\n\u001b[1;31mNameError\u001b[0m                                 Traceback (most recent call last)",
      "\u001b[1;32m<ipython-input-2-63316f8987c8>\u001b[0m in \u001b[0;36m<module>\u001b[1;34m()\u001b[0m\n\u001b[0;32m      1\u001b[0m \u001b[1;32mfrom\u001b[0m \u001b[0mroc\u001b[0m \u001b[1;32mimport\u001b[0m \u001b[0mhandle_parallel_res\u001b[0m\u001b[1;33m,\u001b[0m \u001b[0mplot_our_roc\u001b[0m\u001b[1;33m,\u001b[0m \u001b[0mplot_anomaly_roc\u001b[0m\u001b[1;33m\u001b[0m\u001b[0m\n\u001b[1;32m----> 2\u001b[1;33m \u001b[0mpos\u001b[0m\u001b[1;33m,\u001b[0m \u001b[0mneg\u001b[0m \u001b[1;33m=\u001b[0m \u001b[0mhandle_parallel_res\u001b[0m\u001b[1;33m(\u001b[0m\u001b[0mres\u001b[0m\u001b[1;33m)\u001b[0m\u001b[1;33m\u001b[0m\u001b[0m\n\u001b[0m\u001b[0;32m      3\u001b[0m \u001b[0mour_roc_pts\u001b[0m \u001b[1;33m=\u001b[0m \u001b[0mnp\u001b[0m\u001b[1;33m.\u001b[0m\u001b[0masarray\u001b[0m\u001b[1;33m(\u001b[0m\u001b[0mplot_our_roc\u001b[0m\u001b[1;33m(\u001b[0m\u001b[0mpos\u001b[0m\u001b[1;33m,\u001b[0m \u001b[0mneg\u001b[0m\u001b[1;33m,\u001b[0m \u001b[1;36m.01\u001b[0m\u001b[1;33m)\u001b[0m\u001b[1;33m)\u001b[0m\u001b[1;33m\u001b[0m\u001b[0m\n\u001b[0;32m      4\u001b[0m \u001b[0manom_roc_pts\u001b[0m \u001b[1;33m=\u001b[0m \u001b[0mnp\u001b[0m\u001b[1;33m.\u001b[0m\u001b[0masarray\u001b[0m\u001b[1;33m(\u001b[0m\u001b[0mplot_anomaly_roc\u001b[0m\u001b[1;33m(\u001b[0m\u001b[0mpos\u001b[0m\u001b[1;33m,\u001b[0m \u001b[0mneg\u001b[0m\u001b[1;33m,\u001b[0m \u001b[1;36m.01\u001b[0m\u001b[1;33m)\u001b[0m\u001b[1;33m)\u001b[0m\u001b[1;33m\u001b[0m\u001b[0m\n\u001b[0;32m      5\u001b[0m \u001b[0mplot\u001b[0m\u001b[1;33m(\u001b[0m\u001b[0mour_roc_pts\u001b[0m\u001b[1;33m[\u001b[0m\u001b[1;33m:\u001b[0m\u001b[1;33m,\u001b[0m\u001b[1;36m0\u001b[0m\u001b[1;33m]\u001b[0m\u001b[1;33m,\u001b[0m \u001b[0mour_roc_pts\u001b[0m\u001b[1;33m[\u001b[0m\u001b[1;33m:\u001b[0m\u001b[1;33m,\u001b[0m\u001b[1;36m1\u001b[0m\u001b[1;33m]\u001b[0m\u001b[1;33m,\u001b[0m \u001b[0mlabel\u001b[0m \u001b[1;33m=\u001b[0m\u001b[1;34m' Our likelihood ratio'\u001b[0m\u001b[1;33m)\u001b[0m\u001b[1;33m\u001b[0m\u001b[0m\n",
      "\u001b[1;31mNameError\u001b[0m: name 'res' is not defined"
     ]
    }
   ],
   "source": [
    "from roc import handle_parallel_res, plot_our_roc, plot_anomaly_roc\n",
    "pos, neg = handle_parallel_res(res)\n",
    "our_roc_pts = np.asarray(plot_our_roc(pos, neg, .01))\n",
    "anom_roc_pts = np.asarray(plot_anomaly_roc(pos, neg, .01))\n",
    "plot(our_roc_pts[:,0], our_roc_pts[:,1], label =' Our likelihood ratio')\n",
    "plot(anom_roc_pts[:,0], anom_roc_pts[:,1], label = 'anomaly detector')\n",
    "plt.xlim(0,.1)\n",
    "plt.legend(loc=0)"
   ]
  },
  {
   "cell_type": "markdown",
   "metadata": {},
   "source": [
    "# T=15000 in the above ROC, below is just a zoom out of above"
   ]
  },
  {
   "cell_type": "code",
   "execution_count": 20,
   "metadata": {
    "collapsed": false
   },
   "outputs": [
    {
     "data": {
      "text/plain": [
       "<matplotlib.legend.Legend at 0x76ae4d0>"
      ]
     },
     "execution_count": 20,
     "metadata": {},
     "output_type": "execute_result"
    },
    {
     "data": {
      "image/png": "[encoded data removed]",
      "text/plain": [
       "<matplotlib.figure.Figure at 0x67c6d10>"
      ]
     },
     "metadata": {},
     "output_type": "display_data"
    }
   ],
   "source": [
    "pos_1, neg_1 = handle_parallel_res(res)\n",
    "our_roc_pts = np.asarray(plot_our_roc(pos, neg, .01))\n",
    "anom_roc_pts = np.asarray(plot_anomaly_roc(pos, neg, .01))\n",
    "plot(our_roc_pts[:,0], our_roc_pts[:,1], label =' Our likelihood ratio')\n",
    "plot(anom_roc_pts[:,0], anom_roc_pts[:,1], label = 'anomaly detector')\n",
    "plt.xlim(0,.1)\n",
    "plt.legend(loc=0)"
   ]
  },
  {
   "cell_type": "markdown",
   "metadata": {},
   "source": [
    "# Some topology but with heterogeneous rates, T=15000"
   ]
  },
  {
   "cell_type": "code",
   "execution_count": 46,
   "metadata": {
    "collapsed": false
   },
   "outputs": [],
   "source": [
    "A = SFT('A', ['normal' , 'infected'], ['B', 'F'], \n",
    "    {'B': np.array([[.5, 0], [.5,.001]]), 'F' : np.array([[.5, 0], [.5, .001]])},\n",
    "    ['clean', 'malicious'], 'external')\n",
    "# Node A sends messages to B and F\n",
    "\n",
    "B = SFT('B', ['normal' , 'infected'], [ 'E'], \n",
    "    {'E' : np.array([[2, 0], [2, .01]])},\n",
    "    ['clean', 'malicious'], 'internal')\n",
    "# B sends messages to A, D and F\n",
    "C = SFT('C', ['normal' , 'infected'], ['E'],\n",
    "    {'E': np.array([[.25, 0], [.25,.01]])},\n",
    "    ['clean', 'malicious'], 'internal')\n",
    "# C sends messages to A, B and F\n",
    "\n",
    "\n",
    "D = SFT('D', ['normal' , 'infected'], ['E'], \n",
    "    {'E': np.array([[.8, 0], [.8,.01]])},\n",
    "    ['clean', 'malicious'], 'internal')\n",
    "# D sends nodes to A, C and F\n",
    "\n",
    "E = SFT('E', ['normal' , 'infected'], ['A', 'B', 'C', 'D', 'F'], \n",
    "    {'A': np.array([[3, 0], [3,.001]]), 'B': np.array([[5,0], [5, .001]]), \n",
    "     'C': np.array([[.5,0], [.5, .001]]), 'D' : np.array([[4, 0], [4, .001]]), 'F' : np.array([[.5, 0], [.5, .001]])},\n",
    "    ['clean', 'malicious'], 'internal')\n",
    "# E (slowly) sends nodes to A, B, C and F\n",
    "\n",
    "F = SFT('F', ['normal' , 'infected'], ['A', 'E'], \n",
    "    {'A': np.array([[10, 0], [10,.01]]), 'E' : np.array([[.9, 0], [.9, .01]])},\n",
    "    ['clean', 'malicious'], 'external')\n",
    "# F sends nodes to A and E\n",
    "\n",
    "nodes_2 = [A, B,C,D,E,F]\n",
    "net_2 = SFTNet(nodes_2)\n",
    "s0_2 = {'A': 'infected', 'B': 'normal', 'C': 'normal', 'D': 'normal', 'E': 'normal', 'F': 'normal'}"
   ]
  },
  {
   "cell_type": "code",
   "execution_count": 47,
   "metadata": {
    "collapsed": false
   },
   "outputs": [
    {
     "data": {
      "text/html": [
       "<table border=\"1\" class=\"dataframe\">\n",
       "  <thead>\n",
       "    <tr style=\"text-align: right;\">\n",
       "      <th></th>\n",
       "      <th></th>\n",
       "      <th>normal-clean rate</th>\n",
       "      <th>infected-clean rate</th>\n",
       "      <th>infected-malicious rate</th>\n",
       "    </tr>\n",
       "    <tr>\n",
       "      <th>sender</th>\n",
       "      <th>receiver</th>\n",
       "      <th></th>\n",
       "      <th></th>\n",
       "      <th></th>\n",
       "    </tr>\n",
       "  </thead>\n",
       "  <tbody>\n",
       "    <tr>\n",
       "      <th rowspan=\"2\" valign=\"top\">A</th>\n",
       "      <th>B</th>\n",
       "      <td>  0.50</td>\n",
       "      <td>  0.50</td>\n",
       "      <td> 0.001</td>\n",
       "    </tr>\n",
       "    <tr>\n",
       "      <th>F</th>\n",
       "      <td>  0.50</td>\n",
       "      <td>  0.50</td>\n",
       "      <td> 0.001</td>\n",
       "    </tr>\n",
       "    <tr>\n",
       "      <th>B</th>\n",
       "      <th>E</th>\n",
       "      <td>  2.00</td>\n",
       "      <td>  2.00</td>\n",
       "      <td> 0.010</td>\n",
       "    </tr>\n",
       "    <tr>\n",
       "      <th>C</th>\n",
       "      <th>E</th>\n",
       "      <td>  0.25</td>\n",
       "      <td>  0.25</td>\n",
       "      <td> 0.010</td>\n",
       "    </tr>\n",
       "    <tr>\n",
       "      <th>D</th>\n",
       "      <th>E</th>\n",
       "      <td>  0.80</td>\n",
       "      <td>  0.80</td>\n",
       "      <td> 0.010</td>\n",
       "    </tr>\n",
       "    <tr>\n",
       "      <th rowspan=\"5\" valign=\"top\">E</th>\n",
       "      <th>A</th>\n",
       "      <td>  3.00</td>\n",
       "      <td>  3.00</td>\n",
       "      <td> 0.001</td>\n",
       "    </tr>\n",
       "    <tr>\n",
       "      <th>B</th>\n",
       "      <td>  5.00</td>\n",
       "      <td>  5.00</td>\n",
       "      <td> 0.001</td>\n",
       "    </tr>\n",
       "    <tr>\n",
       "      <th>C</th>\n",
       "      <td>  0.50</td>\n",
       "      <td>  0.50</td>\n",
       "      <td> 0.001</td>\n",
       "    </tr>\n",
       "    <tr>\n",
       "      <th>D</th>\n",
       "      <td>  4.00</td>\n",
       "      <td>  4.00</td>\n",
       "      <td> 0.001</td>\n",
       "    </tr>\n",
       "    <tr>\n",
       "      <th>F</th>\n",
       "      <td>  0.50</td>\n",
       "      <td>  0.50</td>\n",
       "      <td> 0.001</td>\n",
       "    </tr>\n",
       "    <tr>\n",
       "      <th rowspan=\"2\" valign=\"top\">F</th>\n",
       "      <th>A</th>\n",
       "      <td> 10.00</td>\n",
       "      <td> 10.00</td>\n",
       "      <td> 0.010</td>\n",
       "    </tr>\n",
       "    <tr>\n",
       "      <th>E</th>\n",
       "      <td>  0.90</td>\n",
       "      <td>  0.90</td>\n",
       "      <td> 0.010</td>\n",
       "    </tr>\n",
       "  </tbody>\n",
       "</table>"
      ],
      "text/plain": [
       "<IPython.core.display.HTML at 0x6bde510>"
      ]
     },
     "execution_count": 47,
     "metadata": {},
     "output_type": "execute_result"
    }
   ],
   "source": [
    "rates = gen_trans_frame(net_2)\n",
    "ix = rates['normal-clean rate'] >0\n",
    "HTML(rates[ix].to_html())"
   ]
  },
  {
   "cell_type": "code",
   "execution_count": 68,
   "metadata": {
    "collapsed": false
   },
   "outputs": [],
   "source": [
    "percore = 50\n",
    "net_input = net_2\n",
    "def f1(x):\n",
    "    return get_roc_coords(x, percore, percore, net_input, s0=s0_2 , \\\n",
    "                                  T=15000, method='direct', printsteps=False)\n",
    "from multiprocessing import Pool\n",
    "p = Pool(8)\n",
    "results_2 = p.map(f1, list(np.random.randint(0, 10000, 8)))"
   ]
  },
  {
   "cell_type": "code",
   "execution_count": 73,
   "metadata": {
    "collapsed": false
   },
   "outputs": [
    {
     "data": {
      "text/plain": [
       "<matplotlib.legend.Legend at 0x87725d0>"
      ]
     },
     "execution_count": 73,
     "metadata": {},
     "output_type": "execute_result"
    },
    {
     "data": {
      "image/png": "[encoded data removed]",
      "text/plain": [
       "<matplotlib.figure.Figure at 0x7389d90>"
      ]
     },
     "metadata": {},
     "output_type": "display_data"
    }
   ],
   "source": [
    "pos_2, neg_2 = handle_parallel_res(results_2)\n",
    "our_roc_pts = np.asarray(plot_our_roc(pos_2, neg_2, .01))\n",
    "anom_roc_pts = np.asarray(plot_anomaly_roc(pos_2, neg_2, .01))\n",
    "plot(our_roc_pts[:,0], our_roc_pts[:,1], label =' Our likelihood ratio')\n",
    "plot(anom_roc_pts[:,0], anom_roc_pts[:,1], label = 'anomaly detector')\n",
    "plt.xlim(0,.25)\n",
    "plt.legend(loc=0)"
   ]
  },
  {
   "cell_type": "markdown",
   "metadata": {},
   "source": [
    "# How about with a much shorter T (8000 instead of 15000)"
   ]
  },
  {
   "cell_type": "code",
   "execution_count": 74,
   "metadata": {
    "collapsed": false
   },
   "outputs": [],
   "source": [
    "percore = 50\n",
    "net_input = net_2\n",
    "def f1(x):\n",
    "    return get_roc_coords(x, percore, percore, net_input, s0=s0_2 , \\\n",
    "                                  T=8000, method='direct', printsteps=False)\n",
    "from multiprocessing import Pool\n",
    "p = Pool(8)\n",
    "results_3 = p.map(f1, list(np.random.randint(0, 10000, 8)))"
   ]
  },
  {
   "cell_type": "code",
   "execution_count": 76,
   "metadata": {
    "collapsed": false
   },
   "outputs": [
    {
     "data": {
      "text/plain": [
       "<matplotlib.legend.Legend at 0x7ae7510>"
      ]
     },
     "execution_count": 76,
     "metadata": {},
     "output_type": "execute_result"
    },
    {
     "data": {
      "image/png": "[encoded data removed]",
      "text/plain": [
       "<matplotlib.figure.Figure at 0x7b5d290>"
      ]
     },
     "metadata": {},
     "output_type": "display_data"
    }
   ],
   "source": [
    "pos_3, neg_3 = handle_parallel_res(results_3)\n",
    "our_roc_pts = np.asarray(plot_our_roc(pos_3, neg_3, .01))\n",
    "anom_roc_pts = np.asarray(plot_anomaly_roc(pos_3, neg_3, .01))\n",
    "plot(our_roc_pts[:,0], our_roc_pts[:,1], label =' Our likelihood ratio')\n",
    "plot(anom_roc_pts[:,0], anom_roc_pts[:,1], label = 'anomaly detector')\n",
    "plt.xlim(0,.25)\n",
    "plt.legend(loc=0)"
   ]
  },
  {
   "cell_type": "markdown",
   "metadata": {},
   "source": [
    "# A small 2 star net, T=2000"
   ]
  },
  {
   "cell_type": "code",
   "execution_count": 3,
   "metadata": {
    "collapsed": false
   },
   "outputs": [],
   "source": [
    "A = SFT('A', ['normal' , 'infected'], ['B', 'F'], \n",
    "    {'B': np.array([[.5, 0], [.5,.01]]), 'F' : np.array([[.5, 0], [.5, .01]])},\n",
    "    ['clean', 'malicious'], 'external')\n",
    "\n",
    "\n",
    "B = SFT('B', ['normal' , 'infected'], [ 'E'], \n",
    "    {'E' : np.array([[.25, 0], [.25, .01]])},\n",
    "    ['clean', 'malicious'], 'internal')\n",
    "\n",
    "C = SFT('C', ['normal' , 'infected'], ['E'],\n",
    "    {'E': np.array([[.1, 0], [.1,.01]])},\n",
    "    ['clean', 'malicious'], 'internal')\n",
    "# C sends messages to A, B and F\n",
    "\n",
    "\n",
    "D = SFT('D', ['normal' , 'infected'], ['E'], \n",
    "    {'E': np.array([[2, 0], [2,.01]])},\n",
    "    ['clean', 'malicious'], 'internal')\n",
    "# D sends nodes to A, C and F\n",
    "\n",
    "E = SFT('E', ['normal' , 'infected'], ['A', 'B', 'C', 'D', 'F', 'E1'], \n",
    "    {'A': np.array([[.5, 0], [.5,.001]]), 'B': np.array([[.5,0], [.5, .001]]), \n",
    "     'C': np.array([[.5,0], [.5, .001]]), 'D' : np.array([[.5, 0], [.5, .001]]), \n",
    "     'F' : np.array([[.5, 0], [.5, .001]]),\n",
    "      'E1': np.array([[.01,0],[.01, .001]])},\n",
    "    ['clean', 'malicious'], 'internal')\n",
    "# E (slowly) sends nodes to A, B, C and F\n",
    "\n",
    "F = SFT('F', ['normal' , 'infected'], ['A1', 'E'], \n",
    "    {'A1': np.array([[.01, 0], [.01,.01]]), 'E' : np.array([[.25, 0], [.25, .01]])},\n",
    "    ['clean', 'malicious'], 'external')\n",
    "# F sends nodes to A and E\n",
    "\n",
    "A1 = SFT('A1', ['normal' , 'infected'], ['B1', 'F1'], \n",
    "    {'B1': np.array([[.5, 0], [.5,.01]]), 'F1' : np.array([[.5, 0], [.5, .01]])},\n",
    "    ['clean', 'malicious'], 'external')\n",
    "# Node A sends messages to B and F\n",
    "\n",
    "B1 = SFT('B1', ['normal' , 'infected'], [ 'E1'], \n",
    "    {'E1' : np.array([[.5, 0], [.5, .01]])},\n",
    "    ['clean', 'malicious'], 'internal')\n",
    "# B sends messages to A, D and F\n",
    "C1 = SFT('C1', ['normal' , 'infected'], ['D1', 'E1'],\n",
    "    {'D1': np.array([[.2, 0], [.2,.04]]),\n",
    "     'E1': np.array([[.8, 0], [.8,.02]])},\n",
    "    ['clean', 'malicious'], 'internal')\n",
    "# C sends messages to A, B and F\n",
    "\n",
    "\n",
    "D1 = SFT('D1', ['normal' , 'infected'], ['F'], \n",
    "    {'F': np.array([[.5, 0], [.5,.01]])},\n",
    "    ['clean', 'malicious'], 'internal')\n",
    "# D sends nodes to A, C and F\n",
    "\n",
    "E1 = SFT('E1', ['normal' , 'infected'], ['A1', 'B1', 'C1', 'D1', 'F1'], \n",
    "    {'A1': np.array([[.5, 0], [.5,.001]]), 'B1': np.array([[.5,0], [.5, .001]]), \n",
    "     'C1': np.array([[.5,0], [.5, .001]]), 'D1' : np.array([[.5, 0], [.5, .001]]), 'F1' : np.array([[.5, 0], [.5, .001]])},\n",
    "    ['clean', 'malicious'], 'internal')\n",
    "# E (slowly) sends nodes to A, B, C and F\n",
    "\n",
    "F1 = SFT('F1', ['normal' , 'infected'], ['C', 'E1'], \n",
    "    {'C': np.array([[1, 0], [1,.001]]), 'E1' : np.array([[1, 0], [1, .001]])},\n",
    "    ['clean', 'malicious'], 'external')\n",
    "# F sends nodes to A and E\n",
    "\n",
    "nodes_4 = [A, B,C,D,E,F, A1, B1,C1,D1,E1,F1]\n",
    "net_4 = SFTNet(nodes_4)\n",
    "s0_4 = {'A': 'infected', 'B': 'normal', 'C': 'normal', 'D': 'normal', 'E': 'normal', 'F': 'normal', \n",
    "      'A1': 'normal', 'B1': 'normal', 'C1': 'normal', 'D1': 'normal', 'E1': 'normal', 'F1': 'normal'}"
   ]
  },
  {
   "cell_type": "code",
   "execution_count": 144,
   "metadata": {
    "collapsed": false
   },
   "outputs": [
    {
     "data": {
      "image/png": "[encoded data removed]",
      "text/plain": [
       "<matplotlib.figure.Figure at 0x647f4d0>"
      ]
     },
     "metadata": {},
     "output_type": "display_data"
    }
   ],
   "source": [
    "draw_graph_with_rates(net_4, s0_4)"
   ]
  },
  {
   "cell_type": "code",
   "execution_count": 145,
   "metadata": {
    "collapsed": false
   },
   "outputs": [
    {
     "data": {
      "text/html": [
       "<table border=\"1\" class=\"dataframe\">\n",
       "  <thead>\n",
       "    <tr style=\"text-align: right;\">\n",
       "      <th></th>\n",
       "      <th></th>\n",
       "      <th>normal-clean rate</th>\n",
       "      <th>infected-clean rate</th>\n",
       "      <th>infected-malicious rate</th>\n",
       "    </tr>\n",
       "    <tr>\n",
       "      <th>sender</th>\n",
       "      <th>receiver</th>\n",
       "      <th></th>\n",
       "      <th></th>\n",
       "      <th></th>\n",
       "    </tr>\n",
       "  </thead>\n",
       "  <tbody>\n",
       "    <tr>\n",
       "      <th rowspan=\"2\" valign=\"top\">A</th>\n",
       "      <th>B</th>\n",
       "      <td> 0.50</td>\n",
       "      <td> 0.50</td>\n",
       "      <td> 0.010</td>\n",
       "    </tr>\n",
       "    <tr>\n",
       "      <th>F</th>\n",
       "      <td> 0.50</td>\n",
       "      <td> 0.50</td>\n",
       "      <td> 0.010</td>\n",
       "    </tr>\n",
       "    <tr>\n",
       "      <th>B</th>\n",
       "      <th>E</th>\n",
       "      <td> 0.25</td>\n",
       "      <td> 0.25</td>\n",
       "      <td> 0.010</td>\n",
       "    </tr>\n",
       "    <tr>\n",
       "      <th>C</th>\n",
       "      <th>E</th>\n",
       "      <td> 0.10</td>\n",
       "      <td> 0.10</td>\n",
       "      <td> 0.010</td>\n",
       "    </tr>\n",
       "    <tr>\n",
       "      <th>D</th>\n",
       "      <th>E</th>\n",
       "      <td> 2.00</td>\n",
       "      <td> 2.00</td>\n",
       "      <td> 0.010</td>\n",
       "    </tr>\n",
       "    <tr>\n",
       "      <th rowspan=\"6\" valign=\"top\">E</th>\n",
       "      <th>A</th>\n",
       "      <td> 0.50</td>\n",
       "      <td> 0.50</td>\n",
       "      <td> 0.001</td>\n",
       "    </tr>\n",
       "    <tr>\n",
       "      <th>B</th>\n",
       "      <td> 0.50</td>\n",
       "      <td> 0.50</td>\n",
       "      <td> 0.001</td>\n",
       "    </tr>\n",
       "    <tr>\n",
       "      <th>C</th>\n",
       "      <td> 0.50</td>\n",
       "      <td> 0.50</td>\n",
       "      <td> 0.001</td>\n",
       "    </tr>\n",
       "    <tr>\n",
       "      <th>D</th>\n",
       "      <td> 0.50</td>\n",
       "      <td> 0.50</td>\n",
       "      <td> 0.001</td>\n",
       "    </tr>\n",
       "    <tr>\n",
       "      <th>F</th>\n",
       "      <td> 0.50</td>\n",
       "      <td> 0.50</td>\n",
       "      <td> 0.001</td>\n",
       "    </tr>\n",
       "    <tr>\n",
       "      <th>E1</th>\n",
       "      <td> 0.01</td>\n",
       "      <td> 0.01</td>\n",
       "      <td> 0.001</td>\n",
       "    </tr>\n",
       "    <tr>\n",
       "      <th rowspan=\"2\" valign=\"top\">F</th>\n",
       "      <th>E</th>\n",
       "      <td> 0.25</td>\n",
       "      <td> 0.25</td>\n",
       "      <td> 0.010</td>\n",
       "    </tr>\n",
       "    <tr>\n",
       "      <th>A1</th>\n",
       "      <td> 0.01</td>\n",
       "      <td> 0.01</td>\n",
       "      <td> 0.010</td>\n",
       "    </tr>\n",
       "    <tr>\n",
       "      <th rowspan=\"2\" valign=\"top\">A1</th>\n",
       "      <th>B1</th>\n",
       "      <td> 0.50</td>\n",
       "      <td> 0.50</td>\n",
       "      <td> 0.010</td>\n",
       "    </tr>\n",
       "    <tr>\n",
       "      <th>F1</th>\n",
       "      <td> 0.50</td>\n",
       "      <td> 0.50</td>\n",
       "      <td> 0.010</td>\n",
       "    </tr>\n",
       "    <tr>\n",
       "      <th>B1</th>\n",
       "      <th>E1</th>\n",
       "      <td> 0.50</td>\n",
       "      <td> 0.50</td>\n",
       "      <td> 0.010</td>\n",
       "    </tr>\n",
       "    <tr>\n",
       "      <th rowspan=\"2\" valign=\"top\">C1</th>\n",
       "      <th>D1</th>\n",
       "      <td> 0.20</td>\n",
       "      <td> 0.20</td>\n",
       "      <td> 0.040</td>\n",
       "    </tr>\n",
       "    <tr>\n",
       "      <th>E1</th>\n",
       "      <td> 0.80</td>\n",
       "      <td> 0.80</td>\n",
       "      <td> 0.020</td>\n",
       "    </tr>\n",
       "    <tr>\n",
       "      <th>D1</th>\n",
       "      <th>F</th>\n",
       "      <td> 0.50</td>\n",
       "      <td> 0.50</td>\n",
       "      <td> 0.010</td>\n",
       "    </tr>\n",
       "    <tr>\n",
       "      <th rowspan=\"5\" valign=\"top\">E1</th>\n",
       "      <th>A1</th>\n",
       "      <td> 0.50</td>\n",
       "      <td> 0.50</td>\n",
       "      <td> 0.001</td>\n",
       "    </tr>\n",
       "    <tr>\n",
       "      <th>B1</th>\n",
       "      <td> 0.50</td>\n",
       "      <td> 0.50</td>\n",
       "      <td> 0.001</td>\n",
       "    </tr>\n",
       "    <tr>\n",
       "      <th>C1</th>\n",
       "      <td> 0.50</td>\n",
       "      <td> 0.50</td>\n",
       "      <td> 0.001</td>\n",
       "    </tr>\n",
       "    <tr>\n",
       "      <th>D1</th>\n",
       "      <td> 0.50</td>\n",
       "      <td> 0.50</td>\n",
       "      <td> 0.001</td>\n",
       "    </tr>\n",
       "    <tr>\n",
       "      <th>F1</th>\n",
       "      <td> 0.50</td>\n",
       "      <td> 0.50</td>\n",
       "      <td> 0.001</td>\n",
       "    </tr>\n",
       "    <tr>\n",
       "      <th rowspan=\"2\" valign=\"top\">F1</th>\n",
       "      <th>C</th>\n",
       "      <td> 1.00</td>\n",
       "      <td> 1.00</td>\n",
       "      <td> 0.001</td>\n",
       "    </tr>\n",
       "    <tr>\n",
       "      <th>E1</th>\n",
       "      <td> 1.00</td>\n",
       "      <td> 1.00</td>\n",
       "      <td> 0.001</td>\n",
       "    </tr>\n",
       "  </tbody>\n",
       "</table>"
      ],
      "text/plain": [
       "<IPython.core.display.HTML at 0x45eb7ad0>"
      ]
     },
     "execution_count": 145,
     "metadata": {},
     "output_type": "execute_result"
    }
   ],
   "source": [
    "rates = gen_trans_frame(net_4)\n",
    "ix = rates['normal-clean rate'] >0\n",
    "HTML(rates[ix].to_html())"
   ]
  },
  {
   "cell_type": "code",
   "execution_count": 146,
   "metadata": {
    "collapsed": false
   },
   "outputs": [],
   "source": [
    "percore = 50\n",
    "net_input = net_4\n",
    "s_input = s0_4\n",
    "def f1(x):\n",
    "    return get_roc_coords(x, percore, percore, net_input, s0=s_input , \\\n",
    "                                  T=2000, method='direct', printsteps=False)\n",
    "from multiprocessing import Pool\n",
    "p = Pool(8)\n",
    "results_ss = p.map(f1, list(np.random.randint(0, 10000, 8)))"
   ]
  },
  {
   "cell_type": "code",
   "execution_count": 147,
   "metadata": {
    "collapsed": false
   },
   "outputs": [
    {
     "data": {
      "text/plain": [
       "<matplotlib.legend.Legend at 0xe0905790>"
      ]
     },
     "execution_count": 147,
     "metadata": {},
     "output_type": "execute_result"
    },
    {
     "data": {
      "image/png": "[encoded data removed]",
      "text/plain": [
       "<matplotlib.figure.Figure at 0x45ebbe50>"
      ]
     },
     "metadata": {},
     "output_type": "display_data"
    }
   ],
   "source": [
    "pos_2, neg_2 = handle_parallel_res(results_ss)\n",
    "our_roc_pts = np.asarray(plot_our_roc(pos_2, neg_2, .01))\n",
    "anom_roc_pts = np.asarray(plot_anomaly_roc(pos_2, neg_2, .01))\n",
    "plot(our_roc_pts[:,0], our_roc_pts[:,1], label =' Our likelihood ratio')\n",
    "plot(anom_roc_pts[:,0], anom_roc_pts[:,1], label = 'anomaly detector')\n",
    "plt.xlim(0,1)\n",
    "plt.legend(loc=0)"
   ]
  },
  {
   "cell_type": "markdown",
   "metadata": {},
   "source": [
    "# Same net, T=1000"
   ]
  },
  {
   "cell_type": "code",
   "execution_count": 4,
   "metadata": {
    "collapsed": false
   },
   "outputs": [],
   "source": [
    "percore = 1000\n",
    "net_input = net_4\n",
    "s_input = s0_4\n",
    "def f1(x):\n",
    "    return get_roc_coords(x, percore, percore, net_input, s0=s_input , \\\n",
    "                                  T=1000, method='direct', directsamps=7000, printsteps=False)\n",
    "from multiprocessing import Pool\n",
    "p = Pool(8)\n",
    "results_5 = p.map(f1, list(np.random.randint(0, 10000, 8)))"
   ]
  },
  {
   "cell_type": "code",
   "execution_count": 6,
   "metadata": {
    "collapsed": false
   },
   "outputs": [
    {
     "data": {
      "text/plain": [
       "<matplotlib.legend.Legend at 0x7f4e142449d0>"
      ]
     },
     "execution_count": 6,
     "metadata": {},
     "output_type": "execute_result"
    },
    {
     "data": {
      "image/png": "[encoded data removed]",
      "text/plain": [
       "<matplotlib.figure.Figure at 0x57725d0>"
      ]
     },
     "metadata": {},
     "output_type": "display_data"
    }
   ],
   "source": [
    "pos_5, neg_5 = handle_parallel_res(results_5)\n",
    "our_roc_pts = np.asarray(plot_our_roc(pos_5, neg_5, .01))\n",
    "anom_roc_pts = np.asarray(plot_anomaly_roc(pos_5, neg_5, .01))\n",
    "plot(our_roc_pts[:,0], our_roc_pts[:,1], label =' Our likelihood ratio')\n",
    "plot(anom_roc_pts[:,0], anom_roc_pts[:,1], label = 'anomaly detector')\n",
    "plt.xlim(0,1)\n",
    "plt.legend(loc=0)"
   ]
  },
  {
   "cell_type": "code",
   "execution_count": 5,
   "metadata": {
    "collapsed": false
   },
   "outputs": [
    {
     "name": "stdout",
     "output_type": "stream",
     "text": [
      "hello\n"
     ]
    }
   ],
   "source": [
    "print 'hello'"
   ]
  },
  {
   "cell_type": "markdown",
   "metadata": {},
   "source": [
    "Here we see a case where the simple anomaly detector does better.  Right now, I see three possible reasons for poor performance with small T:\n",
    "\n",
    "* The variance in the MCMC outweighs the variance in the likelihood ratio\n",
    "* T is too small to notice any anomalies.  i.e. infected nodes do not fire fast enough in such a short period of time.  \n",
    "* The LR ratio is bias for small T\n",
    "\n",
    "Of course, there can be others I'm not thinking of."
   ]
  },
  {
   "cell_type": "markdown",
   "metadata": {},
   "source": [
    "# A caterpillar net, T=5000"
   ]
  },
  {
   "cell_type": "code",
   "execution_count": 109,
   "metadata": {
    "collapsed": false
   },
   "outputs": [],
   "source": [
    "nn = ['A', 'B', 'C', 'D', 'E', 'F', 'G', 'H', 'I', 'J', 'K', 'L', 'M']\n"
   ]
  },
  {
   "cell_type": "code",
   "execution_count": 115,
   "metadata": {
    "collapsed": false
   },
   "outputs": [],
   "source": [
    "nodes = []\n",
    "for nd in nn[::3]:\n",
    "    if nd != 'M':\n",
    "        ix = nn.index(nd)\n",
    "        cr1, cr2, cr3 = np.random.random(size=3)\n",
    "        m1, m2, m3 = np.random.random(size=3)/500.\n",
    "        newnd = SFT(nd, ['normal' , 'infected'], [nn[ix+1], nn[ix+2], nn[ix+3]], \n",
    "        {nn[ix+1]: np.array([[cr1, 0], [cr1, m1]]), nn[ix+2] : np.array([[cr2, 0], [cr2, m2]]),\n",
    "         nn[ix+3] : np.array([[cr3, 0], [cr3, m3]])},\n",
    "        ['clean', 'malicious'], 'external')\n",
    "        nodes.append(newnd)\n",
    "    else:\n",
    "        newnd = SFT(nd, ['normal' , 'infected'], [], \n",
    "        {},\n",
    "        ['clean', 'malicious'], 'external')\n",
    "        nodes.append(newnd)\n",
    "    \n",
    "for nd in nn[1::3]:\n",
    "    if nd != 'L' and nd != 'K':\n",
    "        ix = nn.index(nd)\n",
    "        cr1, cr2 = np.random.random(size=2)\n",
    "        m1, m2 = np.random.random(size=2)/100.\n",
    "        newnd = SFT(nd, ['normal' , 'infected'], [nn[ix+3], nn[ix+5]], \n",
    "            {nn[ix+3]: np.array([[cr1, 0], [cr1,m1]]), nn[ix+5] : np.array([[cr2, 0], [cr2, m2]])},\n",
    "            ['clean', 'malicious'], 'external')\n",
    "        nodes.append(newnd)\n",
    "    else:\n",
    "        newnd = SFT(nd, ['normal' , 'infected'], [], \n",
    "        {},\n",
    "        ['clean', 'malicious'], 'external')\n",
    "        nodes.append(newnd)\n",
    "\n",
    "for nd in nn[2::3]:\n",
    "    if nd != 'L' and nd != 'K':\n",
    "        ix = nn.index(nd)\n",
    "        cr1, cr2 = np.random.random(size=2)\n",
    "        m1, m2 = np.random.random(size=2)/100.\n",
    "        newnd = SFT(nd, ['normal' , 'infected'], [nn[ix+3], nn[ix+4]], \n",
    "            {nn[ix+3]: np.array([[cr1, 0], [cr1,m1]]), nn[ix+4] : np.array([[cr2, 0], [cr2, m2]])},\n",
    "            ['clean', 'malicious'], 'external')\n",
    "        nodes.append(newnd)\n",
    "    else:\n",
    "            newnd = SFT(nd, ['normal' , 'infected'], [], \n",
    "            {},\n",
    "            ['clean', 'malicious'], 'external')\n",
    "            nodes.append(newnd)\n",
    "\n",
    "net_big = SFTNet(nodes)\n",
    "s0_big = dict(zip(nn, ['normal']*len(nn)))\n",
    "s0_big['A']= 'infected'"
   ]
  },
  {
   "cell_type": "code",
   "execution_count": 116,
   "metadata": {
    "collapsed": false
   },
   "outputs": [],
   "source": [
    "def draw_graph(net, s0_in):\n",
    "    G=nx.DiGraph()\n",
    "    G.add_nodes_from(s0_in.keys())\n",
    "    edges = []\n",
    "    for node in net.node_names:\n",
    "        for onode in net.node_dict[node].sends_to:\n",
    "            edges.append((node, onode))\n",
    "    G.add_edges_from(edges)\n",
    "    pos = nx.spring_layout(G, iterations=500)\n",
    "    val_map = {}\n",
    "    for (key, val) in s0_in.iteritems():\n",
    "        if val=='infected':\n",
    "            val_map[key] ='r'\n",
    "        else: \n",
    "            val_map[key] = 'g'\n",
    "    values = [val_map.get(node, 0.25) for node in G.nodes()]\n",
    "    nx.draw(G, pos=pos, node_color = values)"
   ]
  },
  {
   "cell_type": "code",
   "execution_count": 124,
   "metadata": {
    "collapsed": false
   },
   "outputs": [
    {
     "data": {
      "image/png": "[encoded data removed]",
      "text/plain": [
       "<matplotlib.figure.Figure at 0xe0837410>"
      ]
     },
     "metadata": {},
     "output_type": "display_data"
    }
   ],
   "source": [
    "draw_graph(net_big, s0_big)"
   ]
  },
  {
   "cell_type": "code",
   "execution_count": 131,
   "metadata": {
    "collapsed": false
   },
   "outputs": [
    {
     "data": {
      "text/html": [
       "<table border=\"1\" class=\"dataframe\">\n",
       "  <thead>\n",
       "    <tr style=\"text-align: right;\">\n",
       "      <th></th>\n",
       "      <th></th>\n",
       "      <th>normal-clean rate</th>\n",
       "      <th>infected-clean rate</th>\n",
       "      <th>infected-malicious rate</th>\n",
       "    </tr>\n",
       "    <tr>\n",
       "      <th>sender</th>\n",
       "      <th>receiver</th>\n",
       "      <th></th>\n",
       "      <th></th>\n",
       "      <th></th>\n",
       "    </tr>\n",
       "  </thead>\n",
       "  <tbody>\n",
       "    <tr>\n",
       "      <th rowspan=\"3\" valign=\"top\">A</th>\n",
       "      <th>D</th>\n",
       "      <td> 0.754773</td>\n",
       "      <td> 0.754773</td>\n",
       "      <td> 0.001511</td>\n",
       "    </tr>\n",
       "    <tr>\n",
       "      <th>B</th>\n",
       "      <td> 0.148665</td>\n",
       "      <td> 0.148665</td>\n",
       "      <td> 0.001837</td>\n",
       "    </tr>\n",
       "    <tr>\n",
       "      <th>C</th>\n",
       "      <td> 0.221422</td>\n",
       "      <td> 0.221422</td>\n",
       "      <td> 0.001684</td>\n",
       "    </tr>\n",
       "    <tr>\n",
       "      <th rowspan=\"3\" valign=\"top\">D</th>\n",
       "      <th>G</th>\n",
       "      <td> 0.049383</td>\n",
       "      <td> 0.049383</td>\n",
       "      <td> 0.000152</td>\n",
       "    </tr>\n",
       "    <tr>\n",
       "      <th>E</th>\n",
       "      <td> 0.753333</td>\n",
       "      <td> 0.753333</td>\n",
       "      <td> 0.001400</td>\n",
       "    </tr>\n",
       "    <tr>\n",
       "      <th>F</th>\n",
       "      <td> 0.184939</td>\n",
       "      <td> 0.184939</td>\n",
       "      <td> 0.000994</td>\n",
       "    </tr>\n",
       "    <tr>\n",
       "      <th rowspan=\"3\" valign=\"top\">G</th>\n",
       "      <th>J</th>\n",
       "      <td> 0.004919</td>\n",
       "      <td> 0.004919</td>\n",
       "      <td> 0.000450</td>\n",
       "    </tr>\n",
       "    <tr>\n",
       "      <th>H</th>\n",
       "      <td> 0.922456</td>\n",
       "      <td> 0.922456</td>\n",
       "      <td> 0.001887</td>\n",
       "    </tr>\n",
       "    <tr>\n",
       "      <th>I</th>\n",
       "      <td> 0.670027</td>\n",
       "      <td> 0.670027</td>\n",
       "      <td> 0.000536</td>\n",
       "    </tr>\n",
       "    <tr>\n",
       "      <th rowspan=\"3\" valign=\"top\">J</th>\n",
       "      <th>M</th>\n",
       "      <td> 0.594727</td>\n",
       "      <td> 0.594727</td>\n",
       "      <td> 0.001763</td>\n",
       "    </tr>\n",
       "    <tr>\n",
       "      <th>K</th>\n",
       "      <td> 0.879882</td>\n",
       "      <td> 0.879882</td>\n",
       "      <td> 0.000223</td>\n",
       "    </tr>\n",
       "    <tr>\n",
       "      <th>L</th>\n",
       "      <td> 0.797729</td>\n",
       "      <td> 0.797729</td>\n",
       "      <td> 0.001729</td>\n",
       "    </tr>\n",
       "    <tr>\n",
       "      <th rowspan=\"2\" valign=\"top\">B</th>\n",
       "      <th>G</th>\n",
       "      <td> 0.287331</td>\n",
       "      <td> 0.287331</td>\n",
       "      <td> 0.001103</td>\n",
       "    </tr>\n",
       "    <tr>\n",
       "      <th>E</th>\n",
       "      <td> 0.140842</td>\n",
       "      <td> 0.140842</td>\n",
       "      <td> 0.004721</td>\n",
       "    </tr>\n",
       "    <tr>\n",
       "      <th rowspan=\"2\" valign=\"top\">E</th>\n",
       "      <th>J</th>\n",
       "      <td> 0.058799</td>\n",
       "      <td> 0.058799</td>\n",
       "      <td> 0.001164</td>\n",
       "    </tr>\n",
       "    <tr>\n",
       "      <th>H</th>\n",
       "      <td> 0.683171</td>\n",
       "      <td> 0.683171</td>\n",
       "      <td> 0.006061</td>\n",
       "    </tr>\n",
       "    <tr>\n",
       "      <th rowspan=\"2\" valign=\"top\">H</th>\n",
       "      <th>M</th>\n",
       "      <td> 0.807403</td>\n",
       "      <td> 0.807403</td>\n",
       "      <td> 0.009603</td>\n",
       "    </tr>\n",
       "    <tr>\n",
       "      <th>K</th>\n",
       "      <td> 0.299788</td>\n",
       "      <td> 0.299788</td>\n",
       "      <td> 0.005422</td>\n",
       "    </tr>\n",
       "    <tr>\n",
       "      <th rowspan=\"2\" valign=\"top\">C</th>\n",
       "      <th>G</th>\n",
       "      <td> 0.301966</td>\n",
       "      <td> 0.301966</td>\n",
       "      <td> 0.000373</td>\n",
       "    </tr>\n",
       "    <tr>\n",
       "      <th>F</th>\n",
       "      <td> 0.311788</td>\n",
       "      <td> 0.311788</td>\n",
       "      <td> 0.001811</td>\n",
       "    </tr>\n",
       "    <tr>\n",
       "      <th rowspan=\"2\" valign=\"top\">F</th>\n",
       "      <th>J</th>\n",
       "      <td> 0.195092</td>\n",
       "      <td> 0.195092</td>\n",
       "      <td> 0.007003</td>\n",
       "    </tr>\n",
       "    <tr>\n",
       "      <th>I</th>\n",
       "      <td> 0.203447</td>\n",
       "      <td> 0.203447</td>\n",
       "      <td> 0.002700</td>\n",
       "    </tr>\n",
       "    <tr>\n",
       "      <th rowspan=\"2\" valign=\"top\">I</th>\n",
       "      <th>M</th>\n",
       "      <td> 0.323383</td>\n",
       "      <td> 0.323383</td>\n",
       "      <td> 0.004397</td>\n",
       "    </tr>\n",
       "    <tr>\n",
       "      <th>L</th>\n",
       "      <td> 0.040817</td>\n",
       "      <td> 0.040817</td>\n",
       "      <td> 0.008410</td>\n",
       "    </tr>\n",
       "  </tbody>\n",
       "</table>"
      ],
      "text/plain": [
       "<IPython.core.display.HTML at 0x7f67c92939d0>"
      ]
     },
     "execution_count": 131,
     "metadata": {},
     "output_type": "execute_result"
    }
   ],
   "source": [
    "rates = gen_trans_frame(net_big)\n",
    "ix = rates['normal-clean rate'] >0\n",
    "HTML(rates[ix].to_html())"
   ]
  },
  {
   "cell_type": "code",
   "execution_count": 132,
   "metadata": {
    "collapsed": false
   },
   "outputs": [],
   "source": [
    "percore = 50\n",
    "net_input = net_big\n",
    "s_input = s0_big\n",
    "def f1(x):\n",
    "    return get_roc_coords(x, percore, percore, net_input, s0=s_input , \\\n",
    "                                  T=5000, method='direct', printsteps=False)\n",
    "from multiprocessing import Pool\n",
    "p = Pool(8)\n",
    "results_big = p.map(f1, list(np.random.randint(0, 10000, 8)))"
   ]
  },
  {
   "cell_type": "code",
   "execution_count": 136,
   "metadata": {
    "collapsed": false
   },
   "outputs": [
    {
     "data": {
      "text/plain": [
       "<matplotlib.legend.Legend at 0x60cddd0>"
      ]
     },
     "execution_count": 136,
     "metadata": {},
     "output_type": "execute_result"
    },
    {
     "data": {
      "image/png": "[encoded data removed]",
      "text/plain": [
       "<matplotlib.figure.Figure at 0x6492690>"
      ]
     },
     "metadata": {},
     "output_type": "display_data"
    }
   ],
   "source": [
    "pos_big, neg_big = handle_parallel_res(results_big)\n",
    "our_roc_pts = np.asarray(plot_our_roc(pos_big, neg_big, .01))\n",
    "anom_roc_pts = np.asarray(plot_anomaly_roc(pos_big, neg_big, .01))\n",
    "plot(our_roc_pts[:,0], our_roc_pts[:,1], label =' Our likelihood ratio')\n",
    "plot(anom_roc_pts[:,0], anom_roc_pts[:,1], label = 'anomaly detector')\n",
    "plt.xlim(0,1)\n",
    "plt.legend(loc=0)"
   ]
  },
  {
   "cell_type": "code",
   "execution_count": 137,
   "metadata": {
    "collapsed": false
   },
   "outputs": [
    {
     "data": {
      "text/plain": [
       "<matplotlib.legend.Legend at 0x60edd90>"
      ]
     },
     "execution_count": 137,
     "metadata": {},
     "output_type": "execute_result"
    },
    {
     "data": {
      "image/png": "[encoded data removed]",
      "text/plain": [
       "<matplotlib.figure.Figure at 0x42bc3390>"
      ]
     },
     "metadata": {},
     "output_type": "display_data"
    }
   ],
   "source": [
    "pos_big, neg_big = handle_parallel_res(results_big)\n",
    "our_roc_pts = np.asarray(plot_our_roc(pos_big, neg_big, .01))\n",
    "anom_roc_pts = np.asarray(plot_anomaly_roc(pos_big, neg_big, .01))\n",
    "plot(our_roc_pts[:,0], our_roc_pts[:,1], label =' Our likelihood ratio')\n",
    "plot(anom_roc_pts[:,0], anom_roc_pts[:,1], label = 'anomaly detector')\n",
    "plt.xlim(0,.2)\n",
    "plt.legend(loc=0)"
   ]
  },
  {
   "cell_type": "markdown",
   "metadata": {},
   "source": [
    "# Same Caterpillar net with different (randomly drawn) rates"
   ]
  },
  {
   "cell_type": "code",
   "execution_count": 154,
   "metadata": {
    "collapsed": false
   },
   "outputs": [],
   "source": [
    "nodes_again = []\n",
    "for nd in nn[::3]:\n",
    "    if nd != 'M':\n",
    "        ix = nn.index(nd)\n",
    "        cr1, cr2, cr3 = np.random.random(size=3)\n",
    "        m1, m2, m3 = np.random.random(size=3)/500.\n",
    "        newnd = SFT(nd, ['normal' , 'infected'], [nn[ix+1], nn[ix+2], nn[ix+3]], \n",
    "        {nn[ix+1]: np.array([[cr1, 0], [cr1, m1]]), nn[ix+2] : np.array([[cr2, 0], [cr2, m2]]),\n",
    "         nn[ix+3] : np.array([[cr3, 0], [cr3, m3]])},\n",
    "        ['clean', 'malicious'], 'external')\n",
    "        nodes_again.append(newnd)\n",
    "    else:\n",
    "        newnd = SFT(nd, ['normal' , 'infected'], [], \n",
    "        {},\n",
    "        ['clean', 'malicious'], 'external')\n",
    "        nodes_again.append(newnd)\n",
    "    \n",
    "for nd in nn[1::3]:\n",
    "    if nd != 'L' and nd != 'K':\n",
    "        ix = nn.index(nd)\n",
    "        cr1, cr2 = np.random.random(size=2)\n",
    "        m1, m2 = np.random.random(size=2)/100.\n",
    "        newnd = SFT(nd, ['normal' , 'infected'], [nn[ix+3], nn[ix+5]], \n",
    "            {nn[ix+3]: np.array([[cr1, 0], [cr1,m1]]), nn[ix+5] : np.array([[cr2, 0], [cr2, m2]])},\n",
    "            ['clean', 'malicious'], 'external')\n",
    "        nodes_again.append(newnd)\n",
    "    else:\n",
    "        newnd = SFT(nd, ['normal' , 'infected'], [], \n",
    "        {},\n",
    "        ['clean', 'malicious'], 'external')\n",
    "        nodes_again.append(newnd)\n",
    "\n",
    "for nd in nn[2::3]:\n",
    "    if nd != 'L' and nd != 'K':\n",
    "        ix = nn.index(nd)\n",
    "        cr1, cr2 = np.random.random(size=2)\n",
    "        m1, m2 = np.random.random(size=2)/100.\n",
    "        newnd = SFT(nd, ['normal' , 'infected'], [nn[ix+3], nn[ix+4]], \n",
    "            {nn[ix+3]: np.array([[cr1, 0], [cr1,m1]]), nn[ix+4] : np.array([[cr2, 0], [cr2, m2]])},\n",
    "            ['clean', 'malicious'], 'external')\n",
    "        nodes_again.append(newnd)\n",
    "    else:\n",
    "            newnd = SFT(nd, ['normal' , 'infected'], [], \n",
    "            {},\n",
    "            ['clean', 'malicious'], 'external')\n",
    "            nodes_again.append(newnd)\n",
    "\n",
    "net_big2 = SFTNet(nodes_again)\n",
    "s0_big2 = dict(zip(nn, ['normal']*len(nn)))\n",
    "s0_big2['A']= 'infected'"
   ]
  },
  {
   "cell_type": "code",
   "execution_count": 155,
   "metadata": {
    "collapsed": false
   },
   "outputs": [
    {
     "data": {
      "text/html": [
       "<table border=\"1\" class=\"dataframe\">\n",
       "  <thead>\n",
       "    <tr style=\"text-align: right;\">\n",
       "      <th></th>\n",
       "      <th></th>\n",
       "      <th>normal-clean rate</th>\n",
       "      <th>infected-clean rate</th>\n",
       "      <th>infected-malicious rate</th>\n",
       "    </tr>\n",
       "    <tr>\n",
       "      <th>sender</th>\n",
       "      <th>receiver</th>\n",
       "      <th></th>\n",
       "      <th></th>\n",
       "      <th></th>\n",
       "    </tr>\n",
       "  </thead>\n",
       "  <tbody>\n",
       "    <tr>\n",
       "      <th rowspan=\"3\" valign=\"top\">A</th>\n",
       "      <th>D</th>\n",
       "      <td> 0.924479</td>\n",
       "      <td> 0.924479</td>\n",
       "      <td> 0.000719</td>\n",
       "    </tr>\n",
       "    <tr>\n",
       "      <th>B</th>\n",
       "      <td> 0.132348</td>\n",
       "      <td> 0.132348</td>\n",
       "      <td> 0.001711</td>\n",
       "    </tr>\n",
       "    <tr>\n",
       "      <th>C</th>\n",
       "      <td> 0.047421</td>\n",
       "      <td> 0.047421</td>\n",
       "      <td> 0.001767</td>\n",
       "    </tr>\n",
       "    <tr>\n",
       "      <th rowspan=\"3\" valign=\"top\">D</th>\n",
       "      <th>G</th>\n",
       "      <td> 0.393593</td>\n",
       "      <td> 0.393593</td>\n",
       "      <td> 0.000659</td>\n",
       "    </tr>\n",
       "    <tr>\n",
       "      <th>E</th>\n",
       "      <td> 0.590067</td>\n",
       "      <td> 0.590067</td>\n",
       "      <td> 0.000124</td>\n",
       "    </tr>\n",
       "    <tr>\n",
       "      <th>F</th>\n",
       "      <td> 0.635392</td>\n",
       "      <td> 0.635392</td>\n",
       "      <td> 0.000458</td>\n",
       "    </tr>\n",
       "    <tr>\n",
       "      <th rowspan=\"3\" valign=\"top\">G</th>\n",
       "      <th>J</th>\n",
       "      <td> 0.041195</td>\n",
       "      <td> 0.041195</td>\n",
       "      <td> 0.001900</td>\n",
       "    </tr>\n",
       "    <tr>\n",
       "      <th>H</th>\n",
       "      <td> 0.883274</td>\n",
       "      <td> 0.883274</td>\n",
       "      <td> 0.000643</td>\n",
       "    </tr>\n",
       "    <tr>\n",
       "      <th>I</th>\n",
       "      <td> 0.135896</td>\n",
       "      <td> 0.135896</td>\n",
       "      <td> 0.001285</td>\n",
       "    </tr>\n",
       "    <tr>\n",
       "      <th rowspan=\"3\" valign=\"top\">J</th>\n",
       "      <th>M</th>\n",
       "      <td> 0.200630</td>\n",
       "      <td> 0.200630</td>\n",
       "      <td> 0.000562</td>\n",
       "    </tr>\n",
       "    <tr>\n",
       "      <th>K</th>\n",
       "      <td> 0.559445</td>\n",
       "      <td> 0.559445</td>\n",
       "      <td> 0.000894</td>\n",
       "    </tr>\n",
       "    <tr>\n",
       "      <th>L</th>\n",
       "      <td> 0.443455</td>\n",
       "      <td> 0.443455</td>\n",
       "      <td> 0.001972</td>\n",
       "    </tr>\n",
       "    <tr>\n",
       "      <th rowspan=\"2\" valign=\"top\">B</th>\n",
       "      <th>G</th>\n",
       "      <td> 0.909563</td>\n",
       "      <td> 0.909563</td>\n",
       "      <td> 0.007384</td>\n",
       "    </tr>\n",
       "    <tr>\n",
       "      <th>E</th>\n",
       "      <td> 0.378428</td>\n",
       "      <td> 0.378428</td>\n",
       "      <td> 0.002089</td>\n",
       "    </tr>\n",
       "    <tr>\n",
       "      <th rowspan=\"2\" valign=\"top\">E</th>\n",
       "      <th>J</th>\n",
       "      <td> 0.066026</td>\n",
       "      <td> 0.066026</td>\n",
       "      <td> 0.002632</td>\n",
       "    </tr>\n",
       "    <tr>\n",
       "      <th>H</th>\n",
       "      <td> 0.399216</td>\n",
       "      <td> 0.399216</td>\n",
       "      <td> 0.000489</td>\n",
       "    </tr>\n",
       "    <tr>\n",
       "      <th rowspan=\"2\" valign=\"top\">H</th>\n",
       "      <th>M</th>\n",
       "      <td> 0.443296</td>\n",
       "      <td> 0.443296</td>\n",
       "      <td> 0.005145</td>\n",
       "    </tr>\n",
       "    <tr>\n",
       "      <th>K</th>\n",
       "      <td> 0.652094</td>\n",
       "      <td> 0.652094</td>\n",
       "      <td> 0.009795</td>\n",
       "    </tr>\n",
       "    <tr>\n",
       "      <th rowspan=\"2\" valign=\"top\">C</th>\n",
       "      <th>G</th>\n",
       "      <td> 0.164459</td>\n",
       "      <td> 0.164459</td>\n",
       "      <td> 0.008685</td>\n",
       "    </tr>\n",
       "    <tr>\n",
       "      <th>F</th>\n",
       "      <td> 0.869581</td>\n",
       "      <td> 0.869581</td>\n",
       "      <td> 0.006906</td>\n",
       "    </tr>\n",
       "    <tr>\n",
       "      <th rowspan=\"2\" valign=\"top\">F</th>\n",
       "      <th>J</th>\n",
       "      <td> 0.082181</td>\n",
       "      <td> 0.082181</td>\n",
       "      <td> 0.007710</td>\n",
       "    </tr>\n",
       "    <tr>\n",
       "      <th>I</th>\n",
       "      <td> 0.615743</td>\n",
       "      <td> 0.615743</td>\n",
       "      <td> 0.000775</td>\n",
       "    </tr>\n",
       "    <tr>\n",
       "      <th rowspan=\"2\" valign=\"top\">I</th>\n",
       "      <th>M</th>\n",
       "      <td> 0.455947</td>\n",
       "      <td> 0.455947</td>\n",
       "      <td> 0.009803</td>\n",
       "    </tr>\n",
       "    <tr>\n",
       "      <th>L</th>\n",
       "      <td> 0.697395</td>\n",
       "      <td> 0.697395</td>\n",
       "      <td> 0.001475</td>\n",
       "    </tr>\n",
       "  </tbody>\n",
       "</table>"
      ],
      "text/plain": [
       "<IPython.core.display.HTML at 0x44dd6310>"
      ]
     },
     "execution_count": 155,
     "metadata": {},
     "output_type": "execute_result"
    }
   ],
   "source": [
    "rates = gen_trans_frame(net_big2)\n",
    "ix = rates['normal-clean rate'] >0\n",
    "HTML(rates[ix].to_html())"
   ]
  },
  {
   "cell_type": "code",
   "execution_count": 156,
   "metadata": {
    "collapsed": false
   },
   "outputs": [],
   "source": [
    "percore = 50\n",
    "net_input = net_big2\n",
    "s_input = s0_big\n",
    "def f1(x):\n",
    "    return get_roc_coords(x, percore, percore, net_input, s0=s_input , \\\n",
    "                                  T=5000, method='direct', printsteps=False)\n",
    "from multiprocessing import Pool\n",
    "p = Pool(8)\n",
    "results_big2 = p.map(f1, list(np.random.randint(0, 10000, 8)))"
   ]
  },
  {
   "cell_type": "code",
   "execution_count": 157,
   "metadata": {
    "collapsed": false
   },
   "outputs": [
    {
     "data": {
      "text/plain": [
       "<matplotlib.legend.Legend at 0x45396f10>"
      ]
     },
     "execution_count": 157,
     "metadata": {},
     "output_type": "execute_result"
    },
    {
     "data": {
      "image/png": "[encoded data removed]",
      "text/plain": [
       "<matplotlib.figure.Figure at 0x45ec1490>"
      ]
     },
     "metadata": {},
     "output_type": "display_data"
    }
   ],
   "source": [
    "pos_big, neg_big = handle_parallel_res(results_big2)\n",
    "our_roc_pts = np.asarray(plot_our_roc(pos_big, neg_big, .01))\n",
    "anom_roc_pts = np.asarray(plot_anomaly_roc(pos_big, neg_big, .01))\n",
    "plot(our_roc_pts[:,0], our_roc_pts[:,1], label =' Our likelihood ratio')\n",
    "plot(anom_roc_pts[:,0], anom_roc_pts[:,1], label = 'anomaly detector')\n",
    "plt.xlim(0,1)\n",
    "plt.legend(loc=0)\n"
   ]
  },
  {
   "cell_type": "code",
   "execution_count": 161,
   "metadata": {
    "collapsed": false
   },
   "outputs": [
    {
     "data": {
      "text/plain": [
       "<matplotlib.legend.Legend at 0x45251e10>"
      ]
     },
     "execution_count": 161,
     "metadata": {},
     "output_type": "execute_result"
    },
    {
     "data": {
      "image/png": "[encoded data removed]",
      "text/plain": [
       "<matplotlib.figure.Figure at 0x447fc850>"
      ]
     },
     "metadata": {},
     "output_type": "display_data"
    }
   ],
   "source": [
    "pos_big, neg_big = handle_parallel_res(results_big2)\n",
    "our_roc_pts = np.asarray(plot_our_roc(pos_big, neg_big, .01))\n",
    "anom_roc_pts = np.asarray(plot_anomaly_roc(pos_big, neg_big, .01))\n",
    "plot(our_roc_pts[:,0], our_roc_pts[:,1], label =' Our likelihood ratio')\n",
    "plot(anom_roc_pts[:,0], anom_roc_pts[:,1], label = 'anomaly detector')\n",
    "plt.xlim(0,.25)\n",
    "plt.legend(loc=0)"
   ]
  },
  {
   "cell_type": "code",
   "execution_count": null,
   "metadata": {
    "collapsed": false
   },
   "outputs": [],
   "source": []
  }
 ],
 "metadata": {
  "kernelspec": {
   "display_name": "Python 2",
   "language": "python",
   "name": "python2"
  },
  "language_info": {
   "codemirror_mode": {
    "name": "ipython",
    "version": 2
   },
   "file_extension": ".py",
   "mimetype": "text/x-python",
   "name": "python",
   "nbconvert_exporter": "python",
   "pygments_lexer": "ipython2",
   "version": "2.7.9"
  }
 },
 "nbformat": 4,
 "nbformat_minor": 0
}
