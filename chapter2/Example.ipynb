{
 "cells": [
  {
   "cell_type": "markdown",
   "metadata": {},
   "source": [
    "# Example Notebook for ROC Curves "
   ]
  },
  {
   "cell_type": "markdown",
   "metadata": {},
   "source": [
    "This notebook will detail how to use the code to plot ROC curves for user defined parameters"
   ]
  },
  {
   "cell_type": "markdown",
   "metadata": {},
   "source": [
    "First, we need to import the necessary code.  We also ask for matplotlib to display the ROC curve in the Notebook."
   ]
  },
  {
   "cell_type": "code",
   "execution_count": 1,
   "metadata": {
    "collapsed": true
   },
   "outputs": [],
   "source": [
    "from roc import *\n",
    "from node import Node\n",
    "from cybernet import CyberNet\n",
    "%matplotlib inline"
   ]
  },
  {
   "cell_type": "markdown",
   "metadata": {},
   "source": [
    "The next step is to define the Node, let's see what we need to do."
   ]
  },
  {
   "cell_type": "code",
   "execution_count": 2,
   "metadata": {
    "collapsed": false
   },
   "outputs": [
    {
     "name": "stdout",
     "output_type": "stream",
     "text": [
      "Help on class Node in module node:\n",
      "\n",
      "class Node(__builtin__.object)\n",
      " |  An SFT node.\n",
      " |  \n",
      " |  Parameters\n",
      " |  ----------\n",
      " |  \n",
      " |  name : str\n",
      " |      The name of the node.\n",
      " |  \n",
      " |  sends_to  : list of str\n",
      " |      A list whose elements are names of nodes that receive messages\n",
      " |      from the SFT instance.\n",
      " |  \n",
      " |  \n",
      " |  rates : dict\n",
      " |      A dictionary with keys being the elements of sends_to.  The\n",
      " |      entry is a pxq array where p = len(states) and q =\n",
      " |      len(messages).  The order is determined by the order of\n",
      " |      sends_to and messages. e.x. for some node, if sends_to is\n",
      " |      ['A', 'B'], states is ['normal', 'infected'] and messages are\n",
      " |      ['clean', 'malicious'] then rates can be:\n",
      " |      >>> {'A': [[1, 0],[1, .00001]] , 'B': [[1,0], [1, .1]]}\n",
      " |      which means that the SFT sends clean messages to 'A' at a rate\n",
      " |      of 1 when it is in the normal state and sends message no\n",
      " |      malicious messages.  When the SFT is in an infected state, it\n",
      " |      sends clean messages to 'A' at a rate of 1 and malicious\n",
      " |      messages at a rate of .00001.\n",
      " |  \n",
      " |  Methods defined here:\n",
      " |  \n",
      " |  __init__(self, name, sends_to, rates)\n",
      " |  \n",
      " |  react(self, message)\n",
      " |      A function that changes the node's state upon receiving a\n",
      " |      message \n",
      " |      \n",
      " |      Parameters\n",
      " |      ----------\n",
      " |      \n",
      " |      message : str\n",
      " |          Content of the message\n",
      " |  \n",
      " |  ----------------------------------------------------------------------\n",
      " |  Data descriptors defined here:\n",
      " |  \n",
      " |  __dict__\n",
      " |      dictionary for instance variables (if defined)\n",
      " |  \n",
      " |  __weakref__\n",
      " |      list of weak references to the object (if defined)\n",
      "\n"
     ]
    }
   ],
   "source": [
    "help(Node)"
   ]
  },
  {
   "cell_type": "markdown",
   "metadata": {},
   "source": [
    "Essentially, all we need to do is name the node, indicate the name of other nodes that it sends messages to and indicate the rates it which it sends messages when it is in the normal and infected state.  Let's create a small 2 node network and then create a CyberNet instance."
   ]
  },
  {
   "cell_type": "code",
   "execution_count": 3,
   "metadata": {
    "collapsed": true
   },
   "outputs": [],
   "source": [
    "A = Node(\"A\", [\"B\"], {\"B\": np.array([[1,0],[1,.1]])})\n",
    "B = Node(\"B\", [\"A\"], {\"A\": np.array([[1,0], [1,.1]])})\n",
    "net = CyberNet([A,B])"
   ]
  },
  {
   "cell_type": "markdown",
   "metadata": {},
   "source": [
    "The code is set up so that after setting up the network, the only function the user needs to call is plot_roc_parallel, which of course runs in parallel.  Let's see what it looks like."
   ]
  },
  {
   "cell_type": "code",
   "execution_count": 4,
   "metadata": {
    "collapsed": false
   },
   "outputs": [
    {
     "name": "stdout",
     "output_type": "stream",
     "text": [
      "Help on function plot_roc_parallel in module roc:\n",
      "\n",
      "plot_roc_parallel(num_pos, num_neg, CyberNet, s0, T, truenet=None, directsamps=1000, seeds=None, numcores=4)\n",
      "    Plots the ROC curve\n",
      "    \n",
      "    num_pos : int\n",
      "        Number of true positive realizations of network activity per core\n",
      "    \n",
      "    num_neg :\n",
      "        Number of true negative realizations of network activity per core\n",
      "    \n",
      "    CyberNet : CyberNet\n",
      "        The CyberNet the defender uses to model the network\n",
      "    \n",
      "    \n",
      "    s0 : dict\n",
      "       Initial state of the net when there is an attacker\n",
      "    \n",
      "    T : int\n",
      "        Observation Window\n",
      "    \n",
      "    truenet : CyberNet instance\n",
      "        A net used to generate  data.  If model is misspecified,\n",
      "        truenet is different from CyberNet\n",
      "    \n",
      "    \n",
      "    direct_samps : int\n",
      "        Number of samples to compute P(data|attacker)\n",
      "    \n",
      "    seeds : lsit\n",
      "        List of seeds to pass to each process.  Difference between any\n",
      "        two seeds must be greater than num_pos + num_neg\n",
      "    \n",
      "    numcores: int\n",
      "        Number of cores to use\n",
      "\n"
     ]
    }
   ],
   "source": [
    "help(plot_roc_parallel)"
   ]
  },
  {
   "cell_type": "markdown",
   "metadata": {},
   "source": [
    "Now we see the parameters needed to plot an ROC curve.  Let's define this in a dictionary"
   ]
  },
  {
   "cell_type": "code",
   "execution_count": 5,
   "metadata": {
    "collapsed": true
   },
   "outputs": [],
   "source": [
    "params = { \"num_pos\" : 300, # Network realizations with attacker\n",
    "           \"num_neg\" : 300, # Network realizations without attacker\n",
    "           \"CyberNet\" : net, #Network instance\n",
    "           \"s0\": {\"A\": \"infected\", \n",
    "                  \"B\": \"normal\"}, #Initial state of nodes\n",
    "           \"T\" : 10, #Observation Window\n",
    "           \"numcores\" : 6\n",
    "         }"
   ]
  },
  {
   "cell_type": "markdown",
   "metadata": {},
   "source": [
    "Now, using the default argument for some of the arguments, we can now generate the ROC curve"
   ]
  },
  {
   "cell_type": "code",
   "execution_count": 6,
   "metadata": {
    "collapsed": false
   },
   "outputs": [
    {
     "data": {
      "image/png": "[encoded data removed]",
      "text/plain": [
       "<matplotlib.figure.Figure at 0x7f780449ce90>"
      ]
     },
     "metadata": {},
     "output_type": "display_data"
    }
   ],
   "source": [
    "fig, ax = plot_roc_parallel(params[\"num_pos\"],\n",
    "                         params[\"num_neg\"],\n",
    "                         params[\"CyberNet\"], \n",
    "                         params[\"s0\"],\n",
    "                         params[\"T\"], \n",
    "                         numcores=params[\"numcores\"])"
   ]
  },
  {
   "cell_type": "markdown",
   "metadata": {},
   "source": [
    "Voila!"
   ]
  }
 ],
 "metadata": {
  "kernelspec": {
   "display_name": "Python 2",
   "language": "python",
   "name": "python2"
  },
  "language_info": {
   "codemirror_mode": {
    "name": "ipython",
    "version": 2
   },
   "file_extension": ".py",
   "mimetype": "text/x-python",
   "name": "python",
   "nbconvert_exporter": "python",
   "pygments_lexer": "ipython2",
   "version": "2.7.9"
  }
 },
 "nbformat": 4,
 "nbformat_minor": 0
}
