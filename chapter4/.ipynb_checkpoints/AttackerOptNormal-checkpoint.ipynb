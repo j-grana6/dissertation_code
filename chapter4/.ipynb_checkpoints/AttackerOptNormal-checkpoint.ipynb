{
 "cells": [
  {
   "cell_type": "code",
   "execution_count": 169,
   "metadata": {
    "collapsed": false
   },
   "outputs": [],
   "source": [
    "import numpy as np\n",
    "from pandas import rolling_sum\n",
    "from matplotlib import pyplot as plt\n",
    "from statsmodels.tsa.arima_model import ARIMA\n",
    "from collections import defaultdict\n",
    "from scipy.optimize import fmin_slsqp, fmin_cobyla\n",
    "from scipy.stats import gamma, norm, chi2, ncx2\n",
    "%matplotlib inline"
   ]
  },
  {
   "cell_type": "code",
   "execution_count": 718,
   "metadata": {
    "collapsed": false
   },
   "outputs": [],
   "source": [
    "class NormalNoiseModel(object):\n",
    "    \"\"\"\n",
    "    The attacker strategy is a 1-d array.  The first tmax elements are his intensity\n",
    "    along a specfic edge at time equal to index.  The order is determined by \n",
    "    self.positive_edges.\n",
    "    \n",
    "    \"\"\"\n",
    "    def __init__(self, tau, d, sigmamat, r,lrd,b1,b2,c1,c2,pi, **kwargs):\n",
    "        self.tau = tau # Numer of Time periods\n",
    "        self.d = d # Simple Likelihood Log Threshold\n",
    "        self.sigmamat = sigmamat # Normal Distribution Parameters\n",
    "        self.r = r # Reward Matrix\n",
    "        self.b1 = b1\n",
    "        self.b2 = b2\n",
    "        self.c1 = c1\n",
    "        self.c2 = c2\n",
    "        self.pi = pi\n",
    "        self.positive_edges = [(np.nonzero(self.sigmamat)[0][i],np.nonzero(self.sigmamat)[1][i])\n",
    "                               for i in range(np.sum(sigmamat>0))]\n",
    "        self.edges_into_node = self.get_node_edge_into()\n",
    "        self.edges_outof_node = self.get_node_edge_out()\n",
    "        self.sumlogsigma = np.sum([np.log(x) for x in np.nditer(sigmamat) if x >0])\n",
    "        self.param_contribution = -2 * (d + \n",
    "                                        tau * len(self.positive_edges)/2.*np.log(2*np.pi)\n",
    "                                        + self.tau*self.sumlogsigma )\n",
    "        self.lrd = lrd # Likelihood Ratio Log Threshold\n",
    "        \n",
    "    def get_node_edge_out(self):\n",
    "        outin = defaultdict(list)\n",
    "        for e in self.positive_edges:\n",
    "            outin[e[0]].append(e)\n",
    "        return outin\n",
    "    \n",
    "    def get_node_edge_into(self):\n",
    "        inout = defaultdict(list)\n",
    "        for e in self.positive_edges:\n",
    "            inout[e[1]].append(e)\n",
    "        return inout\n",
    "    \n",
    "    def get_attacker_dict(self, attackerstrat):\n",
    "        astratdict = {}\n",
    "        for ix, elem in enumerate(self.positive_edges):\n",
    "            astratdict[elem] = np.asarray(attackerstrat[ix*self.tau:self.tau*(ix+1)])\n",
    "        return astratdict\n",
    "    \n",
    "    def general_constraint(self, x):\n",
    "        astrat = self.get_attacker_dict(x)\n",
    "        l1 = self.nonzero_constraint(x)\n",
    "        #l2 = self.effort_constraint(astrat)\n",
    "        l3 = self.traversal_constraint(astrat)\n",
    "        #return np.array(list(l1) + list(l2) + list(l3))\n",
    "        return list(l1) +list(l3)\n",
    "    \n",
    "    def nonzero_constraint(self, x):\n",
    "        return x\n",
    "    \n",
    "    def effort_constraint(self, astrat):\n",
    "        activity = np.asarray(astrat.values())\n",
    "        totalact = np.sum(activity, axis=0)\n",
    "        return -totalact + self.effort\n",
    "    \n",
    "    def traversal_constraint(self, astrat):\n",
    "        allbalances = []\n",
    "        for key, val in self.edges_outof_node.iteritems():\n",
    "            if key != 0 : # No traversal for first node\n",
    "                total_out_at_t = np.sum(np.asarray([astrat[e] for e in val]), axis=0)\n",
    "                total_in_at_t = np.sum(np.asarray(\n",
    "                        [astrat[e] for e in self.edges_into_node[key]]), axis=0)\n",
    "                total_in_by_t = np.cumsum(np.hstack((np.array([0]), total_in_at_t)))[:-1]\n",
    "                allbalances.append(total_in_by_t - total_out_at_t)\n",
    "        return list(np.hstack(tuple(allbalances)))\n",
    "    \n",
    "\n",
    "    def prob_no_alarm_simple(self, astrat):\n",
    "        \"\"\"\n",
    "        Given by P(chi2_nk(mu) < -2(ln(d) + nk/2 ln(2pi) + k \\sum_J ln(\\sigma_j)))\n",
    "        \n",
    "        where mu is given by \\sum_IJ (aij/sigma_j)^2\n",
    "        \"\"\"\n",
    "        muhat = 0\n",
    "        for edge in self.positive_edges:\n",
    "            muhat +=  np.sum(astrat[edge]**2) / float(self.sigmamat[edge])**2\n",
    "        if muhat > 0:\n",
    "            p_no_alarm = ncx2.cdf(self.param_contribution, self.tau * len(self.positive_edges), muhat)\n",
    "        if muhat ==0:\n",
    "            p_no_alarm = chi2.cdf(self.param_contribution, self.tau * len(self.positive_edges))\n",
    "        return p_no_alarm\n",
    "    \n",
    "    def prob_no_alarm_lr(self, astrat, astratbelief):\n",
    "        stdev = self.get_sd_from_belief(astratbelief)\n",
    "        evalat = -2*self.lrd\n",
    "        for key, val in astratbelief.iteritems():\n",
    "            evalat += np.sum(astratbelief[key]**2 - 2*astratbelief[key]*astrat[key]) \\\n",
    "                / self.sigmamat[key]**2\n",
    "        return  norm.cdf(evalat, loc=0, scale=stdev)\n",
    "        \n",
    "    def get_sd_from_belief(self, astratbelief):\n",
    "        var = 0\n",
    "        for key, val in astratbelief.iteritems():\n",
    "            var += np.sum(4*astratbelief[key]**2) / float(self.sigmamat[key]**2)\n",
    "        return var**.5\n",
    "\n",
    "    \n",
    "    def attacker_expected_utility_simple(self, x):\n",
    "        astrat = self.get_attacker_dict(x)\n",
    "        u = 0\n",
    "        pnoalarm = self.prob_no_alarm_simple(astrat)\n",
    "        reward = 0\n",
    "        for edge in self.positive_edges:\n",
    "            reward += self.r[edge] * np.sum(astrat[edge])\n",
    "        return - pnoalarm*reward\n",
    "        \n",
    "    def attacker_expected_utility_lr(self, x, astratbelief=None):\n",
    "        astrat = self.get_attacker_dict(x)\n",
    "        u = 0\n",
    "        pnoalarm = self.prob_no_alarm_lr(astrat, astratbelief)\n",
    "        reward = 0\n",
    "        for edge in self.positive_edges:\n",
    "            reward += self.r[edge] * np.sum(astrat[edge])\n",
    "        return - pnoalarm*reward\n",
    "    \n",
    "    def defender_expected_utility_simple(d, astrat)\n",
    "        \n",
    "\n",
    "    def attacker_strat_from_res(self, res):\n",
    "        astar = {}\n",
    "        for ix, edge in enumerate(self.positive_edges):\n",
    "            astar[edge] = np.round(res[ix*self.tau: (ix + 1)*self.tau], decimals=3)\n",
    "        return astar\n",
    "    \n",
    "    def x_from_astrat(self,astrat):\n",
    "        x=np.array([])\n",
    "        for edge in self.positive_edges:\n",
    "            x=np.hstack((x, astrat[edge]))\n",
    "        return list(x)"
   ]
  },
  {
   "cell_type": "code",
   "execution_count": 719,
   "metadata": {
    "collapsed": false
   },
   "outputs": [],
   "source": [
    "parameters = { 'tau': 5,\n",
    "                'd': -50.,\n",
    "                'lrd': 0.,\n",
    "                'sigmamat' : np.array([[0,1.,0], [1.,0,1.],[1.,1.,0]]),\n",
    "                'r' : np.array([[0,0,0], [0,0,1],[0,0,0]]),\n",
    "                'b1': 1,\n",
    "                'b2': 1,\n",
    "                'c1': 1,\n",
    "                'c2': 1,\n",
    "                'pi' : .1,\n",
    "             }\n",
    "Model1 = NormalNoiseModel(**parameters)"
   ]
  },
  {
   "cell_type": "code",
   "execution_count": 499,
   "metadata": {
    "collapsed": false
   },
   "outputs": [
    {
     "data": {
      "text/plain": [
       "1.0387815325489515e-06"
      ]
     },
     "execution_count": 499,
     "metadata": {},
     "output_type": "execute_result"
    }
   ],
   "source": [
    "Model1.prob_no_alarm_lr(astratres, astratres)"
   ]
  },
  {
   "cell_type": "code",
   "execution_count": 500,
   "metadata": {
    "collapsed": false
   },
   "outputs": [
    {
     "name": "stdout",
     "output_type": "stream",
     "text": [
      "Optimization terminated successfully.    (Exit mode 0)\n",
      "            Current function value: -6.58527595213\n",
      "            Iterations: 9\n",
      "            Function evaluations: 245\n",
      "            Gradient evaluations: 9\n"
     ]
    }
   ],
   "source": [
    "x = np.zeros(shape=25)+.01\n",
    "res = fmin_slsqp(Model1.expected_utility, x, f_ieqcons = Model1.general_constraint)\n",
    "astratres = Model1.attacker_strat_from_res(res)"
   ]
  },
  {
   "cell_type": "markdown",
   "metadata": {},
   "source": [
    "# Tests "
   ]
  },
  {
   "cell_type": "markdown",
   "metadata": {},
   "source": [
    "We want to test the \"probability of an alarm\" functions both when an attacker is present and\n",
    "when he is not under both the simple likelihood and the likelihood ratio.  We will test the calculations (and the math) by checking to see if the closed form solutions are \"sufficiently close\" to the solution obtained via Monte Carlo simulation."
   ]
  },
  {
   "cell_type": "code",
   "execution_count": 701,
   "metadata": {
    "collapsed": false
   },
   "outputs": [],
   "source": [
    "    testparams = { 'tau': 5,\n",
    "                'd': -50,\n",
    "                'sigmamat' : np.array([[0,1.,0], [2.,0,2.],[1.,1.,0]]),\n",
    "                'r' : np.array([[0,0,0], [0,0,1],[0,0,0]]),\n",
    "                'lrd':-.1,\n",
    "             }"
   ]
  },
  {
   "cell_type": "code",
   "execution_count": 578,
   "metadata": {
    "collapsed": true
   },
   "outputs": [],
   "source": [
    "def test_p_no_alarm_simple_no_attacker(paramtest, mcsamps=10000):\n",
    "    TestModel = NormalNoiseModel(**paramtest)\n",
    "    astrat = TestModel.attacker_strat_from_res(np.zeros(paramtest['tau']*len(TestModel.positive_edges)))\n",
    "    p_no_alarm_exact = TestModel.prob_no_alarm_simple(astrat)\n",
    "    noalarm = 0\n",
    "    sigmas = (paramtest['sigmamat'][paramtest['sigmamat']>0])\n",
    "    for s in xrange(mcsamps):\n",
    "        data = np.random.normal(size=(5,5), scale=sigmas)\n",
    "        lhood = np.sum(np.log(norm.pdf(data, scale=sigmas)))\n",
    "        if lhood>paramtest['d']:\n",
    "            noalarm +=1\n",
    "    return p_no_alarm_exact, noalarm / float(mcsamps)"
   ]
  },
  {
   "cell_type": "code",
   "execution_count": 579,
   "metadata": {
    "collapsed": false
   },
   "outputs": [
    {
     "data": {
      "text/plain": [
       "(0.99934597956146143, 0.99912)"
      ]
     },
     "execution_count": 579,
     "metadata": {},
     "output_type": "execute_result"
    }
   ],
   "source": [
    "test_p_no_alarm_simple_no_attacker(testparams)"
   ]
  },
  {
   "cell_type": "code",
   "execution_count": 424,
   "metadata": {
    "collapsed": false
   },
   "outputs": [],
   "source": [
    "def test_p_no_alarm_simple_random_attacker(paramtest, mcsamps=10000):\n",
    "    TestModel = NormalNoiseModel(**paramtest)\n",
    "    stratarray = np.random.random(paramtest['tau']*len(TestModel.positive_edges))\n",
    "    astrat = TestModel.attacker_strat_from_res(stratarray)\n",
    "    p_no_alarm_exact = TestModel.prob_no_alarm_simple(astrat)\n",
    "    noalarm = 0\n",
    "    sigmas = []\n",
    "    stratmat = []\n",
    "    for i in xrange(paramtest['sigmamat'].shape[0]):\n",
    "        for j in xrange(paramtest['sigmamat'].shape[0]):\n",
    "            if paramtest['sigmamat'][(i,j)] > 0:\n",
    "                sigmas.append(paramtest['sigmamat'][(i,j)])\n",
    "                stratmat.append(astrat[(i,j)])\n",
    "    stratmat = np.asarray(stratmat).T # Scale is for columns\n",
    "    for s in xrange(mcsamps):\n",
    "        data = np.random.normal(size=(5,5), scale=sigmas) + stratmat\n",
    "        lhood = np.sum(np.log(norm.pdf(data, scale=sigmas)))\n",
    "        if lhood>paramtest['d']:\n",
    "            noalarm +=1\n",
    "    return p_no_alarm_exact, noalarm / float(mcsamps)"
   ]
  },
  {
   "cell_type": "code",
   "execution_count": 425,
   "metadata": {
    "collapsed": false
   },
   "outputs": [
    {
     "data": {
      "text/plain": [
       "(0.65590116545019628, 0.655744)"
      ]
     },
     "execution_count": 425,
     "metadata": {},
     "output_type": "execute_result"
    }
   ],
   "source": [
    "test_p_no_alarm_simple_random_attacker(testparams)"
   ]
  },
  {
   "cell_type": "code",
   "execution_count": 664,
   "metadata": {
    "collapsed": true
   },
   "outputs": [],
   "source": [
    "def test_p_no_alarm_lr_no_attacker(paramtest, mcsamps=1000000):\n",
    "    TestModel = NormalNoiseModel(**paramtest)\n",
    "    stratarraybelief = np.random.random(paramtest['tau']*len(TestModel.positive_edges)) * .05\n",
    "    astratbelief = TestModel.attacker_strat_from_res(stratarraybelief)\n",
    "    stratarray = np.zeros(paramtest['tau']*len(TestModel.positive_edges))\n",
    "    astrat = TestModel.attacker_strat_from_res(stratarray)\n",
    "    p_no_alarm_exact_lr = TestModel.prob_no_alarm_lr(astrat, astratbelief)\n",
    "    noalarm = 0\n",
    "    sigmas = []\n",
    "    stratmat = []\n",
    "    stratmatbelief = []\n",
    "    for i in xrange(paramtest['sigmamat'].shape[0]):\n",
    "        for j in xrange(paramtest['sigmamat'].shape[0]):\n",
    "            if paramtest['sigmamat'][(i,j)] > 0:\n",
    "                sigmas.append(paramtest['sigmamat'][(i,j)])\n",
    "                stratmat.append(astrat[(i,j)])\n",
    "                stratmatbelief.append(astratbelief[(i,j)])\n",
    "    stratmat = np.asarray(stratmat).T # Scale is for columns\n",
    "    stratmatbelief = np.asarray(stratmatbelief).T\n",
    "    for s in xrange(mcsamps):\n",
    "        data = np.random.normal(size=(5,5), scale=sigmas)\n",
    "        lhoodnum = np.sum(np.log(norm.pdf(data+ stratmat, scale=sigmas)))\n",
    "        lhooddenom = np.sum(np.log(norm.pdf(data-stratmatbelief + stratmat, scale=sigmas)))\n",
    "        lr = lhoodnum - lhooddenom\n",
    "        if lr>paramtest['lrd']:\n",
    "            noalarm +=1\n",
    "    return p_no_alarm_exact_lr, noalarm / float(mcsamps)"
   ]
  },
  {
   "cell_type": "code",
   "execution_count": 714,
   "metadata": {
    "collapsed": true
   },
   "outputs": [],
   "source": [
    "def test_p_no_alarm_lr_correct_belief(paramtest, mcsamps=10000):\n",
    "    TestModel = NormalNoiseModel(**paramtest)\n",
    "    stratarraybelief = np.random.random(paramtest['tau']*len(TestModel.positive_edges)) * .05\n",
    "    astratbelief = TestModel.attacker_strat_from_res(stratarraybelief)\n",
    "    stratarray = stratarraybelief\n",
    "    astrat = astratbelief\n",
    "    p_no_alarm_exact_lr = TestModel.prob_no_alarm_lr(astrat, astratbelief)\n",
    "    noalarm = 0\n",
    "    sigmas = []\n",
    "    stratmat = []\n",
    "    stratmatbelief = []\n",
    "    for i in xrange(paramtest['sigmamat'].shape[0]):\n",
    "        for j in xrange(paramtest['sigmamat'].shape[0]):\n",
    "            if paramtest['sigmamat'][(i,j)] > 0:\n",
    "                sigmas.append(paramtest['sigmamat'][(i,j)])\n",
    "                stratmat.append(astrat[(i,j)])\n",
    "                stratmatbelief.append(astratbelief[(i,j)])\n",
    "    stratmat = np.asarray(stratmat).T # Scale is for columns\n",
    "    stratmatbelief = np.asarray(stratmatbelief).T\n",
    "    for s in xrange(mcsamps):\n",
    "        data = np.random.normal(size=(5,5), scale=sigmas)\n",
    "        lhoodnum = np.sum(np.log(norm.pdf(data+ stratmat, scale=sigmas)))\n",
    "        lhooddenom = np.sum(np.log(norm.pdf(data-stratmatbelief + stratmat, scale=sigmas)))\n",
    "        lr = lhoodnum - lhooddenom\n",
    "        if lr>paramtest['lrd']:\n",
    "            noalarm +=1\n",
    "    return p_no_alarm_exact_lr, noalarm / float(mcsamps)"
   ]
  },
  {
   "cell_type": "code",
   "execution_count": 715,
   "metadata": {
    "collapsed": false
   },
   "outputs": [
    {
     "data": {
      "text/plain": [
       "(0.73912439764243332, 0.7309)"
      ]
     },
     "execution_count": 715,
     "metadata": {},
     "output_type": "execute_result"
    }
   ],
   "source": [
    "test_p_no_alarm_lr_correct_belief(testparams)"
   ]
  },
  {
   "cell_type": "code",
   "execution_count": 716,
   "metadata": {
    "collapsed": true
   },
   "outputs": [],
   "source": [
    "def test_p_no_alarm_lr_incorrect_belief(paramtest, mcsamps=10000):\n",
    "    TestModel = NormalNoiseModel(**paramtest)\n",
    "    stratarraybelief = np.random.random(paramtest['tau']*len(TestModel.positive_edges)) * .05\n",
    "    astratbelief = TestModel.attacker_strat_from_res(stratarraybelief)\n",
    "    stratarray = np.random.random(paramtest['tau']*len(TestModel.positive_edges)) * .05\n",
    "    astrat = TestModel.attacker_strat_from_res(stratarray)\n",
    "    p_no_alarm_exact_lr = TestModel.prob_no_alarm_lr(astrat, astratbelief)\n",
    "    noalarm = 0\n",
    "    sigmas = []\n",
    "    stratmat = []\n",
    "    stratmatbelief = []\n",
    "    for i in xrange(paramtest['sigmamat'].shape[0]):\n",
    "        for j in xrange(paramtest['sigmamat'].shape[0]):\n",
    "            if paramtest['sigmamat'][(i,j)] > 0:\n",
    "                sigmas.append(paramtest['sigmamat'][(i,j)])\n",
    "                stratmat.append(astrat[(i,j)])\n",
    "                stratmatbelief.append(astratbelief[(i,j)])\n",
    "    stratmat = np.asarray(stratmat).T # Scale is for columns\n",
    "    stratmatbelief = np.asarray(stratmatbelief).T\n",
    "    for s in xrange(mcsamps):\n",
    "        data = np.random.normal(size=(5,5), scale=sigmas)\n",
    "        lhoodnum = np.sum(np.log(norm.pdf(data+ stratmat, scale=sigmas)))\n",
    "        lhooddenom = np.sum(np.log(norm.pdf(data-stratmatbelief + stratmat, scale=sigmas)))\n",
    "        lr = lhoodnum - lhooddenom\n",
    "        if lr>paramtest['lrd']:\n",
    "            noalarm +=1\n",
    "    return p_no_alarm_exact_lr, noalarm / float(mcsamps)"
   ]
  },
  {
   "cell_type": "code",
   "execution_count": 717,
   "metadata": {
    "collapsed": false
   },
   "outputs": [
    {
     "data": {
      "text/plain": [
       "(0.78107721744980274, 0.7835)"
      ]
     },
     "execution_count": 717,
     "metadata": {},
     "output_type": "execute_result"
    }
   ],
   "source": [
    "test_p_no_alarm_lr_incorrect_belief(testparams)"
   ]
  },
  {
   "cell_type": "code",
   "execution_count": null,
   "metadata": {
    "collapsed": true
   },
   "outputs": [],
   "source": []
  }
 ],
 "metadata": {
  "kernelspec": {
   "display_name": "Python 2",
   "language": "python",
   "name": "python2"
  },
  "language_info": {
   "codemirror_mode": {
    "name": "ipython",
    "version": 2
   },
   "file_extension": ".py",
   "mimetype": "text/x-python",
   "name": "python",
   "nbconvert_exporter": "python",
   "pygments_lexer": "ipython2",
   "version": "2.7.9"
  }
 },
 "nbformat": 4,
 "nbformat_minor": 0
}
