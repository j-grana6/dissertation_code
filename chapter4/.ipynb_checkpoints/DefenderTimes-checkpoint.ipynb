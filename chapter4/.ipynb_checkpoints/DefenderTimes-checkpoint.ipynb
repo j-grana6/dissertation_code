{
 "cells": [
  {
   "cell_type": "code",
   "execution_count": 3,
   "metadata": {
    "collapsed": false
   },
   "outputs": [],
   "source": [
    "from scipy.optimize import fmin_slsqp, fmin_cobyla\n",
    "import numpy as np\n",
    "from pandas import rolling_sum\n",
    "from matplotlib import pyplot as plt\n",
    "from statsmodels.tsa.arima_model import ARIMA\n",
    "from collections import defaultdict\n",
    "%matplotlib inline"
   ]
  },
  {
   "cell_type": "code",
   "execution_count": 110,
   "metadata": {
    "collapsed": false
   },
   "outputs": [],
   "source": [
    "class NormalApprox(object):\n",
    "    \"\"\"\n",
    "    The attacker strategy is a 1-d array.  The first tmax elements are his intensity\n",
    "    along a specfic edge at time equal to index.  The order is determined by \n",
    "    self.positive_edges\n",
    "    \n",
    "    \"\"\"\n",
    "    def __init__(self, tau, d, muB, r, nsamples, tmax,effort, varB, **kwargs):\n",
    "        self.tau = tau\n",
    "        self.d = d\n",
    "        self.muB = muB\n",
    "        self.varB = varB\n",
    "        self.r = r\n",
    "        self.nsamples = nsamples\n",
    "        self.tmax = tmax\n",
    "        self.positive_edges = [(np.nonzero(self.muB)[0][i],np.nonzero(self.muB)[1][i])\n",
    "                               for i in range(np.sum(muB>0))]\n",
    "        self.effort = effort\n",
    "        self.edges_into_node = self.get_node_edge_into()\n",
    "        self.edges_outof_node = self.get_node_edge_out()\n",
    "        self.networksamples = [self.draw_network_until_tmax() for i in range(nsamples)]\n",
    "        self.rollingsamples = [self.get_rolling_window_sums(x) for x in self.networksamples]\n",
    "        self.noattackerrolling = self.get_attacker_dicts(np.zeros(shape=self.tmax * \n",
    "                                                                  len(self.positive_edges)))[1]\n",
    "        \n",
    "    def get_node_edge_out(self):\n",
    "        outin = defaultdict(list)\n",
    "        for e in self.positive_edges:\n",
    "            outin[e[0]].append(e)\n",
    "        return outin\n",
    "    \n",
    "    def get_node_edge_into(self):\n",
    "        inout = defaultdict(list)\n",
    "        for e in self.positive_edges:\n",
    "            inout[e[1]].append(e)\n",
    "        return inout\n",
    "    \n",
    "    def draw_network_until_tmax(self):\n",
    "        activity = {}\n",
    "        for i in xrange(self.muB.shape[0]):\n",
    "            for j in xrange(self.muB.shape[0]): #Always square\n",
    "                if self.muB[i,j] >0:\n",
    "                    activity[(i,j)] = np.random.normal(loc = self.muB[i,j], \n",
    "                                                   scale = self.varB[i,j]**.5,\n",
    "                                                  size = self.tmax+self.tau)\n",
    "        return activity\n",
    "    \n",
    "    def get_rolling_window_sums(self, activity):\n",
    "        rw = {}\n",
    "        for key, val in activity.iteritems():\n",
    "            rw[key] = rolling_sum(activity[key], self.tau)[self.tau:]\n",
    "        return rw\n",
    "    \n",
    "    def get_likelihood_at_t(self, rolling_noise, rolling_attack):\n",
    "        lhoods = []\n",
    "        for key, val in rolling_noise.iteritems():\n",
    "            totalnoise = val + rolling_attack[key]\n",
    "            lhoodnum = self.normal_pdf(totalnoise, \n",
    "                                       self.tau*self.muB[key],\n",
    "                                       self.tau*self.varB[key])\n",
    "            lhooddenom = self.normal_pdf(totalnoise, \n",
    "                                         np.maximum(totalnoise, \n",
    "                                                    self.tau*self.muB[key]),\n",
    "                                          self.tau * self.varB[key])\n",
    "            lhoods.append(lhoodnum/lhooddenom)\n",
    "            #lhoods.append(lhoodnum)\n",
    "        lhoodatt = np.sum(np.log(np.asarray(lhoods)), axis=0)\n",
    "        return lhoodatt\n",
    "    \n",
    "    def normal_pdf(self, x, mean, variance):\n",
    "        # Waaay faster than Scipy\n",
    "        return 1./(2 * np.pi * variance)**.5 * np.exp(-.5 *(x - mean)**2/float(variance))\n",
    "    \n",
    "    def get_attacker_dicts(self, attackerstrat):\n",
    "        astratdict = {}\n",
    "        for ix, elem in enumerate(self.positive_edges):\n",
    "            astratdict[elem] = np.hstack((np.zeros(self.tau),\n",
    "                                          attackerstrat[ix*self.tmax:self.tmax*(ix+1)]))\n",
    "        rollingdict = self.get_rolling_window_sums(astratdict)\n",
    "        for key, val in astratdict.iteritems():\n",
    "            astratdict[key] = val[self.tau:]\n",
    "        return astratdict, rollingdict\n",
    "    \n",
    "    def general_constraint(self, x):\n",
    "        astrat = self.get_attacker_dicts(x)[0]\n",
    "        l1 = self.nonzero_constraint(x)\n",
    "        l2 = self.effort_constraint(astrat)\n",
    "        l3 = self.traversal_constraint(astrat)\n",
    "        return np.array(list(l1) + list(l2) + list(l3))\n",
    "        #return list(l1) +list(l3)\n",
    "    \n",
    "    def nonzero_constraint(self, x):\n",
    "        return x\n",
    "    \n",
    "    def effort_constraint(self, astrat):\n",
    "        activity = np.asarray(astrat.values())\n",
    "        totalact = np.sum(activity, axis=0)\n",
    "        return -totalact + self.effort\n",
    "    \n",
    "    def get_utility_given_alarm_time(self, alarmtime, astrat):\n",
    "        utility = 0\n",
    "        for edge, effort in astrat.iteritems():\n",
    "            utility += self.r[edge] * np.sum(effort[:alarmtime])\n",
    "        #print(alarmtime, utility)\n",
    "        return utility\n",
    "        \n",
    "    \n",
    "    def get_alarm_time(self, rolling_astrat, rolling_background):\n",
    "        lhoodatt = self.get_likelihood_at_t(rolling_background, rolling_astrat)\n",
    "        alarmtime = np.argmax(np.asarray(lhoodatt) < self.d)\n",
    "        if alarmtime ==0:\n",
    "            if lhoodatt[0] > self.d:\n",
    "                alarmtime = self.tmax\n",
    "            else:\n",
    "                alarmtime = 0\n",
    "        return alarmtime\n",
    "        \n",
    "    def expected_utility(self, x):\n",
    "        astrats = self.get_attacker_dicts(x)\n",
    "        u = 0\n",
    "        for realization in self.rollingsamples:\n",
    "            alarmtime = self.get_alarm_time(astrats[1], realization)\n",
    "            u += self.get_utility_given_alarm_time(alarmtime, astrats[0])\n",
    "        return - u/float(self.nsamples)\n",
    "        \n",
    "        \n",
    "    \n",
    "    def traversal_constraint(self, astrat):\n",
    "        allbalances = []\n",
    "        for key, val in self.edges_outof_node.iteritems():\n",
    "            if key != 0 : # No traversal for first node\n",
    "                total_out_at_t = np.sum(np.asarray([astrat[e] for e in val]), axis=0)\n",
    "                total_in_at_t = np.sum(np.asarray(\n",
    "                        [astrat[e] for e in self.edges_into_node[key]]), axis=0)\n",
    "                total_in_by_t = np.cumsum(np.hstack((np.array([0]), total_in_at_t)))[:-1]\n",
    "                allbalances.append(total_in_by_t - total_out_at_t)\n",
    "        return list(np.hstack(tuple(allbalances)))\n",
    "    \n",
    "    def solve_for_attacker(self):\n",
    "        res = fmin_slsqp(self.expected_utility, \n",
    "                         np.ones(self.tmax * len(self.positive_edges)),\n",
    "                         self.general_constraint)\n",
    "        return res\n",
    "        \n",
    "        \n",
    "    def attacker_strat_from_res(self, res):\n",
    "        astar = {}\n",
    "        for ix, edge in enumerate(self.positive_edges):\n",
    "            astar[edge] = np.round(res[ix*self.tmax: (ix + 1)*self.tmax], decimals=3)\n",
    "        return astar\n",
    "    \n",
    "    def x_from_astrat(self,astrat):\n",
    "        x=np.array([])\n",
    "        for edge in self.positive_edges:\n",
    "            x=np.hstack((x, astrat[edge]))\n",
    "        return list(x)\n",
    "    \n",
    "    def get_alarm_times_dist_no_attacker(self):\n",
    "        alarmtimes = []\n",
    "        for samp in self.rollingsamples:\n",
    "            alarmtimes.append(self.get_alarm_time(self.noattackerrolling, samp))\n",
    "        return alarmtimes\n",
    "        "
   ]
  },
  {
   "cell_type": "code",
   "execution_count": 111,
   "metadata": {
    "collapsed": true
   },
   "outputs": [],
   "source": [
    "parameters = { 'tau': 2, #Window\n",
    "                'd': -2.,# Threshold\n",
    "                'muB' : np.array([[0,20,20,0], [0.,0.,20.,20.],[0.,0.,0.,20.], [0,0,0,0]]), #Benign Transmission\n",
    "                'r' : np.array([[0,0,0,0], [0,0,0,1],[0,0,0,1], [0,0,0,0]]), # Rewards\n",
    "                'nsamples' : 1000, # Samples to approximate EU\n",
    "                'tmax' : 10, # Endtime\n",
    "                'effort': 3.,#maxeffort\n",
    "                'varB': np.array([[0,1.,1.,0], [0,0,1.,1.],[0.,0,0,1], [0,0,0,0]]) #Benign Variance\n",
    "             }\n",
    "Model1 = NormalApprox(**parameters)"
   ]
  },
  {
   "cell_type": "code",
   "execution_count": 112,
   "metadata": {
    "collapsed": false
   },
   "outputs": [],
   "source": [
    "parameters['d']= -1.0\n",
    "parameters['tau'] = 2\n",
    "Model1 = NormalApprox(**parameters)\n",
    "times = Model1.get_alarm_times_dist_no_attacker()"
   ]
  },
  {
   "cell_type": "code",
   "execution_count": 113,
   "metadata": {
    "collapsed": false
   },
   "outputs": [
    {
     "data": {
      "text/plain": [
       "(array([ 433.,  204.,  122.,   79.,   59.,   39.,   23.,   25.,    5.,   11.]),\n",
       " array([  0.,   1.,   2.,   3.,   4.,   5.,   6.,   7.,   8.,   9.,  10.]),\n",
       " <a list of 10 Patch objects>)"
      ]
     },
     "execution_count": 113,
     "metadata": {},
     "output_type": "execute_result"
    },
    {
     "data": {
      "image/png": "[encoded data removed]",
      "text/plain": [
       "<matplotlib.figure.Figure at 0x7f4db03d9750>"
      ]
     },
     "metadata": {},
     "output_type": "display_data"
    }
   ],
   "source": [
    "plt.hist(times)"
   ]
  },
  {
   "cell_type": "markdown",
   "metadata": {},
   "source": [
    "# Write a Loop get alarm time for the defender with a ton of combinations of tau and d."
   ]
  },
  {
   "cell_type": "code",
   "execution_count": 87,
   "metadata": {
    "collapsed": false
   },
   "outputs": [
    {
     "name": "stdout",
     "output_type": "stream",
     "text": [
      "Optimization terminated successfully.    (Exit mode 0)\n",
      "            Current function value: -1.17928333894\n",
      "            Iterations: 28\n",
      "            Function evaluations: 2936\n",
      "            Gradient evaluations: 28\n",
      "1 loops, best of 1: 9min 34s per loop\n"
     ]
    }
   ],
   "source": [
    "%timeit -r1 -n1 res = fmin_slsqp(Model1.expected_utility, []*20*5, f_ieqcons = Model1.general_constraint)"
   ]
  },
  {
   "cell_type": "code",
   "execution_count": 114,
   "metadata": {
    "collapsed": false
   },
   "outputs": [],
   "source": [
    "res = fmin_cobyla(Model1.expected_utility, [0]*10*5, cons = [Model1.general_constraint], maxfun=3000)"
   ]
  },
  {
   "cell_type": "code",
   "execution_count": 115,
   "metadata": {
    "collapsed": false
   },
   "outputs": [
    {
     "data": {
      "text/plain": [
       "{(0, 1): array([ 0.393,  0.004,  0.47 ,  0.131,  0.348,  0.001,  0.01 ,  0.151,\n",
       "         0.001,  0.006]),\n",
       " (0, 2): array([ 0.631,  0.   ,  0.184,  0.021,  0.185,  0.005,  0.009,  0.007,\n",
       "         0.001,  0.368]),\n",
       " (1, 2): array([-0.   , -0.   ,  0.   ,  0.075,  0.01 ,  0.004,  0.004,  0.271,\n",
       "         0.001,  0.001]),\n",
       " (1, 3): array([ 0.   ,  0.393,  0.395,  0.732,  0.157,  1.26 ,  1.253,  0.634,\n",
       "         1.43 ,  0.021]),\n",
       " (2, 3): array([ 0.   ,  0.631,  0.207,  0.816,  0.901,  0.349,  0.965,  1.076,\n",
       "         0.877,  0.936])}"
      ]
     },
     "execution_count": 115,
     "metadata": {},
     "output_type": "execute_result"
    }
   ],
   "source": [
    "Model1.attacker_strat_from_res(res)"
   ]
  },
  {
   "cell_type": "code",
   "execution_count": null,
   "metadata": {
    "collapsed": true
   },
   "outputs": [],
   "source": []
  }
 ],
 "metadata": {
  "kernelspec": {
   "display_name": "Python 2",
   "language": "python",
   "name": "python2"
  },
  "language_info": {
   "codemirror_mode": {
    "name": "ipython",
    "version": 2
   },
   "file_extension": ".py",
   "mimetype": "text/x-python",
   "name": "python",
   "nbconvert_exporter": "python",
   "pygments_lexer": "ipython2",
   "version": "2.7.9"
  }
 },
 "nbformat": 4,
 "nbformat_minor": 0
}
