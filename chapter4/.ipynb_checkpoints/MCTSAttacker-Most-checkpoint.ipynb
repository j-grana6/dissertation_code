{
 "cells": [
  {
   "cell_type": "markdown",
   "metadata": {},
   "source": [
    "# Monte Carlo Tree Search for Attacker Traversal"
   ]
  },
  {
   "cell_type": "markdown",
   "metadata": {},
   "source": [
    "###### First: Import the necessary packages"
   ]
  },
  {
   "cell_type": "code",
   "execution_count": 1,
   "metadata": {
    "collapsed": false
   },
   "outputs": [],
   "source": [
    "import numpy as np\n",
    "from collections import deque, defaultdict\n",
    "from scipy.stats.distributions import poisson, expon\n",
    "from scipy.stats import truncexpon\n",
    "import copy\n",
    "from matplotlib import pyplot as plt\n",
    "import operator\n",
    "%matplotlib inline"
   ]
  },
  {
   "cell_type": "markdown",
   "metadata": {},
   "source": [
    "###### MCTS Class"
   ]
  },
  {
   "cell_type": "markdown",
   "metadata": {},
   "source": [
    "This class takes as an input the main game parameters and provides methods to determine the optimal\n",
    "policy as well as output the expected utility.  "
   ]
  },
  {
   "cell_type": "code",
   "execution_count": 58,
   "metadata": {
    "collapsed": false
   },
   "outputs": [],
   "source": [
    "class MCTSAttacker(object):\n",
    "        \"\"\"\n",
    "        Class for solving for attacker traversal strategy\n",
    "        \n",
    "        Parameters\n",
    "        ----------\n",
    "        \n",
    "        lambdaB : 2-d array\n",
    "            Matrix giving the rate of benign message transmission\n",
    "        \n",
    "        tbar : float\n",
    "            Time the attacker enters the network\n",
    "        \n",
    "        tau : float\n",
    "            Defender Window Length\n",
    "            \n",
    "        d : float\n",
    "            Defender threshold\n",
    "        \n",
    "        gamma : float\n",
    "            Time Between Attacker Moves\n",
    "            \n",
    "        lrdetector : bool\n",
    "            If True, d is a threshold for a likelihood ratio.  Otherwise,\n",
    "            it definies a threshold for the likelihood of the data under \n",
    "            normal conditions.\n",
    "            \n",
    "        c : float\n",
    "            Tuning parameter for MCTS algorithm\n",
    "        \n",
    "        Rfirst : 2-d array\n",
    "            A matrix the represents the reward the attacker earns the first time\n",
    "            he sends a message.  i.e. Rfirst[i,j] is the reward the attacker earns \n",
    "            the first time the attacker sends a message from i to j,\n",
    "            \n",
    "        Radditional : 2-d boolean array\n",
    "            Radditional[i,j] should be true if the attacker earns a reward everytime\n",
    "            he sends a message from i to j, not just the first.  \n",
    "            \n",
    "        Attributes\n",
    "        ----------\n",
    "        vc : dict\n",
    "            A nested dictionary (vc stands for values/counts). vc[s]. where\n",
    "            s is a string representing a possible information state of the attacker,\n",
    "            gives a dictionary keyed by possible actions the attacker can take in \n",
    "            vc[s].  vc[s][a], where 'a' is a possible action the attacker can take in\n",
    "            state s is a tuple (v,c) where v is the average total reward from choosing\n",
    "            action a in information state s and c is the number of times a was selected\n",
    "            in state s.  vc[s]['n'] also gives the total number of times vc[s] was \n",
    "            visited.\n",
    "        \"\"\"\n",
    "        def __init__(self, lambdaB, tbar, tau, d, gamma, lrdetector, c, Rfirst, Radditional, \n",
    "                     lookahead, **kwargs):\n",
    "            self.lambdaB = lambdaB\n",
    "            self.tbar = tbar\n",
    "            self.tau = tau\n",
    "            self.d = d\n",
    "            self.c = c\n",
    "            self.gamma = gamma\n",
    "            self.lrdetector = lrdetector\n",
    "            self.Rfirst = Rfirst\n",
    "            self.Radditional = Radditional\n",
    "            self.vc = {}\n",
    "            self.state_visits = {}\n",
    "            # Below is all precomputation to speed up the MCTS\n",
    "            self._first_move = self._get_firstmoves()\n",
    "            self._event_rate = 1. / np.sum(lambdaB)\n",
    "            self._normed_rowsums = np.sum(lambdaB, axis=1) / float(np.sum(lambdaB))\n",
    "            #self._normed_rowsums = self._normed_rowsums / np.sum(self._normed_rowsums)\n",
    "            self._n_hosts = lambdaB.shape[0]\n",
    "            self._hosts_arr = np.arange(self._n_hosts)\n",
    "            self._network_state = self._initialize_network_state()\n",
    "            self._action_counts = defaultdict(int)\n",
    "            # _network_state at a given t is all messages sent in the\n",
    "            # last t-tau\n",
    "            self.infected = [0]\n",
    "            if not lrdetector:\n",
    "                self._intrusion_criteria = self._simple_detector\n",
    "            self.empirical_transitions =defaultdict(list)\n",
    "            self._lognfact = self._genlognfact()\n",
    "            self.lookahead = lookahead\n",
    "            \n",
    "        def _genlognfact(self):\n",
    "            lnf = {}\n",
    "            for i in range(2,500):\n",
    "                lnf[i-1] = np.sum(np.log(np.arange(1,i)))\n",
    "            return lnf\n",
    "        \n",
    "\n",
    "        \n",
    "        def _get_firstmoves(self):\n",
    "            \"\"\"\n",
    "            Returns a list of strings of the attacker's first possible moves.\n",
    "            \"\"\"\n",
    "            return [(0,x) for x in np.nonzero(self.lambdaB[0,:])[0]]\n",
    "        \n",
    "        def _initialize_network_state(self):\n",
    "            network_state = {}\n",
    "            for i in self._hosts_arr:\n",
    "                for j in self._hosts_arr:\n",
    "                    if self.lambdaB[i,j]>0:\n",
    "                        network_state[(i,j)] = []\n",
    "            return network_state\n",
    "        \n",
    "        def _simple_detector(self):\n",
    "            logprob = 0\n",
    "            for key, val in self._network_state.iteritems():\n",
    "                count = len(val)\n",
    "                #To account for low likelihoods due to inactivity\n",
    "                if count >= self.tau*self.lambdaB[key]:\n",
    "                    if count > 0:\n",
    "                    #logprob += poisson.logpmf(count, self.tau * self.lambdaB[key])\n",
    "                        logprob += np.log(self.lambdaB[key] * self.tau) * count \\\n",
    "                            - (self.lambdaB[key]*self.tau) - self._lognfact[count]\n",
    "                        #np.sum(np.log(np.arange(1,count+1)))\n",
    "                    else:\n",
    "                        logprob +=-self.lambdaB[key]*self.tau\n",
    "                else:\n",
    "                    if count >0:\n",
    "                        logprob += np.log(count)*count -count - self._lognfact[count]\n",
    "            return logprob\n",
    "\n",
    "        \n",
    "        def get_action_at_state(self, informationstate, nmin, infected_at_state,t):\n",
    "            \"\"\"\n",
    "            Loops over simulate function to find the optimal attacker policy.\n",
    "            \n",
    "            Parameters\n",
    "            ----------\n",
    "            \n",
    "            varlimit : float\n",
    "                The simulation stops when the running variance of the maximum \n",
    "                expected utility of the last 'varwindow' MCTS simulations\n",
    "                is below varlimit.\n",
    "                \n",
    "            varwindow : float\n",
    "                See varlimit\n",
    "            \"\"\"\n",
    "            n=0\n",
    "            maxall = 40\n",
    "            while n < nmin:\n",
    "                if n < nmin/5.:\n",
    "                    self.c=100.\n",
    "                if (n >nmin/5.) and (n<2*nmin/5.):\n",
    "                    self.c = 1.\n",
    "                if (n>2*nmin/5.) and (n<3*nmin/5.):\n",
    "                    self.c=100.\n",
    "                if (n>3*nmin/5.):\n",
    "                    self.c = 1.\n",
    "                #self.c = np.random.randint(200)\n",
    "                #self.c = 50*(1+np.sin(.05*(n+1)))\n",
    "                #self.c = 100 -n*(100./nmin)\n",
    "                #self.c = -0.0007840*n**2+0.3920*n+1.000\n",
    "                #self.c = -(4*maxall/float((nmin**2)))*n**2 + (4*maxall/float(nmin))*n\n",
    "                self.infected = copy.deepcopy(infected_at_state)\n",
    "                if informationstate =='start,':\n",
    "                    self._draw_initial_state()\n",
    "                else:\n",
    "                    ix = np.random.randint(len(self.empirical_transitions[informationstate]))\n",
    "                    self._network_state = copy.deepcopy(self.empirical_transitions[informationstate][ix])\n",
    "                    \n",
    "                self._action_counts = defaultdict(int)\n",
    "                self.simulate(informationstate, t, False)\n",
    "                n += 1\n",
    "#                 if n == nmin -1:\n",
    "#                     print \"The current rewards are\", self.vc[informationstate]\n",
    "#                     print \"\\n\"\n",
    "#                     print \"Do you want to keep sampling\"\n",
    "#                     answer = raw_input()\n",
    "#                     if answer == 'y':\n",
    "#                         n = int(raw_input(\"what Would you like the new N to be?\"))\n",
    "#                         self.c = float(raw_input(\"What would you like the new C to be?\"))\n",
    "            try :\n",
    "                self.empirical_transitions.pop(informationstate)\n",
    "            except KeyError:\n",
    "                pass\n",
    "            bestaction = 'nm'\n",
    "            besteu = 0\n",
    "            for key, val in self.vc[informationstate].iteritems():\n",
    "                if val[0] > besteu:\n",
    "                    besteu = val[0]\n",
    "                    bestaction = key\n",
    "            print bestaction\n",
    "            return bestaction\n",
    "        \n",
    "        def _draw_initial_state(self):\n",
    "            self._network_state = self._initialize_network_state()\n",
    "            t = np.random.exponential(self._event_rate)\n",
    "            while t < self.tbar:\n",
    "                nextsender = np.random.choice(self._n_hosts, p=self._normed_rowsums)\n",
    "                nextreceiver = np.random.choice(self._n_hosts, \n",
    "                                                p=self.lambdaB[nextsender] / \n",
    "                                                float(np.sum(self.lambdaB[nextsender])) )\n",
    "                self._network_state[(nextsender, nextreceiver)].append(t)\n",
    "                t += np.random.exponential(self._event_rate)\n",
    "                self._remove_old(t)\n",
    "        \n",
    "        def _remove_old(self, t):\n",
    "            for key, val in self._network_state.iteritems():\n",
    "                ix = np.searchsorted(val, t - self.tau)\n",
    "                self._network_state[key] = val[ix:]\n",
    "            \n",
    "        def simulate(self, informationstate, t, alarm=False, depth= 1):\n",
    "            if (alarm) or (depth>self.lookahead):\n",
    "                return 0\n",
    "            if informationstate not in self.vc.keys():\n",
    "                availableactions = self._get_available_actions(self.infected)\n",
    "                self.vc[informationstate] = {x: [0.,0.] for x in availableactions}\n",
    "                self.vc[informationstate]['nm'] = [0.,0.] \n",
    "                self.state_visits[informationstate] = 0\n",
    "                return self.rollout(informationstate, t, depth=depth)\n",
    "            action = 'nm'\n",
    "            weighted_v_max = 0\n",
    "#             #Boltzman Selection\n",
    "#             utils = [v[0] for v in self.vc[informationstate].values()]\n",
    "#             boltzman = np.exp(self.c * np.asarray(utils))\n",
    "#             probs = boltzman /sum(boltzman)\n",
    "#             action = self.vc[informationstate].keys()[np.random.choice(len(utils), p=probs)]\n",
    "            \n",
    "            ##3 Uncomment for UCT\n",
    "            for key, val in self.vc[informationstate].iteritems():\n",
    "                if key != 'n':\n",
    "                    v = val[0] \n",
    "                    correction = np.log(self.state_visits[informationstate] +1) / (val[1] + 1)\n",
    "                    weighted_v = v + self.c * correction**.5\n",
    "                    if weighted_v >= weighted_v_max:\n",
    "                        weighted_v_max = weighted_v\n",
    "                        action = key\n",
    "            self._action_counts[action] += 1\n",
    "            if action != 'nm':\n",
    "                if action[1] not in self.infected:\n",
    "                    self.infected.append(action[1])\n",
    "                self._network_state[action].append(t)\n",
    "                newinformationstate =  informationstate + str(action[0]) + '-' + str(action[1]) +',' # Update observation\n",
    "            else:\n",
    "                newinformationstate = informationstate + 'nm,' # Update observation\n",
    "            thisis = copy.deepcopy(informationstate)\n",
    "            self._remove_old(t)\n",
    "            pdata = self._intrusion_criteria()\n",
    "            if pdata < self.d:\n",
    "                immediate_r = 0 \n",
    "                alarm = True\n",
    "                #print \"action\", action, \"set off the alarm at\", t\n",
    "            else:\n",
    "                immediate_r = self.get_reward(self._action_counts, action)\n",
    "                alarm = self._sample_until_next_action(t) # Update state\n",
    "            if ((not alarm) and (depth < 5)):\n",
    "                self.empirical_transitions[newinformationstate].append(copy.deepcopy(self._network_state))\n",
    "            newt = t+ self.gamma\n",
    "            r = immediate_r + self.simulate(newinformationstate, newt, alarm, depth=depth+1)\n",
    "            self.vc[informationstate][action][1] += 1\n",
    "            self.vc[informationstate][action][0] += (r - self.vc[thisis][action][0]) \\\n",
    "                /float(self.vc[thisis][action][1])\n",
    "\n",
    "            self.state_visits[thisis] += 1\n",
    "            return r\n",
    "                \n",
    "            \n",
    "        def _get_available_actions(self, infected):\n",
    "            actions = []\n",
    "            for u in infected:\n",
    "                toadd = [(u,v) for v in self._hosts_arr if self.lambdaB[u,v] > 0]\n",
    "                actions.extend(toadd)\n",
    "            return actions\n",
    "        \n",
    "        def rollout(self, informationstate, t, alarm=False, depth=1):\n",
    "            if alarm or (depth > self.lookahead):\n",
    "                return 0\n",
    "            else:\n",
    "                availableactions = self._get_available_actions(self.infected)\n",
    "                action = availableactions[np.random.choice(len(availableactions))]\n",
    "                self._action_counts[action] += 1\n",
    "                if action != 'nm':\n",
    "                    if action[1] not in self.infected:\n",
    "                        self.infected.append(action[1])\n",
    "                    self._network_state[action].append(t)\n",
    "                    newinformationstate = informationstate + str(action[0]) \\\n",
    "                        + '-' + str(action[1]) +',' # Update observation\n",
    "                else:\n",
    "                    newinformationstate = informationstate + 'nm,' # Update observation\n",
    "                self._remove_old(t)\n",
    "                pdata = self._intrusion_criteria()\n",
    "                if pdata < self.d:\n",
    "                    r = 0#self.rollout(informationstate, t, True)\n",
    "                    alarm = True\n",
    "                else:\n",
    "                    r = self.get_reward(self._action_counts, action)\n",
    "                    alarm = self._sample_until_next_action(t) # Update state\n",
    "                if ((not alarm) and (depth < 5)):\n",
    "                    self.empirical_transitions[newinformationstate].append(copy.deepcopy(self._network_state))\n",
    "                newt = t + self.gamma\n",
    "                return r + self.rollout(newinformationstate, newt, alarm, depth+1)\n",
    "            \n",
    "#         def _sample_until_next_action(self, t):\n",
    "#             \"\"\"\n",
    "#             Draws samples until the attacker's next time to act.   First, it\n",
    "#             samples from a distribution to determine if there is a message before\n",
    "#             the next attacker action.  Then, conditional on the event occuring, it\n",
    "#             samples the event time.\n",
    "            \n",
    "#              generates  a sample from\n",
    "#             the exponential distirbuiton with parameter lambda truncated at T\n",
    "#             \"\"\"\n",
    "#             deltat = 0\n",
    "#             u = np.random.random()\n",
    "#             benign_message = u < (1-np.exp(-1./self._event_rate * (self.gamma - deltat)))\n",
    "#             # way slower\n",
    "#             benign_messageold = u < expon.cdf(self.gamma - deltat, \n",
    "#                                                  scale = self._event_rate )\n",
    "#             alarm = False\n",
    "#             while ((benign_message) and (not alarm)):\n",
    "#                 R = np.random.random()*(1-np.exp(-(self.gamma-deltat)*1./self._event_rate))\n",
    "#                 change =-np.log(1-R)*self._event_rate\n",
    "#                 deltat += change\n",
    "#                 nextsender = np.random.choice(self._n_hosts, p=self._normed_rowsums)\n",
    "#                 nextreceiver = np.random.choice(self._n_hosts, \n",
    "#                                                 p=self.lambdaB[nextsender] / \n",
    "#                                                 float(np.sum(self.lambdaB[nextsender])) )\n",
    "#                 self._network_state[(nextsender, nextreceiver)].append(t + deltat )\n",
    "#                 self._remove_old(t+deltat)\n",
    "#                 alarm = self._intrusion_criteria() < self.d\n",
    "#                 u2 = np.random.random()\n",
    "#                 benign_message = u2 < (1-np.exp((-1./self._event_rate) * (self.gamma - deltat)))\n",
    "#                 benign_messageold = u2 < expon.cdf(self.gamma - deltat, \n",
    "#                      scale = self._event_rate )\n",
    "#             return alarm\n",
    "                    \n",
    "        def _sample_until_next_action(self, t):\n",
    "            \"\"\"\n",
    "            Draws samples until the attacker's next time to act.   First, it\n",
    "            samples from a distribution to determine if there is a message before\n",
    "            the next attacker action.  Then, conditional on the event occuring, it\n",
    "            samples the event time.\n",
    "            \n",
    "             generates  a sample from\n",
    "            the exponential distirbuiton with parameter lambda truncated at T\n",
    "            \"\"\"\n",
    "            deltat = 0\n",
    "            u = np.random.random()\n",
    "            #benign_message = np.random.random() < expon.cdf(self.gamma - deltat, \n",
    "            #                                                scale = self._event_rate )\n",
    "            #way slower\n",
    "            #benign_message = u < expon.cdf(self.gamma - deltat, \n",
    "            #                                                scale = self._event_rate )\n",
    "            benign_message = u < (1-np.exp(-1./self._event_rate * (self.gamma - deltat)))\n",
    "            #print(benign_message==benign_messagenew)\n",
    "\n",
    "            alarm = False\n",
    "            while ((benign_message) and (not alarm)):\n",
    "                R = np.random.random()*(1-np.exp(-(self.gamma-deltat)*1./self._event_rate))\n",
    "                change =-np.log(1-R)*self._event_rate\n",
    "                deltat += change\n",
    "                nextsender = np.random.choice(self._n_hosts, p=self._normed_rowsums)\n",
    "                nextreceiver = np.random.choice(self._n_hosts, \n",
    "                                                p=self.lambdaB[nextsender] / \n",
    "                                                float(np.sum(self.lambdaB[nextsender])) )\n",
    "                self._network_state[(nextsender, nextreceiver)].append(t + deltat )\n",
    "                self._remove_old(t+deltat)\n",
    "                alarm = self._intrusion_criteria() < self.d\n",
    "                u2 = np.random.random()\n",
    "                benign_message = u2 < (1-np.exp(-1./self._event_rate * (self.gamma - deltat)))\n",
    "            return alarm\n",
    "            \n",
    "        def get_reward(self, counts, action):\n",
    "            if action == 'nm':\n",
    "                r = 0.\n",
    "            elif counts[action] == 1:\n",
    "                r = self.Rfirst[action]\n",
    "            elif counts[action] > 1:\n",
    "                if self.Radditional[action]==True:\n",
    "                    r = self.Rfirst[action]\n",
    "                else:\n",
    "                    r = 0\n",
    "            return r\n",
    "                \n",
    "        def get_strategy(self, nsteps, nmin):\n",
    "            informationstate ='start,'\n",
    "            infected=[0]\n",
    "            moves = []\n",
    "            for j in range(nsteps):\n",
    "                #print(informationstate, infected)\n",
    "                tinput = self.tbar +j*self.gamma\n",
    "                next_move = self.get_action_at_state(informationstate, nmin, infected,tinput)\n",
    "                if next_move != 'nm':\n",
    "                    informationstate += str(next_move[0]) + '-' + str(next_move[1]) +','\n",
    "                    if next_move[1] not in infected:\n",
    "                        infected.append(next_move[1])\n",
    "                else:\n",
    "                    informationstate += next_move+','\n",
    "                moves.append(next_move)\n",
    "            return moves\n",
    "        \n",
    "        def sample_attacker_utility(self, attackerstrat):\n",
    "            \"\"\"\n",
    "            Returns the attackers expected utility from playing attackerstrat\n",
    "            and the defenders utility when an attacker is present.\n",
    "            \"\"\"\n",
    "            self._draw_initial_state()\n",
    "            t = self.tbar\n",
    "            counts = defaultdict(int)\n",
    "            alarm=False\n",
    "            attackerreward  = 0\n",
    "            for a in attackerstrat:\n",
    "                if a != 'nm':\n",
    "                    self._network_state[a].append(t)\n",
    "                if self._intrusion_criteria() < self.d:\n",
    "                    return attackerreward\n",
    "                if not alarm:\n",
    "                    counts[a] += 1\n",
    "                    attackerreward  += self.get_reward(counts, a)\n",
    "                    alarm = self._sample_until_next_action(t)\n",
    "                    if alarm:\n",
    "                        return attackerreward\n",
    "                    else:\n",
    "                        t += self.gamma\n",
    "            return attackerreward\n",
    "        \n",
    "        def compute_attacker_eu(self, attackerstrat,N):\n",
    "            sumus = 0\n",
    "            for i in xrange(N):\n",
    "                sumus += self.sample_attacker_utility(attackerstrat)\n",
    "            return sumus/float(N)\n",
    "\n",
    "            \n",
    "#         def extract_strategy(self):\n",
    "#             \"\"\"\n",
    "#             Using the entries of self.vc, this function returns\n",
    "#             a list of moves in the order the attacker chooses his.\n",
    "#             \"\"\"\n",
    "#             infostate = 'start,'\n",
    "#             actions = []\n",
    "#             while True:\n",
    "#                 try:\n",
    "#                     maxaction ='nm'\n",
    "#                     maxvalue = 0\n",
    "#                     for key, val in self.vc[infostate].iteritems():\n",
    "#                         if val[0] > maxvalue:\n",
    "#                             maxaction = key\n",
    "#                             maxvalue = val[0]\n",
    "#                     actions.append(maxaction)\n",
    "#                     if maxaction != 'nm':\n",
    "#                         infostate += str(maxaction[0]) + '-'+ str(maxaction[1]) +','\n",
    "#                     else:\n",
    "#                         infostate +='nm,'\n",
    "#                     print(infostate)\n",
    "#                 except KeyError:\n",
    "#                     return actions\n",
    "                    \n",
    "            \n",
    "            "
   ]
  },
  {
   "cell_type": "code",
   "execution_count": 59,
   "metadata": {
    "collapsed": false
   },
   "outputs": [],
   "source": [
    "params = {'Radditional' : np.array([[False,False,False],[False,False,True], [False,False,False]]),\n",
    "          'Rfirst' : np.array([[0,0,0],[0,0,1], [0,0,0]]),\n",
    "          'lambdaB' : np.array([[0,.5,0], [.5,0,.1],[.5,.5,0]]),\n",
    "          'gamma' : 1.,\n",
    "          'c' : 1000,\n",
    "          'd' : -18,\n",
    "          'tbar': 20,\n",
    "          'tau': 5,\n",
    "          'lrdetector' : False,\n",
    "          'lookahead':30\n",
    "          }\n",
    "          "
   ]
  },
  {
   "cell_type": "code",
   "execution_count": 60,
   "metadata": {
    "collapsed": false
   },
   "outputs": [
    {
     "data": {
      "text/plain": [
       "{'nm': [4.7124735729386789, 473.0],\n",
       " (0, 1): [4.7130242825607072, 453.0],\n",
       " (1, 0): [4.7127071823204405, 362.0],\n",
       " (1, 2): [4.7074148296593181, 499.0]}"
      ]
     },
     "execution_count": 60,
     "metadata": {},
     "output_type": "execute_result"
    }
   ],
   "source": [
    "Model1.vc['start,0-1,']"
   ]
  },
  {
   "cell_type": "code",
   "execution_count": 61,
   "metadata": {
    "collapsed": true
   },
   "outputs": [],
   "source": [
    "results = {}"
   ]
  },
  {
   "cell_type": "code",
   "execution_count": 62,
   "metadata": {
    "collapsed": true
   },
   "outputs": [],
   "source": [
    "Model1 = MCTSAttacker(**params)"
   ]
  },
  {
   "cell_type": "code",
   "execution_count": 63,
   "metadata": {
    "collapsed": false
   },
   "outputs": [
    {
     "name": "stdout",
     "output_type": "stream",
     "text": [
      "nm\n",
      "(0, 1)\n",
      "(1, 2)\n",
      "(1, 2)\n",
      "(1, 2)\n",
      "(1, 2)\n",
      "nm\n",
      "(1, 2)\n",
      "(1, 2)\n",
      "(1, 2)\n",
      "(1, 2)\n",
      "(1, 2)\n",
      "nm\n",
      "(1, 2)\n",
      "(1, 2)\n",
      "(1, 2)\n",
      "(1, 2)\n",
      "(1, 2)\n",
      "(2, 0)\n",
      "(1, 2)\n"
     ]
    }
   ],
   "source": [
    "results['experiment1'] = [copy.deepcopy(params), Model1.get_strategy(20,5000)]"
   ]
  },
  {
   "cell_type": "code",
   "execution_count": 71,
   "metadata": {
    "collapsed": true
   },
   "outputs": [],
   "source": [
    "params['gamma'] = .5\n",
    "params['c'] = 20"
   ]
  },
  {
   "cell_type": "code",
   "execution_count": 72,
   "metadata": {
    "collapsed": true
   },
   "outputs": [],
   "source": [
    "Model2 = MCTSAttacker(**params)"
   ]
  },
  {
   "cell_type": "code",
   "execution_count": null,
   "metadata": {
    "collapsed": false
   },
   "outputs": [],
   "source": [
    "results['experiment2'] = [copy.deepcopy(params), Model2.get_strategy(40,10000)]"
   ]
  },
  {
   "cell_type": "code",
   "execution_count": 67,
   "metadata": {
    "collapsed": false
   },
   "outputs": [
    {
     "data": {
      "text/plain": [
       "7.68075"
      ]
     },
     "execution_count": 67,
     "metadata": {},
     "output_type": "execute_result"
    }
   ],
   "source": [
    "Model1.compute_attacker_eu(results['experiment1'][1], 4000)"
   ]
  },
  {
   "cell_type": "code",
   "execution_count": 68,
   "metadata": {
    "collapsed": false
   },
   "outputs": [
    {
     "data": {
      "text/plain": [
       "5.1387499999999999"
      ]
     },
     "execution_count": 68,
     "metadata": {},
     "output_type": "execute_result"
    }
   ],
   "source": [
    "Model2.compute_attacker_eu(results['experiment2'][1], 4000)"
   ]
  },
  {
   "cell_type": "code",
   "execution_count": 70,
   "metadata": {
    "collapsed": false
   },
   "outputs": [
    {
     "data": {
      "text/plain": [
       "7.7395"
      ]
     },
     "execution_count": 70,
     "metadata": {},
     "output_type": "execute_result"
    }
   ],
   "source": [
    "Model2.compute_attacker_eu(os, 4000)"
   ]
  },
  {
   "cell_type": "code",
   "execution_count": 327,
   "metadata": {
    "collapsed": false
   },
   "outputs": [
    {
     "data": {
      "text/plain": [
       "0.5"
      ]
     },
     "execution_count": 327,
     "metadata": {},
     "output_type": "execute_result"
    }
   ],
   "source": [
    "Model2.gamma"
   ]
  },
  {
   "cell_type": "code",
   "execution_count": null,
   "metadata": {
    "collapsed": true
   },
   "outputs": [],
   "source": [
    "params['gamma'] = 2.\n",
    "Model3 = MCTSAttacker(**params)\n",
    "results['experiment3'] = [copy.deepcopy(params), Model3.get_strategy(20,6000)]\n",
    "Model3.compute_attacker_eu(results['experiment3'][1], 4000)"
   ]
  },
  {
   "cell_type": "code",
   "execution_count": 69,
   "metadata": {
    "collapsed": false
   },
   "outputs": [],
   "source": [
    "os = []\n",
    "for x in results['experiment1'][1]:\n",
    "    os.append(x)\n",
    "    os.append('nm')"
   ]
  },
  {
   "cell_type": "code",
   "execution_count": 334,
   "metadata": {
    "collapsed": false
   },
   "outputs": [
    {
     "data": {
      "text/plain": [
       "{'experiment1': [{'Radditional': array([[False, False, False],\n",
       "          [False, False,  True],\n",
       "          [False, False, False]], dtype=bool), 'Rfirst': array([[0, 0, 0],\n",
       "          [0, 0, 1],\n",
       "          [0, 0, 0]]), 'c': 10, 'd': -18, 'gamma': 1.0, 'lambdaB': array([[ 0. ,  0.5,  0. ],\n",
       "          [ 0.5,  0. ,  0.1],\n",
       "          [ 0.5,  0.5,  0. ]]), 'lookahead': 30, 'lrdetector': False, 'tau': 5, 'tbar': 20},\n",
       "  [(0, 1),\n",
       "   (1, 2),\n",
       "   (1, 2),\n",
       "   (1, 2),\n",
       "   'nm',\n",
       "   (1, 2),\n",
       "   (1, 2),\n",
       "   (1, 2),\n",
       "   (1, 2),\n",
       "   'nm',\n",
       "   (1, 2),\n",
       "   (2, 0),\n",
       "   (1, 2),\n",
       "   (1, 2),\n",
       "   (1, 2),\n",
       "   'nm',\n",
       "   (1, 2),\n",
       "   (0, 1),\n",
       "   (1, 2),\n",
       "   (1, 2)]],\n",
       " 'experiment2': [{'Radditional': array([[False, False, False],\n",
       "          [False, False,  True],\n",
       "          [False, False, False]], dtype=bool), 'Rfirst': array([[0, 0, 0],\n",
       "          [0, 0, 1],\n",
       "          [0, 0, 0]]), 'c': 20, 'd': -18, 'gamma': 0.5, 'lambdaB': array([[ 0. ,  0.5,  0. ],\n",
       "          [ 0.5,  0. ,  0.1],\n",
       "          [ 0.5,  0.5,  0. ]]), 'lookahead': 30, 'lrdetector': False, 'tau': 5, 'tbar': 20},\n",
       "  [(0, 1),\n",
       "   (1, 2),\n",
       "   (1, 2),\n",
       "   (1, 2),\n",
       "   (1, 2),\n",
       "   'nm',\n",
       "   'nm',\n",
       "   'nm',\n",
       "   'nm',\n",
       "   'nm',\n",
       "   'nm',\n",
       "   (1, 2),\n",
       "   (1, 2),\n",
       "   (1, 2),\n",
       "   'nm',\n",
       "   (1, 2),\n",
       "   'nm',\n",
       "   'nm',\n",
       "   'nm',\n",
       "   'nm',\n",
       "   (1, 2),\n",
       "   'nm',\n",
       "   (1, 2),\n",
       "   (1, 2),\n",
       "   'nm',\n",
       "   'nm',\n",
       "   (1, 2),\n",
       "   'nm',\n",
       "   (1, 2),\n",
       "   'nm',\n",
       "   'nm',\n",
       "   (1, 2),\n",
       "   'nm',\n",
       "   (1, 2),\n",
       "   (1, 2),\n",
       "   'nm',\n",
       "   'nm',\n",
       "   'nm',\n",
       "   (1, 2),\n",
       "   'nm']]}"
      ]
     },
     "execution_count": 334,
     "metadata": {},
     "output_type": "execute_result"
    }
   ],
   "source": [
    "results"
   ]
  },
  {
   "cell_type": "code",
   "execution_count": 197,
   "metadata": {
    "collapsed": false
   },
   "outputs": [
    {
     "data": {
      "text/plain": [
       "[{'Radditional': array([[False, False, False],\n",
       "         [False, False,  True],\n",
       "         [False, False, False]], dtype=bool), 'Rfirst': array([[0, 0, 0],\n",
       "         [0, 0, 1],\n",
       "         [0, 0, 0]]), 'c': 10, 'd': -18, 'gamma': 0.5, 'lambdaB': array([[ 0. ,  0.5,  0. ],\n",
       "         [ 0.5,  0. ,  0.1],\n",
       "         [ 0.5,  0.5,  0. ]]), 'lookahead': 30, 'lrdetector': False, 'tau': 5, 'tbar': 20},\n",
       " [(0, 1),\n",
       "  (1, 2),\n",
       "  (1, 2),\n",
       "  (1, 2),\n",
       "  'nm',\n",
       "  'nm',\n",
       "  'nm',\n",
       "  'nm',\n",
       "  (1, 2),\n",
       "  'nm',\n",
       "  (2, 1),\n",
       "  'nm',\n",
       "  (1, 2),\n",
       "  (1, 2),\n",
       "  'nm',\n",
       "  'nm',\n",
       "  (1, 2),\n",
       "  'nm',\n",
       "  'nm',\n",
       "  (1, 2)]]"
      ]
     },
     "execution_count": 197,
     "metadata": {},
     "output_type": "execute_result"
    }
   ],
   "source": [
    "results['experiment2']"
   ]
  },
  {
   "cell_type": "code",
   "execution_count": null,
   "metadata": {
    "collapsed": true
   },
   "outputs": [],
   "source": []
  }
 ],
 "metadata": {
  "kernelspec": {
   "display_name": "Python 2",
   "language": "python",
   "name": "python2"
  },
  "language_info": {
   "codemirror_mode": {
    "name": "ipython",
    "version": 2
   },
   "file_extension": ".py",
   "mimetype": "text/x-python",
   "name": "python",
   "nbconvert_exporter": "python",
   "pygments_lexer": "ipython2",
   "version": "2.7.9"
  }
 },
 "nbformat": 4,
 "nbformat_minor": 0
}
