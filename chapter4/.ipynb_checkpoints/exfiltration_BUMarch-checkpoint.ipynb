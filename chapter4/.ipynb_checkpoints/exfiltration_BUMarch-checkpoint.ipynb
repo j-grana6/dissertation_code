{
 "cells": [
  {
   "cell_type": "code",
   "execution_count": 1,
   "metadata": {
    "collapsed": false
   },
   "outputs": [
    {
     "name": "stderr",
     "output_type": "stream",
     "text": [
      "/usr/lib/python2.7/dist-packages/pkg_resources/__init__.py:1224: UserWarning: /home/justin/.python-eggs is writable by group/others and vulnerable to attack when used with get_resource_filename. Consider a more secure location (set with .set_extraction_path or the PYTHON_EGG_CACHE environment variable).\n",
      "  warnings.warn(msg, UserWarning)\n"
     ]
    }
   ],
   "source": [
    "import numpy as np\n",
    "from pandas import rolling_sum\n",
    "import pandas as pd\n",
    "from matplotlib import pyplot as plt\n",
    "from statsmodels.tsa.arima_model import ARIMA\n",
    "from collections import defaultdict\n",
    "from scipy.optimize import fmin_slsqp, fmin_cobyla, fmin_bfgs, fmin_powell\n",
    "from scipy.stats import gamma, norm, chi2, ncx2\n",
    "import igraph as ig\n",
    "from IPython.display import Image\n",
    "import copy\n",
    "import time\n",
    "from matplotlib import pyplot as plt\n",
    "from matplotlib import colors\n",
    "from matplotlib import cm\n",
    "import matplotlib as mpl\n",
    "%matplotlib inline"
   ]
  },
  {
   "cell_type": "code",
   "execution_count": 2,
   "metadata": {
    "collapsed": false
   },
   "outputs": [],
   "source": [
    "class NormalNoiseModel(object):\n",
    "    \"\"\"\n",
    "    The attacker strategy is a 1-d array.  The first tmax elements are his intensity\n",
    "    along a specfic edge at time equal to index.  The order is determined by \n",
    "    self.positive_edges.\n",
    "    \n",
    "    \"\"\"\n",
    "    def __init__(self, tau, sigmamat, r,b1,b2,c1,c2,pi,c, effort,discount, **kwargs):\n",
    "        self.tau = tau # Numer of Time periods\n",
    "        self.sigmamat = sigmamat # Normal Distribution Parameters\n",
    "        self.r = r # Reward Matrix\n",
    "        self.b1 = b1\n",
    "        self.b2 = b2\n",
    "        self.c1 = c1\n",
    "        self.c2 = c2 \n",
    "        self.pi = pi\n",
    "        self.positive_edges = [(np.nonzero(self.sigmamat)[0][i],np.nonzero(self.sigmamat)[1][i])\n",
    "                               for i in range(np.sum(sigmamat>0))]\n",
    "        self.edges_into_node = self.get_node_edge_into()\n",
    "        self.edges_outof_node = self.get_node_edge_out()\n",
    "        self.sumlogsigma = np.sum([np.log(x) for x in np.nditer(sigmamat) if x >0])\n",
    "        self.x0opt = np.random.random(self.tau * len(self.positive_edges))#np.ones(self.tau*len(self.positive_edges))\n",
    "        self.noattackerstrat = self.attacker_strat_from_res(np.zeros(self.tau*len(self.positive_edges)))\n",
    "        self.c = self.c2 * c\n",
    "        self.effort = effort\n",
    "        self.discount = discount\n",
    "        \n",
    "    def get_node_edge_out(self):\n",
    "        outin = defaultdict(list)\n",
    "        for e in self.positive_edges:\n",
    "            outin[e[0]].append(e)\n",
    "        return outin\n",
    "    \n",
    "    def get_node_edge_into(self):\n",
    "        inout = defaultdict(list)\n",
    "        for e in self.positive_edges:\n",
    "            inout[e[1]].append(e)\n",
    "        return inout\n",
    "    \n",
    "    def get_attacker_dict(self, attackerstrat):\n",
    "        astratdict = {}\n",
    "        for ix, elem in enumerate(self.positive_edges):\n",
    "            astratdict[elem] = np.asarray(attackerstrat[ix*self.tau:self.tau*(ix+1)])\n",
    "        return astratdict\n",
    "    \n",
    "    def general_constraint(self, x):\n",
    "        astrat = self.get_attacker_dict(x)\n",
    "        l1 = self.nonzero_constraint(x)\n",
    "        l2 = self.effort_constraint(x)\n",
    "        l3 = self.in_out_constraint(astrat)\n",
    "        #l4 = self.conservation_constraint(astrat)\n",
    "        #return np.array(list(l1) + list(l2) + list(l3))\n",
    "        return list(l1) + list(l3)+ list(l2)# +list(l4)\n",
    "    \n",
    "    def nonzero_constraint(self, x):\n",
    "        return x\n",
    "    \n",
    "    \n",
    "    def effort_constraint(self, x):\n",
    "        \"\"\" \n",
    "        Total effort over the period\n",
    "        \"\"\"\n",
    "#         activity = np.asarray(astrat.values())\n",
    "#         totalact = np.sum(activity)\n",
    "#         return [-totalact + self.effort]\n",
    "        return 5 - x\n",
    "    \n",
    "#     def traversal_constraint(self, astrat):\n",
    "##         Old traversal constraint, need to redefine.\n",
    "#         allbalances = []\n",
    "#         for key, val in self.edges_outof_node.iteritems():\n",
    "#             if key != 0 : # No traversal for first node\n",
    "#                 total_out_at_t = np.sum(np.asarray([astrat[e] for e in val]), axis=0)\n",
    "#                 total_in_at_t = np.sum(np.asarray(\n",
    "#                         [astrat[e] for e in self.edges_into_node[key]]), axis=0)\n",
    "#                 total_in_by_t = np.cumsum(np.hstack((np.array([0]), total_in_at_t)))[:-1]\n",
    "#                 allbalances.append(total_in_by_t - total_out_at_t)\n",
    "#         return list(np.hstack(tuple(allbalances)))\n",
    "\n",
    "    def in_out_constraint(self, astrat):\n",
    "        allbalances = []\n",
    "        for key, val in self.edges_outof_node.iteritems():\n",
    "            if key != 0 : # No traversal for first node\n",
    "                total_out_at_t = np.sum(np.asarray([astrat[e] for e in val]), axis=0)\n",
    "                total_out_by_t = np.cumsum(total_out_at_t)\n",
    "                total_in_at_t = np.sum(np.asarray(\n",
    "                        [astrat[e] for e in self.edges_into_node[key]]), axis=0)\n",
    "                total_in_by_t = np.cumsum(np.hstack((np.array([0]), total_in_at_t)))[:-1]\n",
    "                allbalances.append(total_in_by_t - total_out_by_t)\n",
    "        return list(np.hstack(tuple(allbalances)))\n",
    "    \n",
    "    def conservation_constraint(self, astrat):\n",
    "        allbalances = []\n",
    "        from_server = self.edges_outof_node[0]\n",
    "        total_out_server_at_t = np.sum(np.asarray([astrat[e] for e in from_server]), axis=0)\n",
    "        total_out_server_by_t = np.cumsum(total_out_server_at_t)\n",
    "        for key, val in self.edges_outof_node.iteritems():\n",
    "            if key != 0 : # No traversal for first node\n",
    "                total_out_at_t = np.sum(np.asarray([astrat[e] for e in val]), axis=0)\n",
    "                total_out_by_t = np.cumsum(np.hstack((np.array([0]), total_out_at_t)))[:-1]\n",
    "                allbalances.append(total_out_server_by_t - total_out_by_t)\n",
    "        return list(np.hstack(tuple(allbalances)))\n",
    "        \n",
    "\n",
    "\n",
    "    def prob_no_alarm_simple(self, d, astrat=None):\n",
    "        \"\"\"\n",
    "        Given by P(chi2_nk(mu) < -2(ln(d) + nk/2 ln(2pi) + k \\sum_J ln(\\sigma_j)))\n",
    "        \n",
    "        where mu is given by \\sum_IJ (aij/sigma_j)^2\n",
    "        \"\"\"\n",
    "        muhat = 0\n",
    "        param_contribution = -2 * (d + self.tau * len(self.positive_edges)/2.*np.log(2*np.pi)\n",
    "                                        + self.tau*self.sumlogsigma )\n",
    "        for edge in self.positive_edges:\n",
    "            muhat +=  np.sum(astrat[edge]**2) / float(self.sigmamat[edge])**2\n",
    "        if muhat > 0:\n",
    "            p_no_alarm = ncx2.cdf(param_contribution, self.tau * len(self.positive_edges), muhat)\n",
    "        if muhat ==0:\n",
    "            p_no_alarm = chi2.cdf(param_contribution, self.tau * len(self.positive_edges))\n",
    "        return p_no_alarm\n",
    "    \n",
    "    def prob_no_alarm_lr(self, lrd, astrat=None, astratbelief=None):\n",
    "        stdev = self.get_sd_from_belief(astratbelief)\n",
    "        evalat = -2*lrd\n",
    "        for key, val in astratbelief.iteritems():\n",
    "            evalat += np.sum(astratbelief[key]**2 - 2*astratbelief[key]*astrat[key]) \\\n",
    "                / self.sigmamat[key]**2\n",
    "        return  norm.cdf(evalat, loc=0, scale=stdev)\n",
    "        \n",
    "    def get_sd_from_belief(self, astratbelief):\n",
    "        var = 0\n",
    "        for key, val in astratbelief.iteritems():\n",
    "            var += np.sum(4*astratbelief[key]**2) / float(self.sigmamat[key]**2)\n",
    "        return var**.5\n",
    "\n",
    "    \n",
    "    def attacker_expected_utility_simple(self, x, d=None):\n",
    "        astrat = self.get_attacker_dict(x)\n",
    "        u = 0\n",
    "        pnoalarm = self.prob_no_alarm_simple(d, astrat=astrat)\n",
    "        reward = 0\n",
    "        for edge in self.positive_edges:\n",
    "            #reward += self.r[edge] * np.sum(astrat[edge]*\n",
    "            #                                (np.ones(self.tau)*self.discount)**np.arange(self.tau))\n",
    "            # Remove discounting\n",
    "            reward += self.r[edge] * np.sum(astrat[edge])\n",
    "        return -pnoalarm*reward\n",
    "        \n",
    "    def attacker_expected_utility_lr(self, x, astratbelief=None, lrd=None):\n",
    "        astrat = self.get_attacker_dict(x)\n",
    "        #for key, val in astratbelief.iteritems():\n",
    "        #    newval = np.maximum(val,.1)\n",
    "        #    astratbelief[key] = newval\n",
    "        u = 0\n",
    "        pnoalarm = self.prob_no_alarm_lr(lrd, astrat, astratbelief)\n",
    "        reward = 0\n",
    "        totaleffort = 0\n",
    "        for edge in self.positive_edges:\n",
    "            totaleffort += np.sum(astrat[edge])\n",
    "            #reward += self.r[edge] * np.sum(astrat[edge]*(np.ones(self.tau)*.99)**np.arange(self.tau))\n",
    "            # Remove discounting\n",
    "            reward += self.r[edge] * np.sum(astrat[edge])\n",
    "        return - pnoalarm*reward\n",
    "    \n",
    "#     def attacker_fprime_lr(self, x, astratbelief=None, lrd=None):\n",
    "#         astrat = self.get_attacker_dict(x)\n",
    "#         pnoalarm = self.prob_no_alarm_lr(lrd, astrat, astratbelief)\n",
    "#         stdev = self.get_sd_from_belief(astratbelief)\n",
    "#         evalat = -2*lrd\n",
    "#         for key, val in astratbelief.iteritems():\n",
    "#             evalat += np.sum(astratbelief[key]**2 - 2*astratbelief[key]*astrat[key]) \\\n",
    "#                 / self.sigmamat[key]**2\n",
    "#         dnormalcdf = norm.pdf(evalat, loc=0, scale=stdev)\n",
    "#         linearreward = 0\n",
    "#         for edge in self.positive_edges:\n",
    "#             linearreward += self.r[edge] * np.sum(astrat[edge])\n",
    "#         fprime = []\n",
    "#         for key, val in astrat.iteritmes():\n",
    "#             first_times_deriv_second = pnoalarm * self.r[key]\n",
    "#             for ix, a in enumerate(val):\n",
    "#                 second_times_deriv_first = linearreward *dnormalcdf \\\n",
    "#                       * (-2)*astratbelief[key][ix] / float(self.sigmamat[key])\n",
    "#                 fprime.append(first_times_deriv_second + second_times_deriv_first)\n",
    "#         return np.asarray(fprime)\n",
    "            \n",
    "            \n",
    "    def defender_expected_utility_simple(self, d, astrat=None):\n",
    "        pnawa = self.prob_no_alarm_simple(d, astrat) #P(NA|A)\n",
    "        pnana = self.prob_no_alarm_simple(d, self.noattackerstrat)\n",
    "        uncaught_cost = 0\n",
    "        for edge in self.positive_edges:\n",
    "            uncaught_cost += self.c[edge] * np.sum(astrat[edge])\n",
    "        acost = self.pi * ( (1-pnawa)*self.b1 - self.c2 * pnawa*uncaught_cost )\n",
    "        noacost = (1-self.pi)* ( pnana*self.b2 - (1-pnana)*self.c1)\n",
    "        eu = acost + noacost\n",
    "        return - eu\n",
    "    \n",
    "    def defender_expected_utility_lr(self, lrd, astrat=None, astratbelief=None):\n",
    "        pnawa = self.prob_no_alarm_lr(lrd, astrat, astratbelief) #P(NA|A)\n",
    "        pnana = self.prob_no_alarm_lr(lrd, self.noattackerstrat, astratbelief)\n",
    "        uncaught_cost = 0\n",
    "        for edge in self.positive_edges:\n",
    "            uncaught_cost += self.c[edge] * np.sum(astrat[edge])\n",
    "        acost = self.pi * ( (1-pnawa)*self.b1 - pnawa*uncaught_cost )\n",
    "        noacost = (1-self.pi)* ( pnana*self.b2 - (1-pnana)*self.c1)\n",
    "        eu = acost + noacost\n",
    "        return - eu\n",
    "        \n",
    "    \n",
    "    def attacker_strat_from_res(self, res):\n",
    "        astar = {}\n",
    "        for ix, edge in enumerate(self.positive_edges):\n",
    "            astar[edge] = np.round(res[ix*self.tau: (ix + 1)*self.tau], decimals=3)\n",
    "        return astar\n",
    "    \n",
    "    def x_from_astrat(self,astrat):\n",
    "        x=np.array([])\n",
    "        for edge in self.positive_edges:\n",
    "            x=np.hstack((x, astrat[edge]))\n",
    "        return list(x)\n",
    "    \n",
    "    def solve_l1_attacker(self, d0):\n",
    "        f = lambda x : self.attacker_expected_utility_simple(x, d=d0)\n",
    "        res = fmin_slsqp(f, self.x0opt*0, f_ieqcons = self.general_constraint, full_output=True, disp=False)\n",
    "        return res\n",
    "    \n",
    "    def solve_lk_attacker(self, lrd, abelief):\n",
    "        for key, val in abelief.iteritems():\n",
    "            abelief[key][abelief[key]<.0001] = 0.\n",
    "        f = lambda x : self.attacker_expected_utility_lr(x, lrd=lrd, astratbelief=abelief)\n",
    "        res = fmin_slsqp(f, self.x0opt, f_ieqcons = self.general_constraint, full_output=True, disp=False,\n",
    "                        acc=10**-10, epsilon=10**-10)\n",
    "        #x_opt = fmin_cobyla(f, self.x0opt, cons= [self.general_constraint], disp=False)\n",
    "        #eu = f(x_opt)\n",
    "        #res = (x_opt, eu)\n",
    "        return res\n",
    "    \n",
    "    def solve_lk_defender(self, astratactual, astratbelief):\n",
    "        for key, val in astratbelief.iteritems():\n",
    "             astratbelief[key] = np.maximum(.02, val)\n",
    "        f = lambda x : self.defender_expected_utility_lr(x, astratactual, astratbelief)\n",
    "        res = fmin_slsqp(f, np.array([-5]), full_output=True, disp=False)\n",
    "        return res\n",
    "    \n",
    "    def solve_defender_thresh(self, astratactual):\n",
    "        f = lambda x : self.defender_expected_utility_simple(x, astrat=astratactual)\n",
    "        res = fmin_slsqp(f, np.array([-250]), full_output=True, disp=False)\n",
    "        return res\n",
    "    \n",
    "    \n",
    "    def build_results_data(self, d0list):\n",
    "        frame = []\n",
    "        columns = [ \"tau\"]\\\n",
    "                  + [\"sigma\" +str(i) for i in range(self.sigmamat.shape[0]**2)] \\\n",
    "                  + [\"b1\", \"b2\", \"c1\", \"c2\", \"d\"] \\\n",
    "                  + [\"L1AEU_V_DL0\"] \\\n",
    "                  + [\"L1A\" +str(i) for i in range(self.tau*len(self.positive_edges))] \\\n",
    "                  + [\"L0DEU_V_AL1\"]\\\n",
    "                  + [\"L2DEU_V_AL1\"]\\\n",
    "                  + [\"L2LRThresh\"]\\\n",
    "                  + [\"L3AEU_V_DL2\"] \\\n",
    "                  + [\"L3A\" +str(i) for i in range(self.tau*len(self.positive_edges))] \\\n",
    "                  + [\"L2DEU_V_AL3\"]\n",
    "\n",
    "        flattenparams =  [self.tau]  \\\n",
    "                         + list(self.sigmamat.flatten())  \\\n",
    "                         + [self.b1, self.b2, self.c1, self.c2]\n",
    "        for d in d0list:\n",
    "            row = copy.copy(flattenparams)\n",
    "            row.append(d)\n",
    "            l1ares = self.solve_l1_attacker(d)\n",
    "            row.append(l1ares[1]) #EU\n",
    "            row = row + list(l1ares[0]) #strat\n",
    "            l1astratdict = self.attacker_strat_from_res(l1ares[0])\n",
    "            l0defendereu = self.defender_expected_utility_simple(d, l1astratdict)\n",
    "            row.append(l0defendereu)\n",
    "            l2dres = self.solve_lk_defender(l1astratdict, l1astratdict)\n",
    "            row = row + list(l2dres[1])\n",
    "            row = row + list(l2dres[0])\n",
    "            l3ares = self.solve_lk_attacker(l2dres[0], l1astratdict)\n",
    "            l3astratdict = self.attacker_strat_from_res(l3ares[0])\n",
    "            row = row + list(l3ares[1]) #EU\n",
    "            row = row + list(l3ares[0]) #strat\n",
    "            l2defendereu = self.defender_expected_utility_lr(l2dres[0], l3astratdict, l1astratdict)\n",
    "            row = row + list(l2defendereu)\n",
    "            frame.append(row)\n",
    "            \n",
    "        return row, columns, pd.DataFrame(frame, columns=columns)\n",
    "    \n",
    "    \n",
    "    def get_results_up_to_level(self, d0list, maxlevel=3):\n",
    "        \"\"\"\n",
    "        a level is the maximum defenders level\n",
    "        \n",
    "        \"\"\"\n",
    "        frame = []\n",
    "#         columns = [ \"tau\"]\\\n",
    "#                   + [\"sigma\" +str(i) for i in range(self.sigmamat.shape[0]**2)] \\\n",
    "#                   + [\"b1\", \"b2\", \"c1\", \"c2\", \"d\"]\n",
    "                  \n",
    "#                   #+ [\"L1AEU_V_DL0\"] \\\n",
    "#                   # + [\"L1A\" +str(i) for i in range(self.tau*len(self.positive_edges))] \\\n",
    "#                   # + [\"L0DEU_V_AL1\"]\\\n",
    "#                   # + [\"L2DEU_V_AL1\"]\\\n",
    "#                   #+ [\"L2LRThresh\"]\\\n",
    "#                   #+ [\"L3AEU_V_DL2\"] \\\n",
    "#                   #+ [\"L3A\" +str(i) for i in range(self.tau*len(self.positive_edges))] \\\n",
    "#                   # + [\"L2DEU_V_AL3\"]\n",
    "\n",
    "#         flattenparams =  [self.tau]  \\\n",
    "#                          + list(self.sigmamat.flatten())  \\\n",
    "#                          + [self.b1, self.b2, self.c1, self.c2]\n",
    "        flattenparams =  [self.tau]  \\\n",
    "                         + list(self.sigmamat.flatten())  \\\n",
    "                         + [self.b1, self.b2, self.c1, self.c2]\n",
    "        ix=0\n",
    "        for d in d0list:\n",
    "            ix +=1\n",
    "            #print '\\r', (float(ix)/float(len(d0list))),\n",
    "            columns = [ \"tau\"]\\\n",
    "                  + [\"sigma\" +str(i) for i in range(self.sigmamat.shape[0]**2)] \\\n",
    "                  + [\"b1\", \"b2\", \"c1\", \"c2\", \"d\"]\n",
    "            row = copy.copy(flattenparams)\n",
    "            row.append(d)\n",
    "            attackerres = self.solve_l1_attacker(d)\n",
    "            row.append(-1*attackerres[1]) #EU\n",
    "            columns = columns + [\"L1AEU_V_DL0\"] \n",
    "            row = row + list(attackerres[0]) #strat\n",
    "            columns = columns +  [\"L1A\" +str(i) for i in range(self.tau*len(self.positive_edges))]\n",
    "            attackerdict = self.attacker_strat_from_res(attackerres[0])\n",
    "            defendereu = self.defender_expected_utility_simple(d, attackerdict)\n",
    "            row.append(-1 * defendereu)\n",
    "            columns = columns + [\"L0DEU_V_AL1\"]\n",
    "            level = 2\n",
    "            attackerdictactual = attackerdict \n",
    "            attackerdictbelief = attackerdictactual\n",
    "            while level< maxlevel:\n",
    "                defenderres = self.solve_lk_defender(attackerdictactual, attackerdictbelief)\n",
    "                row = row + list(-1 * defenderres[1])\n",
    "                columns = columns + [\"L\" +str(level) +\"DEU_V_AL\" + str(level-1)]\n",
    "                row = row + list(defenderres[0])\n",
    "                columns = columns + [\"L\" +str(level) + \"LRThresh\"]\n",
    "                ainput = Model1.x_from_astrat(attackerdictactual)\n",
    "                \n",
    "                attackereu = self.attacker_expected_utility_lr(ainput, attackerdictbelief, \n",
    "                                                              defenderres[0])\n",
    "                row.append(-1 * attackereu)\n",
    "                columns = columns + [\"L\" +str(level-1) +\"AEU_V_DL\" + str(level)]\n",
    "                attackerres = self.solve_lk_attacker(defenderres[0], attackerdictbelief)\n",
    "                attackerdictactual = self.attacker_strat_from_res(attackerres[0])\n",
    "                if level==2 :\n",
    "                    print -1*attackerres[1]\n",
    "                row = row + list(-1 * attackerres[1]) #EU\n",
    "                columns = columns + [\"L\"+str(level+1) + \"AEU_V_DL\" +str(level)]\n",
    "                row = row + list(attackerres[0]) #strat\n",
    "                columns = columns + [\"L\" + str(level +1) + \"A\" +str(i) for i in \n",
    "                            range(self.tau*len(self.positive_edges))]\n",
    "                defendereu = self.defender_expected_utility_lr(defenderres[0], \n",
    "                                                               attackerdictactual, attackerdictbelief)\n",
    "                row = row + list(-1 * defendereu)\n",
    "                columns = columns + [\"L\" + str(level) + \"DEU_V_AL\" + str(level +1)]\n",
    "                attackerdictbelief = attackerdictactual\n",
    "                level += 2\n",
    "            frame.append(row)\n",
    "        return row, columns, pd.DataFrame(frame, columns=columns)\n",
    "    \n",
    "    \n",
    "    def get_results_up_to_level_thresh_from_def(self, d0list, maxlevel=3):\n",
    "        \"\"\"\n",
    "        a level is the maximum defenders level\n",
    "        \n",
    "        \"\"\"\n",
    "        frame = []\n",
    "#         columns = [ \"tau\"]\\\n",
    "#                   + [\"sigma\" +str(i) for i in range(self.sigmamat.shape[0]**2)] \\\n",
    "#                   + [\"b1\", \"b2\", \"c1\", \"c2\", \"d\"]\n",
    "                  \n",
    "#                   #+ [\"L1AEU_V_DL0\"] \\\n",
    "#                   # + [\"L1A\" +str(i) for i in range(self.tau*len(self.positive_edges))] \\\n",
    "#                   # + [\"L0DEU_V_AL1\"]\\\n",
    "#                   # + [\"L2DEU_V_AL1\"]\\\n",
    "#                   #+ [\"L2LRThresh\"]\\\n",
    "#                   #+ [\"L3AEU_V_DL2\"] \\\n",
    "#                   #+ [\"L3A\" +str(i) for i in range(self.tau*len(self.positive_edges))] \\\n",
    "#                   # + [\"L2DEU_V_AL3\"]\n",
    "\n",
    "#         flattenparams =  [self.tau]  \\\n",
    "#                          + list(self.sigmamat.flatten())  \\\n",
    "#                          + [self.b1, self.b2, self.c1, self.c2]\n",
    "        flattenparams =  [self.tau]  \\\n",
    "                         + list(self.sigmamat.flatten())  \\\n",
    "                         + [self.b1, self.b2, self.c1, self.c2]\n",
    "        ix=0\n",
    "        for d in d0list:\n",
    "            ix +=1\n",
    "            #print '\\r', (float(ix)/float(len(d0list))),\n",
    "            columns = [ \"tau\"]\\\n",
    "                  + [\"sigma\" +str(i) for i in range(self.sigmamat.shape[0]**2)] \\\n",
    "                  + [\"b1\", \"b2\", \"c1\", \"c2\", \"d\"]\n",
    "            row = copy.copy(flattenparams)\n",
    "            row.append(d)\n",
    "            attackerres = self.solve_l1_attacker(d)\n",
    "            row.append(-1*attackerres[1]) #EU\n",
    "            columns = columns + [\"L1AEU_V_DL0\"] \n",
    "            row = row + list(attackerres[0]) #strat\n",
    "            columns = columns +  [\"L1A\" +str(i) for i in range(self.tau*len(self.positive_edges))]\n",
    "            attackerdict = self.attacker_strat_from_res(attackerres[0])\n",
    "            defendereu = self.defender_expected_utility_simple(d, attackerdict)\n",
    "            row.append(-1 * defendereu)\n",
    "            columns = columns + [\"L0DEU_V_AL1\"]\n",
    "            level = 2\n",
    "            attackerdictactual = attackerdict \n",
    "            attackerdictbelief = attackerdictactual\n",
    "            while level< maxlevel:\n",
    "                #defenderres = self.solve_lk_defender(attackerdictactual, attackerdictbelief)\n",
    "                defenderres = self.solve_defender_thresh(attackerdictactual)\n",
    "                row = row + list(-1 * defenderres[1])\n",
    "                columns = columns + [\"L\" +str(level) +\"DEU_V_AL\" + str(level-1)]\n",
    "                row = row + list(defenderres[0])\n",
    "                columns = columns + [\"L\" +str(level) + \"LRThresh\"]\n",
    "                ainput = Model1.x_from_astrat(attackerdictactual)\n",
    "                \n",
    "                #attackereu = self.attacker_expected_utility_lr(ainput, attackerdictbelief, \n",
    "                #                                              defenderres[0])\n",
    "                attackereu = self.attacker_expected_utility_simple(ainput, \n",
    "                                                              defenderres[0])\n",
    "                row.append(-1 * attackereu)\n",
    "                columns = columns + [\"L\" +str(level-1) +\"AEU_V_DL\" + str(level)]\n",
    "                #attackerres = self.solve_lk_attacker(defenderres[0], attackerdictbelief)\n",
    "                attackerres = self.solve_l1_attacker(defenderres[0])\n",
    "                attackerdictactual = self.attacker_strat_from_res(attackerres[0])\n",
    "                if level==2 :\n",
    "                    print -1*attackerres[1]\n",
    "                row = row + list(-1 * attackerres[1]) #EU\n",
    "                columns = columns + [\"L\"+str(level+1) + \"AEU_V_DL\" +str(level)]\n",
    "                row = row + list(attackerres[0]) #strat\n",
    "                columns = columns + [\"L\" + str(level +1) + \"A\" +str(i) for i in \n",
    "                            range(self.tau*len(self.positive_edges))]\n",
    "                #defendereu = self.defender_expected_utility_lr(defenderres[0], \n",
    "                #                                               attackerdictactual, attackerdictbelief)\n",
    "                defendereu = self.defender_expected_utility_simple(defenderres[0], \n",
    "                                                            attackerdictactual)\n",
    "                row = row + list(-1 * defendereu)\n",
    "                columns = columns + [\"L\" + str(level) + \"DEU_V_AL\" + str(level +1)]\n",
    "                attackerdictbelief = attackerdictactual\n",
    "                level += 2\n",
    "            frame.append(row)\n",
    "        return row, columns, pd.DataFrame(frame, columns=columns)\n",
    "    \n",
    "    def get_results_up_to_level_lr_from_def(self, d0list, a0, maxlevel=3):\n",
    "        \"\"\"\n",
    "        a level is the maximum defenders level\n",
    "        \n",
    "        \"\"\"\n",
    "        a0 = a0 +np.random.exponential(.01, size=len(a0))\n",
    "        a0 = self.attacker_strat_from_res(a0)\n",
    "        frame = []\n",
    "#         columns = [ \"tau\"]\\\n",
    "#                   + [\"sigma\" +str(i) for i in range(self.sigmamat.shape[0]**2)] \\\n",
    "#                   + [\"b1\", \"b2\", \"c1\", \"c2\", \"d\"]\n",
    "                  \n",
    "#                   #+ [\"L1AEU_V_DL0\"] \\\n",
    "#                   # + [\"L1A\" +str(i) for i in range(self.tau*len(self.positive_edges))] \\\n",
    "#                   # + [\"L0DEU_V_AL1\"]\\\n",
    "#                   # + [\"L2DEU_V_AL1\"]\\\n",
    "#                   #+ [\"L2LRThresh\"]\\\n",
    "#                   #+ [\"L3AEU_V_DL2\"] \\\n",
    "#                   #+ [\"L3A\" +str(i) for i in range(self.tau*len(self.positive_edges))] \\\n",
    "#                   # + [\"L2DEU_V_AL3\"]\n",
    "\n",
    "#         flattenparams =  [self.tau]  \\\n",
    "#                          + list(self.sigmamat.flatten())  \\\n",
    "#                          + [self.b1, self.b2, self.c1, self.c2]\n",
    "        flattenparams =  [self.tau]  \\\n",
    "                         + list(self.sigmamat.flatten())  \\\n",
    "                         + [self.b1, self.b2, self.c1, self.c2]\n",
    "        ix=0\n",
    "        for d in d0list:\n",
    "            ix +=1\n",
    "            #print '\\r', (float(ix)/float(len(d0list))),\n",
    "            columns = [ \"tau\"]\\\n",
    "                  + [\"sigma\" +str(i) for i in range(self.sigmamat.shape[0]**2)] \\\n",
    "                  + [\"b1\", \"b2\", \"c1\", \"c2\", \"d\"]\n",
    "            row = copy.copy(flattenparams)\n",
    "            row.append(d)\n",
    "            attackerres = self.solve_lk_attacker(d, a0)\n",
    "            row.append(-1*attackerres[1]) #EU\n",
    "            print(-1*attackerres[1])\n",
    "            columns = columns + [\"L1AEU_V_DL0\"] \n",
    "            row = row + list(attackerres[0]) #strat\n",
    "            columns = columns +  [\"L1A\" +str(i) for i in range(self.tau*len(self.positive_edges))]\n",
    "            attackerdict = self.attacker_strat_from_res(attackerres[0])\n",
    "            defendereu = self.defender_expected_utility_lr(d, attackerdict, a0)\n",
    "            row.append(-1 * defendereu)\n",
    "            columns = columns + [\"L0DEU_V_AL1\"]\n",
    "            level = 2\n",
    "            attackerdictactual = attackerdict \n",
    "            attackerdictbelief = attackerdictactual\n",
    "            while level< maxlevel:\n",
    "                defenderres = self.solve_lk_defender(attackerdictactual, attackerdictbelief)\n",
    "                row = row + list(-1 * defenderres[1])\n",
    "                columns = columns + [\"L\" +str(level) +\"DEU_V_AL\" + str(level-1)]\n",
    "                row = row + list(defenderres[0])\n",
    "                columns = columns + [\"L\" +str(level) + \"LRThresh\"]\n",
    "                ainput = Model1.x_from_astrat(attackerdictactual)\n",
    "                \n",
    "                attackereu = self.attacker_expected_utility_lr(ainput, attackerdictbelief, \n",
    "                                                              defenderres[0])\n",
    "                row.append(-1 * attackereu)\n",
    "                columns = columns + [\"L\" +str(level-1) +\"AEU_V_DL\" + str(level)]\n",
    "                attackerres = self.solve_lk_attacker(defenderres[0], attackerdictbelief)\n",
    "                attackerdictactual = self.attacker_strat_from_res(attackerres[0])\n",
    "                #if level==2 :\n",
    "                #    print -1*attackerres[1]\n",
    "                row = row + list(-1 * attackerres[1]) #EU\n",
    "                columns = columns + [\"L\"+str(level+1) + \"AEU_V_DL\" +str(level)]\n",
    "                row = row + list(attackerres[0]) #strat\n",
    "                columns = columns + [\"L\" + str(level +1) + \"A\" +str(i) for i in \n",
    "                            range(self.tau*len(self.positive_edges))]\n",
    "                defendereu = self.defender_expected_utility_lr(defenderres[0], \n",
    "                                                               attackerdictactual, attackerdictbelief)\n",
    "                row = row + list(-1 * defendereu)\n",
    "                columns = columns + [\"L\" + str(level) + \"DEU_V_AL\" + str(level +1)]\n",
    "                attackerdictbelief = attackerdictactual\n",
    "                level += 2\n",
    "            frame.append(row)\n",
    "        return row, columns, pd.DataFrame(frame, columns=columns)\n",
    "    \n",
    "    \n",
    "    \n",
    "    def get_results_up_to_level_lr_from_a(self, d0list, a0, maxlevel=3):\n",
    "        \"\"\"\n",
    "        a level is the maximum defenders level\n",
    "        \n",
    "        \"\"\"\n",
    "        a0 = self.attacker_strat_from_res(a0)\n",
    "        frame = []\n",
    "#         columns = [ \"tau\"]\\\n",
    "#                   + [\"sigma\" +str(i) for i in range(self.sigmamat.shape[0]**2)] \\\n",
    "#                   + [\"b1\", \"b2\", \"c1\", \"c2\", \"d\"]\n",
    "                  \n",
    "#                   #+ [\"L1AEU_V_DL0\"] \\\n",
    "#                   # + [\"L1A\" +str(i) for i in range(self.tau*len(self.positive_edges))] \\\n",
    "#                   # + [\"L0DEU_V_AL1\"]\\\n",
    "#                   # + [\"L2DEU_V_AL1\"]\\\n",
    "#                   #+ [\"L2LRThresh\"]\\\n",
    "#                   #+ [\"L3AEU_V_DL2\"] \\\n",
    "#                   #+ [\"L3A\" +str(i) for i in range(self.tau*len(self.positive_edges))] \\\n",
    "#                   # + [\"L2DEU_V_AL3\"]\n",
    "\n",
    "#         flattenparams =  [self.tau]  \\\n",
    "#                          + list(self.sigmamat.flatten())  \\\n",
    "#                          + [self.b1, self.b2, self.c1, self.c2]\n",
    "        flattenparams =  [self.tau]  \\\n",
    "                         + list(self.sigmamat.flatten())  \\\n",
    "                         + [self.b1, self.b2, self.c1, self.c2]\n",
    "        ix=0\n",
    "        for d in [1]:\n",
    "            #print '\\r', (float(ix)/float(len(d0list))),\n",
    "            columns = [ \"tau\"]\\\n",
    "                  + [\"sigma\" +str(i) for i in range(self.sigmamat.shape[0]**2)] \\\n",
    "                  + [\"b1\", \"b2\", \"c1\", \"c2\", \"d\"]\n",
    "            row = copy.copy(flattenparams)\n",
    "            row.append(d)\n",
    "#             attackerres = self.solve_lk_attacker(d, a0)\n",
    "#             row.append(-1*attackerres[1]) #EU\n",
    "#             columns = columns + [\"L1AEU_V_DL0\"] \n",
    "#             row = row + list(attackerres[0]) #strat\n",
    "#             columns = columns +  [\"L1A\" +str(i) for i in range(self.tau*len(self.positive_edges))]\n",
    "#             attackerdict = self.attacker_strat_from_res(attackerres[0])\n",
    "#             defendereu = self.defender_expected_utility_lr(d, attackerdict, a0)\n",
    "#             row.append(-1 * defendereu)\n",
    "#             columns = columns + [\"L0DEU_V_AL1\"]\n",
    "            level = 1\n",
    "            attackerdictactual = a0\n",
    "            attackerdictbelief = a0\n",
    "            while level< maxlevel:\n",
    "                defenderres = self.solve_lk_defender(attackerdictactual, attackerdictbelief)\n",
    "                row = row + list(-1 * defenderres[1])\n",
    "                columns = columns + [\"L\" +str(level) +\"DEU_V_AL\" + str(level-1)]\n",
    "                row = row + list(defenderres[0])\n",
    "                columns = columns + [\"L\" +str(level) + \"LRThresh\"]\n",
    "                ainput = Model1.x_from_astrat(attackerdictactual)\n",
    "                \n",
    "                attackereu = self.attacker_expected_utility_lr(ainput, attackerdictbelief, \n",
    "                                                              defenderres[0])\n",
    "                row.append(-1 * attackereu)\n",
    "                columns = columns + [\"L\" +str(level-1) +\"AEU_V_DL\" + str(level)]\n",
    "                attackerres = self.solve_lk_attacker(defenderres[0], attackerdictbelief)\n",
    "                attackerdictactual = self.attacker_strat_from_res(attackerres[0])\n",
    "                if level==2 :\n",
    "                    print -1*attackerres[1]\n",
    "                row = row + list(-1 * attackerres[1]) #EU\n",
    "                columns = columns + [\"L\"+str(level+1) + \"AEU_V_DL\" +str(level)]\n",
    "                row = row + list(attackerres[0]) #strat\n",
    "                columns = columns + [\"L\" + str(level +1) + \"A\" +str(i) for i in \n",
    "                            range(self.tau*len(self.positive_edges))]\n",
    "                defendereu = self.defender_expected_utility_lr(defenderres[0], \n",
    "                                                               attackerdictactual, attackerdictbelief)\n",
    "                row = row + list(-1 * defendereu)\n",
    "                columns = columns + [\"L\" + str(level) + \"DEU_V_AL\" + str(level +1)]\n",
    "                attackerdictbelief = attackerdictactual\n",
    "                level += 2\n",
    "            frame.append(row)\n",
    "        return row, columns, pd.DataFrame(frame, columns=columns)\n",
    "    \n",
    "    def get_smooth_belief(self, astratdict):\n",
    "        total_exfiltrate = np.sum(astratdict[(3,4)])\n",
    "        attackerdictbelief = copy.deepcopy(astratdict)\n",
    "        attackerdictbelief[(3,4)] = np.zeros(15)\n",
    "        attackerdictbelief[(3,4)][2:] = total_exfiltrate/13.\n",
    "        attackerdictbelief[(0,1)] = np.ones(15) * total_exfiltrate/26.\n",
    "        attackerdictbelief[(0,1)][13:] = 0\n",
    "        attackerdictbelief[(0,2)] = np.ones(15) * total_exfiltrate/26.\n",
    "        attackerdictbelief[(0,2)][13:] = 0\n",
    "        attackerdictbelief[(1,3)] = np.ones(15) * total_exfiltrate/26.\n",
    "        attackerdictbelief[(1,3)][0] = 0\n",
    "        attackerdictbelief[(1,3)][-1] = 0\n",
    "        attackerdictbelief[(2,3)] = np.ones(15) * total_exfiltrate/26.\n",
    "        attackerdictbelief[(2,3)][0] = 0\n",
    "        attackerdictbelief[(2,3)][-1] = 0\n",
    "        return attackerdictbelief\n",
    "        \n",
    "        \n",
    "    def get_attacker_strat_from_res(self, res, level, d0, against=\"d\"):\n",
    "        cs =  [\"L\" + str(level) + \"A\" +str(i) for i in range(self.tau*len(self.positive_edges))]\n",
    "        sonly = res[[against] + cs]\n",
    "        strat = sonly[sonly[against]==d0][cs].values[0]\n",
    "        astratdict = self.attacker_strat_from_res(strat)\n",
    "        return astratdict\n",
    "    \n",
    "\n",
    "    def get_results_up_to_level_lr_from_def_smooth(self, d0list, a0, maxlevel=3):\n",
    "        \"\"\"\n",
    "        a level is the maximum defenders level\n",
    "        \n",
    "        \"\"\"\n",
    "        #a0 = a0 +np.random.exponential(.01, size=len(a0))\n",
    "        a0 = self.attacker_strat_from_res(a0)\n",
    "        frame = []\n",
    "#         columns = [ \"tau\"]\\\n",
    "#                   + [\"sigma\" +str(i) for i in range(self.sigmamat.shape[0]**2)] \\\n",
    "#                   + [\"b1\", \"b2\", \"c1\", \"c2\", \"d\"]\n",
    "                  \n",
    "#                   #+ [\"L1AEU_V_DL0\"] \\\n",
    "#                   # + [\"L1A\" +str(i) for i in range(self.tau*len(self.positive_edges))] \\\n",
    "#                   # + [\"L0DEU_V_AL1\"]\\\n",
    "#                   # + [\"L2DEU_V_AL1\"]\\\n",
    "#                   #+ [\"L2LRThresh\"]\\\n",
    "#                   #+ [\"L3AEU_V_DL2\"] \\\n",
    "#                   #+ [\"L3A\" +str(i) for i in range(self.tau*len(self.positive_edges))] \\\n",
    "#                   # + [\"L2DEU_V_AL3\"]\n",
    "\n",
    "#         flattenparams =  [self.tau]  \\\n",
    "#                          + list(self.sigmamat.flatten())  \\\n",
    "#                          + [self.b1, self.b2, self.c1, self.c2]\n",
    "        flattenparams =  [self.tau]  \\\n",
    "                         + list(self.sigmamat.flatten())  \\\n",
    "                         + [self.b1, self.b2, self.c1, self.c2]\n",
    "        ix=0\n",
    "        for d in d0list:\n",
    "            ix +=1\n",
    "            #print '\\r', (float(ix)/float(len(d0list))),\n",
    "            columns = [ \"tau\"]\\\n",
    "                  + [\"sigma\" +str(i) for i in range(self.sigmamat.shape[0]**2)] \\\n",
    "                  + [\"b1\", \"b2\", \"c1\", \"c2\", \"d\"]\n",
    "            row = copy.copy(flattenparams)\n",
    "            row.append(d)\n",
    "            attackerres = self.solve_lk_attacker(d, a0)\n",
    "            row.append(-1*attackerres[1]) #EU\n",
    "            print(-1*attackerres[1])\n",
    "            columns = columns + [\"L1AEU_V_DL0\"] \n",
    "            row = row + list(attackerres[0]) #strat\n",
    "            columns = columns +  [\"L1A\" +str(i) for i in range(self.tau*len(self.positive_edges))]\n",
    "            attackerdict = self.attacker_strat_from_res(attackerres[0])\n",
    "            defendereu = self.defender_expected_utility_lr(d, attackerdict, a0)\n",
    "            row.append(-1 * defendereu)\n",
    "            columns = columns + [\"L0DEU_V_AL1\"]\n",
    "            level = 2\n",
    "            attackerdictactual = attackerdict\n",
    "            attackerdictbelief = self.get_smooth_belief(attackerdictactual)\n",
    "            while level< maxlevel:\n",
    "                #print attackerdictbelief\n",
    "                defenderres = self.solve_lk_defender(attackerdictbelief, attackerdictbelief)\n",
    "                defenderactualeu = self.defender_expected_utility_lr(defenderres[0], attackerdictactual, \n",
    "                                                                     attackerdictbelief)\n",
    "                row = row + list(-1 * defenderactualeu)\n",
    "                columns = columns + [\"L\" +str(level) +\"DEU_V_AL\" + str(level-1)]\n",
    "                row = row + list(defenderres[0])\n",
    "                columns = columns + [\"L\" +str(level) + \"LRThresh\"]\n",
    "                ainput = Model1.x_from_astrat(attackerdictactual)\n",
    "                \n",
    "                attackereu = self.attacker_expected_utility_lr(ainput, attackerdictbelief, \n",
    "                                                              defenderres[0])\n",
    "                row.append(-1 * attackereu)\n",
    "                columns = columns + [\"L\" +str(level-1) +\"AEU_V_DL\" + str(level)]\n",
    "                attackerres = self.solve_lk_attacker(defenderres[0], attackerdictbelief)\n",
    "                attackerdictactual = self.attacker_strat_from_res(attackerres[0])\n",
    "                #if level==2 :\n",
    "                #    print -1*attackerres[1]\n",
    "                row = row + list(-1 * attackerres[1]) #EU\n",
    "                columns = columns + [\"L\"+str(level+1) + \"AEU_V_DL\" +str(level)]\n",
    "                row = row + list(attackerres[0]) #strat\n",
    "                columns = columns + [\"L\" + str(level +1) + \"A\" +str(i) for i in \n",
    "                            range(self.tau*len(self.positive_edges))]\n",
    "                defendereu = self.defender_expected_utility_lr(defenderres[0], \n",
    "                                                               attackerdictactual, attackerdictbelief)\n",
    "                row = row + list(-1 * defendereu)\n",
    "                columns = columns + [\"L\" + str(level) + \"DEU_V_AL\" + str(level +1)]\n",
    "                attackerdictbelief = self.get_smooth_belief(attackerdictactual)\n",
    "                level += 2\n",
    "            frame.append(row)\n",
    "        return row, columns, pd.DataFrame(frame, columns=columns)\n",
    "\n",
    "    \n",
    "    \n",
    "    def get_results_up_to_level_lr_from_def(self, d0list, a0, maxlevel=3):\n",
    "        \"\"\"\n",
    "        a level is the maximum defenders level\n",
    "        \n",
    "        \"\"\"\n",
    "        #a0 = a0 +np.random.exponential(.01, size=len(a0))\n",
    "        a0 = self.attacker_strat_from_res(a0)\n",
    "        frame = []\n",
    "#         columns = [ \"tau\"]\\\n",
    "#                   + [\"sigma\" +str(i) for i in range(self.sigmamat.shape[0]**2)] \\\n",
    "#                   + [\"b1\", \"b2\", \"c1\", \"c2\", \"d\"]\n",
    "                  \n",
    "#                   #+ [\"L1AEU_V_DL0\"] \\\n",
    "#                   # + [\"L1A\" +str(i) for i in range(self.tau*len(self.positive_edges))] \\\n",
    "#                   # + [\"L0DEU_V_AL1\"]\\\n",
    "#                   # + [\"L2DEU_V_AL1\"]\\\n",
    "#                   #+ [\"L2LRThresh\"]\\\n",
    "#                   #+ [\"L3AEU_V_DL2\"] \\\n",
    "#                   #+ [\"L3A\" +str(i) for i in range(self.tau*len(self.positive_edges))] \\\n",
    "#                   # + [\"L2DEU_V_AL3\"]\n",
    "\n",
    "#         flattenparams =  [self.tau]  \\\n",
    "#                          + list(self.sigmamat.flatten())  \\\n",
    "#                          + [self.b1, self.b2, self.c1, self.c2]\n",
    "        flattenparams =  [self.tau]  \\\n",
    "                         + list(self.sigmamat.flatten())  \\\n",
    "                         + [self.b1, self.b2, self.c1, self.c2]\n",
    "        ix=0\n",
    "        for d in d0list:\n",
    "            ix +=1\n",
    "            #print '\\r', (float(ix)/float(len(d0list))),\n",
    "            columns = [ \"tau\"]\\\n",
    "                  + [\"sigma\" +str(i) for i in range(self.sigmamat.shape[0]**2)] \\\n",
    "                  + [\"b1\", \"b2\", \"c1\", \"c2\", \"d\"]\n",
    "            row = copy.copy(flattenparams)\n",
    "            row.append(d)\n",
    "            attackerres = self.solve_lk_attacker(d, a0)\n",
    "            row.append(-1*attackerres[1]) #EU\n",
    "            print(-1*attackerres[1])\n",
    "            columns = columns + [\"L1AEU_V_DL0\"] \n",
    "            row = row + list(attackerres[0]) #strat\n",
    "            columns = columns +  [\"L1A\" +str(i) for i in range(self.tau*len(self.positive_edges))]\n",
    "            attackerdict = self.attacker_strat_from_res(attackerres[0])\n",
    "            defendereu = self.defender_expected_utility_lr(d, attackerdict, a0)\n",
    "            row.append(-1 * defendereu)\n",
    "            columns = columns + [\"L0DEU_V_AL1\"]\n",
    "            level = 2\n",
    "            attackerdictactual = attackerdict \n",
    "            attackerdictbelief = attackerdictactual\n",
    "            while level< maxlevel:\n",
    "                defenderres = self.solve_lk_defender(attackerdictactual, attackerdictbelief)\n",
    "                row = row + list(-1 * defenderres[1])\n",
    "                columns = columns + [\"L\" +str(level) +\"DEU_V_AL\" + str(level-1)]\n",
    "                row = row + list(defenderres[0])\n",
    "                columns = columns + [\"L\" +str(level) + \"LRThresh\"]\n",
    "                ainput = Model1.x_from_astrat(attackerdictactual)\n",
    "                \n",
    "                attackereu = self.attacker_expected_utility_lr(ainput, attackerdictbelief, \n",
    "                                                              defenderres[0])\n",
    "                row.append(-1 * attackereu)\n",
    "                columns = columns + [\"L\" +str(level-1) +\"AEU_V_DL\" + str(level)]\n",
    "                attackerres = self.solve_lk_attacker(defenderres[0], attackerdictbelief)\n",
    "                attackerdictactual = self.attacker_strat_from_res(attackerres[0])\n",
    "                #if level==2 :\n",
    "                #    print -1*attackerres[1]\n",
    "                row = row + list(-1 * attackerres[1]) #EU\n",
    "                columns = columns + [\"L\"+str(level+1) + \"AEU_V_DL\" +str(level)]\n",
    "                row = row + list(attackerres[0]) #strat\n",
    "                columns = columns + [\"L\" + str(level +1) + \"A\" +str(i) for i in \n",
    "                            range(self.tau*len(self.positive_edges))]\n",
    "                defendereu = self.defender_expected_utility_lr(defenderres[0], \n",
    "                                                               attackerdictactual, attackerdictbelief)\n",
    "                row = row + list(-1 * defendereu)\n",
    "                columns = columns + [\"L\" + str(level) + \"DEU_V_AL\" + str(level +1)]\n",
    "                attackerdictbelief = attackerdictactual\n",
    "                level += 2\n",
    "            frame.append(row)\n",
    "        return row, columns, pd.DataFrame(frame, columns=columns)\n",
    "    \n",
    "#     def stackelberg_eu(self, defstrat):\n",
    "#         d = defstrat[0]\n",
    "#         print(d)\n",
    "#         dbelief = np.zeros(180)\n",
    "#         for ix, i in enumerate(defstrat[1:]):\n",
    "#             dbelief[15*ix:15*ix+15] = i\n",
    "#         #print dbelief\n",
    "#         dbelief = self.attacker_strat_from_res(dbelief)\n",
    "#         print dbelief\n",
    "#         astrat = self.solve_lk_attacker(d, dbelief)[0]\n",
    "#         attackerdict = self.attacker_strat_from_res(astrat)\n",
    "#         #print attackerdict\n",
    "#         defendereu = self.defender_expected_utility_lr(d, attackerdict, dbelief)\n",
    "#         print defendereu\n",
    "#         return defendereu\n",
    "    \n",
    "#     def solve_stackaleber(self):\n",
    "#         res = fmin_slsqp(self.stackelberg_eu, np.random.random(size=13))\n",
    "#         return res\n",
    "        \n",
    "            "
   ]
  },
  {
   "cell_type": "code",
   "execution_count": 5,
   "metadata": {
    "collapsed": false
   },
   "outputs": [],
   "source": [
    "parameters = { 'tau': 15,\n",
    "                'd': -1000.,\n",
    "                'lrd': 0.,\n",
    "                'sigmamat' : np.array([[0., 1., 1., 0., 0.], \n",
    "                                       [1., 0., 1., 1., 0.],\n",
    "                                       [1., 1., 0., 1., 0.],\n",
    "                                       [1., 1., 1., 0., 1.],\n",
    "                                       [0., 0., 0., 0., 0.]]),\n",
    "                \n",
    "              'r' : np.array(         [[0., 0., 0., 0., 0.], \n",
    "                                       [0., 0., 0., 0., 0.],\n",
    "                                       [0., 0., 0., 0., 0.],\n",
    "                                       [0., 0., 0., 0., 1.],\n",
    "                                       [0., 0., 0., 0., 0.]]),\n",
    "\n",
    "                'c' :  np.array(   [[0., 0., 0., 0., 0.], \n",
    "                                       [0., 0., 0., 0., 0.],\n",
    "                                       [0., 0., 0., 0., 0.],\n",
    "                                       [0., 0., 0., 0., 1.],\n",
    "                                       [0., 0., 0., 0., 0.]]),\n",
    "\n",
    "                'b1': 1, # Catching Attacker\n",
    "                'b2': 1, # Let network function\n",
    "                'c1': 1, # False alarm\n",
    "                'c2': 1, # Multiplier to C\n",
    "                'pi' : .1,\n",
    "                'effort': 20,\n",
    "                'discount' : .95\n",
    "             }\n",
    "Model1 = NormalNoiseModel(**parameters)"
   ]
  },
  {
   "cell_type": "code",
   "execution_count": 6,
   "metadata": {
    "collapsed": false
   },
   "outputs": [],
   "source": [
    "#Model1.solve_stackaleber()"
   ]
  },
  {
   "cell_type": "code",
   "execution_count": 160,
   "metadata": {
    "collapsed": false
   },
   "outputs": [
    {
     "name": "stdout",
     "output_type": "stream",
     "text": [
      "4.9106225449\n",
      "4.71342248104\n",
      "4.51842100541\n",
      "4.32573365615\n",
      "4.13548237899\n",
      "3.94779570833\n",
      "3.76280890405\n",
      "3.5806640312\n",
      "3.40150996749\n",
      "3.22550231738\n",
      "3.05280322057\n",
      "2.8835810244\n",
      "2.71800980204\n",
      "725.344645977\n"
     ]
    }
   ],
   "source": [
    "start = time.time()\n",
    "rdiscount5 = Model1.get_results_up_to_level_lr_from_def_smooth(np.arange(-5,-.1,.4),a0strat, 30)\n",
    "dfdiscount5=rdiscount5[2]\n",
    "dfdiscount5.to_csv(\"./exfiltrate_lr_from_def_smooth.csv\", delim =\",\", index_label=False)\n",
    "elapsed = time.time() - start\n",
    "print elapsed"
   ]
  },
  {
   "cell_type": "code",
   "execution_count": 79,
   "metadata": {
    "collapsed": false
   },
   "outputs": [],
   "source": [
    "w=np.zeros(180)"
   ]
  },
  {
   "cell_type": "code",
   "execution_count": null,
   "metadata": {
    "collapsed": false
   },
   "outputs": [],
   "source": []
  },
  {
   "cell_type": "code",
   "execution_count": 82,
   "metadata": {
    "collapsed": false
   },
   "outputs": [
    {
     "data": {
      "text/plain": [
       "array([ 0.,  0.,  0.,  0.,  0.,  0.,  0.,  0.,  0.,  0.,  1.,  1.,  1.,\n",
       "        1.,  1.,  0.,  0.,  0.,  0.,  0.,  0.,  0.,  0.,  0.,  0.,  0.,\n",
       "        0.,  0.,  0.,  0.,  0.,  0.,  0.,  0.,  0.,  0.,  0.,  0.,  0.,\n",
       "        0.,  0.,  0.,  0.,  0.,  0.,  0.,  0.,  0.,  0.,  0.,  0.,  0.,\n",
       "        0.,  0.,  0.,  0.,  0.,  0.,  0.,  0.,  0.,  0.,  0.,  0.,  0.,\n",
       "        0.,  0.,  0.,  0.,  0.,  0.,  0.,  0.,  0.,  0.,  0.,  0.,  0.,\n",
       "        0.,  0.,  0.,  0.,  0.,  0.,  0.,  0.,  0.,  0.,  0.,  0.,  0.,\n",
       "        0.,  0.,  0.,  0.,  0.,  0.,  0.,  0.,  0.,  0.,  0.,  0.,  0.,\n",
       "        0.,  0.,  0.,  0.,  0.,  0.,  0.,  0.,  0.,  0.,  0.,  0.,  0.,\n",
       "        0.,  0.,  0.,  0.,  0.,  0.,  0.,  0.,  0.,  0.,  0.,  0.,  0.,\n",
       "        0.,  0.,  0.,  0.,  0.,  0.,  0.,  0.,  0.,  0.,  0.,  0.,  0.,\n",
       "        0.,  0.,  0.,  0.,  0.,  0.,  0.,  0.,  0.,  0.,  0.,  0.,  0.,\n",
       "        0.,  0.,  0.,  0.,  0.,  0.,  0.,  0.,  0.,  0.,  0.,  0.,  0.,\n",
       "        0.,  0.,  0.,  0.,  0.,  0.,  0.,  0.,  0.,  0.,  0.])"
      ]
     },
     "execution_count": 82,
     "metadata": {},
     "output_type": "execute_result"
    }
   ],
   "source": [
    "w"
   ]
  },
  {
   "cell_type": "code",
   "execution_count": 7,
   "metadata": {
    "collapsed": true
   },
   "outputs": [],
   "source": [
    "data = pd.read_csv(\"./exfiltrate_lr_from_def_smooth.csv\")"
   ]
  },
  {
   "cell_type": "code",
   "execution_count": 24,
   "metadata": {
    "collapsed": false
   },
   "outputs": [],
   "source": [
    "cols = [\"L29A\" + str(x) for x in np.arange(180)]"
   ]
  },
  {
   "cell_type": "code",
   "execution_count": 43,
   "metadata": {
    "collapsed": false
   },
   "outputs": [],
   "source": [
    "for ix, c in enumerate(cols):\n",
    "    data[c]=Model1.x_from_astrat(a0stratsmooth)[ix]"
   ]
  },
  {
   "cell_type": "code",
   "execution_count": 44,
   "metadata": {
    "collapsed": true
   },
   "outputs": [],
   "source": [
    "data.to_csv(\"./exfiltrate_lr_from_def_smooth_nash.csv\", delim =\",\", index_label=False)\n"
   ]
  },
  {
   "cell_type": "code",
   "execution_count": 42,
   "metadata": {
    "collapsed": false
   },
   "outputs": [
    {
     "data": {
      "text/plain": [
       "0     0.441154\n",
       "1     0.441154\n",
       "2     0.441154\n",
       "3     0.441154\n",
       "4     0.441154\n",
       "5     0.441154\n",
       "6     0.441154\n",
       "7     0.441154\n",
       "8     0.441154\n",
       "9     0.441154\n",
       "10    0.441154\n",
       "11    0.441154\n",
       "12    0.441154\n",
       "Name: L29A0, dtype: float64"
      ]
     },
     "execution_count": 42,
     "metadata": {},
     "output_type": "execute_result"
    }
   ],
   "source": [
    "data[\"L29A0\"]"
   ]
  },
  {
   "cell_type": "code",
   "execution_count": 10,
   "metadata": {
    "collapsed": false
   },
   "outputs": [],
   "source": [
    "thresh=data.L28LRThresh[0]"
   ]
  },
  {
   "cell_type": "code",
   "execution_count": 12,
   "metadata": {
    "collapsed": false
   },
   "outputs": [
    {
     "data": {
      "text/plain": [
       "5.9656708474639295"
      ]
     },
     "execution_count": 12,
     "metadata": {},
     "output_type": "execute_result"
    }
   ],
   "source": [
    "data.L29AEU_V_DL28[0]"
   ]
  },
  {
   "cell_type": "code",
   "execution_count": 16,
   "metadata": {
    "collapsed": false
   },
   "outputs": [
    {
     "data": {
      "text/plain": [
       "0.074979561470223888"
      ]
     },
     "execution_count": 16,
     "metadata": {},
     "output_type": "execute_result"
    }
   ],
   "source": [
    "data.L28DEU_V_AL29[0]"
   ]
  },
  {
   "cell_type": "code",
   "execution_count": 126,
   "metadata": {
    "collapsed": false
   },
   "outputs": [
    {
     "name": "stdout",
     "output_type": "stream",
     "text": [
      "-3.05280322044\n",
      "-3.05280224526\n"
     ]
    }
   ],
   "source": [
    "lr0t=-1\n",
    "mult=.458\n",
    "l1res = Model1.solve_lk_attacker(lr0t, a0stratdic)\n",
    "print l1res[1]\n",
    "#a1stratdic = Model1.attacker_strat_from_res(l1res[0])\n",
    "print Model1.attacker_expected_utility_lr(mult*a0strat,a0stratdic, -1 )"
   ]
  },
  {
   "cell_type": "code",
   "execution_count": 130,
   "metadata": {
    "collapsed": false
   },
   "outputs": [
    {
     "data": {
      "text/plain": [
       "0.66167503515090664"
      ]
     },
     "execution_count": 130,
     "metadata": {},
     "output_type": "execute_result"
    }
   ],
   "source": [
    "Model1.prob_no_alarm_lr(-1, Model1.attacker_strat_from_res(l1res[0]), a0stratdic)"
   ]
  },
  {
   "cell_type": "code",
   "execution_count": 131,
   "metadata": {
    "collapsed": false
   },
   "outputs": [
    {
     "data": {
      "text/plain": [
       "0.66242780003066914"
      ]
     },
     "execution_count": 131,
     "metadata": {},
     "output_type": "execute_result"
    }
   ],
   "source": [
    "Model1.prob_no_alarm_lr(-1, Model1.attacker_strat_from_res(mult*a0strat), a0stratdic)"
   ]
  },
  {
   "cell_type": "code",
   "execution_count": 120,
   "metadata": {
    "collapsed": false
   },
   "outputs": [
    {
     "data": {
      "text/plain": [
       "4.6150000000000002"
      ]
     },
     "execution_count": 120,
     "metadata": {},
     "output_type": "execute_result"
    }
   ],
   "source": [
    "np.sum(Model1.attacker_strat_from_res(mult*a0strat)[(3,4)])"
   ]
  },
  {
   "cell_type": "code",
   "execution_count": 121,
   "metadata": {
    "collapsed": false
   },
   "outputs": [
    {
     "data": {
      "text/plain": [
       "4.6139999999999999"
      ]
     },
     "execution_count": 121,
     "metadata": {},
     "output_type": "execute_result"
    }
   ],
   "source": [
    "np.sum(Model1.attacker_strat_from_res(l1res[0])[(3,4)])"
   ]
  },
  {
   "cell_type": "code",
   "execution_count": 133,
   "metadata": {
    "collapsed": false
   },
   "outputs": [
    {
     "data": {
      "text/plain": [
       "-0.60467622727536785"
      ]
     },
     "execution_count": 133,
     "metadata": {},
     "output_type": "execute_result"
    }
   ],
   "source": [
    "Model1.defender_expected_utility_lr(-1, Model1.attacker_strat_from_res(a0strat*mult),a0stratdic)"
   ]
  },
  {
   "cell_type": "code",
   "execution_count": 84,
   "metadata": {
    "collapsed": false
   },
   "outputs": [
    {
     "ename": "TypeError",
     "evalue": "unsupported operand type(s) for *: 'int' and 'NoneType'",
     "output_type": "error",
     "traceback": [
      "\u001b[1;31m---------------------------------------------------------------------------\u001b[0m",
      "\u001b[1;31mTypeError\u001b[0m                                 Traceback (most recent call last)",
      "\u001b[1;32m<ipython-input-84-1df199ec37e3>\u001b[0m in \u001b[0;36m<module>\u001b[1;34m()\u001b[0m\n\u001b[1;32m----> 1\u001b[1;33m \u001b[0mModel1\u001b[0m\u001b[1;33m.\u001b[0m\u001b[0mattacker_expected_utility_lr\u001b[0m\u001b[1;33m(\u001b[0m\u001b[0ma1strat\u001b[0m\u001b[1;33m,\u001b[0m \u001b[0ma0stratdic\u001b[0m\u001b[1;33m)\u001b[0m\u001b[1;33m\u001b[0m\u001b[0m\n\u001b[0m",
      "\u001b[1;32m<ipython-input-2-d6c4089ed6a4>\u001b[0m in \u001b[0;36mattacker_expected_utility_lr\u001b[1;34m(self, x, astratbelief, lrd)\u001b[0m\n\u001b[0;32m    153\u001b[0m         \u001b[1;31m#    astratbelief[key] = newval\u001b[0m\u001b[1;33m\u001b[0m\u001b[1;33m\u001b[0m\u001b[0m\n\u001b[0;32m    154\u001b[0m         \u001b[0mu\u001b[0m \u001b[1;33m=\u001b[0m \u001b[1;36m0\u001b[0m\u001b[1;33m\u001b[0m\u001b[0m\n\u001b[1;32m--> 155\u001b[1;33m         \u001b[0mpnoalarm\u001b[0m \u001b[1;33m=\u001b[0m \u001b[0mself\u001b[0m\u001b[1;33m.\u001b[0m\u001b[0mprob_no_alarm_lr\u001b[0m\u001b[1;33m(\u001b[0m\u001b[0mlrd\u001b[0m\u001b[1;33m,\u001b[0m \u001b[0mastrat\u001b[0m\u001b[1;33m,\u001b[0m \u001b[0mastratbelief\u001b[0m\u001b[1;33m)\u001b[0m\u001b[1;33m\u001b[0m\u001b[0m\n\u001b[0m\u001b[0;32m    156\u001b[0m         \u001b[0mreward\u001b[0m \u001b[1;33m=\u001b[0m \u001b[1;36m0\u001b[0m\u001b[1;33m\u001b[0m\u001b[0m\n\u001b[0;32m    157\u001b[0m         \u001b[0mtotaleffort\u001b[0m \u001b[1;33m=\u001b[0m \u001b[1;36m0\u001b[0m\u001b[1;33m\u001b[0m\u001b[0m\n",
      "\u001b[1;32m<ipython-input-2-d6c4089ed6a4>\u001b[0m in \u001b[0;36mprob_no_alarm_lr\u001b[1;34m(self, lrd, astrat, astratbelief)\u001b[0m\n\u001b[0;32m    123\u001b[0m     \u001b[1;32mdef\u001b[0m \u001b[0mprob_no_alarm_lr\u001b[0m\u001b[1;33m(\u001b[0m\u001b[0mself\u001b[0m\u001b[1;33m,\u001b[0m \u001b[0mlrd\u001b[0m\u001b[1;33m,\u001b[0m \u001b[0mastrat\u001b[0m\u001b[1;33m=\u001b[0m\u001b[0mNone\u001b[0m\u001b[1;33m,\u001b[0m \u001b[0mastratbelief\u001b[0m\u001b[1;33m=\u001b[0m\u001b[0mNone\u001b[0m\u001b[1;33m)\u001b[0m\u001b[1;33m:\u001b[0m\u001b[1;33m\u001b[0m\u001b[0m\n\u001b[0;32m    124\u001b[0m         \u001b[0mstdev\u001b[0m \u001b[1;33m=\u001b[0m \u001b[0mself\u001b[0m\u001b[1;33m.\u001b[0m\u001b[0mget_sd_from_belief\u001b[0m\u001b[1;33m(\u001b[0m\u001b[0mastratbelief\u001b[0m\u001b[1;33m)\u001b[0m\u001b[1;33m\u001b[0m\u001b[0m\n\u001b[1;32m--> 125\u001b[1;33m         \u001b[0mevalat\u001b[0m \u001b[1;33m=\u001b[0m \u001b[1;33m-\u001b[0m\u001b[1;36m2\u001b[0m\u001b[1;33m*\u001b[0m\u001b[0mlrd\u001b[0m\u001b[1;33m\u001b[0m\u001b[0m\n\u001b[0m\u001b[0;32m    126\u001b[0m         \u001b[1;32mfor\u001b[0m \u001b[0mkey\u001b[0m\u001b[1;33m,\u001b[0m \u001b[0mval\u001b[0m \u001b[1;32min\u001b[0m \u001b[0mastratbelief\u001b[0m\u001b[1;33m.\u001b[0m\u001b[0miteritems\u001b[0m\u001b[1;33m(\u001b[0m\u001b[1;33m)\u001b[0m\u001b[1;33m:\u001b[0m\u001b[1;33m\u001b[0m\u001b[0m\n\u001b[0;32m    127\u001b[0m             \u001b[0mevalat\u001b[0m \u001b[1;33m+=\u001b[0m \u001b[0mnp\u001b[0m\u001b[1;33m.\u001b[0m\u001b[0msum\u001b[0m\u001b[1;33m(\u001b[0m\u001b[0mastratbelief\u001b[0m\u001b[1;33m[\u001b[0m\u001b[0mkey\u001b[0m\u001b[1;33m]\u001b[0m\u001b[1;33m**\u001b[0m\u001b[1;36m2\u001b[0m \u001b[1;33m-\u001b[0m \u001b[1;36m2\u001b[0m\u001b[1;33m*\u001b[0m\u001b[0mastratbelief\u001b[0m\u001b[1;33m[\u001b[0m\u001b[0mkey\u001b[0m\u001b[1;33m]\u001b[0m\u001b[1;33m*\u001b[0m\u001b[0mastrat\u001b[0m\u001b[1;33m[\u001b[0m\u001b[0mkey\u001b[0m\u001b[1;33m]\u001b[0m\u001b[1;33m)\u001b[0m                 \u001b[1;33m/\u001b[0m \u001b[0mself\u001b[0m\u001b[1;33m.\u001b[0m\u001b[0msigmamat\u001b[0m\u001b[1;33m[\u001b[0m\u001b[0mkey\u001b[0m\u001b[1;33m]\u001b[0m\u001b[1;33m**\u001b[0m\u001b[1;36m2\u001b[0m\u001b[1;33m\u001b[0m\u001b[0m\n",
      "\u001b[1;31mTypeError\u001b[0m: unsupported operand type(s) for *: 'int' and 'NoneType'"
     ]
    }
   ],
   "source": [
    "Model1.attacker_expected_utility_lr(a1strat, a0stratdic)"
   ]
  },
  {
   "cell_type": "code",
   "execution_count": 57,
   "metadata": {
    "collapsed": false
   },
   "outputs": [],
   "source": [
    "a1strat = Model1.x_from_astrat(a1stratdic)"
   ]
  },
  {
   "cell_type": "code",
   "execution_count": 13,
   "metadata": {
    "collapsed": false
   },
   "outputs": [],
   "source": [
    "a0stratdic = Model1.attacker_strat_from_res(a0strat)\n",
    "a0stratsmooth = Model1.get_smooth_belief(a0stratdic)"
   ]
  },
  {
   "cell_type": "code",
   "execution_count": 38,
   "metadata": {
    "collapsed": false
   },
   "outputs": [
    {
     "data": {
      "text/plain": [
       "{(0,\n",
       "  1): array([ 0.14411538,  0.14411538,  0.14411538,  0.14411538,  0.14411538,\n",
       "         0.14411538,  0.14411538,  0.14411538,  0.14411538,  0.14411538,\n",
       "         0.14411538,  0.14411538,  0.14411538,  0.        ,  0.        ]),\n",
       " (0,\n",
       "  2): array([ 0.14411538,  0.14411538,  0.14411538,  0.14411538,  0.14411538,\n",
       "         0.14411538,  0.14411538,  0.14411538,  0.14411538,  0.14411538,\n",
       "         0.14411538,  0.14411538,  0.14411538,  0.        ,  0.        ]),\n",
       " (1,\n",
       "  0): array([ 0., -0.,  0.,  0., -0., -0., -0., -0., -0.,  0., -0.,  0.,  0.,\n",
       "        -0., -0.]),\n",
       " (1,\n",
       "  2): array([ 0., -0.,  0., -0.,  0., -0., -0., -0.,  0., -0., -0., -0.,  0.,\n",
       "        -0., -0.]),\n",
       " (1,\n",
       "  3): array([ 0.        ,  0.14411538,  0.14411538,  0.14411538,  0.14411538,\n",
       "         0.14411538,  0.14411538,  0.14411538,  0.14411538,  0.14411538,\n",
       "         0.14411538,  0.14411538,  0.14411538,  0.14411538,  0.        ]),\n",
       " (2,\n",
       "  0): array([ 0., -0.,  0., -0., -0.,  0.,  0.,  0.,  0., -0.,  0.,  0., -0.,\n",
       "        -0.,  0.]),\n",
       " (2,\n",
       "  1): array([ 0.,  0., -0.,  0.,  0.,  0.,  0.,  0.,  0., -0.,  0.,  0.,  0.,\n",
       "        -0.,  0.]),\n",
       " (2,\n",
       "  3): array([ 0.        ,  0.14411538,  0.14411538,  0.14411538,  0.14411538,\n",
       "         0.14411538,  0.14411538,  0.14411538,  0.14411538,  0.14411538,\n",
       "         0.14411538,  0.14411538,  0.14411538,  0.14411538,  0.        ]),\n",
       " (3,\n",
       "  0): array([ 0., -0.,  0.,  0.,  0.,  0., -0.,  0.,  0., -0., -0.,  0., -0.,\n",
       "         0.,  0.]),\n",
       " (3,\n",
       "  1): array([ 0.,  0.,  0.,  0.,  0.,  0.,  0.,  0.,  0.,  0.,  0.,  0.,  0.,\n",
       "         0., -0.]),\n",
       " (3,\n",
       "  2): array([-0., -0.,  0.,  0., -0.,  0., -0., -0.,  0.,  0., -0.,  0., -0.,\n",
       "         0.,  0.]),\n",
       " (3,\n",
       "  4): array([ 0.        ,  0.        ,  0.28823077,  0.28823077,  0.28823077,\n",
       "         0.28823077,  0.28823077,  0.28823077,  0.28823077,  0.28823077,\n",
       "         0.28823077,  0.28823077,  0.28823077,  0.28823077,  0.28823077])}"
      ]
     },
     "execution_count": 38,
     "metadata": {},
     "output_type": "execute_result"
    }
   ],
   "source": [
    "a0stratsmooth"
   ]
  },
  {
   "cell_type": "code",
   "execution_count": 22,
   "metadata": {
    "collapsed": false
   },
   "outputs": [
    {
     "data": {
      "text/plain": [
       "-2.1203886247636401"
      ]
     },
     "execution_count": 22,
     "metadata": {},
     "output_type": "execute_result"
    }
   ],
   "source": [
    "Model1.attacker_expected_utility_lr(Model1.x_from_astrat(a0stratsmooth),a0stratsmooth, -1.323851)"
   ]
  },
  {
   "cell_type": "code",
   "execution_count": 23,
   "metadata": {
    "collapsed": false
   },
   "outputs": [
    {
     "data": {
      "text/plain": [
       "{(0,\n",
       "  1): array([ 0.14411538,  0.14411538,  0.14411538,  0.14411538,  0.14411538,\n",
       "         0.14411538,  0.14411538,  0.14411538,  0.14411538,  0.14411538,\n",
       "         0.14411538,  0.14411538,  0.14411538,  0.        ,  0.        ]),\n",
       " (0,\n",
       "  2): array([ 0.14411538,  0.14411538,  0.14411538,  0.14411538,  0.14411538,\n",
       "         0.14411538,  0.14411538,  0.14411538,  0.14411538,  0.14411538,\n",
       "         0.14411538,  0.14411538,  0.14411538,  0.        ,  0.        ]),\n",
       " (1,\n",
       "  0): array([ 0., -0.,  0.,  0., -0., -0., -0., -0., -0.,  0., -0.,  0.,  0.,\n",
       "        -0., -0.]),\n",
       " (1,\n",
       "  2): array([ 0., -0.,  0., -0.,  0., -0., -0., -0.,  0., -0., -0., -0.,  0.,\n",
       "        -0., -0.]),\n",
       " (1,\n",
       "  3): array([ 0.        ,  0.14411538,  0.14411538,  0.14411538,  0.14411538,\n",
       "         0.14411538,  0.14411538,  0.14411538,  0.14411538,  0.14411538,\n",
       "         0.14411538,  0.14411538,  0.14411538,  0.14411538,  0.        ]),\n",
       " (2,\n",
       "  0): array([ 0., -0.,  0., -0., -0.,  0.,  0.,  0.,  0., -0.,  0.,  0., -0.,\n",
       "        -0.,  0.]),\n",
       " (2,\n",
       "  1): array([ 0.,  0., -0.,  0.,  0.,  0.,  0.,  0.,  0., -0.,  0.,  0.,  0.,\n",
       "        -0.,  0.]),\n",
       " (2,\n",
       "  3): array([ 0.        ,  0.14411538,  0.14411538,  0.14411538,  0.14411538,\n",
       "         0.14411538,  0.14411538,  0.14411538,  0.14411538,  0.14411538,\n",
       "         0.14411538,  0.14411538,  0.14411538,  0.14411538,  0.        ]),\n",
       " (3,\n",
       "  0): array([ 0., -0.,  0.,  0.,  0.,  0., -0.,  0.,  0., -0., -0.,  0., -0.,\n",
       "         0.,  0.]),\n",
       " (3,\n",
       "  1): array([ 0.,  0.,  0.,  0.,  0.,  0.,  0.,  0.,  0.,  0.,  0.,  0.,  0.,\n",
       "         0., -0.]),\n",
       " (3,\n",
       "  2): array([-0., -0.,  0.,  0., -0.,  0., -0., -0.,  0.,  0., -0.,  0., -0.,\n",
       "         0.,  0.]),\n",
       " (3,\n",
       "  4): array([ 0.        ,  0.        ,  0.28823077,  0.28823077,  0.28823077,\n",
       "         0.28823077,  0.28823077,  0.28823077,  0.28823077,  0.28823077,\n",
       "         0.28823077,  0.28823077,  0.28823077,  0.28823077,  0.28823077])}"
      ]
     },
     "execution_count": 23,
     "metadata": {},
     "output_type": "execute_result"
    }
   ],
   "source": [
    "a0stratsmooth"
   ]
  },
  {
   "cell_type": "code",
   "execution_count": 44,
   "metadata": {
    "collapsed": false
   },
   "outputs": [],
   "source": [
    "a1stratdic = Model1.attacker_strat_from_res(l1res[0])"
   ]
  },
  {
   "cell_type": "code",
   "execution_count": 9,
   "metadata": {
    "collapsed": false
   },
   "outputs": [],
   "source": [
    "a0strat = data[cols].ix[0].values"
   ]
  },
  {
   "cell_type": "code",
   "execution_count": 11,
   "metadata": {
    "collapsed": false
   },
   "outputs": [
    {
     "data": {
      "text/plain": [
       "array([  4.02819678e-01,   5.89184454e-01,   3.23197865e-01,\n",
       "         2.52293442e-02,   3.03924107e-01,   1.88636557e-02,\n",
       "         2.03037514e-01,   2.43001137e-02,   3.01697167e-02,\n",
       "         3.16905490e-03,   1.31323521e-02,   1.23802090e-02,\n",
       "         3.40933156e-03,  -1.26489267e-16,  -2.03331173e-16,\n",
       "         3.48930183e-01,   5.15727403e-01,   5.02591711e-02,\n",
       "         4.64097467e-02,   5.44113820e-02,   4.51712285e-02,\n",
       "         2.11542245e-01,   2.85106701e-01,   2.98544421e-02,\n",
       "         5.78119315e-02,   5.29060828e-02,   4.01675338e-02,\n",
       "         5.69014706e-02,  -8.57294613e-16,   7.06774296e-17,\n",
       "         5.10210339e-16,  -3.58579127e-17,   6.79311581e-17,\n",
       "         4.78910943e-16,  -3.48963019e-16,  -2.74851606e-16,\n",
       "        -2.77805348e-17,  -4.46757512e-16,  -2.00465788e-17,\n",
       "         1.45840037e-17,  -8.23062959e-17,   2.87655745e-17,\n",
       "         5.89941725e-17,  -1.82132110e-16,  -8.40496111e-17,\n",
       "         2.44165774e-16,  -1.90473403e-17,   1.14187430e-16,\n",
       "        -9.33101179e-17,   4.75089942e-17,  -1.37341083e-16,\n",
       "        -1.24660621e-16,  -8.10712949e-17,   1.90825918e-18,\n",
       "        -1.57337416e-16,  -2.43701940e-16,  -1.15228028e-16,\n",
       "         3.56393959e-17,  -3.33668446e-16,  -1.65317035e-16,\n",
       "        -1.01938285e-16,   2.88791349e-01,   1.98381595e-01,\n",
       "         9.35484597e-03,   4.13117650e-02,   7.56512231e-02,\n",
       "         6.07407845e-02,   2.19243050e-02,   3.04809665e-01,\n",
       "         3.15676007e-01,   1.31937916e-02,   8.52491462e-02,\n",
       "         1.85764995e-01,   3.51967923e-01,  -2.23962448e-16,\n",
       "         6.24425085e-16,  -1.02528691e-15,   1.86413874e-16,\n",
       "        -2.30223114e-17,  -1.37131543e-16,   3.12312438e-17,\n",
       "         3.13868280e-16,   1.64038238e-18,   3.83029986e-17,\n",
       "        -1.72762646e-16,   5.10057927e-17,   2.51509846e-16,\n",
       "        -2.16460701e-16,  -1.72360077e-16,   1.89895108e-16,\n",
       "         1.67636588e-16,   1.82096208e-17,  -8.84887812e-18,\n",
       "         9.06952174e-17,   1.86850209e-17,   1.84125824e-16,\n",
       "         7.93594616e-17,   2.86511004e-17,   1.28737758e-16,\n",
       "        -4.49072375e-17,   8.52092079e-17,   1.17352593e-16,\n",
       "         2.71642551e-17,  -1.47956846e-16,   2.11156544e-17,\n",
       "         1.08856953e-16,   2.44489579e-01,   3.00697575e-01,\n",
       "         4.37015936e-02,   3.15003583e-02,   3.09520374e-02,\n",
       "         3.43553962e-01,   2.54320222e-03,   4.12869899e-03,\n",
       "         1.61935859e-01,   1.33836395e-03,   1.06785013e-01,\n",
       "         1.17064239e-01,   4.06509038e-01,  -6.42870485e-17,\n",
       "         2.84975445e-16,  -1.91216131e-16,   1.43741892e-16,\n",
       "         1.58190947e-16,   9.31895583e-17,   1.46017743e-16,\n",
       "        -1.84210109e-16,   8.54396157e-17,   3.57855684e-16,\n",
       "        -4.79760334e-16,  -9.86919175e-17,   1.59164410e-16,\n",
       "        -1.42846245e-16,   5.70691267e-17,   3.92290230e-16,\n",
       "         7.23516413e-17,   4.15534387e-16,   4.67068760e-16,\n",
       "         2.98651507e-16,   2.65585697e-16,   1.83961792e-16,\n",
       "         2.81069658e-16,   1.59478922e-16,   1.71666678e-16,\n",
       "         2.70019505e-16,   5.63239363e-17,   2.60559891e-16,\n",
       "         2.97556222e-16,   7.87069723e-17,  -6.99649962e-17,\n",
       "        -5.91628343e-17,  -2.55521115e-16,   2.36396594e-17,\n",
       "         1.42670473e-16,  -8.72918798e-17,   3.54113242e-16,\n",
       "        -2.11384328e-16,  -2.71603957e-16,   2.29282268e-16,\n",
       "         1.47795365e-16,  -1.09473861e-17,   1.79754676e-16,\n",
       "        -8.07143530e-17,   4.08834767e-17,   4.19844227e-16,\n",
       "         4.96954609e-16,  -5.76616750e-16,   4.34241810e-02,\n",
       "         4.46810594e-01,   2.10847278e-01,   1.60901133e-02,\n",
       "         1.22923186e-02,   8.51958392e-01,   6.68846682e-03,\n",
       "         3.47468137e-01,   3.45465869e-01,   2.06334185e-01,\n",
       "         1.78809892e-01,   1.99965776e-01,   8.81861713e-01])"
      ]
     },
     "execution_count": 11,
     "metadata": {},
     "output_type": "execute_result"
    }
   ],
   "source": []
  },
  {
   "cell_type": "code",
   "execution_count": 107,
   "metadata": {
    "collapsed": true
   },
   "outputs": [],
   "source": [
    "a0strat = np.random.exponential(3, size=len(a0strat))"
   ]
  },
  {
   "cell_type": "code",
   "execution_count": 157,
   "metadata": {
    "collapsed": false
   },
   "outputs": [
    {
     "data": {
      "text/plain": [
       "0.9400150881289416"
      ]
     },
     "execution_count": 157,
     "metadata": {},
     "output_type": "execute_result"
    }
   ],
   "source": [
    "np.random.exponential(4)"
   ]
  },
  {
   "cell_type": "code",
   "execution_count": 158,
   "metadata": {
    "collapsed": false
   },
   "outputs": [
    {
     "data": {
      "text/plain": [
       "{(0, 1): array([ 2.362,  2.205,  6.215,  1.625,  7.907,  8.896,  0.22 ,  0.609,\n",
       "         1.72 ,  0.801,  0.899,  9.611,  2.696,  2.711,  9.237]),\n",
       " (0, 2): array([  0.048,   2.895,   1.329,   0.84 ,   2.198,  16.218,   3.189,\n",
       "          1.591,   3.061,   3.658,   3.091,   0.168,   9.852,  13.262,\n",
       "          3.562]),\n",
       " (1, 0): array([ 4.26 ,  3.091,  0.052,  7.958,  5.707,  3.446,  0.86 ,  0.532,\n",
       "         8.542,  1.558,  4.551,  2.901,  0.126,  2.417,  6.537]),\n",
       " (1, 2): array([  0.317,   8.213,   1.246,  10.039,   1.581,   1.919,   8.584,\n",
       "          1.788,   0.847,   0.925,   5.594,   3.657,   0.566,   1.999,\n",
       "          0.724]),\n",
       " (1, 3): array([  1.257,   0.931,   3.215,   0.666,   4.513,  10.219,   1.035,\n",
       "          7.858,   7.18 ,   2.603,   1.713,   0.063,   1.301,  13.933,\n",
       "          4.219]),\n",
       " (2, 0): array([ 0.453,  2.822,  3.673,  2.035,  7.255,  3.186,  1.693,  1.609,\n",
       "         0.315,  5.139,  3.794,  2.692,  0.999,  1.275,  2.426]),\n",
       " (2, 1): array([ 10.844,   0.064,   1.086,   2.797,   0.392,   7.997,   3.522,\n",
       "          4.35 ,   2.891,   2.631,   1.489,   0.21 ,   4.823,   0.435,\n",
       "          1.618]),\n",
       " (2, 3): array([ 8.073,  3.821,  1.714,  2.078,  6.752,  0.649,  1.653,  7.354,\n",
       "         0.657,  4.044,  5.536,  4.723,  9.028,  2.06 ,  7.958]),\n",
       " (3, 0): array([ 3.359,  1.651,  4.724,  1.529,  4.35 ,  5.806,  4.275,  4.189,\n",
       "         2.401,  4.5  ,  5.654,  2.064,  4.407,  1.392,  8.065]),\n",
       " (3, 1): array([ 11.662,   2.725,   3.484,   0.137,  14.033,   1.67 ,   1.003,\n",
       "          2.594,   4.079,   4.156,   8.138,   0.713,   0.28 ,   3.802,\n",
       "          0.165]),\n",
       " (3, 2): array([ 1.251,  1.591,  4.086,  0.014,  1.05 ,  7.016,  5.286,  0.258,\n",
       "         3.339,  0.181,  3.239,  1.873,  1.502,  1.151,  0.719]),\n",
       " (3, 4): array([ 0.052,  0.152,  8.318,  1.612,  1.01 ,  4.874,  4.298,  2.074,\n",
       "         0.144,  0.312,  0.194,  1.576,  1.796,  7.423,  4.822])}"
      ]
     },
     "execution_count": 158,
     "metadata": {},
     "output_type": "execute_result"
    }
   ],
   "source": [
    "Model1.attacker_strat_from_res(a0strat)"
   ]
  },
  {
   "cell_type": "code",
   "execution_count": 65,
   "metadata": {
    "collapsed": false
   },
   "outputs": [],
   "source": [
    "ain = Model1.attacker_strat_from_res(a0strat)\n",
    "ain[(0,1)] = .1*np.ones(15)\n",
    "ain[(0,2)] = .1 *np.ones(15)\n",
    "ain[(1,3)] = .1*np.ones(15)\n",
    "ain[(1,3)][0] = 0\n",
    "ain[(2,3)] = .1*np.ones(15)\n",
    "ain[(2,3)][0] = 0\n",
    "ain[(3,4)] = .1*np.ones(15)\n",
    "ain[(3,4)][0] = 0\n",
    "ain[(3,4)][1] = 0\n"
   ]
  },
  {
   "cell_type": "code",
   "execution_count": 35,
   "metadata": {
    "collapsed": false
   },
   "outputs": [
    {
     "data": {
      "text/plain": [
       "array([  3.87231709e-01,   3.87231709e-01,   3.87231709e-01,\n",
       "         3.87231709e-01,   3.87231709e-01,   3.87231709e-01,\n",
       "         3.87231709e-01,   3.87231709e-01,   3.87231709e-01,\n",
       "         3.87231709e-01,   3.87231709e-01,   3.87231730e-01,\n",
       "         3.87231590e-01,   2.05457196e-15,   4.68221930e-16,\n",
       "         3.87232097e-01,   3.87232097e-01,   3.87232097e-01,\n",
       "         3.87232097e-01,   3.87232097e-01,   3.87232097e-01,\n",
       "         3.87232097e-01,   3.87232097e-01,   3.87232097e-01,\n",
       "         3.87232097e-01,   3.87232514e-01,   3.87231457e-01,\n",
       "         3.87232543e-01,   3.66961242e-15,   2.02918175e-16,\n",
       "        -1.11841509e-15,   2.68243425e-17,  -2.20473236e-17,\n",
       "        -2.27030246e-16,   5.34216231e-17,  -1.28485119e-16,\n",
       "         7.85982098e-17,  -6.84460012e-16,  -1.40485071e-16,\n",
       "        -4.30183050e-18,  -5.16845587e-16,  -1.01133680e-16,\n",
       "        -1.57575507e-16,  -1.26345458e-16,  -4.12011800e-16,\n",
       "         1.25296804e-16,   8.20491822e-09,   8.20491796e-09,\n",
       "         8.20491807e-09,   8.20491773e-09,   8.20491781e-09,\n",
       "         8.20491789e-09,   8.20491791e-09,   8.20491804e-09,\n",
       "         8.20491810e-09,   8.20491771e-09,   8.20491813e-09,\n",
       "         2.81442123e-07,   1.04382986e-17,  -6.56764415e-16,\n",
       "        -1.27495595e-15,   3.87231660e-01,   3.87231660e-01,\n",
       "         3.87231660e-01,   3.87231660e-01,   3.87231660e-01,\n",
       "         3.87231660e-01,   3.87231660e-01,   3.87231660e-01,\n",
       "         3.87231660e-01,   3.87231660e-01,   3.87231660e-01,\n",
       "         3.87232647e-01,   3.87231859e-01,  -4.73351244e-16,\n",
       "         6.17996946e-16,  -4.39452700e-17,  -6.45699699e-17,\n",
       "         3.34502598e-16,  -4.42191026e-18,  -1.39957643e-16,\n",
       "        -1.29743127e-16,  -4.21071222e-17,  -2.85161724e-17,\n",
       "         3.36630159e-17,  -1.77643803e-16,   8.82736543e-17,\n",
       "         1.74395265e-16,  -1.09881000e-16,  -2.06230634e-16,\n",
       "         2.33310454e-16,  -1.55647817e-16,  -5.20602531e-17,\n",
       "        -1.50796315e-16,   6.56442645e-18,  -4.67463942e-18,\n",
       "         1.96731605e-16,   2.31216304e-16,   2.75919537e-16,\n",
       "         2.75788339e-16,   3.00510910e-16,   7.49730925e-07,\n",
       "         2.69017245e-07,   6.82144603e-16,  -9.77529766e-17,\n",
       "         4.64892281e-16,   3.87232031e-01,   3.87232031e-01,\n",
       "         3.87232031e-01,   3.87232031e-01,   3.87232031e-01,\n",
       "         3.87232031e-01,   3.87232031e-01,   3.87232031e-01,\n",
       "         3.87232031e-01,   3.87232031e-01,   3.87231989e-01,\n",
       "         3.87231707e-01,   3.87232824e-01,  -4.50299060e-17,\n",
       "        -1.56933829e-15,  -4.41225242e-16,  -3.76526551e-16,\n",
       "         6.55830224e-17,  -3.30218045e-16,   9.23140896e-17,\n",
       "         5.80562142e-16,  -2.62901307e-16,  -1.01305426e-16,\n",
       "         1.78841359e-16,  -2.91938528e-16,  -1.52729778e-16,\n",
       "        -1.49089880e-16,  -4.09751907e-16,   2.24461623e-16,\n",
       "         1.17674029e-16,  -1.35585197e-16,   2.46098642e-16,\n",
       "         2.00996495e-16,   2.94173867e-16,   1.93130806e-16,\n",
       "         1.84487929e-16,   1.89543295e-16,   2.66638174e-16,\n",
       "         3.86575696e-17,   3.99753021e-16,   2.79626615e-16,\n",
       "        -1.02695292e-17,   8.28092901e-16,  -3.91128889e-16,\n",
       "         3.28766028e-16,   5.62130271e-16,   1.23147738e-16,\n",
       "         2.11322026e-16,   1.91199970e-16,   2.06032982e-16,\n",
       "        -3.30713218e-17,  -3.21198006e-16,  -8.00514444e-17,\n",
       "         2.95575577e-16,   6.33062496e-17,  -8.46922635e-16,\n",
       "        -3.26316342e-16,  -7.17810707e-17,   4.05380170e-16,\n",
       "        -1.35108349e-15,  -3.43387611e-16,   7.74463688e-01,\n",
       "         7.74463688e-01,   7.74463688e-01,   7.74463688e-01,\n",
       "         7.74463688e-01,   7.74463688e-01,   7.74463688e-01,\n",
       "         7.74463688e-01,   7.74463688e-01,   7.74463688e-01,\n",
       "         7.74463688e-01,   7.74463994e-01,   7.74465043e-01])"
      ]
     },
     "execution_count": 35,
     "metadata": {},
     "output_type": "execute_result"
    }
   ],
   "source": [
    "a0strat"
   ]
  },
  {
   "cell_type": "code",
   "execution_count": null,
   "metadata": {
    "collapsed": true
   },
   "outputs": [],
   "source": []
  },
  {
   "cell_type": "code",
   "execution_count": null,
   "metadata": {
    "collapsed": true
   },
   "outputs": [],
   "source": []
  },
  {
   "cell_type": "code",
   "execution_count": 454,
   "metadata": {
    "collapsed": false
   },
   "outputs": [
    {
     "name": "stdout",
     "output_type": "stream",
     "text": [
      "[ 14.40411322]\n",
      "[ 14.29246339]\n",
      "[ 14.18019239]\n",
      "[ 14.0528248]\n",
      "[ 13.85438575]\n",
      "[ 13.65677399]\n",
      "[ 13.45902849]\n",
      "[ 12.87771152]\n",
      "[ 12.91058646]\n",
      "[ 12.48914367]\n",
      "[ 12.00230021]\n",
      "[ 11.47819359]\n",
      "[ 10.835007]\n",
      "[ 10.15131431]\n",
      "[ 9.53881304]\n",
      "[ 8.95960253]\n",
      "[ 8.37519995]\n",
      "[ 7.83962571]\n",
      "[ 7.41642354]\n",
      "[ 7.06867539]\n",
      "[ 6.78144283]\n",
      "[ 6.53648102]\n",
      "[ 6.33290794]\n",
      "[ 6.14840689]\n",
      "[ 5.99857438]\n",
      "[ 5.8678153]\n",
      "[ 5.72772146]\n",
      "[ 5.58536544]\n",
      "[ 5.43036362]\n",
      "[ 5.28836823]\n",
      "[ 5.1469812]\n",
      "[ 5.00883604]\n",
      "[ 4.87859563]\n",
      "[ 4.7500307]\n",
      "[ 4.63087391]\n",
      "[ 4.50780322]\n",
      "[ 4.39326923]\n",
      "[ 4.28100491]\n",
      "[ 4.17583227]\n",
      "[ 4.07380296]\n",
      "[ 3.9830105]\n",
      "[ 3.89106052]\n",
      "[ 3.80793538]\n",
      "[ 3.73049352]\n",
      "[ 3.65130981]\n",
      "[ 3.58290367]\n",
      "[ 3.51989504]\n",
      "[ 3.46094464]\n",
      "[ 3.40189147]\n",
      "[ 3.35071404]\n",
      "1606.16662407\n"
     ]
    }
   ],
   "source": [
    "start = time.time()\n",
    "rdiscount1 = Model1.get_results_up_to_level(np.arange(-300,-250,1), 30)\n",
    "dfdiscount1=rdiscount1[2]\n",
    "dfdiscount1.to_csv(\"./lkresultsdiscount1.csv\", delim =\",\", index_label=False)\n",
    "elapsed = time.time() - start\n",
    "print elapsed"
   ]
  },
  {
   "cell_type": "code",
   "execution_count": 443,
   "metadata": {
    "collapsed": false
   },
   "outputs": [
    {
     "data": {
      "image/png": "[encoded data removed]",
      "text/plain": [
       "<matplotlib.figure.Figure at 0x7eff78bed650>"
      ]
     },
     "metadata": {},
     "output_type": "display_data"
    }
   ],
   "source": [
    "title_in = \"Level 1 attacker intensity along edge from Host 1 to Server\"\n",
    "fig, ax = plot_astrat_on_edge(Model1, dfnonsmooth2t, np.arange(-275, -274, 1), (3,4), 23, title_in = title_in);"
   ]
  },
  {
   "cell_type": "code",
   "execution_count": 372,
   "metadata": {
    "collapsed": false
   },
   "outputs": [
    {
     "data": {
      "image/png": "[encoded data removed]",
      "text/plain": [
       "<matplotlib.figure.Figure at 0x7eff78bf6790>"
      ]
     },
     "metadata": {},
     "output_type": "display_data"
    }
   ],
   "source": [
    "title_in = \"Level 1 attacker intensity along edge from Host 1 to Server\"\n",
    "fig, ax = plot_astrat_on_edge(Model1, dfnonsmooth2t, np.arange(-275, -274, 1), (3,4), 3, title_in = title_in);"
   ]
  },
  {
   "cell_type": "code",
   "execution_count": 151,
   "metadata": {
    "collapsed": false
   },
   "outputs": [
    {
     "name": "stdout",
     "output_type": "stream",
     "text": [
      "[ 8.68647387]\n",
      "[ 8.68647387]\n"
     ]
    },
    {
     "ename": "KeyboardInterrupt",
     "evalue": "",
     "output_type": "error",
     "traceback": [
      "\u001b[1;31m---------------------------------------------------------------------------\u001b[0m",
      "\u001b[1;31mKeyboardInterrupt\u001b[0m                         Traceback (most recent call last)",
      "\u001b[1;32m<ipython-input-151-bf712bc7489f>\u001b[0m in \u001b[0;36m<module>\u001b[1;34m()\u001b[0m\n\u001b[0;32m      1\u001b[0m \u001b[0mstart\u001b[0m \u001b[1;33m=\u001b[0m \u001b[0mtime\u001b[0m\u001b[1;33m.\u001b[0m\u001b[0mtime\u001b[0m\u001b[1;33m(\u001b[0m\u001b[1;33m)\u001b[0m\u001b[1;33m\u001b[0m\u001b[0m\n\u001b[1;32m----> 2\u001b[1;33m \u001b[0mr20\u001b[0m \u001b[1;33m=\u001b[0m \u001b[0mModel1\u001b[0m\u001b[1;33m.\u001b[0m\u001b[0mget_results_up_to_level\u001b[0m\u001b[1;33m(\u001b[0m\u001b[0mnp\u001b[0m\u001b[1;33m.\u001b[0m\u001b[0marange\u001b[0m\u001b[1;33m(\u001b[0m\u001b[1;33m-\u001b[0m\u001b[1;36m300\u001b[0m\u001b[1;33m,\u001b[0m\u001b[1;33m-\u001b[0m\u001b[1;36m250\u001b[0m\u001b[1;33m,\u001b[0m\u001b[1;36m1\u001b[0m\u001b[1;33m)\u001b[0m\u001b[1;33m,\u001b[0m \u001b[1;36m7\u001b[0m\u001b[1;33m)\u001b[0m\u001b[1;33m\u001b[0m\u001b[0m\n\u001b[0m\u001b[0;32m      3\u001b[0m \u001b[0mdf20\u001b[0m\u001b[1;33m=\u001b[0m\u001b[0mr20\u001b[0m\u001b[1;33m[\u001b[0m\u001b[1;36m2\u001b[0m\u001b[1;33m]\u001b[0m\u001b[1;33m\u001b[0m\u001b[0m\n\u001b[0;32m      4\u001b[0m \u001b[0mdf20\u001b[0m\u001b[1;33m.\u001b[0m\u001b[0mto_csv\u001b[0m\u001b[1;33m(\u001b[0m\u001b[1;34m\"./lkresults20.csv\"\u001b[0m\u001b[1;33m,\u001b[0m \u001b[0mdelim\u001b[0m \u001b[1;33m=\u001b[0m\u001b[1;34m\",\"\u001b[0m\u001b[1;33m,\u001b[0m \u001b[0mindex_label\u001b[0m\u001b[1;33m=\u001b[0m\u001b[0mFalse\u001b[0m\u001b[1;33m)\u001b[0m\u001b[1;33m\u001b[0m\u001b[0m\n\u001b[0;32m      5\u001b[0m \u001b[0melapsed\u001b[0m \u001b[1;33m=\u001b[0m \u001b[0mtime\u001b[0m\u001b[1;33m.\u001b[0m\u001b[0mtime\u001b[0m\u001b[1;33m(\u001b[0m\u001b[1;33m)\u001b[0m \u001b[1;33m-\u001b[0m \u001b[0mstart\u001b[0m\u001b[1;33m\u001b[0m\u001b[0m\n",
      "\u001b[1;32m<ipython-input-145-33814bc2750c>\u001b[0m in \u001b[0;36mget_results_up_to_level\u001b[1;34m(self, d0list, maxlevel)\u001b[0m\n\u001b[0;32m    285\u001b[0m                 \u001b[0mrow\u001b[0m\u001b[1;33m.\u001b[0m\u001b[0mappend\u001b[0m\u001b[1;33m(\u001b[0m\u001b[1;33m-\u001b[0m\u001b[1;36m1\u001b[0m \u001b[1;33m*\u001b[0m \u001b[0mattackereu\u001b[0m\u001b[1;33m)\u001b[0m\u001b[1;33m\u001b[0m\u001b[0m\n\u001b[0;32m    286\u001b[0m                 \u001b[0mcolumns\u001b[0m \u001b[1;33m=\u001b[0m \u001b[0mcolumns\u001b[0m \u001b[1;33m+\u001b[0m \u001b[1;33m[\u001b[0m\u001b[1;34m\"L\"\u001b[0m \u001b[1;33m+\u001b[0m\u001b[0mstr\u001b[0m\u001b[1;33m(\u001b[0m\u001b[0mlevel\u001b[0m\u001b[1;33m-\u001b[0m\u001b[1;36m1\u001b[0m\u001b[1;33m)\u001b[0m \u001b[1;33m+\u001b[0m\u001b[1;34m\"AEU_V_DL\"\u001b[0m \u001b[1;33m+\u001b[0m \u001b[0mstr\u001b[0m\u001b[1;33m(\u001b[0m\u001b[0mlevel\u001b[0m\u001b[1;33m)\u001b[0m\u001b[1;33m]\u001b[0m\u001b[1;33m\u001b[0m\u001b[0m\n\u001b[1;32m--> 287\u001b[1;33m                 \u001b[0mattackerres\u001b[0m \u001b[1;33m=\u001b[0m \u001b[0mself\u001b[0m\u001b[1;33m.\u001b[0m\u001b[0msolve_lk_attacker\u001b[0m\u001b[1;33m(\u001b[0m\u001b[0mdefenderres\u001b[0m\u001b[1;33m[\u001b[0m\u001b[1;36m0\u001b[0m\u001b[1;33m]\u001b[0m\u001b[1;33m,\u001b[0m \u001b[0mattackerdictbelief\u001b[0m\u001b[1;33m)\u001b[0m\u001b[1;33m\u001b[0m\u001b[0m\n\u001b[0m\u001b[0;32m    288\u001b[0m                 \u001b[0mattackerdictactual\u001b[0m \u001b[1;33m=\u001b[0m \u001b[0mself\u001b[0m\u001b[1;33m.\u001b[0m\u001b[0mattacker_strat_from_res\u001b[0m\u001b[1;33m(\u001b[0m\u001b[0mattackerres\u001b[0m\u001b[1;33m[\u001b[0m\u001b[1;36m0\u001b[0m\u001b[1;33m]\u001b[0m\u001b[1;33m)\u001b[0m\u001b[1;33m\u001b[0m\u001b[0m\n\u001b[0;32m    289\u001b[0m                 \u001b[1;32mif\u001b[0m \u001b[0mlevel\u001b[0m\u001b[1;33m==\u001b[0m\u001b[1;36m2\u001b[0m \u001b[1;33m:\u001b[0m\u001b[1;33m\u001b[0m\u001b[0m\n",
      "\u001b[1;32m<ipython-input-145-33814bc2750c>\u001b[0m in \u001b[0;36msolve_lk_attacker\u001b[1;34m(self, lrd, abelief)\u001b[0m\n\u001b[0;32m    192\u001b[0m     \u001b[1;32mdef\u001b[0m \u001b[0msolve_lk_attacker\u001b[0m\u001b[1;33m(\u001b[0m\u001b[0mself\u001b[0m\u001b[1;33m,\u001b[0m \u001b[0mlrd\u001b[0m\u001b[1;33m,\u001b[0m \u001b[0mabelief\u001b[0m\u001b[1;33m)\u001b[0m\u001b[1;33m:\u001b[0m\u001b[1;33m\u001b[0m\u001b[0m\n\u001b[0;32m    193\u001b[0m         \u001b[0mf\u001b[0m \u001b[1;33m=\u001b[0m \u001b[1;32mlambda\u001b[0m \u001b[0mx\u001b[0m \u001b[1;33m:\u001b[0m \u001b[0mself\u001b[0m\u001b[1;33m.\u001b[0m\u001b[0mattacker_expected_utility_lr\u001b[0m\u001b[1;33m(\u001b[0m\u001b[0mx\u001b[0m\u001b[1;33m,\u001b[0m \u001b[0mlrd\u001b[0m\u001b[1;33m=\u001b[0m\u001b[0mlrd\u001b[0m\u001b[1;33m,\u001b[0m \u001b[0mastratbelief\u001b[0m\u001b[1;33m=\u001b[0m\u001b[0mabelief\u001b[0m\u001b[1;33m)\u001b[0m\u001b[1;33m\u001b[0m\u001b[0m\n\u001b[1;32m--> 194\u001b[1;33m         \u001b[0mres\u001b[0m \u001b[1;33m=\u001b[0m \u001b[0mfmin_slsqp\u001b[0m\u001b[1;33m(\u001b[0m\u001b[0mf\u001b[0m\u001b[1;33m,\u001b[0m \u001b[0mself\u001b[0m\u001b[1;33m.\u001b[0m\u001b[0mx0opt\u001b[0m\u001b[1;33m,\u001b[0m \u001b[0mf_ieqcons\u001b[0m \u001b[1;33m=\u001b[0m \u001b[0mself\u001b[0m\u001b[1;33m.\u001b[0m\u001b[0mgeneral_constraint\u001b[0m\u001b[1;33m,\u001b[0m \u001b[0mfull_output\u001b[0m\u001b[1;33m=\u001b[0m\u001b[0mTrue\u001b[0m\u001b[1;33m,\u001b[0m \u001b[0mdisp\u001b[0m\u001b[1;33m=\u001b[0m\u001b[0mFalse\u001b[0m\u001b[1;33m)\u001b[0m\u001b[1;33m\u001b[0m\u001b[0m\n\u001b[0m\u001b[0;32m    195\u001b[0m         \u001b[1;31m#x_opt = fmin_cobyla(f, self.x0opt*0, cons= [self.general_constraint], disp=False)\u001b[0m\u001b[1;33m\u001b[0m\u001b[1;33m\u001b[0m\u001b[0m\n\u001b[0;32m    196\u001b[0m         \u001b[1;31m#eu = f(x_opt)\u001b[0m\u001b[1;33m\u001b[0m\u001b[1;33m\u001b[0m\u001b[0m\n",
      "\u001b[1;32m/usr/local/lib/python2.7/dist-packages/scipy/optimize/slsqp.pyc\u001b[0m in \u001b[0;36mfmin_slsqp\u001b[1;34m(func, x0, eqcons, f_eqcons, ieqcons, f_ieqcons, bounds, fprime, fprime_eqcons, fprime_ieqcons, args, iter, acc, iprint, disp, full_output, epsilon, callback)\u001b[0m\n\u001b[0;32m    204\u001b[0m \u001b[1;33m\u001b[0m\u001b[0m\n\u001b[0;32m    205\u001b[0m     res = _minimize_slsqp(func, x0, args, jac=fprime, bounds=bounds,\n\u001b[1;32m--> 206\u001b[1;33m                           constraints=cons, **opts)\n\u001b[0m\u001b[0;32m    207\u001b[0m     \u001b[1;32mif\u001b[0m \u001b[0mfull_output\u001b[0m\u001b[1;33m:\u001b[0m\u001b[1;33m\u001b[0m\u001b[0m\n\u001b[0;32m    208\u001b[0m         \u001b[1;32mreturn\u001b[0m \u001b[0mres\u001b[0m\u001b[1;33m[\u001b[0m\u001b[1;34m'x'\u001b[0m\u001b[1;33m]\u001b[0m\u001b[1;33m,\u001b[0m \u001b[0mres\u001b[0m\u001b[1;33m[\u001b[0m\u001b[1;34m'fun'\u001b[0m\u001b[1;33m]\u001b[0m\u001b[1;33m,\u001b[0m \u001b[0mres\u001b[0m\u001b[1;33m[\u001b[0m\u001b[1;34m'nit'\u001b[0m\u001b[1;33m]\u001b[0m\u001b[1;33m,\u001b[0m \u001b[0mres\u001b[0m\u001b[1;33m[\u001b[0m\u001b[1;34m'status'\u001b[0m\u001b[1;33m]\u001b[0m\u001b[1;33m,\u001b[0m \u001b[0mres\u001b[0m\u001b[1;33m[\u001b[0m\u001b[1;34m'message'\u001b[0m\u001b[1;33m]\u001b[0m\u001b[1;33m\u001b[0m\u001b[0m\n",
      "\u001b[1;32m/usr/local/lib/python2.7/dist-packages/scipy/optimize/slsqp.pyc\u001b[0m in \u001b[0;36m_minimize_slsqp\u001b[1;34m(func, x0, args, jac, bounds, constraints, maxiter, ftol, iprint, disp, eps, callback, **unknown_options)\u001b[0m\n\u001b[0;32m    404\u001b[0m \u001b[1;33m\u001b[0m\u001b[0m\n\u001b[0;32m    405\u001b[0m         \u001b[1;31m# Call SLSQP\u001b[0m\u001b[1;33m\u001b[0m\u001b[1;33m\u001b[0m\u001b[0m\n\u001b[1;32m--> 406\u001b[1;33m         \u001b[0mslsqp\u001b[0m\u001b[1;33m(\u001b[0m\u001b[0mm\u001b[0m\u001b[1;33m,\u001b[0m \u001b[0mmeq\u001b[0m\u001b[1;33m,\u001b[0m \u001b[0mx\u001b[0m\u001b[1;33m,\u001b[0m \u001b[0mxl\u001b[0m\u001b[1;33m,\u001b[0m \u001b[0mxu\u001b[0m\u001b[1;33m,\u001b[0m \u001b[0mfx\u001b[0m\u001b[1;33m,\u001b[0m \u001b[0mc\u001b[0m\u001b[1;33m,\u001b[0m \u001b[0mg\u001b[0m\u001b[1;33m,\u001b[0m \u001b[0ma\u001b[0m\u001b[1;33m,\u001b[0m \u001b[0macc\u001b[0m\u001b[1;33m,\u001b[0m \u001b[0mmajiter\u001b[0m\u001b[1;33m,\u001b[0m \u001b[0mmode\u001b[0m\u001b[1;33m,\u001b[0m \u001b[0mw\u001b[0m\u001b[1;33m,\u001b[0m \u001b[0mjw\u001b[0m\u001b[1;33m)\u001b[0m\u001b[1;33m\u001b[0m\u001b[0m\n\u001b[0m\u001b[0;32m    407\u001b[0m \u001b[1;33m\u001b[0m\u001b[0m\n\u001b[0;32m    408\u001b[0m         \u001b[1;31m# call callback if major iteration has incremented\u001b[0m\u001b[1;33m\u001b[0m\u001b[1;33m\u001b[0m\u001b[0m\n",
      "\u001b[1;31mKeyboardInterrupt\u001b[0m: "
     ]
    }
   ],
   "source": [
    "start = time.time()\n",
    "r20 = Model1.get_results_up_to_level(np.arange(-300,-250,1), 7)\n",
    "df20=r20[2]\n",
    "df20.to_csv(\"./lkresults20.csv\", delim =\",\", index_label=False)\n",
    "elapsed = time.time() - start\n",
    "print elapsed"
   ]
  },
  {
   "cell_type": "code",
   "execution_count": 57,
   "metadata": {
    "collapsed": true
   },
   "outputs": [],
   "source": [
    "def plot_astrat_on_edge(Model, res, dlist, edge, level, title_in=None, linewidth=1, against=\"d\"):\n",
    "    fig, ax = plt.subplots(figsize=(8,8))\n",
    "    dlist = np.sort(dlist)\n",
    "    ix = 0\n",
    "    cs = cm.Accent\n",
    "    for d in dlist:\n",
    "        b = (255 - 255*ix/float(len(dlist)))/float(255)\n",
    "        activity = Model.get_attacker_strat_from_res(res, level, d)[edge]\n",
    "        ax.plot(np.arange(1, len(activity)+1), activity, \n",
    "                            color = cm.autumn(int(255*(1-b))), linewidth=linewidth)\n",
    "        ax.set_xlabel(\"Time Step\", fontsize=12)\n",
    "        ax.set_ylabel(\"Intensity\", fontsize=12)\n",
    "        ax.set_title(title_in, fontsize=12)\n",
    "        ax.grid(True)\n",
    "        ix +=1\n",
    "    #ax.bbox = (8,8)\n",
    "    #cramp.set_xticks([])\n",
    "    #cramp.set_ylim(-350, -250)\n",
    "    #cramp.yaxis.tick_right()\n",
    "    #cramp.set_xlim(0,1)\n",
    "    ax2 = fig.add_axes([0.95, 0.12, 0.05, 0.78])\n",
    "    cb = mpl.colorbar.ColorbarBase(ax2, cmap=plt.cm.Accent, \n",
    "                                   boundaries=np.arange(-352, -249,1), label=\"Initial Threshold\")\n",
    "    return fig, ax"
   ]
  },
  {
   "cell_type": "code",
   "execution_count": 61,
   "metadata": {
    "collapsed": false
   },
   "outputs": [
    {
     "data": {
      "image/png": "[encoded data removed]",
      "text/plain": [
       "<matplotlib.figure.Figure at 0x7eff72c4c390>"
      ]
     },
     "metadata": {},
     "output_type": "display_data"
    }
   ],
   "source": [
    "title_in = \"Level 1 attacker intensity along edge from Host 1 to Server\"\n",
    "fig, ax = plot_astrat_on_edge(Model1, dfnonsmooth2, np.arange(-260, -250, 1), (3,4), 3, title_in = title_in);"
   ]
  },
  {
   "cell_type": "code",
   "execution_count": 165,
   "metadata": {
    "collapsed": false
   },
   "outputs": [
    {
     "data": {
      "image/png": "[encoded data removed]",
      "text/plain": [
       "<matplotlib.figure.Figure at 0x7fa49b1fe210>"
      ]
     },
     "metadata": {},
     "output_type": "display_data"
    }
   ],
   "source": [
    "title_in = \"Level 1 attacker intensity along edge from Host 1 to Server\"\n",
    "fig, ax = plot_astrat_on_edge(Model1, df20, np.arange(-300, -250, 1), (3,4), 3, title_in = title_in);"
   ]
  },
  {
   "cell_type": "code",
   "execution_count": 174,
   "metadata": {
    "collapsed": false
   },
   "outputs": [
    {
     "data": {
      "text/html": [
       "<div style=\"max-height:1000px;max-width:1500px;overflow:auto;\">\n",
       "<table border=\"1\" class=\"dataframe\">\n",
       "  <thead>\n",
       "    <tr style=\"text-align: right;\">\n",
       "      <th></th>\n",
       "      <th>d</th>\n",
       "      <th>L2LRThresh</th>\n",
       "      <th>L3AEU_V_DL2</th>\n",
       "    </tr>\n",
       "  </thead>\n",
       "  <tbody>\n",
       "    <tr>\n",
       "      <th>0 </th>\n",
       "      <td>-300</td>\n",
       "      <td>-5.000000</td>\n",
       "      <td> 10.570085</td>\n",
       "    </tr>\n",
       "    <tr>\n",
       "      <th>1 </th>\n",
       "      <td>-299</td>\n",
       "      <td> 0.400369</td>\n",
       "      <td>  8.375275</td>\n",
       "    </tr>\n",
       "    <tr>\n",
       "      <th>2 </th>\n",
       "      <td>-298</td>\n",
       "      <td> 0.395334</td>\n",
       "      <td>  8.240121</td>\n",
       "    </tr>\n",
       "    <tr>\n",
       "      <th>3 </th>\n",
       "      <td>-297</td>\n",
       "      <td> 0.388460</td>\n",
       "      <td>  8.104651</td>\n",
       "    </tr>\n",
       "    <tr>\n",
       "      <th>4 </th>\n",
       "      <td>-296</td>\n",
       "      <td> 0.380301</td>\n",
       "      <td>  7.969154</td>\n",
       "    </tr>\n",
       "    <tr>\n",
       "      <th>5 </th>\n",
       "      <td>-295</td>\n",
       "      <td> 0.370417</td>\n",
       "      <td>  7.833548</td>\n",
       "    </tr>\n",
       "    <tr>\n",
       "      <th>6 </th>\n",
       "      <td>-294</td>\n",
       "      <td> 0.359053</td>\n",
       "      <td>  7.699733</td>\n",
       "    </tr>\n",
       "    <tr>\n",
       "      <th>7 </th>\n",
       "      <td>-293</td>\n",
       "      <td> 0.346411</td>\n",
       "      <td>  7.566323</td>\n",
       "    </tr>\n",
       "    <tr>\n",
       "      <th>8 </th>\n",
       "      <td>-292</td>\n",
       "      <td> 0.298646</td>\n",
       "      <td>  7.445864</td>\n",
       "    </tr>\n",
       "    <tr>\n",
       "      <th>9 </th>\n",
       "      <td>-291</td>\n",
       "      <td> 0.302196</td>\n",
       "      <td>  7.304261</td>\n",
       "    </tr>\n",
       "    <tr>\n",
       "      <th>10</th>\n",
       "      <td>-290</td>\n",
       "      <td> 0.291773</td>\n",
       "      <td>  7.167941</td>\n",
       "    </tr>\n",
       "    <tr>\n",
       "      <th>11</th>\n",
       "      <td>-289</td>\n",
       "      <td> 0.279910</td>\n",
       "      <td>  7.031115</td>\n",
       "    </tr>\n",
       "    <tr>\n",
       "      <th>12</th>\n",
       "      <td>-288</td>\n",
       "      <td> 0.267135</td>\n",
       "      <td>  6.896062</td>\n",
       "    </tr>\n",
       "    <tr>\n",
       "      <th>13</th>\n",
       "      <td>-287</td>\n",
       "      <td> 0.253313</td>\n",
       "      <td>  6.761774</td>\n",
       "    </tr>\n",
       "    <tr>\n",
       "      <th>14</th>\n",
       "      <td>-286</td>\n",
       "      <td> 0.238563</td>\n",
       "      <td>  6.629416</td>\n",
       "    </tr>\n",
       "    <tr>\n",
       "      <th>15</th>\n",
       "      <td>-285</td>\n",
       "      <td> 0.222936</td>\n",
       "      <td>  6.497259</td>\n",
       "    </tr>\n",
       "    <tr>\n",
       "      <th>16</th>\n",
       "      <td>-284</td>\n",
       "      <td> 0.206193</td>\n",
       "      <td>  6.363303</td>\n",
       "    </tr>\n",
       "    <tr>\n",
       "      <th>17</th>\n",
       "      <td>-283</td>\n",
       "      <td> 0.165241</td>\n",
       "      <td>  6.241778</td>\n",
       "    </tr>\n",
       "    <tr>\n",
       "      <th>18</th>\n",
       "      <td>-282</td>\n",
       "      <td> 0.158720</td>\n",
       "      <td>  6.105775</td>\n",
       "    </tr>\n",
       "    <tr>\n",
       "      <th>19</th>\n",
       "      <td>-281</td>\n",
       "      <td> 0.147368</td>\n",
       "      <td>  5.972773</td>\n",
       "    </tr>\n",
       "    <tr>\n",
       "      <th>20</th>\n",
       "      <td>-280</td>\n",
       "      <td> 0.132348</td>\n",
       "      <td>  5.842732</td>\n",
       "    </tr>\n",
       "    <tr>\n",
       "      <th>21</th>\n",
       "      <td>-279</td>\n",
       "      <td> 0.114421</td>\n",
       "      <td>  5.715257</td>\n",
       "    </tr>\n",
       "    <tr>\n",
       "      <th>22</th>\n",
       "      <td>-278</td>\n",
       "      <td> 0.095198</td>\n",
       "      <td>  5.586557</td>\n",
       "    </tr>\n",
       "    <tr>\n",
       "      <th>23</th>\n",
       "      <td>-277</td>\n",
       "      <td> 0.075701</td>\n",
       "      <td>  5.462210</td>\n",
       "    </tr>\n",
       "    <tr>\n",
       "      <th>24</th>\n",
       "      <td>-276</td>\n",
       "      <td> 0.055307</td>\n",
       "      <td>  5.337541</td>\n",
       "    </tr>\n",
       "    <tr>\n",
       "      <th>25</th>\n",
       "      <td>-275</td>\n",
       "      <td> 0.034832</td>\n",
       "      <td>  5.217186</td>\n",
       "    </tr>\n",
       "    <tr>\n",
       "      <th>26</th>\n",
       "      <td>-274</td>\n",
       "      <td> 0.004141</td>\n",
       "      <td>  5.100877</td>\n",
       "    </tr>\n",
       "    <tr>\n",
       "      <th>27</th>\n",
       "      <td>-273</td>\n",
       "      <td>-0.013065</td>\n",
       "      <td>  4.982114</td>\n",
       "    </tr>\n",
       "    <tr>\n",
       "      <th>28</th>\n",
       "      <td>-272</td>\n",
       "      <td>-0.032687</td>\n",
       "      <td>  4.864559</td>\n",
       "    </tr>\n",
       "    <tr>\n",
       "      <th>29</th>\n",
       "      <td>-271</td>\n",
       "      <td>-0.053639</td>\n",
       "      <td>  4.752012</td>\n",
       "    </tr>\n",
       "    <tr>\n",
       "      <th>30</th>\n",
       "      <td>-270</td>\n",
       "      <td>-0.075849</td>\n",
       "      <td>  4.642163</td>\n",
       "    </tr>\n",
       "    <tr>\n",
       "      <th>31</th>\n",
       "      <td>-269</td>\n",
       "      <td>-0.098824</td>\n",
       "      <td>  4.535698</td>\n",
       "    </tr>\n",
       "    <tr>\n",
       "      <th>32</th>\n",
       "      <td>-268</td>\n",
       "      <td>-0.122093</td>\n",
       "      <td>  4.433599</td>\n",
       "    </tr>\n",
       "    <tr>\n",
       "      <th>33</th>\n",
       "      <td>-267</td>\n",
       "      <td>-0.145915</td>\n",
       "      <td>  4.334344</td>\n",
       "    </tr>\n",
       "    <tr>\n",
       "      <th>34</th>\n",
       "      <td>-266</td>\n",
       "      <td>-0.172074</td>\n",
       "      <td>  4.239952</td>\n",
       "    </tr>\n",
       "    <tr>\n",
       "      <th>35</th>\n",
       "      <td>-265</td>\n",
       "      <td>-0.194660</td>\n",
       "      <td>  4.145765</td>\n",
       "    </tr>\n",
       "    <tr>\n",
       "      <th>36</th>\n",
       "      <td>-264</td>\n",
       "      <td>-0.218735</td>\n",
       "      <td>  4.060193</td>\n",
       "    </tr>\n",
       "    <tr>\n",
       "      <th>37</th>\n",
       "      <td>-263</td>\n",
       "      <td>-0.244516</td>\n",
       "      <td>  3.976041</td>\n",
       "    </tr>\n",
       "    <tr>\n",
       "      <th>38</th>\n",
       "      <td>-262</td>\n",
       "      <td>-0.269778</td>\n",
       "      <td>  3.899643</td>\n",
       "    </tr>\n",
       "    <tr>\n",
       "      <th>39</th>\n",
       "      <td>-261</td>\n",
       "      <td>-0.294941</td>\n",
       "      <td>  3.824651</td>\n",
       "    </tr>\n",
       "    <tr>\n",
       "      <th>40</th>\n",
       "      <td>-260</td>\n",
       "      <td>-0.319427</td>\n",
       "      <td>  3.754356</td>\n",
       "    </tr>\n",
       "    <tr>\n",
       "      <th>41</th>\n",
       "      <td>-259</td>\n",
       "      <td>-0.343826</td>\n",
       "      <td>  3.688352</td>\n",
       "    </tr>\n",
       "    <tr>\n",
       "      <th>42</th>\n",
       "      <td>-258</td>\n",
       "      <td>-0.367885</td>\n",
       "      <td>  3.627569</td>\n",
       "    </tr>\n",
       "    <tr>\n",
       "      <th>43</th>\n",
       "      <td>-257</td>\n",
       "      <td>-0.391783</td>\n",
       "      <td>  3.571503</td>\n",
       "    </tr>\n",
       "    <tr>\n",
       "      <th>44</th>\n",
       "      <td>-256</td>\n",
       "      <td>-0.415693</td>\n",
       "      <td>  3.521053</td>\n",
       "    </tr>\n",
       "    <tr>\n",
       "      <th>45</th>\n",
       "      <td>-255</td>\n",
       "      <td>-0.439874</td>\n",
       "      <td>  3.473099</td>\n",
       "    </tr>\n",
       "    <tr>\n",
       "      <th>46</th>\n",
       "      <td>-254</td>\n",
       "      <td>-0.463795</td>\n",
       "      <td>  3.429754</td>\n",
       "    </tr>\n",
       "    <tr>\n",
       "      <th>47</th>\n",
       "      <td>-253</td>\n",
       "      <td>-0.487508</td>\n",
       "      <td>  3.391449</td>\n",
       "    </tr>\n",
       "    <tr>\n",
       "      <th>48</th>\n",
       "      <td>-252</td>\n",
       "      <td>-0.510475</td>\n",
       "      <td>  3.358017</td>\n",
       "    </tr>\n",
       "    <tr>\n",
       "      <th>49</th>\n",
       "      <td>-251</td>\n",
       "      <td>-0.532689</td>\n",
       "      <td>  3.325391</td>\n",
       "    </tr>\n",
       "  </tbody>\n",
       "</table>\n",
       "</div>"
      ],
      "text/plain": [
       "      d  L2LRThresh  L3AEU_V_DL2\n",
       "0  -300   -5.000000    10.570085\n",
       "1  -299    0.400369     8.375275\n",
       "2  -298    0.395334     8.240121\n",
       "3  -297    0.388460     8.104651\n",
       "4  -296    0.380301     7.969154\n",
       "5  -295    0.370417     7.833548\n",
       "6  -294    0.359053     7.699733\n",
       "7  -293    0.346411     7.566323\n",
       "8  -292    0.298646     7.445864\n",
       "9  -291    0.302196     7.304261\n",
       "10 -290    0.291773     7.167941\n",
       "11 -289    0.279910     7.031115\n",
       "12 -288    0.267135     6.896062\n",
       "13 -287    0.253313     6.761774\n",
       "14 -286    0.238563     6.629416\n",
       "15 -285    0.222936     6.497259\n",
       "16 -284    0.206193     6.363303\n",
       "17 -283    0.165241     6.241778\n",
       "18 -282    0.158720     6.105775\n",
       "19 -281    0.147368     5.972773\n",
       "20 -280    0.132348     5.842732\n",
       "21 -279    0.114421     5.715257\n",
       "22 -278    0.095198     5.586557\n",
       "23 -277    0.075701     5.462210\n",
       "24 -276    0.055307     5.337541\n",
       "25 -275    0.034832     5.217186\n",
       "26 -274    0.004141     5.100877\n",
       "27 -273   -0.013065     4.982114\n",
       "28 -272   -0.032687     4.864559\n",
       "29 -271   -0.053639     4.752012\n",
       "30 -270   -0.075849     4.642163\n",
       "31 -269   -0.098824     4.535698\n",
       "32 -268   -0.122093     4.433599\n",
       "33 -267   -0.145915     4.334344\n",
       "34 -266   -0.172074     4.239952\n",
       "35 -265   -0.194660     4.145765\n",
       "36 -264   -0.218735     4.060193\n",
       "37 -263   -0.244516     3.976041\n",
       "38 -262   -0.269778     3.899643\n",
       "39 -261   -0.294941     3.824651\n",
       "40 -260   -0.319427     3.754356\n",
       "41 -259   -0.343826     3.688352\n",
       "42 -258   -0.367885     3.627569\n",
       "43 -257   -0.391783     3.571503\n",
       "44 -256   -0.415693     3.521053\n",
       "45 -255   -0.439874     3.473099\n",
       "46 -254   -0.463795     3.429754\n",
       "47 -253   -0.487508     3.391449\n",
       "48 -252   -0.510475     3.358017\n",
       "49 -251   -0.532689     3.325391"
      ]
     },
     "execution_count": 174,
     "metadata": {},
     "output_type": "execute_result"
    }
   ],
   "source": [
    "df20[[\"d\", \"L2LRThresh\", \"L3AEU_V_DL2\"]]"
   ]
  },
  {
   "cell_type": "code",
   "execution_count": 270,
   "metadata": {
    "collapsed": false
   },
   "outputs": [
    {
     "data": {
      "text/plain": [
       "{(0, 1): array([ 0.24,  0.  ,  0.  ,  0.  ,  0.  ,  0.  , -0.  ,  0.  ,  0.  ,\n",
       "         0.  ,  0.  ,  0.  ,  0.  ,  0.  ,  0.  ]),\n",
       " (0, 2): array([ 0.533,  0.   ,  0.   ,  0.   ,  0.   ,  0.   ,  0.   ,  0.   ,\n",
       "         0.   ,  0.   ,  0.   ,  0.   ,  0.   ,  0.   ,  0.   ]),\n",
       " (1,\n",
       "  0): array([ 0.,  0.,  0.,  0.,  0.,  0.,  0.,  0.,  0.,  0.,  0.,  0.,  0.,\n",
       "         0.,  0.]),\n",
       " (1,\n",
       "  2): array([ 0.,  0.,  0.,  0.,  0.,  0.,  0.,  0.,  0.,  0.,  0.,  0.,  0.,\n",
       "         0.,  0.]),\n",
       " (1, 3): array([ 0.  ,  0.24,  0.04,  0.  ,  0.  ,  0.  ,  0.  ,  0.  ,  0.  ,\n",
       "         0.  ,  0.  ,  0.  ,  0.  ,  0.  ,  0.  ]),\n",
       " (2,\n",
       "  0): array([ 0.,  0.,  0.,  0.,  0.,  0.,  0.,  0.,  0.,  0.,  0.,  0.,  0.,\n",
       "         0.,  0.]),\n",
       " (2,\n",
       "  1): array([ 0., -0.,  0.,  0.,  0., -0.,  0.,  0.,  0.,  0.,  0.,  0.,  0.,\n",
       "         0.,  0.]),\n",
       " (2, 3): array([ 0.   ,  0.533,  0.041,  0.   ,  0.   ,  0.   ,  0.   ,  0.   ,\n",
       "         0.   ,  0.   ,  0.   ,  0.   ,  0.   ,  0.   ,  0.   ]),\n",
       " (3,\n",
       "  0): array([-0., -0., -0.,  0.,  0.,  0.,  0.,  0.,  0.,  0., -0.,  0.,  0.,\n",
       "         0.,  0.]),\n",
       " (3,\n",
       "  1): array([-0.,  0.,  0.,  0.,  0.,  0.,  0.,  0.,  0.,  0.,  0.,  0.,  0.,\n",
       "         0.,  0.]),\n",
       " (3,\n",
       "  2): array([-0.,  0., -0.,  0.,  0.,  0.,  0.,  0.,  0.,  0.,  0.,  0.,  0.,\n",
       "         0.,  0.]),\n",
       " (3, 4): array([-0.   , -0.   ,  0.773,  0.854,  0.854,  0.854,  0.854,  0.854,\n",
       "         0.607,  0.48 ,  0.808,  0.832,  0.832,  0.418,  0.363])}"
      ]
     },
     "execution_count": 270,
     "metadata": {},
     "output_type": "execute_result"
    }
   ],
   "source": [
    "Model1.get_attacker_strat_from_res(df20,3, -291)"
   ]
  },
  {
   "cell_type": "code",
   "execution_count": 279,
   "metadata": {
    "collapsed": false
   },
   "outputs": [],
   "source": [
    "asalter = Model1.get_attacker_strat_from_res(df20,3, -291)"
   ]
  },
  {
   "cell_type": "code",
   "execution_count": 280,
   "metadata": {
    "collapsed": false
   },
   "outputs": [],
   "source": [
    "asalter[(0,1)][0] = asalter[(0,1)][0] + .06 \n",
    "asalter[(0,2)][0] = asalter[(0,2)][0] - .06 \n",
    "asalter[(1,3)][1] = asalter[(1,3)][1] + .06\n",
    "asalter[(2,3)][1] = asalter[(2,3)][1] -.06"
   ]
  },
  {
   "cell_type": "code",
   "execution_count": 251,
   "metadata": {
    "collapsed": false
   },
   "outputs": [],
   "source": [
    "s1 = asalter[(0,1)]\n",
    "s2 = asalter[(0,2)]\n",
    "s3 = asalter[(1,3)]\n",
    "s4 = asalter[(2,3)]\n",
    "asalter[(0,1)] = s2\n",
    "asalter[(0,2)] = s1\n",
    "asalter[(1,3)] = s4\n",
    "asalter[(2,3)] = s3\n",
    "#asalter[0,2] = .325\n",
    "#asalter[(3,4)][3:] = np.sum(asalter[(3,4)][3:])/len(asalter[(3,4)][3:])"
   ]
  },
  {
   "cell_type": "code",
   "execution_count": 268,
   "metadata": {
    "collapsed": false
   },
   "outputs": [
    {
     "data": {
      "text/plain": [
       "{(0,\n",
       "  1): array([ 0.3,  0. ,  0. ,  0. ,  0. ,  0. , -0. ,  0. ,  0. ,  0. ,  0. ,\n",
       "         0. ,  0. ,  0. ,  0. ]),\n",
       " (0, 2): array([ 0.473,  0.   ,  0.   ,  0.   ,  0.   ,  0.   ,  0.   ,  0.   ,\n",
       "         0.   ,  0.   ,  0.   ,  0.   ,  0.   ,  0.   ,  0.   ]),\n",
       " (1,\n",
       "  0): array([ 0.,  0.,  0.,  0.,  0.,  0.,  0.,  0.,  0.,  0.,  0.,  0.,  0.,\n",
       "         0.,  0.]),\n",
       " (1,\n",
       "  2): array([ 0.,  0.,  0.,  0.,  0.,  0.,  0.,  0.,  0.,  0.,  0.,  0.,  0.,\n",
       "         0.,  0.]),\n",
       " (1, 3): array([ 0.  ,  0.3 ,  0.04,  0.  ,  0.  ,  0.  ,  0.  ,  0.  ,  0.  ,\n",
       "         0.  ,  0.  ,  0.  ,  0.  ,  0.  ,  0.  ]),\n",
       " (2,\n",
       "  0): array([ 0.,  0.,  0.,  0.,  0.,  0.,  0.,  0.,  0.,  0.,  0.,  0.,  0.,\n",
       "         0.,  0.]),\n",
       " (2,\n",
       "  1): array([ 0., -0.,  0.,  0.,  0., -0.,  0.,  0.,  0.,  0.,  0.,  0.,  0.,\n",
       "         0.,  0.]),\n",
       " (2, 3): array([ 0.   ,  0.473,  0.041,  0.   ,  0.   ,  0.   ,  0.   ,  0.   ,\n",
       "         0.   ,  0.   ,  0.   ,  0.   ,  0.   ,  0.   ,  0.   ]),\n",
       " (3,\n",
       "  0): array([-0., -0., -0.,  0.,  0.,  0.,  0.,  0.,  0.,  0., -0.,  0.,  0.,\n",
       "         0.,  0.]),\n",
       " (3,\n",
       "  1): array([-0.,  0.,  0.,  0.,  0.,  0.,  0.,  0.,  0.,  0.,  0.,  0.,  0.,\n",
       "         0.,  0.]),\n",
       " (3,\n",
       "  2): array([-0.,  0., -0.,  0.,  0.,  0.,  0.,  0.,  0.,  0.,  0.,  0.,  0.,\n",
       "         0.,  0.]),\n",
       " (3, 4): array([-0.   , -0.   ,  0.773,  0.854,  0.854,  0.854,  0.854,  0.854,\n",
       "         0.607,  0.48 ,  0.808,  0.832,  0.832,  0.418,  0.363])}"
      ]
     },
     "execution_count": 268,
     "metadata": {},
     "output_type": "execute_result"
    }
   ],
   "source": [
    "asalter"
   ]
  },
  {
   "cell_type": "code",
   "execution_count": 281,
   "metadata": {
    "collapsed": false
   },
   "outputs": [
    {
     "data": {
      "text/plain": [
       "-7.3042598982632683"
      ]
     },
     "execution_count": 281,
     "metadata": {},
     "output_type": "execute_result"
    }
   ],
   "source": [
    "Model1.attacker_expected_utility_lr(Model1.x_from_astrat(asalter), \n",
    "                                    Model1.get_attacker_strat_from_res(df20,1, -291), 0.302196 )"
   ]
  },
  {
   "cell_type": "code",
   "execution_count": 177,
   "metadata": {
    "collapsed": false
   },
   "outputs": [
    {
     "data": {
      "text/plain": [
       "{(0, 1): array([ 0.41,  0.  , -0.  ,  0.  ,  0.  ,  0.  ,  0.  ,  0.  ,  0.  ,\n",
       "         0.  ,  0.  ,  0.  ,  0.  ,  0.  , -0.  ]),\n",
       " (0, 2): array([ 0.41, -0.  ,  0.  ,  0.  ,  0.  ,  0.  ,  0.  ,  0.  ,  0.  ,\n",
       "         0.  ,  0.  ,  0.  ,  0.  ,  0.  ,  0.  ]),\n",
       " (1,\n",
       "  0): array([ 0.,  0.,  0.,  0.,  0.,  0.,  0.,  0.,  0.,  0.,  0., -0.,  0.,\n",
       "         0.,  0.]),\n",
       " (1,\n",
       "  2): array([ 0.,  0.,  0.,  0.,  0.,  0.,  0.,  0.,  0.,  0., -0.,  0.,  0.,\n",
       "         0.,  0.]),\n",
       " (1, 3): array([ 0.   ,  0.41 ,  0.22 ,  0.059,  0.016,  0.004,  0.001,  0.   ,\n",
       "         0.   ,  0.   ,  0.   ,  0.   ,  0.   ,  0.   ,  0.   ]),\n",
       " (2,\n",
       "  0): array([-0., -0.,  0., -0.,  0., -0.,  0.,  0.,  0.,  0.,  0.,  0.,  0.,\n",
       "         0.,  0.]),\n",
       " (2,\n",
       "  1): array([-0., -0.,  0.,  0.,  0., -0.,  0.,  0., -0.,  0.,  0.,  0.,  0.,\n",
       "        -0., -0.]),\n",
       " (2, 3): array([-0.   ,  0.41 ,  0.22 ,  0.059,  0.016,  0.004,  0.001,  0.   ,\n",
       "         0.   ,  0.   ,  0.   ,  0.   ,  0.   ,  0.   ,  0.   ]),\n",
       " (3,\n",
       "  0): array([-0., -0.,  0.,  0., -0., -0., -0., -0., -0., -0.,  0., -0.,  0.,\n",
       "         0.,  0.]),\n",
       " (3,\n",
       "  1): array([-0.,  0.,  0., -0., -0., -0., -0., -0., -0., -0., -0., -0., -0.,\n",
       "        -0.,  0.]),\n",
       " (3,\n",
       "  2): array([-0., -0.,  0.,  0., -0.,  0., -0., -0., -0., -0., -0.,  0.,  0.,\n",
       "        -0.,  0.]),\n",
       " (3, 4): array([ 0.   ,  0.   ,  0.82 ,  1.259,  1.377,  1.408,  1.417,  1.419,\n",
       "         1.419,  1.42 ,  1.42 ,  1.42 ,  1.42 ,  1.42 ,  1.42 ])}"
      ]
     },
     "execution_count": 177,
     "metadata": {},
     "output_type": "execute_result"
    }
   ],
   "source": [
    "Model1.get_attacker_strat_from_res(df20,1, -275)"
   ]
  },
  {
   "cell_type": "code",
   "execution_count": 109,
   "metadata": {
    "collapsed": false
   },
   "outputs": [
    {
     "data": {
      "text/plain": [
       "{(0, 1): array([ 0.41,  0.  ,  0.  ,  0.  ,  0.  ,  0.  ,  0.  ,  0.  ,  0.  ,\n",
       "         0.  ,  0.  ,  0.  ,  0.  ,  0.  ,  0.  ]),\n",
       " (0, 2): array([ 0.41,  0.  ,  0.  ,  0.  ,  0.  ,  0.  ,  0.  ,  0.  ,  0.  ,\n",
       "         0.  ,  0.  ,  0.  ,  0.  ,  0.  ,  0.  ]),\n",
       " (1,\n",
       "  0): array([-0.,  0.,  0.,  0.,  0.,  0.,  0.,  0.,  0.,  0.,  0.,  0.,  0.,\n",
       "         0.,  0.]),\n",
       " (1,\n",
       "  2): array([-0.,  0.,  0.,  0.,  0.,  0.,  0.,  0.,  0.,  0.,  0.,  0.,  0.,\n",
       "         0.,  0.]),\n",
       " (1, 3): array([-0.   ,  0.41 ,  0.22 ,  0.059,  0.016,  0.004,  0.001,  0.   ,\n",
       "         0.   ,  0.   ,  0.   ,  0.   ,  0.   ,  0.   ,  0.   ]),\n",
       " (2,\n",
       "  0): array([-0., -0.,  0.,  0.,  0.,  0.,  0.,  0.,  0.,  0.,  0.,  0.,  0.,\n",
       "         0.,  0.]),\n",
       " (2,\n",
       "  1): array([-0., -0.,  0.,  0.,  0.,  0.,  0.,  0.,  0.,  0.,  0.,  0.,  0.,\n",
       "         0.,  0.]),\n",
       " (2, 3): array([-0.   ,  0.41 ,  0.22 ,  0.059,  0.016,  0.004,  0.001,  0.   ,\n",
       "         0.   ,  0.   ,  0.   ,  0.   ,  0.   ,  0.   ,  0.   ]),\n",
       " (3,\n",
       "  0): array([-0.,  0., -0.,  0.,  0., -0.,  0.,  0.,  0.,  0.,  0.,  0.,  0.,\n",
       "         0.,  0.]),\n",
       " (3,\n",
       "  1): array([ 0.,  0., -0., -0.,  0., -0.,  0., -0.,  0.,  0.,  0.,  0.,  0.,\n",
       "         0.,  0.]),\n",
       " (3,\n",
       "  2): array([ 0.,  0., -0., -0.,  0., -0., -0.,  0.,  0., -0.,  0.,  0.,  0.,\n",
       "         0.,  0.]),\n",
       " (3, 4): array([ 0.   ,  0.   ,  0.82 ,  1.259,  1.376,  1.408,  1.416,  1.419,\n",
       "         1.419,  1.42 ,  1.42 ,  1.42 ,  1.42 ,  1.42 ,  1.42 ])}"
      ]
     },
     "execution_count": 109,
     "metadata": {},
     "output_type": "execute_result"
    }
   ],
   "source": [
    "Model1.get_attacker_strat_from_res(df17,1, -275)"
   ]
  },
  {
   "cell_type": "code",
   "execution_count": 110,
   "metadata": {
    "collapsed": false
   },
   "outputs": [
    {
     "data": {
      "text/plain": [
       "{(0, 1): array([ 0.163,  0.   ,  0.   ,  0.   ,  0.   ,  0.   ,  0.   ,  0.   ,\n",
       "         0.   ,  0.   ,  0.   ,  0.   ,  0.   ,  0.   ,  0.   ]),\n",
       " (0, 2): array([ 0.163,  0.   ,  0.   ,  0.   ,  0.   ,  0.   ,  0.   ,  0.   ,\n",
       "         0.   ,  0.   ,  0.   ,  0.   ,  0.   ,  0.   ,  0.   ]),\n",
       " (1,\n",
       "  0): array([ 0.,  0.,  0.,  0.,  0.,  0.,  0.,  0.,  0.,  0.,  0.,  0.,  0.,\n",
       "         0.,  0.]),\n",
       " (1,\n",
       "  2): array([ 0.,  0.,  0.,  0.,  0.,  0.,  0.,  0.,  0.,  0.,  0.,  0.,  0.,\n",
       "         0.,  0.]),\n",
       " (1, 3): array([ 0.   ,  0.163,  0.087,  0.023,  0.006,  0.002,  0.   ,  0.   ,\n",
       "         0.   ,  0.   ,  0.   ,  0.   ,  0.   ,  0.   ,  0.   ]),\n",
       " (2,\n",
       "  0): array([ 0., -0.,  0.,  0.,  0.,  0.,  0.,  0.,  0.,  0.,  0.,  0.,  0.,\n",
       "         0.,  0.]),\n",
       " (2,\n",
       "  1): array([ 0., -0.,  0.,  0.,  0.,  0.,  0.,  0.,  0.,  0.,  0.,  0.,  0.,\n",
       "         0.,  0.]),\n",
       " (2, 3): array([-0.   ,  0.163,  0.087,  0.023,  0.006,  0.002,  0.   ,  0.   ,\n",
       "         0.   ,  0.   ,  0.   ,  0.   ,  0.   ,  0.   ,  0.   ]),\n",
       " (3,\n",
       "  0): array([ 0.,  0.,  0.,  0., -0., -0.,  0., -0., -0.,  0.,  0., -0.,  0.,\n",
       "        -0.,  0.]),\n",
       " (3,\n",
       "  1): array([ 0.,  0.,  0.,  0.,  0., -0.,  0.,  0.,  0.,  0.,  0.,  0.,  0.,\n",
       "         0., -0.]),\n",
       " (3,\n",
       "  2): array([ 0.,  0.,  0.,  0., -0., -0., -0., -0., -0.,  0.,  0.,  0.,  0.,\n",
       "         0.,  0.]),\n",
       " (3, 4): array([ 0.   ,  0.   ,  0.325,  0.499,  0.546,  0.559,  0.562,  0.563,\n",
       "         0.563,  0.563,  0.563,  0.563,  0.563,  0.563,  0.563])}"
      ]
     },
     "execution_count": 110,
     "metadata": {},
     "output_type": "execute_result"
    }
   ],
   "source": [
    "Model1.get_attacker_strat_from_res(df16, 3, -275)"
   ]
  },
  {
   "cell_type": "code",
   "execution_count": 111,
   "metadata": {
    "collapsed": false
   },
   "outputs": [
    {
     "data": {
      "text/plain": [
       "array([0, 1, 2, 3, 4, 4, 4, 4, 4, 4])"
      ]
     },
     "execution_count": 111,
     "metadata": {},
     "output_type": "execute_result"
    }
   ],
   "source": [
    "x=np.arange(10)\n",
    "np.minimum(x, 4)"
   ]
  },
  {
   "cell_type": "code",
   "execution_count": 622,
   "metadata": {
    "collapsed": false
   },
   "outputs": [
    {
     "name": "stdout",
     "output_type": "stream",
     "text": [
      "800.088835955\n"
     ]
    }
   ],
   "source": [
    "# start = time.time()\n",
    "# r8old = Model1.build_results_data(np.arange(-500,-200,1))\n",
    "# df8old=r8old[2]\n",
    "# df8old.to_csv(\"./lkresultsold8.csv\", delim =\",\", index_label=False)\n",
    "# elapsed = time.time() - start\n",
    "# print elapsed"
   ]
  },
  {
   "cell_type": "code",
   "execution_count": null,
   "metadata": {
    "collapsed": true
   },
   "outputs": [],
   "source": [
    "def get_attacker_strat_from_res(res, level, d0):\n",
    "    cs =  [\"L\" + str(level +1) + \"A\" +str(i) for i in range(self.tau*len(self.positive_edges))]\n",
    "    astratlist = list(res[cs][res[\"d\"]==d0])\n",
    "    return astratlist"
   ]
  },
  {
   "cell_type": "code",
   "execution_count": 10,
   "metadata": {
    "collapsed": false
   },
   "outputs": [
    {
     "data": {
      "text/plain": [
       "[<matplotlib.lines.Line2D at 0x7fea930f0f90>]"
      ]
     },
     "execution_count": 10,
     "metadata": {},
     "output_type": "execute_result"
    },
    {
     "data": {
      "image/png": "[encoded data removed]",
      "text/plain": [
       "<matplotlib.figure.Figure at 0x7fea98a855d0>"
      ]
     },
     "metadata": {},
     "output_type": "display_data"
    }
   ],
   "source": [
    "plt.plot(df9[\"L0DEU_V_AL1\"][df9[\"d\"]>-355][df9[\"d\"]<-240],  df9[\"L2DEU_V_AL1\"][df9[\"d\"]>-355][df9[\"d\"]<-240])"
   ]
  },
  {
   "cell_type": "code",
   "execution_count": 12,
   "metadata": {
    "collapsed": false
   },
   "outputs": [
    {
     "ename": "KeyError",
     "evalue": "'L4DEU_V_AL2'",
     "output_type": "error",
     "traceback": [
      "\u001b[1;31m---------------------------------------------------------------------------\u001b[0m",
      "\u001b[1;31mKeyError\u001b[0m                                  Traceback (most recent call last)",
      "\u001b[1;32m<ipython-input-12-f185f297c988>\u001b[0m in \u001b[0;36m<module>\u001b[1;34m()\u001b[0m\n\u001b[1;32m----> 1\u001b[1;33m \u001b[0mplt\u001b[0m\u001b[1;33m.\u001b[0m\u001b[0mplot\u001b[0m\u001b[1;33m(\u001b[0m\u001b[0mdf9\u001b[0m\u001b[1;33m[\u001b[0m\u001b[1;34m\"d\"\u001b[0m\u001b[1;33m]\u001b[0m\u001b[1;33m,\u001b[0m  \u001b[0mdf9\u001b[0m\u001b[1;33m[\u001b[0m\u001b[1;34m\"L4DEU_V_AL2\"\u001b[0m\u001b[1;33m]\u001b[0m\u001b[1;33m)\u001b[0m\u001b[1;33m\u001b[0m\u001b[0m\n\u001b[0m",
      "\u001b[1;32m/usr/lib/python2.7/dist-packages/pandas/core/frame.pyc\u001b[0m in \u001b[0;36m__getitem__\u001b[1;34m(self, key)\u001b[0m\n\u001b[0;32m   1741\u001b[0m             \u001b[1;32mreturn\u001b[0m \u001b[0mself\u001b[0m\u001b[1;33m.\u001b[0m\u001b[0m_getitem_multilevel\u001b[0m\u001b[1;33m(\u001b[0m\u001b[0mkey\u001b[0m\u001b[1;33m)\u001b[0m\u001b[1;33m\u001b[0m\u001b[0m\n\u001b[0;32m   1742\u001b[0m         \u001b[1;32melse\u001b[0m\u001b[1;33m:\u001b[0m\u001b[1;33m\u001b[0m\u001b[0m\n\u001b[1;32m-> 1743\u001b[1;33m             \u001b[1;32mreturn\u001b[0m \u001b[0mself\u001b[0m\u001b[1;33m.\u001b[0m\u001b[0m_getitem_column\u001b[0m\u001b[1;33m(\u001b[0m\u001b[0mkey\u001b[0m\u001b[1;33m)\u001b[0m\u001b[1;33m\u001b[0m\u001b[0m\n\u001b[0m\u001b[0;32m   1744\u001b[0m \u001b[1;33m\u001b[0m\u001b[0m\n\u001b[0;32m   1745\u001b[0m     \u001b[1;32mdef\u001b[0m \u001b[0m_getitem_column\u001b[0m\u001b[1;33m(\u001b[0m\u001b[0mself\u001b[0m\u001b[1;33m,\u001b[0m \u001b[0mkey\u001b[0m\u001b[1;33m)\u001b[0m\u001b[1;33m:\u001b[0m\u001b[1;33m\u001b[0m\u001b[0m\n",
      "\u001b[1;32m/usr/lib/python2.7/dist-packages/pandas/core/frame.pyc\u001b[0m in \u001b[0;36m_getitem_column\u001b[1;34m(self, key)\u001b[0m\n\u001b[0;32m   1748\u001b[0m         \u001b[1;31m# get column\u001b[0m\u001b[1;33m\u001b[0m\u001b[1;33m\u001b[0m\u001b[0m\n\u001b[0;32m   1749\u001b[0m         \u001b[1;32mif\u001b[0m \u001b[0mself\u001b[0m\u001b[1;33m.\u001b[0m\u001b[0mcolumns\u001b[0m\u001b[1;33m.\u001b[0m\u001b[0mis_unique\u001b[0m\u001b[1;33m:\u001b[0m\u001b[1;33m\u001b[0m\u001b[0m\n\u001b[1;32m-> 1750\u001b[1;33m             \u001b[1;32mreturn\u001b[0m \u001b[0mself\u001b[0m\u001b[1;33m.\u001b[0m\u001b[0m_get_item_cache\u001b[0m\u001b[1;33m(\u001b[0m\u001b[0mkey\u001b[0m\u001b[1;33m)\u001b[0m\u001b[1;33m\u001b[0m\u001b[0m\n\u001b[0m\u001b[0;32m   1751\u001b[0m \u001b[1;33m\u001b[0m\u001b[0m\n\u001b[0;32m   1752\u001b[0m         \u001b[1;31m# duplicate columns & possible reduce dimensionaility\u001b[0m\u001b[1;33m\u001b[0m\u001b[1;33m\u001b[0m\u001b[0m\n",
      "\u001b[1;32m/usr/lib/python2.7/dist-packages/pandas/core/generic.pyc\u001b[0m in \u001b[0;36m_get_item_cache\u001b[1;34m(self, item)\u001b[0m\n\u001b[0;32m   1056\u001b[0m         \u001b[0mres\u001b[0m \u001b[1;33m=\u001b[0m \u001b[0mcache\u001b[0m\u001b[1;33m.\u001b[0m\u001b[0mget\u001b[0m\u001b[1;33m(\u001b[0m\u001b[0mitem\u001b[0m\u001b[1;33m)\u001b[0m\u001b[1;33m\u001b[0m\u001b[0m\n\u001b[0;32m   1057\u001b[0m         \u001b[1;32mif\u001b[0m \u001b[0mres\u001b[0m \u001b[1;32mis\u001b[0m \u001b[0mNone\u001b[0m\u001b[1;33m:\u001b[0m\u001b[1;33m\u001b[0m\u001b[0m\n\u001b[1;32m-> 1058\u001b[1;33m             \u001b[0mvalues\u001b[0m \u001b[1;33m=\u001b[0m \u001b[0mself\u001b[0m\u001b[1;33m.\u001b[0m\u001b[0m_data\u001b[0m\u001b[1;33m.\u001b[0m\u001b[0mget\u001b[0m\u001b[1;33m(\u001b[0m\u001b[0mitem\u001b[0m\u001b[1;33m)\u001b[0m\u001b[1;33m\u001b[0m\u001b[0m\n\u001b[0m\u001b[0;32m   1059\u001b[0m             \u001b[0mres\u001b[0m \u001b[1;33m=\u001b[0m \u001b[0mself\u001b[0m\u001b[1;33m.\u001b[0m\u001b[0m_box_item_values\u001b[0m\u001b[1;33m(\u001b[0m\u001b[0mitem\u001b[0m\u001b[1;33m,\u001b[0m \u001b[0mvalues\u001b[0m\u001b[1;33m)\u001b[0m\u001b[1;33m\u001b[0m\u001b[0m\n\u001b[0;32m   1060\u001b[0m             \u001b[0mcache\u001b[0m\u001b[1;33m[\u001b[0m\u001b[0mitem\u001b[0m\u001b[1;33m]\u001b[0m \u001b[1;33m=\u001b[0m \u001b[0mres\u001b[0m\u001b[1;33m\u001b[0m\u001b[0m\n",
      "\u001b[1;32m/usr/lib/python2.7/dist-packages/pandas/core/internals.pyc\u001b[0m in \u001b[0;36mget\u001b[1;34m(self, item, fastpath)\u001b[0m\n\u001b[0;32m   2804\u001b[0m \u001b[1;33m\u001b[0m\u001b[0m\n\u001b[0;32m   2805\u001b[0m             \u001b[1;32mif\u001b[0m \u001b[1;32mnot\u001b[0m \u001b[0misnull\u001b[0m\u001b[1;33m(\u001b[0m\u001b[0mitem\u001b[0m\u001b[1;33m)\u001b[0m\u001b[1;33m:\u001b[0m\u001b[1;33m\u001b[0m\u001b[0m\n\u001b[1;32m-> 2806\u001b[1;33m                 \u001b[0mloc\u001b[0m \u001b[1;33m=\u001b[0m \u001b[0mself\u001b[0m\u001b[1;33m.\u001b[0m\u001b[0mitems\u001b[0m\u001b[1;33m.\u001b[0m\u001b[0mget_loc\u001b[0m\u001b[1;33m(\u001b[0m\u001b[0mitem\u001b[0m\u001b[1;33m)\u001b[0m\u001b[1;33m\u001b[0m\u001b[0m\n\u001b[0m\u001b[0;32m   2807\u001b[0m             \u001b[1;32melse\u001b[0m\u001b[1;33m:\u001b[0m\u001b[1;33m\u001b[0m\u001b[0m\n\u001b[0;32m   2808\u001b[0m                 \u001b[0mindexer\u001b[0m \u001b[1;33m=\u001b[0m \u001b[0mnp\u001b[0m\u001b[1;33m.\u001b[0m\u001b[0marange\u001b[0m\u001b[1;33m(\u001b[0m\u001b[0mlen\u001b[0m\u001b[1;33m(\u001b[0m\u001b[0mself\u001b[0m\u001b[1;33m.\u001b[0m\u001b[0mitems\u001b[0m\u001b[1;33m)\u001b[0m\u001b[1;33m)\u001b[0m\u001b[1;33m[\u001b[0m\u001b[0misnull\u001b[0m\u001b[1;33m(\u001b[0m\u001b[0mself\u001b[0m\u001b[1;33m.\u001b[0m\u001b[0mitems\u001b[0m\u001b[1;33m)\u001b[0m\u001b[1;33m]\u001b[0m\u001b[1;33m\u001b[0m\u001b[0m\n",
      "\u001b[1;32m/usr/lib/python2.7/dist-packages/pandas/core/index.pyc\u001b[0m in \u001b[0;36mget_loc\u001b[1;34m(self, key)\u001b[0m\n\u001b[0;32m   1383\u001b[0m         \u001b[0mloc\u001b[0m \u001b[1;33m:\u001b[0m \u001b[0mint\u001b[0m \u001b[1;32mif\u001b[0m \u001b[0munique\u001b[0m \u001b[0mindex\u001b[0m\u001b[1;33m,\u001b[0m \u001b[0mpossibly\u001b[0m \u001b[0mslice\u001b[0m \u001b[1;32mor\u001b[0m \u001b[0mmask\u001b[0m \u001b[1;32mif\u001b[0m \u001b[1;32mnot\u001b[0m\u001b[1;33m\u001b[0m\u001b[0m\n\u001b[0;32m   1384\u001b[0m         \"\"\"\n\u001b[1;32m-> 1385\u001b[1;33m         \u001b[1;32mreturn\u001b[0m \u001b[0mself\u001b[0m\u001b[1;33m.\u001b[0m\u001b[0m_engine\u001b[0m\u001b[1;33m.\u001b[0m\u001b[0mget_loc\u001b[0m\u001b[1;33m(\u001b[0m\u001b[0m_values_from_object\u001b[0m\u001b[1;33m(\u001b[0m\u001b[0mkey\u001b[0m\u001b[1;33m)\u001b[0m\u001b[1;33m)\u001b[0m\u001b[1;33m\u001b[0m\u001b[0m\n\u001b[0m\u001b[0;32m   1386\u001b[0m \u001b[1;33m\u001b[0m\u001b[0m\n\u001b[0;32m   1387\u001b[0m     \u001b[1;32mdef\u001b[0m \u001b[0mget_value\u001b[0m\u001b[1;33m(\u001b[0m\u001b[0mself\u001b[0m\u001b[1;33m,\u001b[0m \u001b[0mseries\u001b[0m\u001b[1;33m,\u001b[0m \u001b[0mkey\u001b[0m\u001b[1;33m)\u001b[0m\u001b[1;33m:\u001b[0m\u001b[1;33m\u001b[0m\u001b[0m\n",
      "\u001b[1;32mpandas/index.pyx\u001b[0m in \u001b[0;36mpandas.index.IndexEngine.get_loc (pandas/index.c:3790)\u001b[1;34m()\u001b[0m\n",
      "\u001b[1;32mpandas/index.pyx\u001b[0m in \u001b[0;36mpandas.index.IndexEngine.get_loc (pandas/index.c:3670)\u001b[1;34m()\u001b[0m\n",
      "\u001b[1;32mpandas/hashtable.pyx\u001b[0m in \u001b[0;36mpandas.hashtable.PyObjectHashTable.get_item (pandas/hashtable.c:12302)\u001b[1;34m()\u001b[0m\n",
      "\u001b[1;32mpandas/hashtable.pyx\u001b[0m in \u001b[0;36mpandas.hashtable.PyObjectHashTable.get_item (pandas/hashtable.c:12253)\u001b[1;34m()\u001b[0m\n",
      "\u001b[1;31mKeyError\u001b[0m: 'L4DEU_V_AL2'"
     ]
    }
   ],
   "source": [
    "plt.plot(df9[\"d\"],  df9[\"L4DEU_V_AL2\"])"
   ]
  },
  {
   "cell_type": "code",
   "execution_count": 586,
   "metadata": {
    "collapsed": false
   },
   "outputs": [
    {
     "data": {
      "text/plain": [
       "(-2, 2)"
      ]
     },
     "execution_count": 586,
     "metadata": {},
     "output_type": "execute_result"
    },
    {
     "data": {
      "image/png": "[encoded data removed]",
      "text/plain": [
       "<matplotlib.figure.Figure at 0x7fabdc48ef50>"
      ]
     },
     "metadata": {},
     "output_type": "display_data"
    }
   ],
   "source": [
    "df5[\"L2DEU_V_AL3\"] = -1*df5[\"L2DEU_V_AL3\"]\n",
    "fig, ax = plt.subplots()\n",
    "ax.plot(df5[\"d\"], df5[\"L2DEU_V_AL3\"])\n",
    "ax.set_ylim(-2,2)"
   ]
  },
  {
   "cell_type": "markdown",
   "metadata": {},
   "source": [
    "# Result Notes "
   ]
  },
  {
   "cell_type": "markdown",
   "metadata": {},
   "source": [
    "* For some initial parameterizations, the network is too vulnerable to operate."
   ]
  },
  {
   "cell_type": "code",
   "execution_count": 9,
   "metadata": {
    "collapsed": false
   },
   "outputs": [
    {
     "data": {
      "image/png": "[encoded data removed]",
      "text/plain": [
       "<IPython.core.display.Image object>"
      ]
     },
     "execution_count": 9,
     "metadata": {},
     "output_type": "execute_result"
    }
   ],
   "source": [
    "g=ig.Graph.Adjacency(parameters['sigmamat'].tolist())\n",
    "g.vs[\"color\"] = [(.8,1,.8), (.8,.8,1),(.8,.8,1),(1,1,0), (1,.4,.4) ]\n",
    "g.vs[\"label\"] = ['Server',\"Host 1\",\"Host 2\",\"Host 3\",\"Internet\"]\n",
    "g.vs[\"size\"] = 100\n",
    "g.es[\"label\"] = [None]*11+['R:1 \\n C:1']\n",
    "g.es[\"label_size\"]= [16]*11\n",
    "g.es[\"color\"] =[\"black\"]*11+[\"red\"]\n",
    "\n",
    "position = [(0,0), (-1,-1), (1,-1), (0,-2), (0,-3)]\n",
    "ig.plot(g, '/home/justin/Documents/dissertation/dissertation/lknet.pdf', bbox=(800,800),margin=60,  layout=position, autocurve=False)\n",
    "Image('./oktodelete.png')"
   ]
  },
  {
   "cell_type": "markdown",
   "metadata": {},
   "source": [
    "# Tests "
   ]
  },
  {
   "cell_type": "markdown",
   "metadata": {},
   "source": [
    "We want to test the \"probability of an alarm\" functions both when an attacker is present and\n",
    "when he is not under both the simple likelihood and the likelihood ratio.  We will test the calculations (and the math) by checking to see if the closed form solutions are \"sufficiently close\" to the solution obtained via Monte Carlo simulation."
   ]
  },
  {
   "cell_type": "code",
   "execution_count": 724,
   "metadata": {
    "collapsed": false
   },
   "outputs": [],
   "source": [
    "    testparams = { 'tau': 5,\n",
    "                'd': -50,\n",
    "                'sigmamat' : np.array([[0,1.,0], [2.,0,2.],[1.,1.,0]]),\n",
    "                'r' : np.array([[0,0,0], [0,0,1],[0,0,0]]),\n",
    "                'lrd':-.1,\n",
    "                'c' : np.array([[0,0,0], [0,0,1],[0,0,0]]),\n",
    "                'b1': 1,\n",
    "                'b2': 1,\n",
    "                'c1': 1,\n",
    "                'c2': 1,\n",
    "                'pi' : .1,\n",
    "             }\n",
    "             "
   ]
  },
  {
   "cell_type": "code",
   "execution_count": 578,
   "metadata": {
    "collapsed": true
   },
   "outputs": [],
   "source": [
    "def test_p_no_alarm_simple_no_attacker(paramtest, mcsamps=10000):\n",
    "    TestModel = NormalNoiseModel(**paramtest)\n",
    "    astrat = TestModel.attacker_strat_from_res(np.zeros(paramtest['tau']*len(TestModel.positive_edges)))\n",
    "    p_no_alarm_exact = TestModel.prob_no_alarm_simple(astrat)\n",
    "    noalarm = 0\n",
    "    sigmas = (paramtest['sigmamat'][paramtest['sigmamat']>0])\n",
    "    for s in xrange(mcsamps):\n",
    "        data = np.random.normal(size=(5,5), scale=sigmas)\n",
    "        lhood = np.sum(np.log(norm.pdf(data, scale=sigmas)))\n",
    "        if lhood>paramtest['d']:\n",
    "            noalarm +=1\n",
    "    return p_no_alarm_exact, noalarm / float(mcsamps)"
   ]
  },
  {
   "cell_type": "code",
   "execution_count": 579,
   "metadata": {
    "collapsed": false
   },
   "outputs": [
    {
     "data": {
      "text/plain": [
       "(0.99934597956146143, 0.99912)"
      ]
     },
     "execution_count": 579,
     "metadata": {},
     "output_type": "execute_result"
    }
   ],
   "source": [
    "test_p_no_alarm_simple_no_attacker(testparams)"
   ]
  },
  {
   "cell_type": "code",
   "execution_count": 424,
   "metadata": {
    "collapsed": false
   },
   "outputs": [],
   "source": [
    "def test_p_no_alarm_simple_random_attacker(paramtest, mcsamps=10000):\n",
    "    TestModel = NormalNoiseModel(**paramtest)\n",
    "    stratarray = np.random.random(paramtest['tau']*len(TestModel.positive_edges))\n",
    "    astrat = TestModel.attacker_strat_from_res(stratarray)\n",
    "    p_no_alarm_exact = TestModel.prob_no_alarm_simple(astrat)\n",
    "    noalarm = 0\n",
    "    sigmas = []\n",
    "    stratmat = []\n",
    "    for i in xrange(paramtest['sigmamat'].shape[0]):\n",
    "        for j in xrange(paramtest['sigmamat'].shape[0]):\n",
    "            if paramtest['sigmamat'][(i,j)] > 0:\n",
    "                sigmas.append(paramtest['sigmamat'][(i,j)])\n",
    "                stratmat.append(astrat[(i,j)])\n",
    "    stratmat = np.asarray(stratmat).T # Scale is for columns\n",
    "    for s in xrange(mcsamps):\n",
    "        data = np.random.normal(size=(5,5), scale=sigmas) + stratmat\n",
    "        lhood = np.sum(np.log(norm.pdf(data, scale=sigmas)))\n",
    "        if lhood>paramtest['d']:\n",
    "            noalarm +=1\n",
    "    return p_no_alarm_exact, noalarm / float(mcsamps)"
   ]
  },
  {
   "cell_type": "code",
   "execution_count": 425,
   "metadata": {
    "collapsed": false
   },
   "outputs": [
    {
     "data": {
      "text/plain": [
       "(0.65590116545019628, 0.655744)"
      ]
     },
     "execution_count": 425,
     "metadata": {},
     "output_type": "execute_result"
    }
   ],
   "source": [
    "test_p_no_alarm_simple_random_attacker(testparams)"
   ]
  },
  {
   "cell_type": "code",
   "execution_count": 725,
   "metadata": {
    "collapsed": true
   },
   "outputs": [],
   "source": [
    "def test_p_no_alarm_lr_no_attacker(paramtest, mcsamps=10000):\n",
    "    TestModel = NormalNoiseModel(**paramtest)\n",
    "    stratarraybelief = np.random.random(paramtest['tau']*len(TestModel.positive_edges)) * .05\n",
    "    astratbelief = TestModel.attacker_strat_from_res(stratarraybelief)\n",
    "    stratarray = np.zeros(paramtest['tau']*len(TestModel.positive_edges))\n",
    "    astrat = TestModel.attacker_strat_from_res(stratarray)\n",
    "    p_no_alarm_exact_lr = TestModel.prob_no_alarm_lr(astrat, astratbelief)\n",
    "    noalarm = 0\n",
    "    sigmas = []\n",
    "    stratmat = []\n",
    "    stratmatbelief = []\n",
    "    for i in xrange(paramtest['sigmamat'].shape[0]):\n",
    "        for j in xrange(paramtest['sigmamat'].shape[0]):\n",
    "            if paramtest['sigmamat'][(i,j)] > 0:\n",
    "                sigmas.append(paramtest['sigmamat'][(i,j)])\n",
    "                stratmat.append(astrat[(i,j)])\n",
    "                stratmatbelief.append(astratbelief[(i,j)])\n",
    "    stratmat = np.asarray(stratmat).T # Scale is for columns\n",
    "    stratmatbelief = np.asarray(stratmatbelief).T\n",
    "    for s in xrange(mcsamps):\n",
    "        data = np.random.normal(size=(5,5), scale=sigmas)\n",
    "        lhoodnum = np.sum(np.log(norm.pdf(data+ stratmat, scale=sigmas)))\n",
    "        lhooddenom = np.sum(np.log(norm.pdf(data-stratmatbelief + stratmat, scale=sigmas)))\n",
    "        lr = lhoodnum - lhooddenom\n",
    "        if lr>paramtest['lrd']:\n",
    "            noalarm +=1\n",
    "    return p_no_alarm_exact_lr, noalarm / float(mcsamps)"
   ]
  },
  {
   "cell_type": "code",
   "execution_count": 726,
   "metadata": {
    "collapsed": false
   },
   "outputs": [
    {
     "data": {
      "text/plain": [
       "(0.8377601455859176, 0.8368)"
      ]
     },
     "execution_count": 726,
     "metadata": {},
     "output_type": "execute_result"
    }
   ],
   "source": [
    "test_p_no_alarm_lr_no_attacker(testparams)"
   ]
  },
  {
   "cell_type": "code",
   "execution_count": 714,
   "metadata": {
    "collapsed": true
   },
   "outputs": [],
   "source": [
    "def test_p_no_alarm_lr_correct_belief(paramtest, mcsamps=10000):\n",
    "    TestModel = NormalNoiseModel(**paramtest)\n",
    "    stratarraybelief = np.random.random(paramtest['tau']*len(TestModel.positive_edges)) * .05\n",
    "    astratbelief = TestModel.attacker_strat_from_res(stratarraybelief)\n",
    "    stratarray = stratarraybelief\n",
    "    astrat = astratbelief\n",
    "    p_no_alarm_exact_lr = TestModel.prob_no_alarm_lr(astrat, astratbelief)\n",
    "    noalarm = 0\n",
    "    sigmas = []\n",
    "    stratmat = []\n",
    "    stratmatbelief = []\n",
    "    for i in xrange(paramtest['sigmamat'].shape[0]):\n",
    "        for j in xrange(paramtest['sigmamat'].shape[0]):\n",
    "            if paramtest['sigmamat'][(i,j)] > 0:\n",
    "                sigmas.append(paramtest['sigmamat'][(i,j)])\n",
    "                stratmat.append(astrat[(i,j)])\n",
    "                stratmatbelief.append(astratbelief[(i,j)])\n",
    "    stratmat = np.asarray(stratmat).T # Scale is for columns\n",
    "    stratmatbelief = np.asarray(stratmatbelief).T\n",
    "    for s in xrange(mcsamps):\n",
    "        data = np.random.normal(size=(5,5), scale=sigmas)\n",
    "        lhoodnum = np.sum(np.log(norm.pdf(data+ stratmat, scale=sigmas)))\n",
    "        lhooddenom = np.sum(np.log(norm.pdf(data-stratmatbelief + stratmat, scale=sigmas)))\n",
    "        lr = lhoodnum - lhooddenom\n",
    "        if lr>paramtest['lrd']:\n",
    "            noalarm +=1\n",
    "    return p_no_alarm_exact_lr, noalarm / float(mcsamps)"
   ]
  },
  {
   "cell_type": "code",
   "execution_count": 715,
   "metadata": {
    "collapsed": false
   },
   "outputs": [
    {
     "data": {
      "text/plain": [
       "(0.73912439764243332, 0.7309)"
      ]
     },
     "execution_count": 715,
     "metadata": {},
     "output_type": "execute_result"
    }
   ],
   "source": [
    "test_p_no_alarm_lr_correct_belief(testparams)"
   ]
  },
  {
   "cell_type": "code",
   "execution_count": 716,
   "metadata": {
    "collapsed": true
   },
   "outputs": [],
   "source": [
    "def test_p_no_alarm_lr_incorrect_belief(paramtest, mcsamps=10000):\n",
    "    TestModel = NormalNoiseModel(**paramtest)\n",
    "    stratarraybelief = np.random.random(paramtest['tau']*len(TestModel.positive_edges)) * .05\n",
    "    astratbelief = TestModel.attacker_strat_from_res(stratarraybelief)\n",
    "    stratarray = np.random.random(paramtest['tau']*len(TestModel.positive_edges)) * .05\n",
    "    astrat = TestModel.attacker_strat_from_res(stratarray)\n",
    "    p_no_alarm_exact_lr = TestModel.prob_no_alarm_lr(astrat, astratbelief)\n",
    "    noalarm = 0\n",
    "    sigmas = []\n",
    "    stratmat = []\n",
    "    stratmatbelief = []\n",
    "    for i in xrange(paramtest['sigmamat'].shape[0]):\n",
    "        for j in xrange(paramtest['sigmamat'].shape[0]):\n",
    "            if paramtest['sigmamat'][(i,j)] > 0:\n",
    "                sigmas.append(paramtest['sigmamat'][(i,j)])\n",
    "                stratmat.append(astrat[(i,j)])\n",
    "                stratmatbelief.append(astratbelief[(i,j)])\n",
    "    stratmat = np.asarray(stratmat).T # Scale is for columns\n",
    "    stratmatbelief = np.asarray(stratmatbelief).T\n",
    "    for s in xrange(mcsamps):\n",
    "        data = np.random.normal(size=(5,5), scale=sigmas)\n",
    "        lhoodnum = np.sum(np.log(norm.pdf(data+ stratmat, scale=sigmas)))\n",
    "        lhooddenom = np.sum(np.log(norm.pdf(data-stratmatbelief + stratmat, scale=sigmas)))\n",
    "        lr = lhoodnum - lhooddenom\n",
    "        if lr>paramtest['lrd']:\n",
    "            noalarm +=1\n",
    "    return p_no_alarm_exact_lr, noalarm / float(mcsamps)"
   ]
  },
  {
   "cell_type": "code",
   "execution_count": 717,
   "metadata": {
    "collapsed": false
   },
   "outputs": [
    {
     "data": {
      "text/plain": [
       "(0.78107721744980274, 0.7835)"
      ]
     },
     "execution_count": 717,
     "metadata": {},
     "output_type": "execute_result"
    }
   ],
   "source": [
    "test_p_no_alarm_lr_incorrect_belief(testparams)"
   ]
  },
  {
   "cell_type": "code",
   "execution_count": 267,
   "metadata": {
    "collapsed": false
   },
   "outputs": [
    {
     "data": {
      "text/plain": [
       "array([ 0.,  1.,  1.,  0.,  0.,  1.,  0.,  1.,  1.,  0.,  1.,  1.,  0.,\n",
       "        1.,  0.,  1.,  1.,  1.,  0.,  1.,  0.,  0.,  0.,  0.,  0.])"
      ]
     },
     "execution_count": 267,
     "metadata": {},
     "output_type": "execute_result"
    }
   ],
   "source": [
    "parameters['sigmamat'].flatten()"
   ]
  },
  {
   "cell_type": "code",
   "execution_count": 280,
   "metadata": {
    "collapsed": false
   },
   "outputs": [
    {
     "data": {
      "text/plain": [
       "array([[ 0.,  1.,  1.,  0.,  0.],\n",
       "       [ 1.,  0.,  1.,  1.,  0.],\n",
       "       [ 1.,  1.,  0.,  1.,  0.],\n",
       "       [ 1.,  1.,  1.,  0.,  1.],\n",
       "       [ 0.,  0.,  0.,  0.,  0.]])"
      ]
     },
     "execution_count": 280,
     "metadata": {},
     "output_type": "execute_result"
    }
   ],
   "source": [
    "parameters['sigmamat']"
   ]
  },
  {
   "cell_type": "code",
   "execution_count": 269,
   "metadata": {
    "collapsed": true
   },
   "outputs": [],
   "source": [
    "x=[1,2,3,4]"
   ]
  },
  {
   "cell_type": "code",
   "execution_count": null,
   "metadata": {
    "collapsed": true
   },
   "outputs": [],
   "source": []
  },
  {
   "cell_type": "code",
   "execution_count": 36,
   "metadata": {
    "collapsed": false
   },
   "outputs": [
    {
     "ename": "TypeError",
     "evalue": "'int' object is not iterable",
     "output_type": "error",
     "traceback": [
      "\u001b[1;31m---------------------------------------------------------------------------\u001b[0m",
      "\u001b[1;31mTypeError\u001b[0m                                 Traceback (most recent call last)",
      "\u001b[1;32m<ipython-input-36-bfe41519d5ed>\u001b[0m in \u001b[0;36m<module>\u001b[1;34m()\u001b[0m\n\u001b[0;32m      1\u001b[0m \u001b[1;33m\u001b[0m\u001b[0m\n\u001b[1;32m----> 2\u001b[1;33m \u001b[0mlist\u001b[0m\u001b[1;33m(\u001b[0m\u001b[1;36m2\u001b[0m\u001b[1;33m)\u001b[0m\u001b[1;33m\u001b[0m\u001b[0m\n\u001b[0m",
      "\u001b[1;31mTypeError\u001b[0m: 'int' object is not iterable"
     ]
    }
   ],
   "source": [
    "\n",
    "list(2)"
   ]
  },
  {
   "cell_type": "code",
   "execution_count": 38,
   "metadata": {
    "collapsed": false
   },
   "outputs": [
    {
     "ename": "TypeError",
     "evalue": "iteration over a 0-d array",
     "output_type": "error",
     "traceback": [
      "\u001b[1;31m---------------------------------------------------------------------------\u001b[0m",
      "\u001b[1;31mTypeError\u001b[0m                                 Traceback (most recent call last)",
      "\u001b[1;32m<ipython-input-38-2c40c373b149>\u001b[0m in \u001b[0;36m<module>\u001b[1;34m()\u001b[0m\n\u001b[1;32m----> 1\u001b[1;33m \u001b[0mlist\u001b[0m\u001b[1;33m(\u001b[0m\u001b[0mnp\u001b[0m\u001b[1;33m.\u001b[0m\u001b[0masarray\u001b[0m\u001b[1;33m(\u001b[0m\u001b[1;36m2\u001b[0m\u001b[1;33m)\u001b[0m\u001b[1;33m)\u001b[0m\u001b[1;33m\u001b[0m\u001b[0m\n\u001b[0m",
      "\u001b[1;31mTypeError\u001b[0m: iteration over a 0-d array"
     ]
    }
   ],
   "source": [
    "list(np.asarray(2))"
   ]
  },
  {
   "cell_type": "code",
   "execution_count": null,
   "metadata": {
    "collapsed": true
   },
   "outputs": [],
   "source": []
  }
 ],
 "metadata": {
  "kernelspec": {
   "display_name": "Python 2",
   "language": "python",
   "name": "python2"
  },
  "language_info": {
   "codemirror_mode": {
    "name": "ipython",
    "version": 2
   },
   "file_extension": ".py",
   "mimetype": "text/x-python",
   "name": "python",
   "nbconvert_exporter": "python",
   "pygments_lexer": "ipython2",
   "version": "2.7.9"
  }
 },
 "nbformat": 4,
 "nbformat_minor": 0
}
