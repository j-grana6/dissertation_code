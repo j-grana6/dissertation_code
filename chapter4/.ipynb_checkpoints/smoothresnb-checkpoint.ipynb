{
 "cells": [
  {
   "cell_type": "code",
   "execution_count": 1,
   "metadata": {
    "collapsed": false
   },
   "outputs": [
    {
     "name": "stderr",
     "output_type": "stream",
     "text": [
      "/usr/lib/python2.7/dist-packages/pkg_resources/__init__.py:1224: UserWarning: /home/justin/.python-eggs is writable by group/others and vulnerable to attack when used with get_resource_filename. Consider a more secure location (set with .set_extraction_path or the PYTHON_EGG_CACHE environment variable).\n",
      "  warnings.warn(msg, UserWarning)\n"
     ]
    }
   ],
   "source": [
    "import numpy as np\n",
    "from pandas import rolling_sum\n",
    "import pandas as pd\n",
    "from matplotlib import pyplot as plt\n",
    "from statsmodels.tsa.arima_model import ARIMA\n",
    "from collections import defaultdict\n",
    "from scipy.optimize import fmin_slsqp, fmin_cobyla\n",
    "from scipy.stats import gamma, norm, chi2, ncx2\n",
    "import igraph as ig\n",
    "from IPython.display import Image\n",
    "import copy\n",
    "import time\n",
    "%matplotlib inline"
   ]
  },
  {
   "cell_type": "code",
   "execution_count": 11,
   "metadata": {
    "collapsed": false
   },
   "outputs": [],
   "source": [
    "class NormalNoiseModel(object):\n",
    "    \"\"\"\n",
    "    The attacker strategy is a 1-d array.  The first tmax elements are his intensity\n",
    "    along a specfic edge at time equal to index.  The order is determined by \n",
    "    self.positive_edges.\n",
    "    \n",
    "    \"\"\"\n",
    "    def __init__(self, tau, sigmamat, r,b1,b2,c1,c2,pi,c, **kwargs):\n",
    "        self.tau = tau # Numer of Time periods\n",
    "        self.sigmamat = sigmamat # Normal Distribution Parameters\n",
    "        self.r = r # Reward Matrix\n",
    "        self.b1 = b1\n",
    "        self.b2 = b2\n",
    "        self.c1 = c1\n",
    "        self.c2 = c2 \n",
    "        self.pi = pi\n",
    "        self.positive_edges = [(np.nonzero(self.sigmamat)[0][i],np.nonzero(self.sigmamat)[1][i])\n",
    "                               for i in range(np.sum(sigmamat>0))]\n",
    "        self.edges_into_node = self.get_node_edge_into()\n",
    "        self.edges_outof_node = self.get_node_edge_out()\n",
    "        self.sumlogsigma = np.sum([np.log(x) for x in np.nditer(sigmamat) if x >0])\n",
    "        self.x0opt = np.random.random(self.tau * len(self.positive_edges))#np.ones(self.tau*len(self.positive_edges))\n",
    "        self.noattackerstrat = self.attacker_strat_from_res(np.zeros(self.tau*len(self.positive_edges)))\n",
    "        self.c = self.c2 * c\n",
    "        \n",
    "    def get_node_edge_out(self):\n",
    "        outin = defaultdict(list)\n",
    "        for e in self.positive_edges:\n",
    "            outin[e[0]].append(e)\n",
    "        return outin\n",
    "    \n",
    "    def get_node_edge_into(self):\n",
    "        inout = defaultdict(list)\n",
    "        for e in self.positive_edges:\n",
    "            inout[e[1]].append(e)\n",
    "        return inout\n",
    "    \n",
    "    def get_attacker_dict(self, attackerstrat):\n",
    "        astratdict = {}\n",
    "        for ix, elem in enumerate(self.positive_edges):\n",
    "            astratdict[elem] = np.asarray(attackerstrat[ix*self.tau:self.tau*(ix+1)])\n",
    "        return astratdict\n",
    "    \n",
    "    def general_constraint(self, x):\n",
    "        astrat = self.get_attacker_dict(x)\n",
    "        l1 = self.nonzero_constraint(x)\n",
    "        #l2 = self.effort_constraint(astrat)\n",
    "        l3 = self.traversal_constraint(astrat)\n",
    "        #return np.array(list(l1) + list(l2) + list(l3))\n",
    "        return list(l1) +list(l3)\n",
    "    \n",
    "    def nonzero_constraint(self, x):\n",
    "        return x\n",
    "    \n",
    "    def effort_constraint(self, astrat):\n",
    "        activity = np.asarray(astrat.values())\n",
    "        totalact = np.sum(activity, axis=0)\n",
    "        return -totalact + self.effort\n",
    "    \n",
    "    def traversal_constraint(self, astrat):\n",
    "        allbalances = []\n",
    "        for key, val in self.edges_outof_node.iteritems():\n",
    "            if key != 0 : # No traversal for first node\n",
    "                total_out_at_t = np.sum(np.asarray([astrat[e] for e in val]), axis=0)\n",
    "                total_in_at_t = np.sum(np.asarray(\n",
    "                        [astrat[e] for e in self.edges_into_node[key]]), axis=0)\n",
    "                total_in_by_t = np.cumsum(np.hstack((np.array([0]), total_in_at_t)))[:-1]\n",
    "                allbalances.append(total_in_by_t - total_out_at_t)\n",
    "        return list(np.hstack(tuple(allbalances)))\n",
    "    \n",
    "\n",
    "    def prob_no_alarm_simple(self, d, astrat=None):\n",
    "        \"\"\"\n",
    "        Given by P(chi2_nk(mu) < -2(ln(d) + nk/2 ln(2pi) + k \\sum_J ln(\\sigma_j)))\n",
    "        \n",
    "        where mu is given by \\sum_IJ (aij/sigma_j)^2\n",
    "        \"\"\"\n",
    "        muhat = 0\n",
    "        param_contribution = -2 * (d + self.tau * len(self.positive_edges)/2.*np.log(2*np.pi)\n",
    "                                        + self.tau*self.sumlogsigma )\n",
    "        for edge in self.positive_edges:\n",
    "            muhat +=  np.sum(astrat[edge]**2) / float(self.sigmamat[edge])**2\n",
    "        if muhat > 0:\n",
    "            p_no_alarm = ncx2.cdf(param_contribution, self.tau * len(self.positive_edges), muhat)\n",
    "        if muhat ==0:\n",
    "            p_no_alarm = chi2.cdf(param_contribution, self.tau * len(self.positive_edges))\n",
    "        return p_no_alarm\n",
    "    \n",
    "    def prob_no_alarm_lr(self, lrd, astrat=None, astratbelief=None):\n",
    "        stdev = self.get_sd_from_belief(astratbelief)\n",
    "        evalat = -2*lrd\n",
    "        for key, val in astratbelief.iteritems():\n",
    "            evalat += np.sum(astratbelief[key]**2 - 2*astratbelief[key]*astrat[key]) \\\n",
    "                / self.sigmamat[key]**2\n",
    "        return  norm.cdf(evalat, loc=0, scale=stdev)\n",
    "        \n",
    "    def get_sd_from_belief(self, astratbelief):\n",
    "        var = 0\n",
    "        for key, val in astratbelief.iteritems():\n",
    "            var += np.sum(4*astratbelief[key]**2) / float(self.sigmamat[key]**2)\n",
    "        return var**.5\n",
    "\n",
    "    \n",
    "    def attacker_expected_utility_simple(self, x, d=None):\n",
    "        astrat = self.get_attacker_dict(x)\n",
    "        u = 0\n",
    "        pnoalarm = self.prob_no_alarm_simple(d, astrat=astrat)\n",
    "        reward = 0\n",
    "        for edge in self.positive_edges:\n",
    "            reward += self.r[edge] * np.sum(astrat[edge])\n",
    "        return -pnoalarm*reward\n",
    "        \n",
    "    def attacker_expected_utility_lr(self, x, astratbelief=None, lrd=None):\n",
    "        astrat = self.get_attacker_dict(x)\n",
    "        u = 0\n",
    "        pnoalarm = self.prob_no_alarm_lr(lrd, astrat, astratbelief)\n",
    "        reward = 0\n",
    "        for edge in self.positive_edges:\n",
    "            reward += self.r[edge] * np.sum(astrat[edge])\n",
    "        return - pnoalarm*reward\n",
    "    \n",
    "#     def attacker_fprime_lr(self, x, astratbelief=None, lrd=None):\n",
    "#         astrat = self.get_attacker_dict(x)\n",
    "#         pnoalarm = self.prob_no_alarm_lr(lrd, astrat, astratbelief)\n",
    "#         stdev = self.get_sd_from_belief(astratbelief)\n",
    "#         evalat = -2*lrd\n",
    "#         for key, val in astratbelief.iteritems():\n",
    "#             evalat += np.sum(astratbelief[key]**2 - 2*astratbelief[key]*astrat[key]) \\\n",
    "#                 / self.sigmamat[key]**2\n",
    "#         dnormalcdf = norm.pdf(evalat, loc=0, scale=stdev)\n",
    "#         linearreward = 0\n",
    "#         for edge in self.positive_edges:\n",
    "#             linearreward += self.r[edge] * np.sum(astrat[edge])\n",
    "#         fprime = []\n",
    "#         for key, val in astrat.iteritmes():\n",
    "#             first_times_deriv_second = pnoalarm * self.r[key]\n",
    "#             for ix, a in enumerate(val):\n",
    "#                 second_times_deriv_first = linearreward *dnormalcdf \\\n",
    "#                       * (-2)*astratbelief[key][ix] / float(self.sigmamat[key])\n",
    "#                 fprime.append(first_times_deriv_second + second_times_deriv_first)\n",
    "#         return np.asarray(fprime)\n",
    "            \n",
    "            \n",
    "    def defender_expected_utility_simple(self, d, astrat=None):\n",
    "        pnawa = self.prob_no_alarm_simple(d, astrat) #P(NA|A)\n",
    "        pnana = self.prob_no_alarm_simple(d, self.noattackerstrat)\n",
    "        uncaught_cost = 0\n",
    "        for edge in self.positive_edges:\n",
    "            uncaught_cost += self.c[edge] * np.sum(astrat[edge])\n",
    "        acost = self.pi * ( (1-pnawa)*self.b1 - self.c2 * pnawa*uncaught_cost )\n",
    "        noacost = (1-self.pi)* ( pnana*self.b2 - (1-pnana)*self.c1)\n",
    "        eu = acost + noacost\n",
    "        return - eu\n",
    "    \n",
    "    def defender_expected_utility_lr(self, lrd, astrat=None, astratbelief=None):\n",
    "        pnawa = self.prob_no_alarm_lr(lrd, astrat, astratbelief) #P(NA|A)\n",
    "        pnana = self.prob_no_alarm_lr(lrd, self.noattackerstrat, astratbelief)\n",
    "        uncaught_cost = 0\n",
    "        for edge in self.positive_edges:\n",
    "            uncaught_cost += self.c[edge] * np.sum(astrat[edge])\n",
    "        acost = self.pi * ( (1-pnawa)*self.b1 - pnawa*uncaught_cost )\n",
    "        noacost = (1-self.pi)* ( pnana*self.b2 - (1-pnana)*self.c1)\n",
    "        eu = acost + noacost\n",
    "        return - eu\n",
    "        \n",
    "    \n",
    "    def attacker_strat_from_res(self, res):\n",
    "        astar = {}\n",
    "        for ix, edge in enumerate(self.positive_edges):\n",
    "            astar[edge] = np.round(res[ix*self.tau: (ix + 1)*self.tau], decimals=3)\n",
    "        return astar\n",
    "    \n",
    "    def x_from_astrat(self,astrat):\n",
    "        x=np.array([])\n",
    "        for edge in self.positive_edges:\n",
    "            x=np.hstack((x, astrat[edge]))\n",
    "        return list(x)\n",
    "    \n",
    "    def solve_l1_attacker(self, d0):\n",
    "        f = lambda x : self.attacker_expected_utility_simple(x, d=d0)\n",
    "        res = fmin_slsqp(f, self.x0opt*.25, f_ieqcons = self.general_constraint, full_output=True, disp=False)\n",
    "        return res\n",
    "    \n",
    "    def solve_lk_attacker(self, lrd, abelief):\n",
    "        f = lambda x : self.attacker_expected_utility_lr(x, lrd=lrd, astratbelief=abelief)\n",
    "        #res = fmin_slsqp(f, self.x0opt*0, f_ieqcons = self.general_constraint, full_output=True, disp=False)\n",
    "        x_opt = fmin_cobyla(f, self.x0opt*0, cons= [self.general_constraint], disp=False)\n",
    "        eu = f(x_opt)\n",
    "        res = (x_opt, eu)\n",
    "        return res\n",
    "    \n",
    "    def solve_lk_defender(self, astratactual, astratbelief):\n",
    "        f = lambda x : self.defender_expected_utility_lr(x, astratactual, astratbelief)\n",
    "        res = fmin_slsqp(f, np.array([-5]), full_output=True, disp=False)\n",
    "        return res\n",
    "    \n",
    "    def build_results_data(self, d0list):\n",
    "        frame = []\n",
    "        columns = [ \"tau\"]\\\n",
    "                  + [\"sigma\" +str(i) for i in range(self.sigmamat.shape[0]**2)] \\\n",
    "                  + [\"b1\", \"b2\", \"c1\", \"c2\", \"d\"] \\\n",
    "                  + [\"L1AEU_V_DL0\"] \\\n",
    "                  + [\"L1A\" +str(i) for i in range(self.tau*len(self.positive_edges))] \\\n",
    "                  + [\"L0DEU_V_AL1\"]\\\n",
    "                  + [\"L2DEU_V_AL1\"]\\\n",
    "                  + [\"L2LRThresh\"]\\\n",
    "                  + [\"L3AEU_V_DL2\"] \\\n",
    "                  + [\"L3A\" +str(i) for i in range(self.tau*len(self.positive_edges))] \\\n",
    "                  + [\"L2DEU_V_AL3\"]\n",
    "\n",
    "        flattenparams =  [self.tau]  \\\n",
    "                         + list(self.sigmamat.flatten())  \\\n",
    "                         + [self.b1, self.b2, self.c1, self.c2]\n",
    "        for d in d0list:\n",
    "            row = copy.copy(flattenparams)\n",
    "            row.append(d)\n",
    "            l1ares = self.solve_l1_attacker(d)\n",
    "            row.append(l1ares[1]) #EU\n",
    "            row = row + list(l1ares[0]) #strat\n",
    "            l1astratdict = self.attacker_strat_from_res(l1ares[0])\n",
    "            l0defendereu = self.defender_expected_utility_simple(d, l1astratdict)\n",
    "            row.append(l0defendereu)\n",
    "            l2dres = self.solve_lk_defender(l1astratdict, l1astratdict)\n",
    "            row = row + list(l2dres[1])\n",
    "            row = row + list(l2dres[0])\n",
    "            l3ares = self.solve_lk_attacker(l2dres[0], l1astratdict)\n",
    "            l3astratdict = self.attacker_strat_from_res(l3ares[0])\n",
    "            row = row + list(l3ares[1]) #EU\n",
    "            row = row + list(l3ares[0]) #strat\n",
    "            l2defendereu = self.defender_expected_utility_lr(l2dres[0], l3astratdict, l1astratdict)\n",
    "            row = row + list(l2defendereu)\n",
    "            frame.append(row)\n",
    "            \n",
    "        return row, columns, pd.DataFrame(frame, columns=columns)\n",
    "    \n",
    "    \n",
    "    def get_results_up_to_level(self, d0list, maxlevel=3):\n",
    "        \"\"\"\n",
    "        a level is the maximum defenders level\n",
    "        \n",
    "        \"\"\"\n",
    "        frame = []\n",
    "#         columns = [ \"tau\"]\\\n",
    "#                   + [\"sigma\" +str(i) for i in range(self.sigmamat.shape[0]**2)] \\\n",
    "#                   + [\"b1\", \"b2\", \"c1\", \"c2\", \"d\"]\n",
    "                  \n",
    "#                   #+ [\"L1AEU_V_DL0\"] \\\n",
    "#                   # + [\"L1A\" +str(i) for i in range(self.tau*len(self.positive_edges))] \\\n",
    "#                   # + [\"L0DEU_V_AL1\"]\\\n",
    "#                   # + [\"L2DEU_V_AL1\"]\\\n",
    "#                   #+ [\"L2LRThresh\"]\\\n",
    "#                   #+ [\"L3AEU_V_DL2\"] \\\n",
    "#                   #+ [\"L3A\" +str(i) for i in range(self.tau*len(self.positive_edges))] \\\n",
    "#                   # + [\"L2DEU_V_AL3\"]\n",
    "\n",
    "#         flattenparams =  [self.tau]  \\\n",
    "#                          + list(self.sigmamat.flatten())  \\\n",
    "#                          + [self.b1, self.b2, self.c1, self.c2]\n",
    "        flattenparams =  [self.tau]  \\\n",
    "                         + list(self.sigmamat.flatten())  \\\n",
    "                         + [self.b1, self.b2, self.c1, self.c2]\n",
    "        ix=0\n",
    "        for d in d0list:\n",
    "            ix +=1\n",
    "            #print '\\r', (float(ix)/float(len(d0list))),\n",
    "            columns = [ \"tau\"]\\\n",
    "                  + [\"sigma\" +str(i) for i in range(self.sigmamat.shape[0]**2)] \\\n",
    "                  + [\"b1\", \"b2\", \"c1\", \"c2\", \"d\"]\n",
    "            row = copy.copy(flattenparams)\n",
    "            row.append(d)\n",
    "            attackerres = self.solve_l1_attacker(d)\n",
    "            row.append(-1*attackerres[1]) #EU\n",
    "            columns = columns + [\"L1AEU_V_DL0\"] \n",
    "            row = row + list(attackerres[0]) #strat\n",
    "            columns = columns +  [\"L1A\" +str(i) for i in range(self.tau*len(self.positive_edges))]\n",
    "            attackerdict = self.attacker_strat_from_res(attackerres[0])\n",
    "            defendereu = self.defender_expected_utility_simple(d, attackerdict)\n",
    "            row.append(-1 * defendereu)\n",
    "            columns = columns + [\"L0DEU_V_AL1\"]\n",
    "            level = 2\n",
    "            attackerdictactual = attackerdict \n",
    "            attackerdictbelief = attackerdictactual\n",
    "            while level< maxlevel:\n",
    "                defenderres = self.solve_lk_defender(attackerdictactual, attackerdictbelief)\n",
    "                row = row + list(-1 * defenderres[1])\n",
    "                columns = columns + [\"L\" +str(level) +\"DEU_V_AL\" + str(level-1)]\n",
    "                row = row + list(defenderres[0])\n",
    "                columns = columns + [\"L\" +str(level) + \"LRThresh\"]\n",
    "                ainput = Model1.x_from_astrat(attackerdictactual)\n",
    "                \n",
    "                attackereu = self.attacker_expected_utility_lr(ainput, attackerdictbelief, \n",
    "                                                              defenderres[0])\n",
    "                row.append(-1 * attackereu)\n",
    "                columns = columns + [\"L\" +str(level-1) +\"AEU_V_DL\" + str(level)]\n",
    "                attackerres = self.solve_lk_attacker(defenderres[0], attackerdictbelief)\n",
    "                attackerdictactual = self.attacker_strat_from_res(attackerres[0])\n",
    "                if level==2 :\n",
    "                    print -1*attackerres[1]\n",
    "                row = row + list(-1 * attackerres[1]) #EU\n",
    "                columns = columns + [\"L\"+str(level+1) + \"AEU_V_DL\" +str(level)]\n",
    "                row = row + list(attackerres[0]) #strat\n",
    "                columns = columns + [\"L\" + str(level +1) + \"A\" +str(i) for i in \n",
    "                            range(self.tau*len(self.positive_edges))]\n",
    "                defendereu = self.defender_expected_utility_lr(defenderres[0], \n",
    "                                                               attackerdictactual, attackerdictbelief)\n",
    "                row = row + list(-1 * defendereu)\n",
    "                columns = columns + [\"L\" + str(level) + \"DEU_V_AL\" + str(level +1)]\n",
    "                attackerdictbelief = attackerdictactual\n",
    "                level += 2\n",
    "            frame.append(row)\n",
    "        return row, columns, pd.DataFrame(frame, columns=columns)\n",
    "    \n",
    "    def get_attacker_strat_from_res(self, res, level, d0, against=\"d\"):\n",
    "        cs =  [\"L\" + str(level) + \"A\" +str(i) for i in range(self.tau*len(self.positive_edges))]\n",
    "        sonly = res[[against] + cs]\n",
    "        strat = sonly[sonly[against]==d0][cs].values[0]\n",
    "        astratdict = self.attacker_strat_from_res(strat)\n",
    "        return astratdict\n",
    "            "
   ]
  },
  {
   "cell_type": "code",
   "execution_count": 12,
   "metadata": {
    "collapsed": false
   },
   "outputs": [],
   "source": [
    "parameters = { 'tau': 15,\n",
    "                'd': -1000.,\n",
    "                'lrd': 0.,\n",
    "                'sigmamat' : np.array([[0., 1., 1., 0., 0.], \n",
    "                                       [1., 0., 1., 1., 0.],\n",
    "                                       [1., 1., 0., 1., 0.],\n",
    "                                       [1., 1., 1., 0., 1.],\n",
    "                                       [0., 0., 0., 0., 0.]]),\n",
    "                \n",
    "              'r' : np.array(         [[0., 0., 0., 0., 0.], \n",
    "                                       [0., 0., 0., 0., 0.],\n",
    "                                       [0., 0., 0., 0., 0.],\n",
    "                                       [0., 0., 0., 0., 1.],\n",
    "                                       [0., 0., 0., 0., 0.]]),\n",
    "\n",
    "                'c' :  np.array(   [[0., 0., 0., 0., 0.], \n",
    "                                       [0., 0., 0., 0., 0.],\n",
    "                                       [0., 0., 0., 0., 0.],\n",
    "                                       [0., 0., 0., 0., 1.],\n",
    "                                       [0., 0., 0., 0., 0.]]),\n",
    "\n",
    "                'b1': 1, # Catching Attacker\n",
    "                'b2': 1, # Let network function\n",
    "                'c1': 1, # False alarm\n",
    "                'c2': 1, # Multiplier to C\n",
    "                'pi' : .1,\n",
    "             }\n",
    "Model1 = NormalNoiseModel(**parameters)"
   ]
  },
  {
   "cell_type": "code",
   "execution_count": 13,
   "metadata": {
    "collapsed": false
   },
   "outputs": [],
   "source": [
    "#Model1.get_attacker_strat_from_res(r13[2], 3, -260)"
   ]
  },
  {
   "cell_type": "code",
   "execution_count": null,
   "metadata": {
    "collapsed": false
   },
   "outputs": [],
   "source": [
    "start = time.time()\n",
    "r14 = Model1.get_results_up_to_level(np.arange(-300,-250,1), 7)\n",
    "df14=r14[2]\n",
    "df14.to_csv(\"./lkresults14.csv\", delim =\",\", index_label=False)\n",
    "elapsed = time.time() - start\n",
    "print elapsed"
   ]
  },
  {
   "cell_type": "code",
   "execution_count": 622,
   "metadata": {
    "collapsed": false
   },
   "outputs": [
    {
     "name": "stdout",
     "output_type": "stream",
     "text": [
      "800.088835955\n"
     ]
    }
   ],
   "source": [
    "# start = time.time()\n",
    "# r8old = Model1.build_results_data(np.arange(-500,-200,1))\n",
    "# df8old=r8old[2]\n",
    "# df8old.to_csv(\"./lkresultsold8.csv\", delim =\",\", index_label=False)\n",
    "# elapsed = time.time() - start\n",
    "# print elapsed"
   ]
  },
  {
   "cell_type": "code",
   "execution_count": null,
   "metadata": {
    "collapsed": true
   },
   "outputs": [],
   "source": [
    "def get_attacker_strat_from_res(res, level, d0):\n",
    "    cs =  [\"L\" + str(level +1) + \"A\" +str(i) for i in range(self.tau*len(self.positive_edges))]\n",
    "    astratlist = list(res[cs][res[\"d\"]==d0])\n",
    "    return astratlist"
   ]
  },
  {
   "cell_type": "code",
   "execution_count": 10,
   "metadata": {
    "collapsed": false
   },
   "outputs": [
    {
     "data": {
      "text/plain": [
       "[<matplotlib.lines.Line2D at 0x7fea930f0f90>]"
      ]
     },
     "execution_count": 10,
     "metadata": {},
     "output_type": "execute_result"
    },
    {
     "data": {
      "image/png": "[encoded data removed]",
      "text/plain": [
       "<matplotlib.figure.Figure at 0x7fea98a855d0>"
      ]
     },
     "metadata": {},
     "output_type": "display_data"
    }
   ],
   "source": [
    "plt.plot(df9[\"L0DEU_V_AL1\"][df9[\"d\"]>-355][df9[\"d\"]<-240],  df9[\"L2DEU_V_AL1\"][df9[\"d\"]>-355][df9[\"d\"]<-240])"
   ]
  },
  {
   "cell_type": "code",
   "execution_count": 12,
   "metadata": {
    "collapsed": false
   },
   "outputs": [
    {
     "ename": "KeyError",
     "evalue": "'L4DEU_V_AL2'",
     "output_type": "error",
     "traceback": [
      "\u001b[1;31m---------------------------------------------------------------------------\u001b[0m",
      "\u001b[1;31mKeyError\u001b[0m                                  Traceback (most recent call last)",
      "\u001b[1;32m<ipython-input-12-f185f297c988>\u001b[0m in \u001b[0;36m<module>\u001b[1;34m()\u001b[0m\n\u001b[1;32m----> 1\u001b[1;33m \u001b[0mplt\u001b[0m\u001b[1;33m.\u001b[0m\u001b[0mplot\u001b[0m\u001b[1;33m(\u001b[0m\u001b[0mdf9\u001b[0m\u001b[1;33m[\u001b[0m\u001b[1;34m\"d\"\u001b[0m\u001b[1;33m]\u001b[0m\u001b[1;33m,\u001b[0m  \u001b[0mdf9\u001b[0m\u001b[1;33m[\u001b[0m\u001b[1;34m\"L4DEU_V_AL2\"\u001b[0m\u001b[1;33m]\u001b[0m\u001b[1;33m)\u001b[0m\u001b[1;33m\u001b[0m\u001b[0m\n\u001b[0m",
      "\u001b[1;32m/usr/lib/python2.7/dist-packages/pandas/core/frame.pyc\u001b[0m in \u001b[0;36m__getitem__\u001b[1;34m(self, key)\u001b[0m\n\u001b[0;32m   1741\u001b[0m             \u001b[1;32mreturn\u001b[0m \u001b[0mself\u001b[0m\u001b[1;33m.\u001b[0m\u001b[0m_getitem_multilevel\u001b[0m\u001b[1;33m(\u001b[0m\u001b[0mkey\u001b[0m\u001b[1;33m)\u001b[0m\u001b[1;33m\u001b[0m\u001b[0m\n\u001b[0;32m   1742\u001b[0m         \u001b[1;32melse\u001b[0m\u001b[1;33m:\u001b[0m\u001b[1;33m\u001b[0m\u001b[0m\n\u001b[1;32m-> 1743\u001b[1;33m             \u001b[1;32mreturn\u001b[0m \u001b[0mself\u001b[0m\u001b[1;33m.\u001b[0m\u001b[0m_getitem_column\u001b[0m\u001b[1;33m(\u001b[0m\u001b[0mkey\u001b[0m\u001b[1;33m)\u001b[0m\u001b[1;33m\u001b[0m\u001b[0m\n\u001b[0m\u001b[0;32m   1744\u001b[0m \u001b[1;33m\u001b[0m\u001b[0m\n\u001b[0;32m   1745\u001b[0m     \u001b[1;32mdef\u001b[0m \u001b[0m_getitem_column\u001b[0m\u001b[1;33m(\u001b[0m\u001b[0mself\u001b[0m\u001b[1;33m,\u001b[0m \u001b[0mkey\u001b[0m\u001b[1;33m)\u001b[0m\u001b[1;33m:\u001b[0m\u001b[1;33m\u001b[0m\u001b[0m\n",
      "\u001b[1;32m/usr/lib/python2.7/dist-packages/pandas/core/frame.pyc\u001b[0m in \u001b[0;36m_getitem_column\u001b[1;34m(self, key)\u001b[0m\n\u001b[0;32m   1748\u001b[0m         \u001b[1;31m# get column\u001b[0m\u001b[1;33m\u001b[0m\u001b[1;33m\u001b[0m\u001b[0m\n\u001b[0;32m   1749\u001b[0m         \u001b[1;32mif\u001b[0m \u001b[0mself\u001b[0m\u001b[1;33m.\u001b[0m\u001b[0mcolumns\u001b[0m\u001b[1;33m.\u001b[0m\u001b[0mis_unique\u001b[0m\u001b[1;33m:\u001b[0m\u001b[1;33m\u001b[0m\u001b[0m\n\u001b[1;32m-> 1750\u001b[1;33m             \u001b[1;32mreturn\u001b[0m \u001b[0mself\u001b[0m\u001b[1;33m.\u001b[0m\u001b[0m_get_item_cache\u001b[0m\u001b[1;33m(\u001b[0m\u001b[0mkey\u001b[0m\u001b[1;33m)\u001b[0m\u001b[1;33m\u001b[0m\u001b[0m\n\u001b[0m\u001b[0;32m   1751\u001b[0m \u001b[1;33m\u001b[0m\u001b[0m\n\u001b[0;32m   1752\u001b[0m         \u001b[1;31m# duplicate columns & possible reduce dimensionaility\u001b[0m\u001b[1;33m\u001b[0m\u001b[1;33m\u001b[0m\u001b[0m\n",
      "\u001b[1;32m/usr/lib/python2.7/dist-packages/pandas/core/generic.pyc\u001b[0m in \u001b[0;36m_get_item_cache\u001b[1;34m(self, item)\u001b[0m\n\u001b[0;32m   1056\u001b[0m         \u001b[0mres\u001b[0m \u001b[1;33m=\u001b[0m \u001b[0mcache\u001b[0m\u001b[1;33m.\u001b[0m\u001b[0mget\u001b[0m\u001b[1;33m(\u001b[0m\u001b[0mitem\u001b[0m\u001b[1;33m)\u001b[0m\u001b[1;33m\u001b[0m\u001b[0m\n\u001b[0;32m   1057\u001b[0m         \u001b[1;32mif\u001b[0m \u001b[0mres\u001b[0m \u001b[1;32mis\u001b[0m \u001b[0mNone\u001b[0m\u001b[1;33m:\u001b[0m\u001b[1;33m\u001b[0m\u001b[0m\n\u001b[1;32m-> 1058\u001b[1;33m             \u001b[0mvalues\u001b[0m \u001b[1;33m=\u001b[0m \u001b[0mself\u001b[0m\u001b[1;33m.\u001b[0m\u001b[0m_data\u001b[0m\u001b[1;33m.\u001b[0m\u001b[0mget\u001b[0m\u001b[1;33m(\u001b[0m\u001b[0mitem\u001b[0m\u001b[1;33m)\u001b[0m\u001b[1;33m\u001b[0m\u001b[0m\n\u001b[0m\u001b[0;32m   1059\u001b[0m             \u001b[0mres\u001b[0m \u001b[1;33m=\u001b[0m \u001b[0mself\u001b[0m\u001b[1;33m.\u001b[0m\u001b[0m_box_item_values\u001b[0m\u001b[1;33m(\u001b[0m\u001b[0mitem\u001b[0m\u001b[1;33m,\u001b[0m \u001b[0mvalues\u001b[0m\u001b[1;33m)\u001b[0m\u001b[1;33m\u001b[0m\u001b[0m\n\u001b[0;32m   1060\u001b[0m             \u001b[0mcache\u001b[0m\u001b[1;33m[\u001b[0m\u001b[0mitem\u001b[0m\u001b[1;33m]\u001b[0m \u001b[1;33m=\u001b[0m \u001b[0mres\u001b[0m\u001b[1;33m\u001b[0m\u001b[0m\n",
      "\u001b[1;32m/usr/lib/python2.7/dist-packages/pandas/core/internals.pyc\u001b[0m in \u001b[0;36mget\u001b[1;34m(self, item, fastpath)\u001b[0m\n\u001b[0;32m   2804\u001b[0m \u001b[1;33m\u001b[0m\u001b[0m\n\u001b[0;32m   2805\u001b[0m             \u001b[1;32mif\u001b[0m \u001b[1;32mnot\u001b[0m \u001b[0misnull\u001b[0m\u001b[1;33m(\u001b[0m\u001b[0mitem\u001b[0m\u001b[1;33m)\u001b[0m\u001b[1;33m:\u001b[0m\u001b[1;33m\u001b[0m\u001b[0m\n\u001b[1;32m-> 2806\u001b[1;33m                 \u001b[0mloc\u001b[0m \u001b[1;33m=\u001b[0m \u001b[0mself\u001b[0m\u001b[1;33m.\u001b[0m\u001b[0mitems\u001b[0m\u001b[1;33m.\u001b[0m\u001b[0mget_loc\u001b[0m\u001b[1;33m(\u001b[0m\u001b[0mitem\u001b[0m\u001b[1;33m)\u001b[0m\u001b[1;33m\u001b[0m\u001b[0m\n\u001b[0m\u001b[0;32m   2807\u001b[0m             \u001b[1;32melse\u001b[0m\u001b[1;33m:\u001b[0m\u001b[1;33m\u001b[0m\u001b[0m\n\u001b[0;32m   2808\u001b[0m                 \u001b[0mindexer\u001b[0m \u001b[1;33m=\u001b[0m \u001b[0mnp\u001b[0m\u001b[1;33m.\u001b[0m\u001b[0marange\u001b[0m\u001b[1;33m(\u001b[0m\u001b[0mlen\u001b[0m\u001b[1;33m(\u001b[0m\u001b[0mself\u001b[0m\u001b[1;33m.\u001b[0m\u001b[0mitems\u001b[0m\u001b[1;33m)\u001b[0m\u001b[1;33m)\u001b[0m\u001b[1;33m[\u001b[0m\u001b[0misnull\u001b[0m\u001b[1;33m(\u001b[0m\u001b[0mself\u001b[0m\u001b[1;33m.\u001b[0m\u001b[0mitems\u001b[0m\u001b[1;33m)\u001b[0m\u001b[1;33m]\u001b[0m\u001b[1;33m\u001b[0m\u001b[0m\n",
      "\u001b[1;32m/usr/lib/python2.7/dist-packages/pandas/core/index.pyc\u001b[0m in \u001b[0;36mget_loc\u001b[1;34m(self, key)\u001b[0m\n\u001b[0;32m   1383\u001b[0m         \u001b[0mloc\u001b[0m \u001b[1;33m:\u001b[0m \u001b[0mint\u001b[0m \u001b[1;32mif\u001b[0m \u001b[0munique\u001b[0m \u001b[0mindex\u001b[0m\u001b[1;33m,\u001b[0m \u001b[0mpossibly\u001b[0m \u001b[0mslice\u001b[0m \u001b[1;32mor\u001b[0m \u001b[0mmask\u001b[0m \u001b[1;32mif\u001b[0m \u001b[1;32mnot\u001b[0m\u001b[1;33m\u001b[0m\u001b[0m\n\u001b[0;32m   1384\u001b[0m         \"\"\"\n\u001b[1;32m-> 1385\u001b[1;33m         \u001b[1;32mreturn\u001b[0m \u001b[0mself\u001b[0m\u001b[1;33m.\u001b[0m\u001b[0m_engine\u001b[0m\u001b[1;33m.\u001b[0m\u001b[0mget_loc\u001b[0m\u001b[1;33m(\u001b[0m\u001b[0m_values_from_object\u001b[0m\u001b[1;33m(\u001b[0m\u001b[0mkey\u001b[0m\u001b[1;33m)\u001b[0m\u001b[1;33m)\u001b[0m\u001b[1;33m\u001b[0m\u001b[0m\n\u001b[0m\u001b[0;32m   1386\u001b[0m \u001b[1;33m\u001b[0m\u001b[0m\n\u001b[0;32m   1387\u001b[0m     \u001b[1;32mdef\u001b[0m \u001b[0mget_value\u001b[0m\u001b[1;33m(\u001b[0m\u001b[0mself\u001b[0m\u001b[1;33m,\u001b[0m \u001b[0mseries\u001b[0m\u001b[1;33m,\u001b[0m \u001b[0mkey\u001b[0m\u001b[1;33m)\u001b[0m\u001b[1;33m:\u001b[0m\u001b[1;33m\u001b[0m\u001b[0m\n",
      "\u001b[1;32mpandas/index.pyx\u001b[0m in \u001b[0;36mpandas.index.IndexEngine.get_loc (pandas/index.c:3790)\u001b[1;34m()\u001b[0m\n",
      "\u001b[1;32mpandas/index.pyx\u001b[0m in \u001b[0;36mpandas.index.IndexEngine.get_loc (pandas/index.c:3670)\u001b[1;34m()\u001b[0m\n",
      "\u001b[1;32mpandas/hashtable.pyx\u001b[0m in \u001b[0;36mpandas.hashtable.PyObjectHashTable.get_item (pandas/hashtable.c:12302)\u001b[1;34m()\u001b[0m\n",
      "\u001b[1;32mpandas/hashtable.pyx\u001b[0m in \u001b[0;36mpandas.hashtable.PyObjectHashTable.get_item (pandas/hashtable.c:12253)\u001b[1;34m()\u001b[0m\n",
      "\u001b[1;31mKeyError\u001b[0m: 'L4DEU_V_AL2'"
     ]
    }
   ],
   "source": [
    "plt.plot(df9[\"d\"],  df9[\"L4DEU_V_AL2\"])"
   ]
  },
  {
   "cell_type": "code",
   "execution_count": 586,
   "metadata": {
    "collapsed": false
   },
   "outputs": [
    {
     "data": {
      "text/plain": [
       "(-2, 2)"
      ]
     },
     "execution_count": 586,
     "metadata": {},
     "output_type": "execute_result"
    },
    {
     "data": {
      "image/png": "[encoded data removed]",
      "text/plain": [
       "<matplotlib.figure.Figure at 0x7fabdc48ef50>"
      ]
     },
     "metadata": {},
     "output_type": "display_data"
    }
   ],
   "source": [
    "df5[\"L2DEU_V_AL3\"] = -1*df5[\"L2DEU_V_AL3\"]\n",
    "fig, ax = plt.subplots()\n",
    "ax.plot(df5[\"d\"], df5[\"L2DEU_V_AL3\"])\n",
    "ax.set_ylim(-2,2)"
   ]
  },
  {
   "cell_type": "markdown",
   "metadata": {},
   "source": [
    "# Result Notes "
   ]
  },
  {
   "cell_type": "markdown",
   "metadata": {},
   "source": [
    "* For some initial parameterizations, the network is too vulnerable to operate."
   ]
  },
  {
   "cell_type": "code",
   "execution_count": 123,
   "metadata": {
    "collapsed": false
   },
   "outputs": [
    {
     "data": {
      "image/png": "[encoded data removed]",
      "text/plain": [
       "<IPython.core.display.Image object>"
      ]
     },
     "execution_count": 123,
     "metadata": {},
     "output_type": "execute_result"
    }
   ],
   "source": [
    "g=ig.Graph.Adjacency(parameters['sigmamat'].tolist())\n",
    "g.vs[\"color\"] = [(1,.4,.4), (.8,.8,1),(.8,.8,1),(1,1,0), (.8,1,.8) ]\n",
    "g.vs[\"label\"] = ['Origin',\"Host\",\"Host\",\"Server\",\"Exfiltration\"]\n",
    "g.vs[\"size\"] = 100\n",
    "g.es[\"label\"] = [None]*11+['R:1 \\n C:1']\n",
    "g.es[\"label_size\"]= [16]*11\n",
    "g.es[\"color\"] =[\"black\"]*11+[\"red\"]\n",
    "\n",
    "position = [(0,0), (-1,-1), (1,-1), (0,-2), (0,-3)]\n",
    "ig.plot(g, './oktodelete.png', bbox=(800,800),margin=60,  layout=position)\n",
    "Image('./oktodelete.png')"
   ]
  },
  {
   "cell_type": "markdown",
   "metadata": {},
   "source": [
    "# Tests "
   ]
  },
  {
   "cell_type": "markdown",
   "metadata": {},
   "source": [
    "We want to test the \"probability of an alarm\" functions both when an attacker is present and\n",
    "when he is not under both the simple likelihood and the likelihood ratio.  We will test the calculations (and the math) by checking to see if the closed form solutions are \"sufficiently close\" to the solution obtained via Monte Carlo simulation."
   ]
  },
  {
   "cell_type": "code",
   "execution_count": 724,
   "metadata": {
    "collapsed": false
   },
   "outputs": [],
   "source": [
    "    testparams = { 'tau': 5,\n",
    "                'd': -50,\n",
    "                'sigmamat' : np.array([[0,1.,0], [2.,0,2.],[1.,1.,0]]),\n",
    "                'r' : np.array([[0,0,0], [0,0,1],[0,0,0]]),\n",
    "                'lrd':-.1,\n",
    "                'c' : np.array([[0,0,0], [0,0,1],[0,0,0]]),\n",
    "                'b1': 1,\n",
    "                'b2': 1,\n",
    "                'c1': 1,\n",
    "                'c2': 1,\n",
    "                'pi' : .1,\n",
    "             }\n",
    "             "
   ]
  },
  {
   "cell_type": "code",
   "execution_count": 578,
   "metadata": {
    "collapsed": true
   },
   "outputs": [],
   "source": [
    "def test_p_no_alarm_simple_no_attacker(paramtest, mcsamps=10000):\n",
    "    TestModel = NormalNoiseModel(**paramtest)\n",
    "    astrat = TestModel.attacker_strat_from_res(np.zeros(paramtest['tau']*len(TestModel.positive_edges)))\n",
    "    p_no_alarm_exact = TestModel.prob_no_alarm_simple(astrat)\n",
    "    noalarm = 0\n",
    "    sigmas = (paramtest['sigmamat'][paramtest['sigmamat']>0])\n",
    "    for s in xrange(mcsamps):\n",
    "        data = np.random.normal(size=(5,5), scale=sigmas)\n",
    "        lhood = np.sum(np.log(norm.pdf(data, scale=sigmas)))\n",
    "        if lhood>paramtest['d']:\n",
    "            noalarm +=1\n",
    "    return p_no_alarm_exact, noalarm / float(mcsamps)"
   ]
  },
  {
   "cell_type": "code",
   "execution_count": 579,
   "metadata": {
    "collapsed": false
   },
   "outputs": [
    {
     "data": {
      "text/plain": [
       "(0.99934597956146143, 0.99912)"
      ]
     },
     "execution_count": 579,
     "metadata": {},
     "output_type": "execute_result"
    }
   ],
   "source": [
    "test_p_no_alarm_simple_no_attacker(testparams)"
   ]
  },
  {
   "cell_type": "code",
   "execution_count": 424,
   "metadata": {
    "collapsed": false
   },
   "outputs": [],
   "source": [
    "def test_p_no_alarm_simple_random_attacker(paramtest, mcsamps=10000):\n",
    "    TestModel = NormalNoiseModel(**paramtest)\n",
    "    stratarray = np.random.random(paramtest['tau']*len(TestModel.positive_edges))\n",
    "    astrat = TestModel.attacker_strat_from_res(stratarray)\n",
    "    p_no_alarm_exact = TestModel.prob_no_alarm_simple(astrat)\n",
    "    noalarm = 0\n",
    "    sigmas = []\n",
    "    stratmat = []\n",
    "    for i in xrange(paramtest['sigmamat'].shape[0]):\n",
    "        for j in xrange(paramtest['sigmamat'].shape[0]):\n",
    "            if paramtest['sigmamat'][(i,j)] > 0:\n",
    "                sigmas.append(paramtest['sigmamat'][(i,j)])\n",
    "                stratmat.append(astrat[(i,j)])\n",
    "    stratmat = np.asarray(stratmat).T # Scale is for columns\n",
    "    for s in xrange(mcsamps):\n",
    "        data = np.random.normal(size=(5,5), scale=sigmas) + stratmat\n",
    "        lhood = np.sum(np.log(norm.pdf(data, scale=sigmas)))\n",
    "        if lhood>paramtest['d']:\n",
    "            noalarm +=1\n",
    "    return p_no_alarm_exact, noalarm / float(mcsamps)"
   ]
  },
  {
   "cell_type": "code",
   "execution_count": 425,
   "metadata": {
    "collapsed": false
   },
   "outputs": [
    {
     "data": {
      "text/plain": [
       "(0.65590116545019628, 0.655744)"
      ]
     },
     "execution_count": 425,
     "metadata": {},
     "output_type": "execute_result"
    }
   ],
   "source": [
    "test_p_no_alarm_simple_random_attacker(testparams)"
   ]
  },
  {
   "cell_type": "code",
   "execution_count": 725,
   "metadata": {
    "collapsed": true
   },
   "outputs": [],
   "source": [
    "def test_p_no_alarm_lr_no_attacker(paramtest, mcsamps=10000):\n",
    "    TestModel = NormalNoiseModel(**paramtest)\n",
    "    stratarraybelief = np.random.random(paramtest['tau']*len(TestModel.positive_edges)) * .05\n",
    "    astratbelief = TestModel.attacker_strat_from_res(stratarraybelief)\n",
    "    stratarray = np.zeros(paramtest['tau']*len(TestModel.positive_edges))\n",
    "    astrat = TestModel.attacker_strat_from_res(stratarray)\n",
    "    p_no_alarm_exact_lr = TestModel.prob_no_alarm_lr(astrat, astratbelief)\n",
    "    noalarm = 0\n",
    "    sigmas = []\n",
    "    stratmat = []\n",
    "    stratmatbelief = []\n",
    "    for i in xrange(paramtest['sigmamat'].shape[0]):\n",
    "        for j in xrange(paramtest['sigmamat'].shape[0]):\n",
    "            if paramtest['sigmamat'][(i,j)] > 0:\n",
    "                sigmas.append(paramtest['sigmamat'][(i,j)])\n",
    "                stratmat.append(astrat[(i,j)])\n",
    "                stratmatbelief.append(astratbelief[(i,j)])\n",
    "    stratmat = np.asarray(stratmat).T # Scale is for columns\n",
    "    stratmatbelief = np.asarray(stratmatbelief).T\n",
    "    for s in xrange(mcsamps):\n",
    "        data = np.random.normal(size=(5,5), scale=sigmas)\n",
    "        lhoodnum = np.sum(np.log(norm.pdf(data+ stratmat, scale=sigmas)))\n",
    "        lhooddenom = np.sum(np.log(norm.pdf(data-stratmatbelief + stratmat, scale=sigmas)))\n",
    "        lr = lhoodnum - lhooddenom\n",
    "        if lr>paramtest['lrd']:\n",
    "            noalarm +=1\n",
    "    return p_no_alarm_exact_lr, noalarm / float(mcsamps)"
   ]
  },
  {
   "cell_type": "code",
   "execution_count": 726,
   "metadata": {
    "collapsed": false
   },
   "outputs": [
    {
     "data": {
      "text/plain": [
       "(0.8377601455859176, 0.8368)"
      ]
     },
     "execution_count": 726,
     "metadata": {},
     "output_type": "execute_result"
    }
   ],
   "source": [
    "test_p_no_alarm_lr_no_attacker(testparams)"
   ]
  },
  {
   "cell_type": "code",
   "execution_count": 714,
   "metadata": {
    "collapsed": true
   },
   "outputs": [],
   "source": [
    "def test_p_no_alarm_lr_correct_belief(paramtest, mcsamps=10000):\n",
    "    TestModel = NormalNoiseModel(**paramtest)\n",
    "    stratarraybelief = np.random.random(paramtest['tau']*len(TestModel.positive_edges)) * .05\n",
    "    astratbelief = TestModel.attacker_strat_from_res(stratarraybelief)\n",
    "    stratarray = stratarraybelief\n",
    "    astrat = astratbelief\n",
    "    p_no_alarm_exact_lr = TestModel.prob_no_alarm_lr(astrat, astratbelief)\n",
    "    noalarm = 0\n",
    "    sigmas = []\n",
    "    stratmat = []\n",
    "    stratmatbelief = []\n",
    "    for i in xrange(paramtest['sigmamat'].shape[0]):\n",
    "        for j in xrange(paramtest['sigmamat'].shape[0]):\n",
    "            if paramtest['sigmamat'][(i,j)] > 0:\n",
    "                sigmas.append(paramtest['sigmamat'][(i,j)])\n",
    "                stratmat.append(astrat[(i,j)])\n",
    "                stratmatbelief.append(astratbelief[(i,j)])\n",
    "    stratmat = np.asarray(stratmat).T # Scale is for columns\n",
    "    stratmatbelief = np.asarray(stratmatbelief).T\n",
    "    for s in xrange(mcsamps):\n",
    "        data = np.random.normal(size=(5,5), scale=sigmas)\n",
    "        lhoodnum = np.sum(np.log(norm.pdf(data+ stratmat, scale=sigmas)))\n",
    "        lhooddenom = np.sum(np.log(norm.pdf(data-stratmatbelief + stratmat, scale=sigmas)))\n",
    "        lr = lhoodnum - lhooddenom\n",
    "        if lr>paramtest['lrd']:\n",
    "            noalarm +=1\n",
    "    return p_no_alarm_exact_lr, noalarm / float(mcsamps)"
   ]
  },
  {
   "cell_type": "code",
   "execution_count": 715,
   "metadata": {
    "collapsed": false
   },
   "outputs": [
    {
     "data": {
      "text/plain": [
       "(0.73912439764243332, 0.7309)"
      ]
     },
     "execution_count": 715,
     "metadata": {},
     "output_type": "execute_result"
    }
   ],
   "source": [
    "test_p_no_alarm_lr_correct_belief(testparams)"
   ]
  },
  {
   "cell_type": "code",
   "execution_count": 716,
   "metadata": {
    "collapsed": true
   },
   "outputs": [],
   "source": [
    "def test_p_no_alarm_lr_incorrect_belief(paramtest, mcsamps=10000):\n",
    "    TestModel = NormalNoiseModel(**paramtest)\n",
    "    stratarraybelief = np.random.random(paramtest['tau']*len(TestModel.positive_edges)) * .05\n",
    "    astratbelief = TestModel.attacker_strat_from_res(stratarraybelief)\n",
    "    stratarray = np.random.random(paramtest['tau']*len(TestModel.positive_edges)) * .05\n",
    "    astrat = TestModel.attacker_strat_from_res(stratarray)\n",
    "    p_no_alarm_exact_lr = TestModel.prob_no_alarm_lr(astrat, astratbelief)\n",
    "    noalarm = 0\n",
    "    sigmas = []\n",
    "    stratmat = []\n",
    "    stratmatbelief = []\n",
    "    for i in xrange(paramtest['sigmamat'].shape[0]):\n",
    "        for j in xrange(paramtest['sigmamat'].shape[0]):\n",
    "            if paramtest['sigmamat'][(i,j)] > 0:\n",
    "                sigmas.append(paramtest['sigmamat'][(i,j)])\n",
    "                stratmat.append(astrat[(i,j)])\n",
    "                stratmatbelief.append(astratbelief[(i,j)])\n",
    "    stratmat = np.asarray(stratmat).T # Scale is for columns\n",
    "    stratmatbelief = np.asarray(stratmatbelief).T\n",
    "    for s in xrange(mcsamps):\n",
    "        data = np.random.normal(size=(5,5), scale=sigmas)\n",
    "        lhoodnum = np.sum(np.log(norm.pdf(data+ stratmat, scale=sigmas)))\n",
    "        lhooddenom = np.sum(np.log(norm.pdf(data-stratmatbelief + stratmat, scale=sigmas)))\n",
    "        lr = lhoodnum - lhooddenom\n",
    "        if lr>paramtest['lrd']:\n",
    "            noalarm +=1\n",
    "    return p_no_alarm_exact_lr, noalarm / float(mcsamps)"
   ]
  },
  {
   "cell_type": "code",
   "execution_count": 717,
   "metadata": {
    "collapsed": false
   },
   "outputs": [
    {
     "data": {
      "text/plain": [
       "(0.78107721744980274, 0.7835)"
      ]
     },
     "execution_count": 717,
     "metadata": {},
     "output_type": "execute_result"
    }
   ],
   "source": [
    "test_p_no_alarm_lr_incorrect_belief(testparams)"
   ]
  },
  {
   "cell_type": "code",
   "execution_count": 267,
   "metadata": {
    "collapsed": false
   },
   "outputs": [
    {
     "data": {
      "text/plain": [
       "array([ 0.,  1.,  1.,  0.,  0.,  1.,  0.,  1.,  1.,  0.,  1.,  1.,  0.,\n",
       "        1.,  0.,  1.,  1.,  1.,  0.,  1.,  0.,  0.,  0.,  0.,  0.])"
      ]
     },
     "execution_count": 267,
     "metadata": {},
     "output_type": "execute_result"
    }
   ],
   "source": [
    "parameters['sigmamat'].flatten()"
   ]
  },
  {
   "cell_type": "code",
   "execution_count": 280,
   "metadata": {
    "collapsed": false
   },
   "outputs": [
    {
     "data": {
      "text/plain": [
       "array([[ 0.,  1.,  1.,  0.,  0.],\n",
       "       [ 1.,  0.,  1.,  1.,  0.],\n",
       "       [ 1.,  1.,  0.,  1.,  0.],\n",
       "       [ 1.,  1.,  1.,  0.,  1.],\n",
       "       [ 0.,  0.,  0.,  0.,  0.]])"
      ]
     },
     "execution_count": 280,
     "metadata": {},
     "output_type": "execute_result"
    }
   ],
   "source": [
    "parameters['sigmamat']"
   ]
  },
  {
   "cell_type": "code",
   "execution_count": 269,
   "metadata": {
    "collapsed": true
   },
   "outputs": [],
   "source": [
    "x=[1,2,3,4]"
   ]
  },
  {
   "cell_type": "code",
   "execution_count": null,
   "metadata": {
    "collapsed": true
   },
   "outputs": [],
   "source": []
  },
  {
   "cell_type": "code",
   "execution_count": 271,
   "metadata": {
    "collapsed": false
   },
   "outputs": [
    {
     "data": {
      "text/plain": [
       "[1, 2, 3, 4, 5]"
      ]
     },
     "execution_count": 271,
     "metadata": {},
     "output_type": "execute_result"
    }
   ],
   "source": [
    "\n",
    "x"
   ]
  },
  {
   "cell_type": "code",
   "execution_count": null,
   "metadata": {
    "collapsed": true
   },
   "outputs": [],
   "source": []
  }
 ],
 "metadata": {
  "kernelspec": {
   "display_name": "Python 2",
   "language": "python",
   "name": "python2"
  },
  "language_info": {
   "codemirror_mode": {
    "name": "ipython",
    "version": 2
   },
   "file_extension": ".py",
   "mimetype": "text/x-python",
   "name": "python",
   "nbconvert_exporter": "python",
   "pygments_lexer": "ipython2",
   "version": "2.7.9"
  }
 },
 "nbformat": 4,
 "nbformat_minor": 0
}
